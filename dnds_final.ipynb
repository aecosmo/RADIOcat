{
 "cells": [
  {
   "cell_type": "code",
   "execution_count": 1,
   "id": "f9e77f48-87a5-4dad-b8c2-4a7e17ff48cd",
   "metadata": {},
   "outputs": [],
   "source": [
    "#!/usr/bin/env python\n",
    "# coding: utf-8\n",
    "\n",
    "import numpy as np\n",
    "import matplotlib.pyplot as plt\n",
    "from astropy.io import fits\n",
    "import dnds_calculations as dnds\n",
    "\n",
    "plt.style.use('mplstyle')"
   ]
  },
  {
   "cell_type": "code",
   "execution_count": 2,
   "id": "13745691-2d23-4cae-a0db-7ad03101f8de",
   "metadata": {},
   "outputs": [],
   "source": [
    "rms_fits_file = \"final_mosaic.pybdsf_rms.fits\"\n",
    "with fits.open('final_mosaic.pybdsf.srl.fits') as hdul:\n",
    "    data = hdul[1].data\n",
    "flux_densities = np.array(data['Total_flux'])\n",
    "bins=11\n",
    "flux_bins, bin_centers, counts, bin_edges, bin_widths = dnds.compute_histogram(flux_densities, bins)\n"
   ]
  },
  {
   "cell_type": "code",
   "execution_count": 3,
   "id": "2ba8b16d-7085-4e46-8fd9-b2bb5a995040",
   "metadata": {},
   "outputs": [
    {
     "data": {
      "text/plain": [
       "598"
      ]
     },
     "execution_count": 3,
     "metadata": {},
     "output_type": "execute_result"
    }
   ],
   "source": [
    "counts.sum()"
   ]
  },
  {
   "cell_type": "code",
   "execution_count": 4,
   "id": "fa70db22-423d-498e-8ced-4058fe3a50cf",
   "metadata": {},
   "outputs": [
    {
     "data": {
      "text/plain": [
       "(640, 0.010124571214612951, 19.079440873276905)"
      ]
     },
     "execution_count": 4,
     "metadata": {},
     "output_type": "execute_result"
    }
   ],
   "source": [
    "len(flux_densities), flux_densities.min(), flux_densities.max()"
   ]
  },
  {
   "cell_type": "code",
   "execution_count": 5,
   "id": "c759d853-c404-4c80-b3ee-0e64be2ca41d",
   "metadata": {},
   "outputs": [],
   "source": [
    "total_valid_area, effective_image_area = dnds.visibility_function(flux_bins, 5, rms_fits_file)\n",
    "fdr_correction = np.load('fdr_correction.npy')\n",
    "data = np.load('completeness_corrections_aegean.npz')\n",
    "bin_centers = data['bin_centers']\n",
    "completeness_correc_fac_med = data['med']\n",
    "completeness_correc_fac_low = data['low']\n",
    "completeness_correc_fac_upp = data['upp']\n",
    "\n",
    "\n",
    "\n",
    "\n",
    "# data = np.load('completeness_corrections_aegean.npz')\n",
    "# bin_centers = data['bin_centers']\n",
    "# completeness_correc_fac_med = data['med']\n",
    "# completeness_correc_fac_med = fdr_correction\n",
    "correction_factor = completeness_correc_fac_med * fdr_correction"
   ]
  },
  {
   "cell_type": "code",
   "execution_count": 6,
   "id": "68487665-6fe4-490e-a97d-8ac8b81e1695",
   "metadata": {},
   "outputs": [
    {
     "data": {
      "text/plain": [
       "array([0.00589632, 0.01027181, 0.01059537, 0.01062536, 0.01062556,\n",
       "       0.01062556, 0.01062556, 0.01062556, 0.01062556, 0.01062556])"
      ]
     },
     "execution_count": 6,
     "metadata": {},
     "output_type": "execute_result"
    }
   ],
   "source": [
    "effective_image_area\n",
    "# array([0.00589632, 0.01027181, 0.01059537, 0.01062536, 0.01062556,\n",
    "#        0.01062556, 0.01062556, 0.01062556, 0.01062556, 0.01062556])\n"
   ]
  },
  {
   "cell_type": "code",
   "execution_count": 7,
   "id": "3d1b780a-9385-4c10-b1ca-ba682c682d47",
   "metadata": {},
   "outputs": [],
   "source": [
    "# effective_image_area[0] =  effective_image_area[1]  \n",
    "# effective_image_area = total_valid_area"
   ]
  },
  {
   "cell_type": "code",
   "execution_count": 8,
   "id": "f8e78ed9-5a6f-4248-9a68-a246b0ac72fc",
   "metadata": {},
   "outputs": [
    {
     "data": {
      "text/plain": [
       "array([2.04761905, 1.30517241, 1.10859951, 1.02325581, 1.        ,\n",
       "       1.        , 1.        , 1.        , 1.        , 1.        ])"
      ]
     },
     "execution_count": 8,
     "metadata": {},
     "output_type": "execute_result"
    }
   ],
   "source": [
    "completeness_correc_fac_med"
   ]
  },
  {
   "cell_type": "code",
   "execution_count": 9,
   "id": "733f1083-6aeb-4072-b0ae-671518e5f9b1",
   "metadata": {},
   "outputs": [
    {
     "data": {
      "text/plain": [
       "array([2.03110599, 1.28753495, 1.09987038, 1.02325581, 1.        ,\n",
       "       1.        , 1.        , 1.        , 1.        , 1.        ])"
      ]
     },
     "execution_count": 9,
     "metadata": {},
     "output_type": "execute_result"
    }
   ],
   "source": [
    "correction_factor"
   ]
  },
  {
   "cell_type": "code",
   "execution_count": 10,
   "id": "c9c374d3-331e-43c8-a4bd-3bb73ac09506",
   "metadata": {},
   "outputs": [],
   "source": [
    "factor = correction_factor / (bin_widths * effective_image_area )\n",
    "dN_dS = counts * factor\n",
    "dN_dS_error = np.sqrt(counts) * factor\n",
    "euclidean_normalized = dN_dS * (bin_centers ** 2.5)\n",
    "euclidean_normalized_errors = dN_dS_error * (bin_centers ** 2.5)"
   ]
  },
  {
   "cell_type": "code",
   "execution_count": 11,
   "id": "edec0a1d-343a-42e7-a878-5cc2b44a8151",
   "metadata": {},
   "outputs": [
    {
     "data": {
      "text/plain": [
       "array([0.99193548, 0.98648649, 0.99212598, 1.        , 1.        ,\n",
       "       1.        , 1.        , 1.        , 1.        , 1.        ])"
      ]
     },
     "execution_count": 11,
     "metadata": {},
     "output_type": "execute_result"
    }
   ],
   "source": [
    "fdr_correction"
   ]
  },
  {
   "cell_type": "code",
   "execution_count": 12,
   "id": "7db55a14-018a-4af4-98fb-e2b2020a7f70",
   "metadata": {},
   "outputs": [
    {
     "data": {
      "text/plain": [
       "(1.0796690831049203, 1.0310722705417568)"
      ]
     },
     "execution_count": 12,
     "metadata": {},
     "output_type": "execute_result"
    }
   ],
   "source": [
    "si = -0.7\n",
    "nu_reference = 147.4\n",
    "nu_gleam = 154 \n",
    "nu_lofar = 150 \n",
    "\n",
    "fac_gleam = (nu_reference/nu_gleam)**si\n",
    "fac_lofar = (nu_reference/nu_lofar)**si\n",
    "\n",
    "freq_scaling = fac_gleam**2.5\n",
    "freq_scaling_lofar = fac_lofar**2.5\n",
    "freq_scaling, freq_scaling_lofar"
   ]
  },
  {
   "cell_type": "code",
   "execution_count": 13,
   "id": "5fdeef77-75c9-4ed8-b536-9db0cb6d1cbc",
   "metadata": {},
   "outputs": [],
   "source": [
    "# Franzen et al. (2019) polynomial coefficients\n",
    "poly_coeffs = [3.52, 0.307, -0.388, -0.0404, 0.0351, 0.00600]\n",
    "\n",
    "def franzen_polynomial(flux_Jy):\n",
    "    log_flux = np.log10(flux_Jy)\n",
    "    log_euclidean_counts = np.polyval(poly_coeffs[::-1], log_flux)\n",
    "    return 10**log_euclidean_counts\n",
    "\n",
    "# Generate flux values to evaluate models\n",
    "flux_range = np.logspace(np.log10(0.001), np.log10(75), 100)\n",
    "euclidean_counts_poly = franzen_polynomial(flux_range)\n",
    "\n",
    "\n",
    "# Existing GLEAM data\n",
    "gleam_bin_centers = np.array([0.0772, 0.0959, 0.1198, 0.1502, 0.1879, 0.2346, 0.2930, 0.3664, 0.4577, 0.5713, 0.7136,0.8906, 1.1148, 1.3935, 1.7365, \n",
    "    2.1738, 2.7123, 3.3869, 4.2445, 5.3171, 6.6146, 8.2454, 10.3656, 12.8897, 16.4515, 19.7413, 25.2264, 40.6881, 75.3991])\n",
    "\n",
    "gleam_euclidean_normalized = np.array([601, 760, 909, 1071, 1285, 1529, 1800, 2099, 2420, 2674, 2933, 3194, 3465, 3578, 3783,\n",
    "    3690, 3869, 3932, 3311, 3263, 3097, 3053, 2656, 2733, 2257, 2492, 2223, 1180, 803])\n",
    "\n",
    "gleam_euclidean_errors = np.array([12, 16, 20, 20, 26, 32, 16, 20, 27, 31, 37, 44, 53, 62, 76, 88, 106, 124,\n",
    "    138, 158, 178, 209, 230, 268, 302, 356, 406, 241, 434])\n",
    "\n",
    "gleam_bin_edges = np.array([[0.069, 0.086], [0.086, 0.107], [0.107, 0.134], [0.134, 0.168], [0.168, 0.210], [0.210, 0.262], \n",
    "    [0.262, 0.328], [0.328, 0.410], [0.410, 0.512], [0.512, 0.640], [0.640, 0.800], [0.800, 1.000], \n",
    "    [1.000, 1.250], [1.250, 1.560], [1.560, 1.950], [1.950, 2.440], [2.440, 3.050], [3.050, 3.820], \n",
    "    [3.820, 4.770], [4.770, 5.960], [5.960, 7.450], [7.450, 9.310], [9.310, 11.600], [11.600, 14.600], \n",
    "    [14.600, 18.200], [18.200, 22.700], [22.700, 28.400], [28.400, 56.800], [56.800, 113.700]])\n",
    "\n",
    "\n",
    "\n",
    "# uGMRT 150 MHz (your data)\n",
    "x_ugmrt = bin_centers\n",
    "N_ugmrt = euclidean_normalized\n",
    "err_ugmrt = euclidean_normalized_errors\n",
    "\n",
    "# GLEAM 154 MHz (Franzen+2019)\n",
    "x_gleam = gleam_bin_centers\n",
    "N_gleam = freq_scaling * gleam_euclidean_normalized\n",
    "err_gleam = freq_scaling * gleam_euclidean_errors\n",
    "\n",
    "\n",
    "\n",
    "x_Boo = np.array([0.42, 0.59, 0.84, 1.19, 1.68, 2.37, 3.35, 4.74, 6.70, 9.48, 15.9, 31.9, 63.8, 128, 361, 1443])/1e3\n",
    "N_Boo = np.array([46.96, 53.73, 51.33, 44.17, 44.64, 44.35, 50.83, 56.20, 88.87, 119.8, 137.4, 298.1, 657.5, 1018, 1502, 4861])\n",
    "err_Boo_minus = np.array([0.74, 0.97, 1.21, 1.43, 1.85, 2.39, 3.32, 4.51, 7.36, 11.1, 12.3, 30.4, 75.9, 159, 289, 1466])\n",
    "err_Boo_plus  = np.array([0.76, 0.99, 1.23, 1.48, 1.93, 2.52, 3.54, 4.88, 7.96, 12.1, 13.4, 33.5, 84.7, 184, 345, 1908])\n",
    "N_Boo *= freq_scaling_lofar\n",
    "err_Boo_minus *= freq_scaling_lofar\n",
    "err_Boo_plus *= freq_scaling_lofar\n",
    "\n",
    "\n",
    "# LOckman Hole\n",
    "x_lotss =  np.array([0.30, 0.42, 0.59, 0.84, 1.19, 1.68, 2.38, 3.36, 4.76, 6.73, 9.51, 16.0, 32.0, 64.0, 128, 362, 1448])/1e3\n",
    "N_lotss =  np.array([42.35, 48.08, 51.21, 49.18, 43.55, 44.29, 42.01, 49.19, 55.86, 75.45, 113.1, 158.4, 333.2, 543.7, 935.1, 2144, 6335])\n",
    "err_lotss_plus =  np.array([0.52, 0.67, 0.87, 1.10, 1.34, 1.76, 2.24, 3.16, 4.42, 6.71, 10.7, 13.0, 32.1, 70.6, 160.2, 363, 1909])\n",
    "err_lotss_minus =  np.array([0.52, 0.66, 0.86, 1.08, 1.30, 1.70, 2.13, 2.98, 4.12, 6.20, 9.9, 12.1, 29.5, 63.2, 139.4, 316, 1537])\n",
    "N_lotss *= freq_scaling_lofar\n",
    "err_lotss_plus *= freq_scaling_lofar\n",
    "err_lotss_minus *= freq_scaling_lofar\n",
    "\n",
    "# EN1 final catalog\n",
    "x_en1 =  np.array([0.22, 0.31, 0.43, 0.61, 0.86, 1.22, 1.73, 2.45, 3.46, 4.89, 6.92, 9.79, 16.5, 32.9, 65.8, 132, 372, 1489])/1e3\n",
    "N_en1 =  np.array([38.85, 43.54, 44.84, 45.40, 42.58, 41.18, 37.59, 39.83, 47.00, 48.44, 69.90, 90.85, 130.7, 385.9, 634.4, 1230, 1271, 2980])\n",
    "err_en1_plus =  np.array([0.46, 0.60, 0.78, 1.02, 1.28, 1.65, 2.06, 2.79, 3.97, 5.33, 8.35, 12.56, 15.3, 44.2, 98.1, 235, 383, 1929])\n",
    "err_en1_minus =  np.array([0.46, 0.60, 0.77, 1.00, 1.25, 1.58, 1.96, 2.62, 3.68, 4.84, 7.54, 11.18, 13.9, 40.0, 86.3, 202, 308, 1333])\n",
    "N_en1 *= freq_scaling_lofar\n",
    "err_en1_plus *= freq_scaling_lofar\n",
    "err_en1_minus *= freq_scaling_lofar\n",
    "\n"
   ]
  },
  {
   "cell_type": "code",
   "execution_count": 14,
   "id": "62f3cf9e-9e29-4cac-ba06-00c95b477452",
   "metadata": {},
   "outputs": [],
   "source": [
    "# import numpy as np\n",
    "# import matplotlib.pyplot as plt\n",
    "\n",
    "# # Figure setup\n",
    "# plt.figure(figsize=(9,6))\n",
    "\n",
    "# # Plot Franzen+2019 polynomial fit first (without adding it to the legend yet)\n",
    "# fit_line, = plt.plot(flux_range, euclidean_counts_poly, 'k--', linewidth=2)\n",
    "\n",
    "# # Highlight uGMRT points with a larger red marker and black edge\n",
    "# plt.errorbar(x_ugmrt, N_ugmrt, yerr=err_ugmrt, fmt='o', color='red', markersize=6, mec='black', mew=1., label=r'uGMRT 150 MHz (this work)')\n",
    "\n",
    "# # Explicit colors for each dataset\n",
    "# plt.errorbar(x_gleam, N_gleam, yerr=err_gleam, fmt='s', color='blue', label=r'GLEAM 154 MHz')\n",
    "# plt.errorbar(x_en1, N_en1, yerr=(err_en1_minus, err_en1_plus), fmt='d', color='green', label=r'LOFAR ELAIS-N1 150 MHz')\n",
    "# plt.errorbar(x_Boo, N_Boo, yerr=(err_Boo_minus, err_Boo_plus), fmt='^', color='purple', label=r'Boötes 150 MHz')\n",
    "# plt.errorbar(x_lotss, N_lotss, yerr=(err_lotss_minus, err_lotss_plus), fmt='v', color='orange', label=r'LoTSS 150 MHz')\n",
    "\n",
    "# # Set log-log scales\n",
    "# plt.xscale('log')\n",
    "# plt.yscale('log')\n",
    "# plt.xlabel(r'Flux Density $S$ (Jy)')\n",
    "# plt.ylabel(r'$S^{2.5} \\frac{dN}{dS} \\,\\, \\mathrm{Jy}^{1.5} \\, \\mathrm{sr}^{-1}$')\n",
    "\n",
    "# # Get handles and labels, then manually reorder them to put the fit last\n",
    "# handles, labels = plt.gca().get_legend_handles_labels()\n",
    "# handles.append(fit_line)\n",
    "# labels.append(r'Franzen+2019 Fit')\n",
    "\n",
    "# plt.legend(handles, labels, fontsize='x-small')\n",
    "\n",
    "# # Save figure\n",
    "# plt.savefig('source_counts_comparison.pdf', bbox_inches='tight')\n",
    "# plt.show()\n"
   ]
  },
  {
   "cell_type": "code",
   "execution_count": null,
   "id": "4f04f77c-27cf-41fd-aa00-f71147fbff3a",
   "metadata": {},
   "outputs": [],
   "source": []
  },
  {
   "cell_type": "code",
   "execution_count": 15,
   "id": "f705ec53-9803-423d-8d77-ab2c7c588c37",
   "metadata": {},
   "outputs": [
    {
     "data": {
      "image/png": "[encoded data removed]",
      "text/plain": [
       "<Figure size 900x600 with 1 Axes>"
      ]
     },
     "metadata": {},
     "output_type": "display_data"
    }
   ],
   "source": [
    "import numpy as np\n",
    "import matplotlib.pyplot as plt\n",
    "\n",
    "# Figure setup\n",
    "plt.figure(figsize=(9,6))\n",
    "\n",
    "# Plot Franzen+2019 polynomial fit first (without adding it to the legend yet)\n",
    "fit_line, = plt.plot(flux_range, euclidean_counts_poly, 'k--', linewidth=2)\n",
    "\n",
    "# Highlight uGMRT points with a larger red star marker, black edge, and subtle glow\n",
    "plt.errorbar(x_ugmrt, N_ugmrt, yerr=err_ugmrt, fmt='*', color='purple', markersize=10,  zorder=11,\n",
    "             label=r'$\\rm{uGMRT\\, 150\\, MHz\\, (this\\, work)}$')\n",
    "# plt.scatter(x_ugmrt, N_ugmrt, s=150, color='red', alpha=0.3)\n",
    "\n",
    "# Explicit colors for each dataset\n",
    "plt.errorbar(x_gleam, N_gleam, yerr=err_gleam, fmt='s', color='C0', label=r'$\\rm{GLEAM}$')\n",
    "plt.errorbar(x_en1, N_en1, yerr=(err_en1_minus, err_en1_plus), fmt='d', color='C1', label=r'$\\rm{LoTSS\\, ELAIS-N1}$')\n",
    "plt.errorbar(x_Boo, N_Boo, yerr=(err_Boo_minus, err_Boo_plus), fmt='^', color='C2', label=r'$\\rm{Bo\\ddot{o}tes}$')\n",
    "plt.errorbar(x_lotss, N_lotss, yerr=(err_lotss_minus, err_lotss_plus), fmt='v', color='C3', label=r'$\\rm{Lockman\\, Hole}$')\n",
    "\n",
    "# Set log-log scales\n",
    "plt.xscale('log')\n",
    "plt.yscale('log')\n",
    "plt.xlabel(r'$\\rm{Flux\\, Density\\, S\\, (Jy)}$')\n",
    "plt.ylabel(r'$S^{2.5} \\frac{dN}{dS} \\,\\, \\rm{Jy^{1.5} \\, sr^{-1}}$')\n",
    "\n",
    "# Get handles and labels, then manually reorder them to put the fit last\n",
    "handles, labels = plt.gca().get_legend_handles_labels()\n",
    "handles.append(fit_line)\n",
    "labels.append(r'$\\rm{Franzen+2019\\, Fit}$')\n",
    "\n",
    "plt.legend(handles, labels, fontsize='x-small')\n",
    "\n",
    "# Save figure\n",
    "plt.savefig('source_counts_comparison.pdf', bbox_inches='tight')\n",
    "plt.show()\n"
   ]
  },
  {
   "cell_type": "code",
   "execution_count": 16,
   "id": "a2507141-debe-43c2-b816-310dab5a1d8a",
   "metadata": {},
   "outputs": [],
   "source": [
    "# data = np.load('completeness_corrections_aegean.npz')\n",
    "# bin_centers = data['bin_centers']\n",
    "# completeness_correc_fac_median = data['med']\n",
    "# completeness_correc_fac_lower_bound = data['low']\n",
    "# completeness_correc_fac_upper_bound = data['upp']\n",
    "\n"
   ]
  },
  {
   "cell_type": "code",
   "execution_count": 17,
   "id": "f38a893e-d659-4b3d-9278-5488339c8c00",
   "metadata": {},
   "outputs": [
    {
     "data": {
      "text/plain": [
       "(10,)"
      ]
     },
     "execution_count": 17,
     "metadata": {},
     "output_type": "execute_result"
    }
   ],
   "source": [
    "bin_centers.shape"
   ]
  },
  {
   "cell_type": "code",
   "execution_count": 18,
   "id": "5792383a-7e7c-4b87-b6a8-28ff6e0d0c55",
   "metadata": {},
   "outputs": [
    {
     "name": "stdout",
     "output_type": "stream",
     "text": [
      "\\begin{tabular}{ccccccccc}\n",
      "    \\hline\n",
      "    $S_i$ & $S_f$ & $S$ & $\\Delta S$ & N & $C_{\\rm fdr}$ & $C_{\\rm c}$ & $V(S)$  & $S^{2.5}\\,dN/dS$ \\\\\n",
      "    (Jy) & (Jy) &  (Jy) &  (Jy) &  &  &  &  (\\%) &  (Jy$^{3/2}$ sr$^{-1}$) \\\\\n",
      "    \\hline\n",
      "    0.020 & 0.040 & 0.030 & 0.0197 & 124 & $0.992$ & $2.048^{+0.152}_{-0.157}$ & 55.49 & $ 333.73 \\pm 29.97 $ \\\\\n",
      "    0.040 & 0.079 & 0.059 & 0.0392 & 148 & $0.986$ & $1.305^{+0.095}_{-0.075}$ & 96.67 & $ 405.63 \\pm 33.34 $ \\\\\n",
      "    0.079 & 0.157 & 0.118 & 0.0778 & 127 & $0.992$ & $1.109^{+0.037}_{-0.056}$ & 99.72 & $ 806.71 \\pm 71.58 $ \\\\\n",
      "    0.157 & 0.311 & 0.234 & 0.1544 & 101 & $1.000$ & $1.023^{+0.024}_{-0.023}$ & 100.00 & $ 1665.63 \\pm 165.74 $ \\\\\n",
      "    0.311 & 0.618 & 0.464 & 0.3067 & 49 & $1.000$ & $1.000^{+0.000}_{-0.000}$ & 100.00 & $ 2210.00 \\pm 315.71 $ \\\\\n",
      "    0.618 & 1.227 & 0.922 & 0.6090 & 32 & $1.000$ & $1.000^{+0.000}_{-0.000}$ & 100.00 & $ 4039.02 \\pm 714.01 $ \\\\\n",
      "    1.227 & 2.436 & 1.831 & 1.2094 & 10 & $1.000$ & $1.000^{+0.000}_{-0.000}$ & 100.00 & $ 3532.29 \\pm 1117.01 $ \\\\\n",
      "    2.436 & 4.838 & 3.637 & 2.4018 & 4 & $1.000$ & $1.000^{+0.000}_{-0.000}$ & 100.00 & $ 3954.10 \\pm 1977.05 $ \\\\\n",
      "    4.838 & 9.608 & 7.223 & 4.7696 & 1 & $1.000$ & $1.000^{+0.000}_{-0.000}$ & 100.00 & $ 2766.42 \\pm 2766.42 $ \\\\\n",
      "    9.608 & 19.079 & 14.343 & 9.4719 & 2 & $1.000$ & $1.000^{+0.000}_{-0.000}$ & 100.00 & $ 15483.81 \\pm 10948.71 $ \\\\\n",
      "    \\hline\n",
      "\\end{tabular}\n"
     ]
    }
   ],
   "source": [
    "import numpy as np\n",
    "\n",
    "def generate_latex_table(bin_edges, S, dS, N, C_fdr, C_c, C_c_err_upper, C_c_err_lower, V, dNdS, dNdS_err):\n",
    "    S_i = bin_edges[:-1]  # Lower edges\n",
    "    S_f = bin_edges[1:]   # Upper edges\n",
    "    \n",
    "    table = []\n",
    "    table.append(\"\\\\begin{tabular}{ccccccccc}\")\n",
    "    table.append(\"    \\\\hline\")\n",
    "    table.append(\"    $S_i$ & $S_f$ & $S$ & $\\\\Delta S$ & N & $C_{\\\\rm fdr}$ & $C_{\\\\rm c}$ & $V(S)$  & $S^{2.5}\\\\,dN/dS$ \\\\\\\\\")\n",
    "    table.append(\"    (Jy) & (Jy) &  (Jy) &  (Jy) &  &  &  &  (\\\\%) &  (Jy$^{3/2}$ sr$^{-1}$) \\\\\\\\\")\n",
    "    table.append(\"    \\\\hline\")\n",
    "    \n",
    "    for i in range(len(S_i)):\n",
    "        if not np.isnan(C_c_err_upper[i]) and not np.isnan(C_c_err_lower[i]):\n",
    "            C_c_str = f\"${C_c[i]:.3f}^{{+{C_c_err_upper[i]:.3f}}}_{{-{C_c_err_lower[i]:.3f}}}$\"\n",
    "        else:\n",
    "            C_c_str = f\"${C_c[i]:.3f}$\"\n",
    "        \n",
    "        C_fdr_str = f\"${C_fdr[i]:.3f}$\" if C_fdr[i] != -1 else \"-\"\n",
    "        dNdS_str = f\"$ {dNdS[i]:.2f} \\\\pm {dNdS_err[i]:.2f} $\"\n",
    "        \n",
    "        row = (\n",
    "            f\"    {S_i[i]:.3f} & {S_f[i]:.3f} & {S[i]:.3f} & {dS[i]:.4f} & \"\n",
    "            f\"{N[i] if N[i] != -1 else '-'} & \"\n",
    "            f\"{C_fdr_str} & \"\n",
    "            f\"{C_c_str} & \"\n",
    "            f\"{V[i]:.2f} & \"\n",
    "            f\"{dNdS_str} \\\\\\\\\"\n",
    "        )\n",
    "        table.append(row)\n",
    "    \n",
    "    table.append(\"    \\\\hline\")\n",
    "    table.append(\"\\\\end{tabular}\")\n",
    "    \n",
    "    return \"\\n\".join(table)\n",
    "\n",
    "# Example arrays (replace with actual data)\n",
    "S = bin_centers\n",
    "dS = bin_widths\n",
    "N = counts\n",
    "C_fdr = fdr_correction\n",
    "C_c = completeness_correc_fac_med\n",
    "C_c_err_upper = completeness_correc_fac_upp\n",
    "C_c_err_lower = completeness_correc_fac_low\n",
    "V = 100 * effective_image_area / total_valid_area\n",
    "dNdS = N_ugmrt \n",
    "dNdS_err = err_ugmrt\n",
    "\n",
    "latex_table = generate_latex_table(bin_edges, S, dS, N, C_fdr, C_c, C_c_err_upper, C_c_err_lower, V, dNdS, dNdS_err)\n",
    "print(latex_table)\n"
   ]
  },
  {
   "cell_type": "code",
   "execution_count": 19,
   "id": "0e2d4eb1-f715-4091-9cc2-201054966ce2",
   "metadata": {},
   "outputs": [
    {
     "data": {
      "text/plain": [
       "598"
      ]
     },
     "execution_count": 19,
     "metadata": {},
     "output_type": "execute_result"
    }
   ],
   "source": [
    "counts.sum()"
   ]
  },
  {
   "cell_type": "code",
   "execution_count": 20,
   "id": "d9027a1a-5835-48c2-8360-99ee6808e8d9",
   "metadata": {},
   "outputs": [
    {
     "data": {
      "image/png": "[encoded data removed]",
      "text/plain": [
       "<Figure size 700x500 with 1 Axes>"
      ]
     },
     "metadata": {},
     "output_type": "display_data"
    }
   ],
   "source": [
    "import numpy as np\n",
    "import matplotlib.pyplot as plt\n",
    "\n",
    "# Enable LaTeX rendering\n",
    "plt.rcParams.update({\"text.usetex\": True, \"font.family\": \"serif\"})\n",
    "\n",
    "# Create figure\n",
    "plt.figure(figsize=(7, 5))\n",
    "\n",
    "# Plot error bars for the median correction factor\n",
    "plt.errorbar(bin_centers, completeness_correc_fac_med, \n",
    "             yerr=[completeness_correc_fac_low, completeness_correc_fac_upp], \n",
    "             fmt='o', capsize=5, label=r\"\\textrm{Completeness}\")\n",
    "\n",
    "# Draw horizontal dashed line at y = 1\n",
    "plt.axhline(y=1, color='black', linestyle='--', linewidth=1)\n",
    "\n",
    "# Plot FDR correction points as red squares\n",
    "plt.scatter(bin_centers, fdr_correction, color='red', marker='s', label=r\"\\textrm{FDR}\")\n",
    "\n",
    "# Set log scale for x-axis\n",
    "plt.xscale(\"log\")\n",
    "# plt.yscale(\"log\")\n",
    "\n",
    "# plt.yticks([0.75, 1, 1.25, 1.5, 1.75, 2, 2.25], \n",
    "#            [r\"$0.75$\", r\"$1$\", r\"$1.25$\", r\"$1.5$\", r\"$1.75$\", r\"$2$\", r\"$2.25$\"])\n",
    "\n",
    "# plt.yticks([0.75, 1, 1.5, 2, 2.5], \n",
    "#            [r\"$0.75$\", r\"$1$\", r\"$1.5$\", r\"$2$\", r\"$2.5$\"])\n",
    "\n",
    "# Labels and title\n",
    "plt.xlabel(r\"\\textrm{Flux Density (Jy)}\")\n",
    "plt.ylabel(r\"\\textrm{Correction Factor}\")\n",
    "\n",
    "# Show legend\n",
    "plt.legend()\n",
    "\n",
    "# Show plot\n",
    "plt.savefig('corrections.pdf', bbox_inches='tight')"
   ]
  },
  {
   "cell_type": "code",
   "execution_count": 21,
   "id": "9b066130-756c-4067-80bc-8e7bf02127f0",
   "metadata": {},
   "outputs": [
    {
     "data": {
      "text/plain": [
       "(array([0.99193548, 0.98648649, 0.99212598, 1.        , 1.        ,\n",
       "        1.        , 1.        , 1.        , 1.        , 1.        ]),\n",
       " array([2.04761905, 1.30517241, 1.10859951, 1.02325581, 1.        ,\n",
       "        1.        , 1.        , 1.        , 1.        , 1.        ]))"
      ]
     },
     "execution_count": 21,
     "metadata": {},
     "output_type": "execute_result"
    }
   ],
   "source": [
    "fdr_correction, completeness_correc_fac_med\n"
   ]
  },
  {
   "cell_type": "code",
   "execution_count": 22,
   "id": "a9e57d36-5d5f-4bc2-afe4-57d6cba553e9",
   "metadata": {},
   "outputs": [
    {
     "name": "stderr",
     "output_type": "stream",
     "text": [
      "UsageError: Line magic function `%` not found.\n"
     ]
    }
   ],
   "source": [
    "%"
   ]
  },
  {
   "cell_type": "code",
   "execution_count": null,
   "id": "207773ae-dd9d-4d5c-bfc5-9c85b43774b9",
   "metadata": {},
   "outputs": [],
   "source": []
  }
 ],
 "metadata": {
  "kernelspec": {
   "display_name": "Python 3 (ipykernel)",
   "language": "python",
   "name": "python3"
  },
  "language_info": {
   "codemirror_mode": {
    "name": "ipython",
    "version": 3
   },
   "file_extension": ".py",
   "mimetype": "text/x-python",
   "name": "python",
   "nbconvert_exporter": "python",
   "pygments_lexer": "ipython3",
   "version": "3.12.2"
  }
 },
 "nbformat": 4,
 "nbformat_minor": 5
}
