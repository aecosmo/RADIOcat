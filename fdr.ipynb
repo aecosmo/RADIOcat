{
 "cells": [
  {
   "cell_type": "markdown",
   "id": "cd0d0e70-b226-4e30-8f8b-3e74e49f9b7b",
   "metadata": {},
   "source": [
    "# Using inverted fits image. "
   ]
  },
  {
   "cell_type": "code",
   "execution_count": 1,
   "id": "8ef41d72-e455-48c5-8afb-c95d8b29dd3d",
   "metadata": {},
   "outputs": [],
   "source": [
    "import numpy as np\n",
    "import dnds_calculations as dnds\n",
    "from astropy.io import fits"
   ]
  },
  {
   "cell_type": "code",
   "execution_count": 2,
   "id": "8e9aabc3-4557-4e2e-823f-110816e34e21",
   "metadata": {},
   "outputs": [
    {
     "name": "stdout",
     "output_type": "stream",
     "text": [
      "0.010124571214612951\n"
     ]
    }
   ],
   "source": [
    "original_fits = 'mosaic_image.fits'\n",
    "gmrt_catalog = 'mosaic_image.pybdsf.srl.fits'\n",
    "with fits.open(gmrt_catalog) as hdul:\n",
    "    data = hdul[1].data\n",
    "original_fluxes = np.array(data['Total_flux'])\n",
    "\n",
    "flux_min, flux_max = min(original_fluxes), max(original_fluxes)\n",
    "print(flux_min)\n",
    "flux_min = 0.02 if (flux_min<0.02) else flux_min\n",
    "bins = 11\n",
    "flux_bins = np.logspace(np.log10(flux_min), np.log10(flux_max), bins)\n",
    "bin_centers = (flux_bins[:-1] + flux_bins[1:]) / 2"
   ]
  },
  {
   "cell_type": "code",
   "execution_count": 3,
   "id": "d7cf7033-2ce8-4429-b442-d0d8e4aea46b",
   "metadata": {},
   "outputs": [
    {
     "data": {
      "text/plain": [
       "640"
      ]
     },
     "execution_count": 3,
     "metadata": {},
     "output_type": "execute_result"
    }
   ],
   "source": [
    "len(original_fluxes)"
   ]
  },
  {
   "cell_type": "code",
   "execution_count": 4,
   "id": "44b79d23-98a0-49bf-b1c7-987d23de69ce",
   "metadata": {},
   "outputs": [
    {
     "name": "stdout",
     "output_type": "stream",
     "text": [
      "Inverted FITS image saved to negative_image.fits\n"
     ]
    }
   ],
   "source": [
    "negative_fits = \"negative_image.fits\"\n",
    "negative_catalog = negative_fits.replace(\".fits\", \".pybdsf.srl.fits\")\n",
    "\n",
    "dnds.invert_fits_image(original_fits, negative_fits)"
   ]
  },
  {
   "cell_type": "code",
   "execution_count": 5,
   "id": "97393a6d-918d-4d22-b3ae-f6034fc480e9",
   "metadata": {},
   "outputs": [
    {
     "name": "stderr",
     "output_type": "stream",
     "text": [
      "stty: 'standard input': Inappropriate ioctl for device\n",
      "stty: 'standard input': Inappropriate ioctl for device\n"
     ]
    },
    {
     "name": "stdout",
     "output_type": "stream",
     "text": [
      "--> Wrote FITS file 'negative_image.pybdsf.srl.fits'\n"
     ]
    }
   ],
   "source": [
    "dnds.run_pybdsf_neg(negative_fits)\n",
    "# recovered_flux = dnds.read_pybdsf_catalog('negative_image.pybdsf.srl.fits')"
   ]
  },
  {
   "cell_type": "code",
   "execution_count": 6,
   "id": "6c79c199-f6ae-4e38-a16e-ca4e0a9a9e60",
   "metadata": {},
   "outputs": [],
   "source": [
    "original_fluxes = dnds.read_pybdsf_catalog(gmrt_catalog)\n",
    "negative_fluxes = dnds.read_pybdsf_catalog(negative_catalog)\n",
    "\n",
    "cat_counts, _ = np.histogram(original_fluxes, bins=flux_bins)\n",
    "neg_counts, _ = np.histogram(np.abs(negative_fluxes), bins=flux_bins)\n",
    "\n",
    "fdr = np.divide(neg_counts, cat_counts, out=np.zeros_like(neg_counts, dtype=float), where=(cat_counts) > 0)\n",
    "fdr_correction = np.maximum(1 - fdr, 0.01) # correction factor to be divided with in the code. \n",
    "np.save('fdr_correction.npy',fdr_correction)"
   ]
  },
  {
   "cell_type": "code",
   "execution_count": 7,
   "id": "6138dacc-f4b3-456e-9420-4ac93bcd7944",
   "metadata": {},
   "outputs": [
    {
     "data": {
      "text/plain": [
       "598"
      ]
     },
     "execution_count": 7,
     "metadata": {},
     "output_type": "execute_result"
    }
   ],
   "source": [
    "np.sum(cat_counts)"
   ]
  },
  {
   "cell_type": "code",
   "execution_count": 8,
   "id": "bddbd0cd-36ed-46eb-a5f8-6ef37d03af1c",
   "metadata": {},
   "outputs": [
    {
     "data": {
      "text/plain": [
       "(array([1, 2, 1, 0, 0, 0, 0, 0, 0, 0]),\n",
       " array([124, 148, 127, 101,  49,  32,  10,   4,   1,   2]))"
      ]
     },
     "execution_count": 8,
     "metadata": {},
     "output_type": "execute_result"
    }
   ],
   "source": [
    "neg_counts, cat_counts"
   ]
  },
  {
   "cell_type": "code",
   "execution_count": 9,
   "id": "ddb880a9-b975-4a56-a115-a6960de72896",
   "metadata": {},
   "outputs": [
    {
     "data": {
      "text/plain": [
       "array([0.99193548, 0.98648649, 0.99212598, 1.        , 1.        ,\n",
       "       1.        , 1.        , 1.        , 1.        , 1.        ])"
      ]
     },
     "execution_count": 9,
     "metadata": {},
     "output_type": "execute_result"
    }
   ],
   "source": [
    "fdr_correction"
   ]
  },
  {
   "cell_type": "code",
   "execution_count": 10,
   "id": "89e363c3-7059-410f-95ec-98b65a6aaa1c",
   "metadata": {},
   "outputs": [
    {
     "data": {
      "text/plain": [
       "99.33110367892976"
      ]
     },
     "execution_count": 10,
     "metadata": {},
     "output_type": "execute_result"
    }
   ],
   "source": [
    "100*(598-4)/598"
   ]
  },
  {
   "cell_type": "code",
   "execution_count": 11,
   "id": "398d1480-c7b3-4e45-987f-7ee3d0a0127c",
   "metadata": {},
   "outputs": [
    {
     "name": "stderr",
     "output_type": "stream",
     "text": [
      "UsageError: Line magic function `%` not found.\n"
     ]
    }
   ],
   "source": [
    "%"
   ]
  },
  {
   "cell_type": "code",
   "execution_count": null,
   "id": "778bd241-4e9a-4b47-a09b-6539678ef41d",
   "metadata": {},
   "outputs": [],
   "source": []
  }
 ],
 "metadata": {
  "kernelspec": {
   "display_name": "Python 3 (ipykernel)",
   "language": "python",
   "name": "python3"
  },
  "language_info": {
   "codemirror_mode": {
    "name": "ipython",
    "version": 3
   },
   "file_extension": ".py",
   "mimetype": "text/x-python",
   "name": "python",
   "nbconvert_exporter": "python",
   "pygments_lexer": "ipython3",
   "version": "3.12.2"
  }
 },
 "nbformat": 4,
 "nbformat_minor": 5
}
