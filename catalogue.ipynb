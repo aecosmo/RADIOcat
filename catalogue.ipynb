{
 "cells": [
  {
   "cell_type": "code",
   "execution_count": 1,
   "id": "57f34121-bd41-454f-bace-b3e111d5fb21",
   "metadata": {},
   "outputs": [],
   "source": [
    "#!/usr/bin/env python\n",
    "# coding: utf-8\n",
    "\n",
    "import numpy as np\n",
    "import matplotlib.pyplot as plt\n",
    "# from scipy.optimize import curve_fit\n",
    "# from scipy.ndimage import convolve\n",
    "from astropy.io import fits\n",
    "from astropy.wcs import WCS\n",
    "# import bdsf\n",
    "# import joblib\n",
    "# from joblib import Parallel, delayed\n",
    "\n",
    "# import dnsn_calculations as dnds"
   ]
  },
  {
   "cell_type": "code",
   "execution_count": 2,
   "id": "eb7004cc-0fa9-48a5-83bb-0e156b4c0cb0",
   "metadata": {},
   "outputs": [],
   "source": [
    "catalogue = 'final_mosaic.pybdsf.srl.fits'"
   ]
  },
  {
   "cell_type": "code",
   "execution_count": 3,
   "id": "9f8b3f84-8df4-49bc-ab14-7ed11e22d302",
   "metadata": {},
   "outputs": [],
   "source": [
    "# with fits.open(catalogue) as hdul:\n",
    "#     cols = hdul[1].columns\n",
    "# print(cols)"
   ]
  },
  {
   "cell_type": "code",
   "execution_count": 4,
   "id": "93048c03-46d6-40ee-88a5-eaa66a1d9614",
   "metadata": {},
   "outputs": [
    {
     "name": "stdout",
     "output_type": "stream",
     "text": [
      "LaTeX table saved as 'source_catalog.tex'.\n"
     ]
    }
   ],
   "source": [
    "from astropy.io import fits\n",
    "from astropy.table import Table\n",
    "\n",
    "from astropy.io import fits\n",
    "from astropy.table import Table\n",
    "\n",
    "# Load FITS catalog\n",
    "catalog = Table.read(catalogue)  # Make sure the file path is correct\n",
    "\n",
    "# Select relevant columns\n",
    "columns = [\n",
    "    \"Source_id\", \"RA\", \"DEC\", \"Total_flux\", \"E_Total_flux\",\n",
    "    \"Peak_flux\", \"E_Peak_flux\", \"Maj\", \"Min\", \"PA\", \"Isl_rms\"\n",
    "]\n",
    "\n",
    "# Extract relevant data\n",
    "subset_table = catalog[columns]\n",
    "\n",
    "# Convert Maj, Min from degrees to arcseconds (1 deg = 3600 arcsec)\n",
    "subset_table[\"Maj\"] *= 3600\n",
    "subset_table[\"Min\"] *= 3600\n",
    "\n",
    "# Convert Isl_rms from Jy to mJy\n",
    "subset_table[\"Isl_rms\"] *= 1000\n",
    "\n",
    "# Sort by total flux density in descending order and select the top 10\n",
    "subset_table.sort(\"Total_flux\", reverse=True)\n",
    "subset_table = subset_table[:10]\n",
    "\n",
    "# Round numerical columns to 2 decimal places\n",
    "for col in subset_table.colnames:\n",
    "    if subset_table[col].dtype.kind in \"fc\":  # Float or complex numbers\n",
    "        subset_table[col] = [round(val, 4) for val in subset_table[col]]\n",
    "\n",
    "\n",
    "# Define LaTeX column names\n",
    "latex_columns = [\n",
    "    \"Source\\\\_id\", \"$\\\\mathrm{RA}$\", \"$\\\\mathrm{DEC}$\", \"$\\\\mathrm{Total\\\\_flux}$\", \n",
    "    \"$\\\\mathrm{E\\\\_Total\\\\_flux}$\", \"$\\\\mathrm{Peak\\\\_flux}$\", \"$\\\\mathrm{E\\\\_Peak\\\\_flux}$\", \n",
    "    \"$\\\\mathrm{Maj}$\", \"$\\\\mathrm{Min}$\", \"$\\\\mathrm{PA}$\", \"$\\\\mathrm{Isl\\\\_rms}$\"\n",
    "]\n",
    "\n",
    "# Save as LaTeX table\n",
    "with open(\"source_catalog.tex\", \"w\") as f:\n",
    "    f.write(\"\\\\begin{table*}\\n\\\\centering\\n\")\n",
    "    f.write(\"\\\\caption{Top 10 brightest radio sources from the GSSHE catalog, sorted by total flux density.}\\n\")\n",
    "    f.write(\"\\\\begin{tabular}{ccccccccccc}\\n\\\\hline\\n\")\n",
    "    f.write(\" & \".join(latex_columns) + \" \\\\\\\\\\n\")\n",
    "    f.write(\" & (deg) & (deg) & (Jy) & (Jy) & (Jy/beam) & (Jy/beam) & (arcsec) & (arcsec) & (deg) & (mJy) \\\\\\\\\\n\")\n",
    "    f.write(\"\\\\hline\\n\")\n",
    "\n",
    "    for row in subset_table:\n",
    "        f.write(\" & \".join(map(str, row)) + \" \\\\\\\\\\n\")\n",
    "\n",
    "    f.write(\"\\\\hline\\n\\\\end{tabular}\\n\\\\end{table*}\\n\")\n",
    "\n",
    "print(\"LaTeX table saved as 'source_catalog.tex'.\")\n"
   ]
  },
  {
   "cell_type": "code",
   "execution_count": 5,
   "id": "b5ae7dda-b639-4abb-ab6d-3651f5480721",
   "metadata": {},
   "outputs": [
    {
     "data": {
      "text/html": [
       "<div><i>Table length=640</i>\n",
       "<table id=\"table139465372646912\" class=\"table-striped table-bordered table-condensed\">\n",
       "<thead><tr><th>Source_id</th><th>RA</th><th>DEC</th><th>Total_flux</th><th>E_Total_flux</th><th>Peak_flux</th><th>E_Peak_flux</th><th>Maj</th><th>Min</th><th>PA</th><th>Isl_rms</th></tr></thead>\n",
       "<thead><tr><th></th><th>deg</th><th>deg</th><th>Jy</th><th>Jy</th><th>Jy / beam</th><th>Jy / beam</th><th>deg</th><th>deg</th><th>deg</th><th>Jy / beam</th></tr></thead>\n",
       "<thead><tr><th>int32</th><th>float64</th><th>float64</th><th>float64</th><th>float64</th><th>float64</th><th>float64</th><th>float64</th><th>float64</th><th>float64</th><th>float64</th></tr></thead>\n",
       "<tr><td>0</td><td>33.91097674032496</td><td>-30.79772437985023</td><td>0.10651907543900296</td><td>0.027219895976420293</td><td>0.06616504857483647</td><td>0.011084740265242865</td><td>0.013227060777166458</td><td>0.008223005209917748</td><td>47.13109600142505</td><td>0.010680458508431911</td></tr>\n",
       "<tr><td>1</td><td>33.8633850690766</td><td>-31.362755024011054</td><td>4.070434370765356</td><td>0.049614293605441034</td><td>3.312560866649872</td><td>0.024434872442712176</td><td>0.01109762652023731</td><td>0.007481112537034699</td><td>19.878093670611488</td><td>0.024071021005511284</td></tr>\n",
       "<tr><td>2</td><td>33.825503995313994</td><td>-30.72541225465754</td><td>0.7486692307246718</td><td>0.0270718847430085</td><td>0.5536519908135201</td><td>0.012458160757762333</td><td>0.011893985759955417</td><td>0.007682644739285082</td><td>24.747637243358785</td><td>0.012164692394435406</td></tr>\n",
       "<tr><td>3</td><td>33.78944102374034</td><td>-30.42134331717491</td><td>0.2689834258071373</td><td>0.03299593397284835</td><td>0.12441334968522869</td><td>0.01086492932758442</td><td>0.015548077140243453</td><td>0.009396391930813932</td><td>17.91487641181427</td><td>0.010404434986412525</td></tr>\n",
       "<tr><td>4</td><td>33.80091673543528</td><td>-31.45864218184255</td><td>0.06721403961817889</td><td>0.016634855541583334</td><td>0.06084765697508043</td><td>0.008563544802978206</td><td>0.01154217905838931</td><td>0.0064669425080022295</td><td>26.646855248628153</td><td>0.008902604691684246</td></tr>\n",
       "<tr><td>5</td><td>33.682784021478874</td><td>-30.222032747387473</td><td>0.14038509418326067</td><td>0.02583169987867924</td><td>0.09139974813038274</td><td>0.01093236794390342</td><td>0.01242508794264968</td><td>0.008354535372901734</td><td>38.25619629089267</td><td>0.010450548492372036</td></tr>\n",
       "<tr><td>6</td><td>33.69252243790481</td><td>-31.77404717186599</td><td>0.12521290256558643</td><td>0.019202693808362602</td><td>0.11948027837193562</td><td>0.010199680982432591</td><td>0.01126908868463018</td><td>0.006284449583426538</td><td>20.278952095704682</td><td>0.010740303434431553</td></tr>\n",
       "<tr><td>7</td><td>33.61263889872801</td><td>-31.84759448884788</td><td>0.817587690878941</td><td>0.030088567340139427</td><td>0.4226126509550843</td><td>0.010740327420015143</td><td>0.01473328297827337</td><td>0.008874691993572267</td><td>1.2198469124849816</td><td>0.010298743844032288</td></tr>\n",
       "<tr><td>8</td><td>33.5648089664996</td><td>-30.44781833896294</td><td>0.07556324859592084</td><td>0.019240840160785193</td><td>0.05021936820698712</td><td>0.008309659510945725</td><td>0.011729963273644279</td><td>0.008672955830416001</td><td>46.9718335286679</td><td>0.00786706805229187</td></tr>\n",
       "<tr><td>...</td><td>...</td><td>...</td><td>...</td><td>...</td><td>...</td><td>...</td><td>...</td><td>...</td><td>...</td><td>...</td></tr>\n",
       "<tr><td>631</td><td>26.683711425529925</td><td>-31.19950867510118</td><td>0.09941230701213735</td><td>0.013573634993447872</td><td>0.08396795121936512</td><td>0.006775988198809889</td><td>0.011438127517756105</td><td>0.007001316079491428</td><td>30.713509319561535</td><td>0.006826216354966164</td></tr>\n",
       "<tr><td>632</td><td>26.642084204667587</td><td>-31.89790682551704</td><td>0.6702804150555459</td><td>0.02285523592126759</td><td>0.495146317987361</td><td>0.009401447139680386</td><td>0.01208427312148191</td><td>0.006520021894697228</td><td>37.497902728187576</td><td>0.009401447139680386</td></tr>\n",
       "<tr><td>633</td><td>26.61957708837911</td><td>-31.526645192534502</td><td>0.1320813296570606</td><td>0.016176719797452964</td><td>0.09034067044264198</td><td>0.006946199544711338</td><td>0.013446421599433392</td><td>0.007352598315400761</td><td>28.51062098620974</td><td>0.00692342221736908</td></tr>\n",
       "<tr><td>634</td><td>26.637857353093622</td><td>-30.3541311073536</td><td>0.056140366614469465</td><td>0.012766595910783354</td><td>0.04936993204118035</td><td>0.006283807804019664</td><td>0.012655953832989347</td><td>0.006076118105442106</td><td>28.39302406942138</td><td>0.0067343274131417274</td></tr>\n",
       "<tr><td>635</td><td>26.615047879178245</td><td>-30.22480754727737</td><td>0.15460858355483525</td><td>0.020141808125102575</td><td>0.090321924236587</td><td>0.007834938762223055</td><td>0.013935516457789234</td><td>0.008305566789173517</td><td>16.28290660854778</td><td>0.007568121887743473</td></tr>\n",
       "<tr><td>636</td><td>26.4066202865056</td><td>-30.470619433983835</td><td>0.10982609010947181</td><td>0.01929576988852442</td><td>0.0687702401141565</td><td>0.007860871999658472</td><td>0.01359580295039185</td><td>0.007939501213539531</td><td>25.28681422252512</td><td>0.007662330288439989</td></tr>\n",
       "<tr><td>637</td><td>26.376485691439704</td><td>-30.46166667016303</td><td>0.12036299290297707</td><td>0.018420828758361672</td><td>0.07742901936271082</td><td>0.0077466689691546645</td><td>0.012305986633142365</td><td>0.008537523710945835</td><td>39.5386043112056</td><td>0.007366475649178028</td></tr>\n",
       "<tr><td>638</td><td>26.203149220939693</td><td>-31.08674922658963</td><td>0.8951552973909195</td><td>0.029434294603790816</td><td>0.5868856824375511</td><td>0.012439345196826204</td><td>0.01288869358294582</td><td>0.007995534965275117</td><td>37.189141946666325</td><td>0.012048305943608284</td></tr>\n",
       "<tr><td>639</td><td>26.216957046095118</td><td>-31.098758539271092</td><td>0.33563656662429264</td><td>0.02593714801951702</td><td>0.25942666399607717</td><td>0.012354783188457863</td><td>0.011325836185945083</td><td>0.007718106169477371</td><td>38.17575629361514</td><td>0.012048305943608284</td></tr>\n",
       "</table></div>"
      ],
      "text/plain": [
       "<Table length=640>\n",
       "Source_id         RA         ...         PA                Isl_rms       \n",
       "                 deg         ...        deg               Jy / beam      \n",
       "  int32        float64       ...      float64              float64       \n",
       "--------- ------------------ ... ------------------ ---------------------\n",
       "        0  33.91097674032496 ...  47.13109600142505  0.010680458508431911\n",
       "        1   33.8633850690766 ... 19.878093670611488  0.024071021005511284\n",
       "        2 33.825503995313994 ... 24.747637243358785  0.012164692394435406\n",
       "        3  33.78944102374034 ...  17.91487641181427  0.010404434986412525\n",
       "        4  33.80091673543528 ... 26.646855248628153  0.008902604691684246\n",
       "        5 33.682784021478874 ...  38.25619629089267  0.010450548492372036\n",
       "        6  33.69252243790481 ... 20.278952095704682  0.010740303434431553\n",
       "        7  33.61263889872801 ... 1.2198469124849816  0.010298743844032288\n",
       "        8   33.5648089664996 ...   46.9718335286679   0.00786706805229187\n",
       "      ...                ... ...                ...                   ...\n",
       "      631 26.683711425529925 ... 30.713509319561535  0.006826216354966164\n",
       "      632 26.642084204667587 ... 37.497902728187576  0.009401447139680386\n",
       "      633  26.61957708837911 ...  28.51062098620974   0.00692342221736908\n",
       "      634 26.637857353093622 ...  28.39302406942138 0.0067343274131417274\n",
       "      635 26.615047879178245 ...  16.28290660854778  0.007568121887743473\n",
       "      636   26.4066202865056 ...  25.28681422252512  0.007662330288439989\n",
       "      637 26.376485691439704 ...   39.5386043112056  0.007366475649178028\n",
       "      638 26.203149220939693 ... 37.189141946666325  0.012048305943608284\n",
       "      639 26.216957046095118 ...  38.17575629361514  0.012048305943608284"
      ]
     },
     "execution_count": 5,
     "metadata": {},
     "output_type": "execute_result"
    }
   ],
   "source": [
    "subset_table = catalog[columns]\n",
    "subset_table"
   ]
  },
  {
   "cell_type": "code",
   "execution_count": 10,
   "id": "d70934ea-fef2-4842-b3c3-f8f6204afefe",
   "metadata": {},
   "outputs": [
    {
     "name": "stdout",
     "output_type": "stream",
     "text": [
      "LaTeX table saved as 'source_catalog.tex'.\n"
     ]
    }
   ],
   "source": [
    "from astropy.io import fits\n",
    "from astropy.table import Table\n",
    "\n",
    "from astropy.io import fits\n",
    "from astropy.table import Table\n",
    "\n",
    "# Load FITS catalog\n",
    "catalog = Table.read(catalogue)  # Make sure the file path is correct\n",
    "\n",
    "# Select relevant columns\n",
    "columns = [\n",
    "    \"Source_id\", \"RA\", \"DEC\", \"Total_flux\", \"E_Total_flux\",\n",
    "    \"Peak_flux\", \"E_Peak_flux\", \"Maj\", \"Min\", \"PA\", \"Isl_rms\"\n",
    "]\n",
    "\n",
    "# Extract relevant data\n",
    "subset_table = catalog[columns]\n",
    "\n",
    "# Convert Maj, Min from degrees to arcseconds (1 deg = 3600 arcsec)\n",
    "subset_table[\"Maj\"] *= 3600\n",
    "subset_table[\"Min\"] *= 3600\n",
    "\n",
    "# Convert Isl_rms from Jy to mJy\n",
    "subset_table[\"Isl_rms\"] *= 1000\n",
    "\n",
    "# Sort by total flux density in descending order and select the top 10\n",
    "# subset_table.sort(\"Total_flux\", reverse=True)\n",
    "subset_table = subset_table[:4]\n",
    "\n",
    "# Round numerical columns to 2 decimal places\n",
    "for col in subset_table.colnames:\n",
    "    if subset_table[col].dtype.kind in \"fc\":  # Float or complex numbers\n",
    "        subset_table[col] = [round(val, 2) for val in subset_table[col]]\n",
    "\n",
    "\n",
    "# Define LaTeX column names\n",
    "latex_columns = [\n",
    "    \"Source\\\\_id\", \"$\\\\mathrm{RA}$\", \"$\\\\mathrm{DEC}$\", \"$\\\\mathrm{Total\\\\_flux}$\", \n",
    "    \"$\\\\mathrm{E\\\\_Total\\\\_flux}$\", \"$\\\\mathrm{Peak\\\\_flux}$\", \"$\\\\mathrm{E\\\\_Peak\\\\_flux}$\", \n",
    "    \"$\\\\mathrm{Maj}$\", \"$\\\\mathrm{Min}$\", \"$\\\\mathrm{PA}$\", \"$\\\\mathrm{Isl\\\\_rms}$\"\n",
    "]\n",
    "\n",
    "# Save as LaTeX table\n",
    "with open(\"source_catalog.tex\", \"w\") as f:\n",
    "    f.write(\"\\\\begin{table*}\\n\\\\centering\\n\")\n",
    "    f.write(\"\\\\caption{A sample of the source catalogue. The columns show source ID, RA and Dec, total and peak flux densities and their errors, fitted major and minor axes and position angle, and island rms noise level. All the values are rounded to the second decimal place.}\\n\")\n",
    "    f.write(\"\\\\label{tab:catalogue}\\n\")\n",
    "    f.write(\"\\\\begin{tabular}{ccccccccccc}\\n\\\\hline\\n\")\n",
    "    f.write(\" & \".join(latex_columns) + \" \\\\\\\\\\n\")\n",
    "    f.write(\" & (deg) & (deg) & (Jy) & (Jy) & (Jy/beam) & (Jy/beam) & (arcsec) & (arcsec) & (deg) & (mJy) \\\\\\\\\\n\")\n",
    "    f.write(\"\\\\hline\\n\")\n",
    "\n",
    "    for row in subset_table:\n",
    "        f.write(\" & \".join(map(str, row)) + \" \\\\\\\\\\n\")\n",
    "\n",
    "    f.write(\"\\\\hline\\n\\\\end{tabular}\\n\\\\end{table*}\\n\")\n",
    "\n",
    "print(\"LaTeX table saved as 'source_catalog.tex'.\")\n"
   ]
  },
  {
   "cell_type": "code",
   "execution_count": null,
   "id": "2c3344c6-dfc9-4c10-bb47-cf692733883c",
   "metadata": {},
   "outputs": [],
   "source": []
  }
 ],
 "metadata": {
  "kernelspec": {
   "display_name": "Python 3 (ipykernel)",
   "language": "python",
   "name": "python3"
  },
  "language_info": {
   "codemirror_mode": {
    "name": "ipython",
    "version": 3
   },
   "file_extension": ".py",
   "mimetype": "text/x-python",
   "name": "python",
   "nbconvert_exporter": "python",
   "pygments_lexer": "ipython3",
   "version": "3.12.2"
  }
 },
 "nbformat": 4,
 "nbformat_minor": 5
}
