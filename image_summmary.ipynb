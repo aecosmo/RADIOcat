{
 "cells": [
  {
   "cell_type": "code",
   "execution_count": 9,
   "id": "bc373374-37a7-4eac-8a86-a73fab77a2cf",
   "metadata": {},
   "outputs": [
    {
     "name": "stdout",
     "output_type": "stream",
     "text": [
      "Pixel Resolution: 4.10 × 4.10 arcsec\n",
      "Image Size: 6077 × 6074 pixels\n",
      "Beam Size: 40.00000003092 × 22.0000000047012 arcsec, PA: 23.00000000004 degrees\n"
     ]
    }
   ],
   "source": [
    "from astropy.io import fits\n",
    "\n",
    "# Load the FITS file\n",
    "fits_file = \"mosaic_image.fits\"  # Replace with your actual file\n",
    "hdul = fits.open(fits_file)\n",
    "header = hdul[0].header  # Access the primary header\n",
    "\n",
    "# Extract pixel scale (CDELT values are in degrees)\n",
    "pixel_scale_x = abs(header['CDELT1']) * 3600  # Convert degrees to arcsec\n",
    "pixel_scale_y = abs(header['CDELT2']) * 3600  # Convert degrees to arcsec\n",
    "\n",
    "# Image size in pixels\n",
    "image_size_x = header['NAXIS1']\n",
    "image_size_y = header['NAXIS2']\n",
    "\n",
    "# Beam information (if available)\n",
    "beam_major = header.get('BMAJ', 'N/A')  # In degrees\n",
    "beam_minor = header.get('BMIN', 'N/A')\n",
    "beam_pa = header.get('BPA', 'N/A')  # Position angle\n",
    "\n",
    "if beam_major != 'N/A':\n",
    "    beam_major *= 3600  # Convert to arcsec\n",
    "    beam_minor *= 3600  # Convert to arcsec\n",
    "\n",
    "# Print results\n",
    "print(f\"Pixel Resolution: {pixel_scale_x:.2f} × {pixel_scale_y:.2f} arcsec\")\n",
    "print(f\"Image Size: {image_size_x} × {image_size_y} pixels\")\n",
    "print(f\"Beam Size: {beam_major} × {beam_minor} arcsec, PA: {beam_pa} degrees\")\n",
    "\n",
    "hdul.close()\n"
   ]
  },
  {
   "cell_type": "code",
   "execution_count": 10,
   "id": "7d92dcab-8ec7-4168-9856-7dcb14b574ca",
   "metadata": {},
   "outputs": [
    {
     "name": "stderr",
     "output_type": "stream",
     "text": [
      "WARNING: FITSFixedWarning: 'obsfix' made the change 'Set OBSGEO-L to    74.049972 from OBSGEO-[XYZ].\n",
      "Set OBSGEO-B to    19.090653 from OBSGEO-[XYZ].\n",
      "Set OBSGEO-H to      636.997 from OBSGEO-[XYZ]'. [astropy.wcs.wcs]\n"
     ]
    },
    {
     "name": "stdout",
     "output_type": "stream",
     "text": [
      "Original data shape: (1, 6074, 6077)\n",
      "Processed image data shape: (6074, 6077)\n",
      "Peak flux density: 14.3079 Jy/beam\n",
      "Minimum flux density: -0.1329 Jy/beam\n"
     ]
    }
   ],
   "source": [
    "import numpy as np\n",
    "from astropy.io import fits\n",
    "from astropy.wcs import WCS\n",
    "\n",
    "def process_fits(image_filename):\n",
    "    \"\"\"Reads a FITS file, extracts the 2D image data, and finds the peak flux density.\"\"\"\n",
    "    \n",
    "    with fits.open(image_filename, mode='readonly') as hdu:\n",
    "        header = hdu[0].header\n",
    "        wcs = WCS(header, naxis=2)\n",
    "        original_data = hdu[0].data.astype(np.float64)\n",
    "    \n",
    "    # Extract the correct 2D image slice\n",
    "    if original_data.ndim == 4:\n",
    "        base_data = original_data[0, 0, :, :]\n",
    "    elif original_data.ndim == 3:\n",
    "        base_data = original_data[0, :, :]\n",
    "    elif original_data.ndim == 2:\n",
    "        base_data = original_data.copy()\n",
    "    else:\n",
    "        raise ValueError(f\"Unexpected FITS data dimensions: {original_data.shape}\")\n",
    "    \n",
    "    # Check data shape\n",
    "    print(f\"Original data shape: {original_data.shape}\")\n",
    "    print(f\"Processed image data shape: {base_data.shape}\")\n",
    "    \n",
    "    # Handle NaN values\n",
    "    base_data = np.nan_to_num(base_data)\n",
    "    \n",
    "    # Compute peak flux density\n",
    "    peak_flux = np.nanmax(base_data)\n",
    "    mini_flux = np.nanmin(base_data)\n",
    "    print(f\"Peak flux density: {peak_flux:.4f} Jy/beam\")\n",
    "    print(f\"Minimum flux density: {mini_flux:.4f} Jy/beam\")\n",
    "    \n",
    "    return peak_flux, mini_flux\n",
    "\n",
    "# Example usage\n",
    "peak_flux, mini_flux = process_fits(fits_file)"
   ]
  },
  {
   "cell_type": "code",
   "execution_count": 8,
   "id": "a5381ea9-a384-4949-91dc-29c25f7143b9",
   "metadata": {},
   "outputs": [
    {
     "name": "stdout",
     "output_type": "stream",
     "text": [
      "Estimated background RMS (Gaussian fit): 3.346 mJy/beam\n",
      "Estimated background RMS (Gaussian fit): 2.818 mJy/beam\n",
      "Estimated background RMS (Gaussian fit): 2.421 mJy/beam\n",
      "Estimated background RMS (Gaussian fit): 2.784 mJy/beam\n",
      "Estimated background RMS (Gaussian fit): 2.741 mJy/beam\n",
      "Estimated background RMS (Gaussian fit): 3.380 mJy/beam\n",
      "Estimated background RMS (Gaussian fit): 2.773 mJy/beam\n"
     ]
    }
   ],
   "source": [
    "import numpy as np\n",
    "from astropy.io import fits\n",
    "from scipy.stats import norm\n",
    "import matplotlib.pyplot as plt\n",
    "\n",
    "\n",
    "\n",
    "def estimate_rms_gaussian_fit(image_data, clip_positive_sigma=5.0, bins=20):\n",
    "    flat_data = image_data.flatten()\n",
    "    flat_data = flat_data[np.isfinite(flat_data)]  # remove NaNs\n",
    "\n",
    "    # Estimate robust median and std (initially)\n",
    "    median = np.median(flat_data)\n",
    "    mad = np.median(np.abs(flat_data - median))\n",
    "    # rough_std = 1.4826 * mad  # for Gaussian distributions\n",
    "    rough_std = mad  # for Gaussian distributions\n",
    "    # rough_std = np.nanstd(flat_data)\n",
    "    \n",
    "    # Clip only **positive** outliers (symmetric clipping would hurt)\n",
    "    clipped = flat_data[flat_data < median + clip_positive_sigma * rough_std]\n",
    "\n",
    "    # # Histogram the clipped data\n",
    "    # hist_vals, bin_edges = np.histogram(clipped, bins=bins, density=True)\n",
    "    # bin_centers = 0.5 * (bin_edges[1:] + bin_edges[:-1])\n",
    "\n",
    "    # # Fit Gaussian to the histogram\n",
    "    # popt, _ = norm.fit(clipped)\n",
    "    # mu, std = popt, clipped.std()\n",
    "\n",
    "    mu, std = np.mean(clipped), np.std(clipped)\n",
    "\n",
    "    # # Optional: plot histogram with Gaussian\n",
    "    # plt.hist(clipped, bins=bins, density=True, alpha=0.5, label='Clipped data')\n",
    "    # x_vals = np.linspace(mu - 5*std, mu + 5*std, 500)\n",
    "    # plt.plot(x_vals, norm.pdf(x_vals, mu, std), label='Gaussian fit')\n",
    "    # plt.legend()\n",
    "    # plt.title('Pixel Histogram and Gaussian Fit')\n",
    "    # plt.xlabel('Pixel Value (Jy/beam)')\n",
    "    # plt.show()\n",
    "\n",
    "    return std  # This is your background RMS\n",
    "\n",
    "# Usage:\n",
    "\n",
    "PCs = ['AAAA', 'BBBB', 'CCCC', 'DDDD', 'EEEE', 'FFFF', 'GGGG']\n",
    "\n",
    "for pc in PCs:\n",
    "    imagefits = f'/media/asif/4TBHDD/BAND2-all/GSB/FIELDS/Allfields_mosaic/{pc}/fits/{pc}.SP2B.RES.FITS'\n",
    "    image_data = fits.getdata(imagefits)\n",
    "    rms_fit = estimate_rms_gaussian_fit(image_data)\n",
    "    print(f\"Estimated background RMS (Gaussian fit): {1e3 * rms_fit:.3f} mJy/beam\")\n",
    "\n"
   ]
  },
  {
   "cell_type": "code",
   "execution_count": null,
   "id": "17d2a3c9-3deb-4f4a-9e4c-c237c22d9ecf",
   "metadata": {},
   "outputs": [],
   "source": []
  }
 ],
 "metadata": {
  "kernelspec": {
   "display_name": "Python 3 (ipykernel)",
   "language": "python",
   "name": "python3"
  },
  "language_info": {
   "codemirror_mode": {
    "name": "ipython",
    "version": 3
   },
   "file_extension": ".py",
   "mimetype": "text/x-python",
   "name": "python",
   "nbconvert_exporter": "python",
   "pygments_lexer": "ipython3",
   "version": "3.12.2"
  }
 },
 "nbformat": 4,
 "nbformat_minor": 5
}
