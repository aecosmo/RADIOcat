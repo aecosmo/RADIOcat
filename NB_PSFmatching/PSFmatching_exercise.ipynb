{
 "cells": [
  {
   "cell_type": "code",
   "execution_count": 1,
   "id": "3a8a3897-199e-4de1-b9d4-038ab58fdc26",
   "metadata": {},
   "outputs": [],
   "source": [
    "from astropy.io import fits\n",
    "import numpy as np\n",
    "import matplotlib.pyplot as plt\n",
    "import bdsf\n"
   ]
  },
  {
   "cell_type": "code",
   "execution_count": 2,
   "id": "9eecd8d0-8ed6-4000-a946-9a62f6bfba51",
   "metadata": {},
   "outputs": [
    {
     "name": "stderr",
     "output_type": "stream",
     "text": [
      "stty: 'standard input': Inappropriate ioctl for device\n",
      "stty: 'standard input': Inappropriate ioctl for device\n",
      "stty: 'standard input': Inappropriate ioctl for device\n",
      "stty: 'standard input': Inappropriate ioctl for device\n",
      "stty: 'standard input': Inappropriate ioctl for device\n"
     ]
    },
    {
     "name": "stdout",
     "output_type": "stream",
     "text": [
      "--> Wrote FITS file 'AAAA.SP2B.PBCOR.SMOOTH.pybdsf.srl.fits'\n"
     ]
    },
    {
     "name": "stderr",
     "output_type": "stream",
     "text": [
      "stty: 'standard input': Inappropriate ioctl for device\n",
      "stty: 'standard input': Inappropriate ioctl for device\n",
      "stty: 'standard input': Inappropriate ioctl for device\n",
      "stty: 'standard input': Inappropriate ioctl for device\n",
      "stty: 'standard input': Inappropriate ioctl for device\n"
     ]
    },
    {
     "name": "stdout",
     "output_type": "stream",
     "text": [
      "--> Wrote FITS file 'BBBB.SP2B.PBCOR.SMOOTH.pybdsf.srl.fits'\n"
     ]
    },
    {
     "name": "stderr",
     "output_type": "stream",
     "text": [
      "stty: 'standard input': Inappropriate ioctl for device\n",
      "stty: 'standard input': Inappropriate ioctl for device\n",
      "stty: 'standard input': Inappropriate ioctl for device\n",
      "stty: 'standard input': Inappropriate ioctl for device\n",
      "stty: 'standard input': Inappropriate ioctl for device\n"
     ]
    },
    {
     "name": "stdout",
     "output_type": "stream",
     "text": [
      "--> Wrote FITS file 'CCCC.SP2B.PBCOR.SMOOTH.pybdsf.srl.fits'\n"
     ]
    },
    {
     "name": "stderr",
     "output_type": "stream",
     "text": [
      "stty: 'standard input': Inappropriate ioctl for device\n",
      "stty: 'standard input': Inappropriate ioctl for device\n",
      "stty: 'standard input': Inappropriate ioctl for device\n",
      "stty: 'standard input': Inappropriate ioctl for device\n",
      "stty: 'standard input': Inappropriate ioctl for device\n"
     ]
    },
    {
     "name": "stdout",
     "output_type": "stream",
     "text": [
      "--> Wrote FITS file 'DDDD.SP2B.PBCOR.SMOOTH.pybdsf.srl.fits'\n"
     ]
    },
    {
     "name": "stderr",
     "output_type": "stream",
     "text": [
      "stty: 'standard input': Inappropriate ioctl for device\n",
      "stty: 'standard input': Inappropriate ioctl for device\n",
      "stty: 'standard input': Inappropriate ioctl for device\n",
      "stty: 'standard input': Inappropriate ioctl for device\n",
      "stty: 'standard input': Inappropriate ioctl for device\n"
     ]
    },
    {
     "name": "stdout",
     "output_type": "stream",
     "text": [
      "--> Wrote FITS file 'EEEE.SP2B.PBCOR.SMOOTH.pybdsf.srl.fits'\n"
     ]
    },
    {
     "name": "stderr",
     "output_type": "stream",
     "text": [
      "stty: 'standard input': Inappropriate ioctl for device\n",
      "stty: 'standard input': Inappropriate ioctl for device\n",
      "stty: 'standard input': Inappropriate ioctl for device\n",
      "stty: 'standard input': Inappropriate ioctl for device\n",
      "stty: 'standard input': Inappropriate ioctl for device\n"
     ]
    },
    {
     "name": "stdout",
     "output_type": "stream",
     "text": [
      "--> Wrote FITS file 'FFFF.SP2B.PBCOR.SMOOTH.pybdsf.srl.fits'\n"
     ]
    },
    {
     "name": "stderr",
     "output_type": "stream",
     "text": [
      "stty: 'standard input': Inappropriate ioctl for device\n",
      "stty: 'standard input': Inappropriate ioctl for device\n",
      "stty: 'standard input': Inappropriate ioctl for device\n",
      "stty: 'standard input': Inappropriate ioctl for device\n"
     ]
    },
    {
     "name": "stdout",
     "output_type": "stream",
     "text": [
      "--> Wrote FITS file 'GGGG.SP2B.PBCOR.SMOOTH.pybdsf.srl.fits'\n"
     ]
    },
    {
     "name": "stderr",
     "output_type": "stream",
     "text": [
      "stty: 'standard input': Inappropriate ioctl for device\n"
     ]
    }
   ],
   "source": [
    "input_images = [\n",
    "    \"../AAAA.SP2B.PBCOR.SMOOTH.FITS\",\n",
    "    \"../BBBB.SP2B.PBCOR.SMOOTH.FITS\",\n",
    "    \"../CCCC.SP2B.PBCOR.SMOOTH.FITS\",\n",
    "    \"../DDDD.SP2B.PBCOR.SMOOTH.FITS\",\n",
    "    \"../EEEE.SP2B.PBCOR.SMOOTH.FITS\",\n",
    "    \"../FFFF.SP2B.PBCOR.SMOOTH.FITS\",\n",
    "    \"../GGGG.SP2B.PBCOR.SMOOTH.FITS\"\n",
    "]\n",
    "\n",
    "for ii in range(len(input_images)): # \n",
    "    img = bdsf.process_image(input_images[ii], psf_vary_do = True, adaptive_rms_box = True, \n",
    "                             rms_box=(150, 30), rms_box_bright=(50, 10), clobber=True, quiet=True)\n",
    "    img.write_catalog(format='fits', catalog_type='srl', clobber=True)"
   ]
  },
  {
   "cell_type": "code",
   "execution_count": 3,
   "id": "9dc1018a-241b-48ba-878a-6de67fd7add1",
   "metadata": {},
   "outputs": [
    {
     "name": "stderr",
     "output_type": "stream",
     "text": [
      "stty: 'standard input': Inappropriate ioctl for device\n",
      "stty: 'standard input': Inappropriate ioctl for device\n",
      "stty: 'standard input': Inappropriate ioctl for device\n",
      "stty: 'standard input': Inappropriate ioctl for device\n",
      "stty: 'standard input': Inappropriate ioctl for device\n"
     ]
    },
    {
     "name": "stdout",
     "output_type": "stream",
     "text": [
      "--> Wrote FITS file 'AAAA.SP2B.PBCOR.pybdsf.srl.fits'\n"
     ]
    },
    {
     "name": "stderr",
     "output_type": "stream",
     "text": [
      "stty: 'standard input': Inappropriate ioctl for device\n",
      "stty: 'standard input': Inappropriate ioctl for device\n",
      "stty: 'standard input': Inappropriate ioctl for device\n",
      "\u001b[31;1mWARNING\u001b[0m: Insufficient number of tiles to do interpolation of PSF variation\n"
     ]
    },
    {
     "name": "stdout",
     "output_type": "stream",
     "text": [
      "--> Wrote FITS file 'BBBB.SP2B.PBCOR.pybdsf.srl.fits'\n"
     ]
    },
    {
     "name": "stderr",
     "output_type": "stream",
     "text": [
      "stty: 'standard input': Inappropriate ioctl for device\n",
      "stty: 'standard input': Inappropriate ioctl for device\n",
      "stty: 'standard input': Inappropriate ioctl for device\n",
      "stty: 'standard input': Inappropriate ioctl for device\n",
      "stty: 'standard input': Inappropriate ioctl for device\n"
     ]
    },
    {
     "name": "stdout",
     "output_type": "stream",
     "text": [
      "--> Wrote FITS file 'CCCC.SP2B.PBCOR.pybdsf.srl.fits'\n"
     ]
    },
    {
     "name": "stderr",
     "output_type": "stream",
     "text": [
      "stty: 'standard input': Inappropriate ioctl for device\n",
      "stty: 'standard input': Inappropriate ioctl for device\n",
      "stty: 'standard input': Inappropriate ioctl for device\n",
      "stty: 'standard input': Inappropriate ioctl for device\n",
      "stty: 'standard input': Inappropriate ioctl for device\n"
     ]
    },
    {
     "name": "stdout",
     "output_type": "stream",
     "text": [
      "--> Wrote FITS file 'DDDD.SP2B.PBCOR.pybdsf.srl.fits'\n"
     ]
    },
    {
     "name": "stderr",
     "output_type": "stream",
     "text": [
      "stty: 'standard input': Inappropriate ioctl for device\n",
      "stty: 'standard input': Inappropriate ioctl for device\n",
      "stty: 'standard input': Inappropriate ioctl for device\n",
      "stty: 'standard input': Inappropriate ioctl for device\n",
      "stty: 'standard input': Inappropriate ioctl for device\n"
     ]
    },
    {
     "name": "stdout",
     "output_type": "stream",
     "text": [
      "--> Wrote FITS file 'EEEE.SP2B.PBCOR.pybdsf.srl.fits'\n"
     ]
    },
    {
     "name": "stderr",
     "output_type": "stream",
     "text": [
      "stty: 'standard input': Inappropriate ioctl for device\n",
      "stty: 'standard input': Inappropriate ioctl for device\n",
      "stty: 'standard input': Inappropriate ioctl for device\n",
      "stty: 'standard input': Inappropriate ioctl for device\n",
      "stty: 'standard input': Inappropriate ioctl for device\n"
     ]
    },
    {
     "name": "stdout",
     "output_type": "stream",
     "text": [
      "--> Wrote FITS file 'FFFF.SP2B.PBCOR.pybdsf.srl.fits'\n"
     ]
    },
    {
     "name": "stderr",
     "output_type": "stream",
     "text": [
      "stty: 'standard input': Inappropriate ioctl for device\n",
      "stty: 'standard input': Inappropriate ioctl for device\n",
      "stty: 'standard input': Inappropriate ioctl for device\n",
      "stty: 'standard input': Inappropriate ioctl for device\n",
      "stty: 'standard input': Inappropriate ioctl for device\n"
     ]
    },
    {
     "name": "stdout",
     "output_type": "stream",
     "text": [
      "--> Wrote FITS file 'GGGG.SP2B.PBCOR.pybdsf.srl.fits'\n"
     ]
    }
   ],
   "source": [
    "input_images = [\n",
    "    \"../AAAA.SP2B.PBCOR.FITS\",\n",
    "    \"../BBBB.SP2B.PBCOR.FITS\",\n",
    "    \"../CCCC.SP2B.PBCOR.FITS\",\n",
    "    \"../DDDD.SP2B.PBCOR.FITS\",\n",
    "    \"../EEEE.SP2B.PBCOR.FITS\",\n",
    "    \"../FFFF.SP2B.PBCOR.FITS\",\n",
    "    \"../GGGG.SP2B.PBCOR.FITS\"\n",
    "]\n",
    "\n",
    "for ii in range(len(input_images)): # \n",
    "    img = bdsf.process_image(input_images[ii], psf_vary_do = True, adaptive_rms_box = True, \n",
    "                             rms_box=(150, 30), rms_box_bright=(50, 10), clobber=True, quiet=True)\n",
    "    img.write_catalog(format='fits', catalog_type='srl', clobber=True)"
   ]
  },
  {
   "cell_type": "code",
   "execution_count": null,
   "id": "af52c261-71a7-4a8a-8f43-bab9c1d66ba1",
   "metadata": {},
   "outputs": [],
   "source": [
    "# original catalog"
   ]
  },
  {
   "cell_type": "code",
   "execution_count": null,
   "id": "4b9885c4-c4b2-47a3-afb0-488a81c76542",
   "metadata": {},
   "outputs": [],
   "source": [
    "# smoothed catalog"
   ]
  },
  {
   "cell_type": "code",
   "execution_count": null,
   "id": "059b08ee-4455-46c6-b1a3-ab6e197ed2f8",
   "metadata": {},
   "outputs": [],
   "source": []
  },
  {
   "cell_type": "code",
   "execution_count": null,
   "id": "87458ae6-b65e-4136-9cb0-0e131372a6b0",
   "metadata": {},
   "outputs": [],
   "source": []
  },
  {
   "cell_type": "code",
   "execution_count": null,
   "id": "329f834d-43d8-4697-94a7-b1ffea72dd68",
   "metadata": {},
   "outputs": [],
   "source": []
  },
  {
   "cell_type": "code",
   "execution_count": null,
   "id": "a6b57f1c-89ba-4aa3-891c-d9ff966312c6",
   "metadata": {},
   "outputs": [],
   "source": []
  }
 ],
 "metadata": {
  "kernelspec": {
   "display_name": "Python 3 (ipykernel)",
   "language": "python",
   "name": "python3"
  },
  "language_info": {
   "codemirror_mode": {
    "name": "ipython",
    "version": 3
   },
   "file_extension": ".py",
   "mimetype": "text/x-python",
   "name": "python",
   "nbconvert_exporter": "python",
   "pygments_lexer": "ipython3",
   "version": "3.12.2"
  }
 },
 "nbformat": 4,
 "nbformat_minor": 5
}
