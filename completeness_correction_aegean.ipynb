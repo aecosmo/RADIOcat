{
 "cells": [
  {
   "cell_type": "code",
   "execution_count": 1,
   "id": "a7501c56-a252-4ced-8535-3c3b4a3fe13d",
   "metadata": {},
   "outputs": [],
   "source": [
    "#!/usr/bin/env python\n",
    "# coding: utf-8\n",
    "\n",
    "import numpy as np\n",
    "import pandas as pd\n",
    "import matplotlib.pyplot as plt\n",
    "from astropy.io import fits\n",
    "from astropy.wcs import WCS\n",
    "from astropy.table import Table\n",
    "from astropy.coordinates import SkyCoord, match_coordinates_sky\n",
    "from astropy import units as u\n",
    "import shutil\n",
    "import os\n",
    "import warnings\n",
    "import dnds_calculations as dnds\n",
    "\n",
    "\n",
    "# Suppress warnings\n",
    "warnings.filterwarnings(\"ignore\", category=UserWarning)\n"
   ]
  },
  {
   "cell_type": "code",
   "execution_count": 2,
   "id": "f0eaf77b-57fa-4ab7-ab17-72958e697740",
   "metadata": {},
   "outputs": [],
   "source": [
    "inputimage = \"final_mosaic.fits\"\n",
    "catalog = inputimage.replace('.fits', '.pybdsf.srl.fits')\n",
    "# dnds.run_pybdsf_residual(inputimage)\n",
    "residual_image = inputimage.replace('.fits', '.pybdsf_gaus_resid.fits') \n",
    "residual_image = 'gaus_resid.fits' \n",
    "modified_image = \"modified_residual.fits\"\n",
    "output_npz = 'completeness_corrections_aegean.npz'\n",
    "# output_npz = 'test.npz'\n",
    "\n",
    "# dnds.run_pybdsf_residual(inputimage)\n"
   ]
  },
  {
   "cell_type": "code",
   "execution_count": 3,
   "id": "5ad5e543-94cf-4d03-9ebe-dd1d49b37ea7",
   "metadata": {},
   "outputs": [],
   "source": [
    "# pybdsf on residual image. \n",
    "# dnds.run_pybdsf(residual_image)\n",
    "# with fits.open('AAAA.SP2B.PBCOR.pybdsf_gaus_resid.pybdsf.srl.fits') as hdul:\n",
    "#     orig_data = hdul[1].data\n",
    "# residual_fluxes = np.array(orig_data['Total_flux'])"
   ]
  },
  {
   "cell_type": "code",
   "execution_count": null,
   "id": "519c1092-45a7-453d-ab3e-e57f73ef3cdb",
   "metadata": {},
   "outputs": [],
   "source": []
  },
  {
   "cell_type": "code",
   "execution_count": 4,
   "id": "9f1f4249-7614-4324-b906-e5857946f6f6",
   "metadata": {},
   "outputs": [
    {
     "name": "stderr",
     "output_type": "stream",
     "text": [
      "WARNING: FITSFixedWarning: 'obsfix' made the change 'Set OBSGEO-L to    74.049972 from OBSGEO-[XYZ].\n",
      "Set OBSGEO-B to    19.090653 from OBSGEO-[XYZ].\n",
      "Set OBSGEO-H to      636.997 from OBSGEO-[XYZ]'. [astropy.wcs.wcs]\n"
     ]
    }
   ],
   "source": [
    "# --- Generate valid RA/Dec grid from residual image ---\n",
    "with fits.open(inputimage, mode='readonly') as hdu:\n",
    "    header = hdu[0].header\n",
    "    wcs = WCS(header, naxis=2)\n",
    "    data = hdu[0].data.astype(np.float64)\n",
    "\n",
    "if data.ndim == 4:\n",
    "    base_data = data[0, 0]\n",
    "elif data.ndim == 3:\n",
    "    base_data = data[0]\n",
    "elif data.ndim == 2:\n",
    "    base_data = data\n",
    "else:\n",
    "    raise ValueError(f\"Unexpected FITS dimensions: {data.shape}\")\n",
    "\n",
    "valid_pixels = np.argwhere(~np.isnan(base_data))\n",
    "valid_ra, valid_dec = wcs.all_pix2world(valid_pixels[:, 1], valid_pixels[:, 0], 0)\n",
    "\n",
    "# --- Read original fluxes to define bins ---\n",
    "with fits.open(catalog) as hdul:\n",
    "    orig_data = hdul[1].data\n",
    "original_fluxes = np.array(orig_data['Total_flux'])\n",
    "\n",
    "# Define flux range and bins\n",
    "# flux_min, flux_max = 0.01, 20  # Jy; adjust as needed\n",
    "flux_min, flux_max = original_fluxes.min(), original_fluxes.max()\n",
    "bins = 11\n",
    "# flux_bins = np.logspace(np.log10(flux_min), np.log10(flux_max), bins+1)\n",
    "# bin_centers = (flux_bins[:-1] + flux_bins[1:]) / 2\n",
    "flux_bins, bin_centers, counts, bin_edges, bin_widths = dnds.compute_histogram(original_fluxes, bins)\n",
    "\n",
    "\n",
    "# --- Simulation parameters ---\n",
    "NN = 100  # number of realizations\n",
    "seeds = np.random.RandomState(42).randint(1, 1000, size=NN)\n",
    "extended_fraction = 0.25\n",
    "\n",
    "# Placeholder arrays\n",
    "counts_recovered = np.zeros((NN, bins-1))\n",
    "counts_injected = np.zeros((NN, bins-1))\n",
    "# counts_injected = np.zeros(bins)\n",
    "\n"
   ]
  },
  {
   "cell_type": "code",
   "execution_count": 5,
   "id": "f1f7a26a-2aa1-4069-a6f3-73a0b6015838",
   "metadata": {
    "scrolled": true
   },
   "outputs": [
    {
     "name": "stdout",
     "output_type": "stream",
     "text": [
      "Iteration 1/100\n",
      "Generated 640 synthetic sources\n"
     ]
    },
    {
     "name": "stderr",
     "output_type": "stream",
     "text": [
      "3394540:INFO This is AeRes v0.2.7-(2020-07-30)\n",
      "3394540:INFO Using gaus_resid.fits and synthetic.vot to make modified_residual.fits\n",
      "3394540:INFO Reading file synthetic.vot\n",
      "3394540:INFO read 640 sources from synthetic.vot\n",
      "3394540:INFO modeled 640 sources\n",
      "3394540:INFO wrote residual to modified_residual.fits\n",
      "stty: 'standard input': Inappropriate ioctl for device\n",
      "stty: 'standard input': Inappropriate ioctl for device\n",
      "stty: 'standard input': Inappropriate ioctl for device\n",
      "stty: 'standard input': Inappropriate ioctl for device\n",
      "stty: 'standard input': Inappropriate ioctl for device\n"
     ]
    },
    {
     "name": "stdout",
     "output_type": "stream",
     "text": [
      "--> Wrote FITS file 'modified_residual.pybdsf.srl.fits'\n",
      "Iteration 2/100\n",
      "Generated 640 synthetic sources\n"
     ]
    },
    {
     "name": "stderr",
     "output_type": "stream",
     "text": [
      "3395725:INFO This is AeRes v0.2.7-(2020-07-30)\n",
      "3395725:INFO Using gaus_resid.fits and synthetic.vot to make modified_residual.fits\n",
      "3395725:INFO Reading file synthetic.vot\n",
      "3395725:INFO read 640 sources from synthetic.vot\n",
      "3395725:INFO modeled 640 sources\n",
      "3395725:INFO wrote residual to modified_residual.fits\n",
      "stty: 'standard input': Inappropriate ioctl for device\n",
      "stty: 'standard input': Inappropriate ioctl for device\n",
      "stty: 'standard input': Inappropriate ioctl for device\n",
      "stty: 'standard input': Inappropriate ioctl for device\n",
      "stty: 'standard input': Inappropriate ioctl for device\n"
     ]
    },
    {
     "name": "stdout",
     "output_type": "stream",
     "text": [
      "--> Wrote FITS file 'modified_residual.pybdsf.srl.fits'\n",
      "Iteration 3/100\n",
      "Generated 640 synthetic sources\n"
     ]
    },
    {
     "name": "stderr",
     "output_type": "stream",
     "text": [
      "3397210:INFO This is AeRes v0.2.7-(2020-07-30)\n",
      "3397210:INFO Using gaus_resid.fits and synthetic.vot to make modified_residual.fits\n",
      "3397210:INFO Reading file synthetic.vot\n",
      "3397210:INFO read 640 sources from synthetic.vot\n",
      "3397210:INFO modeled 640 sources\n",
      "3397210:INFO wrote residual to modified_residual.fits\n",
      "stty: 'standard input': Inappropriate ioctl for device\n",
      "stty: 'standard input': Inappropriate ioctl for device\n",
      "stty: 'standard input': Inappropriate ioctl for device\n",
      "stty: 'standard input': Inappropriate ioctl for device\n",
      "stty: 'standard input': Inappropriate ioctl for device\n"
     ]
    },
    {
     "name": "stdout",
     "output_type": "stream",
     "text": [
      "--> Wrote FITS file 'modified_residual.pybdsf.srl.fits'\n",
      "Iteration 4/100\n",
      "Generated 640 synthetic sources\n"
     ]
    },
    {
     "name": "stderr",
     "output_type": "stream",
     "text": [
      "3398392:INFO This is AeRes v0.2.7-(2020-07-30)\n",
      "3398392:INFO Using gaus_resid.fits and synthetic.vot to make modified_residual.fits\n",
      "3398392:INFO Reading file synthetic.vot\n",
      "3398392:INFO read 640 sources from synthetic.vot\n",
      "3398392:INFO modeled 640 sources\n",
      "3398392:INFO wrote residual to modified_residual.fits\n",
      "stty: 'standard input': Inappropriate ioctl for device\n",
      "stty: 'standard input': Inappropriate ioctl for device\n",
      "stty: 'standard input': Inappropriate ioctl for device\n",
      "stty: 'standard input': Inappropriate ioctl for device\n",
      "stty: 'standard input': Inappropriate ioctl for device\n"
     ]
    },
    {
     "name": "stdout",
     "output_type": "stream",
     "text": [
      "--> Wrote FITS file 'modified_residual.pybdsf.srl.fits'\n",
      "Iteration 5/100\n",
      "Generated 640 synthetic sources\n"
     ]
    },
    {
     "name": "stderr",
     "output_type": "stream",
     "text": [
      "3399905:INFO This is AeRes v0.2.7-(2020-07-30)\n",
      "3399905:INFO Using gaus_resid.fits and synthetic.vot to make modified_residual.fits\n",
      "3399905:INFO Reading file synthetic.vot\n",
      "3399905:INFO read 640 sources from synthetic.vot\n",
      "3399905:INFO modeled 640 sources\n",
      "3399905:INFO wrote residual to modified_residual.fits\n",
      "stty: 'standard input': Inappropriate ioctl for device\n",
      "stty: 'standard input': Inappropriate ioctl for device\n",
      "stty: 'standard input': Inappropriate ioctl for device\n",
      "stty: 'standard input': Inappropriate ioctl for device\n",
      "stty: 'standard input': Inappropriate ioctl for device\n"
     ]
    },
    {
     "name": "stdout",
     "output_type": "stream",
     "text": [
      "--> Wrote FITS file 'modified_residual.pybdsf.srl.fits'\n",
      "Iteration 6/100\n",
      "Generated 640 synthetic sources\n"
     ]
    },
    {
     "name": "stderr",
     "output_type": "stream",
     "text": [
      "3401118:INFO This is AeRes v0.2.7-(2020-07-30)\n",
      "3401118:INFO Using gaus_resid.fits and synthetic.vot to make modified_residual.fits\n",
      "3401118:INFO Reading file synthetic.vot\n",
      "3401118:INFO read 640 sources from synthetic.vot\n",
      "3401118:INFO modeled 640 sources\n",
      "3401118:INFO wrote residual to modified_residual.fits\n",
      "stty: 'standard input': Inappropriate ioctl for device\n",
      "stty: 'standard input': Inappropriate ioctl for device\n",
      "stty: 'standard input': Inappropriate ioctl for device\n",
      "stty: 'standard input': Inappropriate ioctl for device\n",
      "stty: 'standard input': Inappropriate ioctl for device\n"
     ]
    },
    {
     "name": "stdout",
     "output_type": "stream",
     "text": [
      "--> Wrote FITS file 'modified_residual.pybdsf.srl.fits'\n",
      "Iteration 7/100\n",
      "Generated 640 synthetic sources\n"
     ]
    },
    {
     "name": "stderr",
     "output_type": "stream",
     "text": [
      "3402298:INFO This is AeRes v0.2.7-(2020-07-30)\n",
      "3402298:INFO Using gaus_resid.fits and synthetic.vot to make modified_residual.fits\n",
      "3402298:INFO Reading file synthetic.vot\n",
      "3402298:INFO read 640 sources from synthetic.vot\n",
      "3402298:INFO modeled 640 sources\n",
      "3402298:INFO wrote residual to modified_residual.fits\n",
      "stty: 'standard input': Inappropriate ioctl for device\n",
      "stty: 'standard input': Inappropriate ioctl for device\n",
      "stty: 'standard input': Inappropriate ioctl for device\n",
      "stty: 'standard input': Inappropriate ioctl for device\n",
      "stty: 'standard input': Inappropriate ioctl for device\n"
     ]
    },
    {
     "name": "stdout",
     "output_type": "stream",
     "text": [
      "--> Wrote FITS file 'modified_residual.pybdsf.srl.fits'\n",
      "Iteration 8/100\n",
      "Generated 640 synthetic sources\n"
     ]
    },
    {
     "name": "stderr",
     "output_type": "stream",
     "text": [
      "3403441:INFO This is AeRes v0.2.7-(2020-07-30)\n",
      "3403441:INFO Using gaus_resid.fits and synthetic.vot to make modified_residual.fits\n",
      "3403441:INFO Reading file synthetic.vot\n",
      "3403441:INFO read 640 sources from synthetic.vot\n",
      "3403441:INFO modeled 640 sources\n",
      "3403441:INFO wrote residual to modified_residual.fits\n",
      "stty: 'standard input': Inappropriate ioctl for device\n",
      "stty: 'standard input': Inappropriate ioctl for device\n",
      "stty: 'standard input': Inappropriate ioctl for device\n",
      "stty: 'standard input': Inappropriate ioctl for device\n",
      "stty: 'standard input': Inappropriate ioctl for device\n"
     ]
    },
    {
     "name": "stdout",
     "output_type": "stream",
     "text": [
      "--> Wrote FITS file 'modified_residual.pybdsf.srl.fits'\n",
      "Iteration 9/100\n",
      "Generated 640 synthetic sources\n"
     ]
    },
    {
     "name": "stderr",
     "output_type": "stream",
     "text": [
      "3404590:INFO This is AeRes v0.2.7-(2020-07-30)\n",
      "3404590:INFO Using gaus_resid.fits and synthetic.vot to make modified_residual.fits\n",
      "3404590:INFO Reading file synthetic.vot\n",
      "3404590:INFO read 640 sources from synthetic.vot\n",
      "3404590:INFO modeled 640 sources\n",
      "3404590:INFO wrote residual to modified_residual.fits\n",
      "stty: 'standard input': Inappropriate ioctl for device\n",
      "stty: 'standard input': Inappropriate ioctl for device\n",
      "stty: 'standard input': Inappropriate ioctl for device\n",
      "stty: 'standard input': Inappropriate ioctl for device\n",
      "stty: 'standard input': Inappropriate ioctl for device\n"
     ]
    },
    {
     "name": "stdout",
     "output_type": "stream",
     "text": [
      "--> Wrote FITS file 'modified_residual.pybdsf.srl.fits'\n",
      "Iteration 10/100\n",
      "Generated 640 synthetic sources\n"
     ]
    },
    {
     "name": "stderr",
     "output_type": "stream",
     "text": [
      "3405738:INFO This is AeRes v0.2.7-(2020-07-30)\n",
      "3405738:INFO Using gaus_resid.fits and synthetic.vot to make modified_residual.fits\n",
      "3405738:INFO Reading file synthetic.vot\n",
      "3405738:INFO read 640 sources from synthetic.vot\n",
      "3405738:INFO modeled 640 sources\n",
      "3405738:INFO wrote residual to modified_residual.fits\n",
      "stty: 'standard input': Inappropriate ioctl for device\n",
      "stty: 'standard input': Inappropriate ioctl for device\n",
      "stty: 'standard input': Inappropriate ioctl for device\n",
      "stty: 'standard input': Inappropriate ioctl for device\n",
      "stty: 'standard input': Inappropriate ioctl for device\n"
     ]
    },
    {
     "name": "stdout",
     "output_type": "stream",
     "text": [
      "--> Wrote FITS file 'modified_residual.pybdsf.srl.fits'\n",
      "Iteration 11/100\n",
      "Generated 640 synthetic sources\n"
     ]
    },
    {
     "name": "stderr",
     "output_type": "stream",
     "text": [
      "3406883:INFO This is AeRes v0.2.7-(2020-07-30)\n",
      "3406883:INFO Using gaus_resid.fits and synthetic.vot to make modified_residual.fits\n",
      "3406883:INFO Reading file synthetic.vot\n",
      "3406883:INFO read 640 sources from synthetic.vot\n",
      "3406883:INFO modeled 640 sources\n",
      "3406883:INFO wrote residual to modified_residual.fits\n",
      "stty: 'standard input': Inappropriate ioctl for device\n",
      "stty: 'standard input': Inappropriate ioctl for device\n",
      "stty: 'standard input': Inappropriate ioctl for device\n",
      "stty: 'standard input': Inappropriate ioctl for device\n",
      "stty: 'standard input': Inappropriate ioctl for device\n"
     ]
    },
    {
     "name": "stdout",
     "output_type": "stream",
     "text": [
      "--> Wrote FITS file 'modified_residual.pybdsf.srl.fits'\n",
      "Iteration 12/100\n",
      "Generated 640 synthetic sources\n"
     ]
    },
    {
     "name": "stderr",
     "output_type": "stream",
     "text": [
      "3408033:INFO This is AeRes v0.2.7-(2020-07-30)\n",
      "3408033:INFO Using gaus_resid.fits and synthetic.vot to make modified_residual.fits\n",
      "3408033:INFO Reading file synthetic.vot\n",
      "3408033:INFO read 640 sources from synthetic.vot\n",
      "3408033:INFO modeled 640 sources\n",
      "3408033:INFO wrote residual to modified_residual.fits\n",
      "stty: 'standard input': Inappropriate ioctl for device\n",
      "stty: 'standard input': Inappropriate ioctl for device\n",
      "stty: 'standard input': Inappropriate ioctl for device\n",
      "stty: 'standard input': Inappropriate ioctl for device\n",
      "stty: 'standard input': Inappropriate ioctl for device\n"
     ]
    },
    {
     "name": "stdout",
     "output_type": "stream",
     "text": [
      "--> Wrote FITS file 'modified_residual.pybdsf.srl.fits'\n",
      "Iteration 13/100\n",
      "Generated 640 synthetic sources\n"
     ]
    },
    {
     "name": "stderr",
     "output_type": "stream",
     "text": [
      "3409277:INFO This is AeRes v0.2.7-(2020-07-30)\n",
      "3409277:INFO Using gaus_resid.fits and synthetic.vot to make modified_residual.fits\n",
      "3409277:INFO Reading file synthetic.vot\n",
      "3409277:INFO read 640 sources from synthetic.vot\n",
      "3409277:INFO modeled 640 sources\n",
      "3409277:INFO wrote residual to modified_residual.fits\n",
      "stty: 'standard input': Inappropriate ioctl for device\n",
      "stty: 'standard input': Inappropriate ioctl for device\n",
      "stty: 'standard input': Inappropriate ioctl for device\n",
      "stty: 'standard input': Inappropriate ioctl for device\n",
      "stty: 'standard input': Inappropriate ioctl for device\n"
     ]
    },
    {
     "name": "stdout",
     "output_type": "stream",
     "text": [
      "--> Wrote FITS file 'modified_residual.pybdsf.srl.fits'\n",
      "Iteration 14/100\n",
      "Generated 640 synthetic sources\n"
     ]
    },
    {
     "name": "stderr",
     "output_type": "stream",
     "text": [
      "3410484:INFO This is AeRes v0.2.7-(2020-07-30)\n",
      "3410484:INFO Using gaus_resid.fits and synthetic.vot to make modified_residual.fits\n",
      "3410484:INFO Reading file synthetic.vot\n",
      "3410484:INFO read 640 sources from synthetic.vot\n",
      "3410484:INFO modeled 640 sources\n",
      "3410484:INFO wrote residual to modified_residual.fits\n",
      "stty: 'standard input': Inappropriate ioctl for device\n",
      "stty: 'standard input': Inappropriate ioctl for device\n",
      "stty: 'standard input': Inappropriate ioctl for device\n",
      "stty: 'standard input': Inappropriate ioctl for device\n",
      "stty: 'standard input': Inappropriate ioctl for device\n"
     ]
    },
    {
     "name": "stdout",
     "output_type": "stream",
     "text": [
      "--> Wrote FITS file 'modified_residual.pybdsf.srl.fits'\n",
      "Iteration 15/100\n",
      "Generated 640 synthetic sources\n"
     ]
    },
    {
     "name": "stderr",
     "output_type": "stream",
     "text": [
      "3411645:INFO This is AeRes v0.2.7-(2020-07-30)\n",
      "3411645:INFO Using gaus_resid.fits and synthetic.vot to make modified_residual.fits\n",
      "3411645:INFO Reading file synthetic.vot\n",
      "3411645:INFO read 640 sources from synthetic.vot\n",
      "3411645:INFO modeled 640 sources\n",
      "3411645:INFO wrote residual to modified_residual.fits\n",
      "stty: 'standard input': Inappropriate ioctl for device\n",
      "stty: 'standard input': Inappropriate ioctl for device\n",
      "stty: 'standard input': Inappropriate ioctl for device\n",
      "stty: 'standard input': Inappropriate ioctl for device\n",
      "stty: 'standard input': Inappropriate ioctl for device\n"
     ]
    },
    {
     "name": "stdout",
     "output_type": "stream",
     "text": [
      "--> Wrote FITS file 'modified_residual.pybdsf.srl.fits'\n",
      "Iteration 16/100\n",
      "Generated 640 synthetic sources\n"
     ]
    },
    {
     "name": "stderr",
     "output_type": "stream",
     "text": [
      "3412790:INFO This is AeRes v0.2.7-(2020-07-30)\n",
      "3412790:INFO Using gaus_resid.fits and synthetic.vot to make modified_residual.fits\n",
      "3412790:INFO Reading file synthetic.vot\n",
      "3412790:INFO read 640 sources from synthetic.vot\n",
      "3412790:INFO modeled 640 sources\n",
      "3412790:INFO wrote residual to modified_residual.fits\n",
      "stty: 'standard input': Inappropriate ioctl for device\n",
      "stty: 'standard input': Inappropriate ioctl for device\n",
      "stty: 'standard input': Inappropriate ioctl for device\n",
      "stty: 'standard input': Inappropriate ioctl for device\n",
      "stty: 'standard input': Inappropriate ioctl for device\n"
     ]
    },
    {
     "name": "stdout",
     "output_type": "stream",
     "text": [
      "--> Wrote FITS file 'modified_residual.pybdsf.srl.fits'\n",
      "Iteration 17/100\n",
      "Generated 640 synthetic sources\n"
     ]
    },
    {
     "name": "stderr",
     "output_type": "stream",
     "text": [
      "3413936:INFO This is AeRes v0.2.7-(2020-07-30)\n",
      "3413936:INFO Using gaus_resid.fits and synthetic.vot to make modified_residual.fits\n",
      "3413936:INFO Reading file synthetic.vot\n",
      "3413936:INFO read 640 sources from synthetic.vot\n",
      "3413936:INFO modeled 640 sources\n",
      "3413936:INFO wrote residual to modified_residual.fits\n",
      "stty: 'standard input': Inappropriate ioctl for device\n",
      "stty: 'standard input': Inappropriate ioctl for device\n",
      "stty: 'standard input': Inappropriate ioctl for device\n",
      "stty: 'standard input': Inappropriate ioctl for device\n",
      "stty: 'standard input': Inappropriate ioctl for device\n"
     ]
    },
    {
     "name": "stdout",
     "output_type": "stream",
     "text": [
      "--> Wrote FITS file 'modified_residual.pybdsf.srl.fits'\n",
      "Iteration 18/100\n",
      "Generated 640 synthetic sources\n"
     ]
    },
    {
     "name": "stderr",
     "output_type": "stream",
     "text": [
      "3415087:INFO This is AeRes v0.2.7-(2020-07-30)\n",
      "3415087:INFO Using gaus_resid.fits and synthetic.vot to make modified_residual.fits\n",
      "3415087:INFO Reading file synthetic.vot\n",
      "3415087:INFO read 640 sources from synthetic.vot\n",
      "3415087:INFO modeled 640 sources\n",
      "3415087:INFO wrote residual to modified_residual.fits\n",
      "stty: 'standard input': Inappropriate ioctl for device\n",
      "stty: 'standard input': Inappropriate ioctl for device\n",
      "stty: 'standard input': Inappropriate ioctl for device\n",
      "stty: 'standard input': Inappropriate ioctl for device\n",
      "stty: 'standard input': Inappropriate ioctl for device\n"
     ]
    },
    {
     "name": "stdout",
     "output_type": "stream",
     "text": [
      "--> Wrote FITS file 'modified_residual.pybdsf.srl.fits'\n",
      "Iteration 19/100\n",
      "Generated 640 synthetic sources\n"
     ]
    },
    {
     "name": "stderr",
     "output_type": "stream",
     "text": [
      "3416244:INFO This is AeRes v0.2.7-(2020-07-30)\n",
      "3416244:INFO Using gaus_resid.fits and synthetic.vot to make modified_residual.fits\n",
      "3416244:INFO Reading file synthetic.vot\n",
      "3416244:INFO read 640 sources from synthetic.vot\n",
      "3416244:INFO modeled 640 sources\n",
      "3416244:INFO wrote residual to modified_residual.fits\n",
      "stty: 'standard input': Inappropriate ioctl for device\n",
      "stty: 'standard input': Inappropriate ioctl for device\n",
      "stty: 'standard input': Inappropriate ioctl for device\n",
      "stty: 'standard input': Inappropriate ioctl for device\n",
      "stty: 'standard input': Inappropriate ioctl for device\n"
     ]
    },
    {
     "name": "stdout",
     "output_type": "stream",
     "text": [
      "--> Wrote FITS file 'modified_residual.pybdsf.srl.fits'\n",
      "Iteration 20/100\n",
      "Generated 640 synthetic sources\n"
     ]
    },
    {
     "name": "stderr",
     "output_type": "stream",
     "text": [
      "3417396:INFO This is AeRes v0.2.7-(2020-07-30)\n",
      "3417396:INFO Using gaus_resid.fits and synthetic.vot to make modified_residual.fits\n",
      "3417396:INFO Reading file synthetic.vot\n",
      "3417396:INFO read 640 sources from synthetic.vot\n",
      "3417396:INFO modeled 640 sources\n",
      "3417396:INFO wrote residual to modified_residual.fits\n",
      "stty: 'standard input': Inappropriate ioctl for device\n",
      "stty: 'standard input': Inappropriate ioctl for device\n",
      "stty: 'standard input': Inappropriate ioctl for device\n",
      "stty: 'standard input': Inappropriate ioctl for device\n",
      "stty: 'standard input': Inappropriate ioctl for device\n"
     ]
    },
    {
     "name": "stdout",
     "output_type": "stream",
     "text": [
      "--> Wrote FITS file 'modified_residual.pybdsf.srl.fits'\n",
      "Iteration 21/100\n",
      "Generated 640 synthetic sources\n"
     ]
    },
    {
     "name": "stderr",
     "output_type": "stream",
     "text": [
      "3418550:INFO This is AeRes v0.2.7-(2020-07-30)\n",
      "3418550:INFO Using gaus_resid.fits and synthetic.vot to make modified_residual.fits\n",
      "3418550:INFO Reading file synthetic.vot\n",
      "3418550:INFO read 640 sources from synthetic.vot\n",
      "3418550:INFO modeled 640 sources\n",
      "3418550:INFO wrote residual to modified_residual.fits\n",
      "stty: 'standard input': Inappropriate ioctl for device\n",
      "stty: 'standard input': Inappropriate ioctl for device\n",
      "stty: 'standard input': Inappropriate ioctl for device\n",
      "stty: 'standard input': Inappropriate ioctl for device\n",
      "stty: 'standard input': Inappropriate ioctl for device\n"
     ]
    },
    {
     "name": "stdout",
     "output_type": "stream",
     "text": [
      "--> Wrote FITS file 'modified_residual.pybdsf.srl.fits'\n",
      "Iteration 22/100\n",
      "Generated 640 synthetic sources\n"
     ]
    },
    {
     "name": "stderr",
     "output_type": "stream",
     "text": [
      "3419721:INFO This is AeRes v0.2.7-(2020-07-30)\n",
      "3419721:INFO Using gaus_resid.fits and synthetic.vot to make modified_residual.fits\n",
      "3419721:INFO Reading file synthetic.vot\n",
      "3419721:INFO read 640 sources from synthetic.vot\n",
      "3419721:INFO modeled 640 sources\n",
      "3419721:INFO wrote residual to modified_residual.fits\n",
      "stty: 'standard input': Inappropriate ioctl for device\n",
      "stty: 'standard input': Inappropriate ioctl for device\n",
      "stty: 'standard input': Inappropriate ioctl for device\n",
      "stty: 'standard input': Inappropriate ioctl for device\n",
      "stty: 'standard input': Inappropriate ioctl for device\n"
     ]
    },
    {
     "name": "stdout",
     "output_type": "stream",
     "text": [
      "--> Wrote FITS file 'modified_residual.pybdsf.srl.fits'\n",
      "Iteration 23/100\n",
      "Generated 640 synthetic sources\n"
     ]
    },
    {
     "name": "stderr",
     "output_type": "stream",
     "text": [
      "3420914:INFO This is AeRes v0.2.7-(2020-07-30)\n",
      "3420914:INFO Using gaus_resid.fits and synthetic.vot to make modified_residual.fits\n",
      "3420914:INFO Reading file synthetic.vot\n",
      "3420914:INFO read 640 sources from synthetic.vot\n",
      "3420914:INFO modeled 640 sources\n",
      "3420914:INFO wrote residual to modified_residual.fits\n",
      "stty: 'standard input': Inappropriate ioctl for device\n",
      "stty: 'standard input': Inappropriate ioctl for device\n",
      "stty: 'standard input': Inappropriate ioctl for device\n",
      "stty: 'standard input': Inappropriate ioctl for device\n",
      "stty: 'standard input': Inappropriate ioctl for device\n"
     ]
    },
    {
     "name": "stdout",
     "output_type": "stream",
     "text": [
      "--> Wrote FITS file 'modified_residual.pybdsf.srl.fits'\n",
      "Iteration 24/100\n",
      "Generated 640 synthetic sources\n"
     ]
    },
    {
     "name": "stderr",
     "output_type": "stream",
     "text": [
      "3422126:INFO This is AeRes v0.2.7-(2020-07-30)\n",
      "3422126:INFO Using gaus_resid.fits and synthetic.vot to make modified_residual.fits\n",
      "3422126:INFO Reading file synthetic.vot\n",
      "3422126:INFO read 640 sources from synthetic.vot\n",
      "3422126:INFO modeled 640 sources\n",
      "3422126:INFO wrote residual to modified_residual.fits\n",
      "stty: 'standard input': Inappropriate ioctl for device\n",
      "stty: 'standard input': Inappropriate ioctl for device\n",
      "stty: 'standard input': Inappropriate ioctl for device\n",
      "stty: 'standard input': Inappropriate ioctl for device\n",
      "stty: 'standard input': Inappropriate ioctl for device\n"
     ]
    },
    {
     "name": "stdout",
     "output_type": "stream",
     "text": [
      "--> Wrote FITS file 'modified_residual.pybdsf.srl.fits'\n",
      "Iteration 25/100\n",
      "Generated 640 synthetic sources\n"
     ]
    },
    {
     "name": "stderr",
     "output_type": "stream",
     "text": [
      "3423278:INFO This is AeRes v0.2.7-(2020-07-30)\n",
      "3423278:INFO Using gaus_resid.fits and synthetic.vot to make modified_residual.fits\n",
      "3423278:INFO Reading file synthetic.vot\n",
      "3423278:INFO read 640 sources from synthetic.vot\n",
      "3423278:INFO modeled 640 sources\n",
      "3423278:INFO wrote residual to modified_residual.fits\n",
      "stty: 'standard input': Inappropriate ioctl for device\n",
      "stty: 'standard input': Inappropriate ioctl for device\n",
      "stty: 'standard input': Inappropriate ioctl for device\n",
      "stty: 'standard input': Inappropriate ioctl for device\n",
      "stty: 'standard input': Inappropriate ioctl for device\n"
     ]
    },
    {
     "name": "stdout",
     "output_type": "stream",
     "text": [
      "--> Wrote FITS file 'modified_residual.pybdsf.srl.fits'\n",
      "Iteration 26/100\n",
      "Generated 640 synthetic sources\n"
     ]
    },
    {
     "name": "stderr",
     "output_type": "stream",
     "text": [
      "3424429:INFO This is AeRes v0.2.7-(2020-07-30)\n",
      "3424429:INFO Using gaus_resid.fits and synthetic.vot to make modified_residual.fits\n",
      "3424429:INFO Reading file synthetic.vot\n",
      "3424429:INFO read 640 sources from synthetic.vot\n",
      "3424429:INFO modeled 640 sources\n",
      "3424429:INFO wrote residual to modified_residual.fits\n",
      "stty: 'standard input': Inappropriate ioctl for device\n",
      "stty: 'standard input': Inappropriate ioctl for device\n",
      "stty: 'standard input': Inappropriate ioctl for device\n",
      "stty: 'standard input': Inappropriate ioctl for device\n",
      "stty: 'standard input': Inappropriate ioctl for device\n"
     ]
    },
    {
     "name": "stdout",
     "output_type": "stream",
     "text": [
      "--> Wrote FITS file 'modified_residual.pybdsf.srl.fits'\n",
      "Iteration 27/100\n",
      "Generated 640 synthetic sources\n"
     ]
    },
    {
     "name": "stderr",
     "output_type": "stream",
     "text": [
      "3425579:INFO This is AeRes v0.2.7-(2020-07-30)\n",
      "3425579:INFO Using gaus_resid.fits and synthetic.vot to make modified_residual.fits\n",
      "3425579:INFO Reading file synthetic.vot\n",
      "3425579:INFO read 640 sources from synthetic.vot\n",
      "3425579:INFO modeled 640 sources\n",
      "3425579:INFO wrote residual to modified_residual.fits\n",
      "stty: 'standard input': Inappropriate ioctl for device\n",
      "stty: 'standard input': Inappropriate ioctl for device\n",
      "stty: 'standard input': Inappropriate ioctl for device\n",
      "stty: 'standard input': Inappropriate ioctl for device\n",
      "stty: 'standard input': Inappropriate ioctl for device\n"
     ]
    },
    {
     "name": "stdout",
     "output_type": "stream",
     "text": [
      "--> Wrote FITS file 'modified_residual.pybdsf.srl.fits'\n",
      "Iteration 28/100\n",
      "Generated 640 synthetic sources\n"
     ]
    },
    {
     "name": "stderr",
     "output_type": "stream",
     "text": [
      "3426762:INFO This is AeRes v0.2.7-(2020-07-30)\n",
      "3426762:INFO Using gaus_resid.fits and synthetic.vot to make modified_residual.fits\n",
      "3426762:INFO Reading file synthetic.vot\n",
      "3426762:INFO read 640 sources from synthetic.vot\n",
      "3426762:INFO modeled 640 sources\n",
      "3426762:INFO wrote residual to modified_residual.fits\n",
      "stty: 'standard input': Inappropriate ioctl for device\n",
      "stty: 'standard input': Inappropriate ioctl for device\n",
      "stty: 'standard input': Inappropriate ioctl for device\n",
      "stty: 'standard input': Inappropriate ioctl for device\n",
      "stty: 'standard input': Inappropriate ioctl for device\n"
     ]
    },
    {
     "name": "stdout",
     "output_type": "stream",
     "text": [
      "--> Wrote FITS file 'modified_residual.pybdsf.srl.fits'\n",
      "Iteration 29/100\n",
      "Generated 640 synthetic sources\n"
     ]
    },
    {
     "name": "stderr",
     "output_type": "stream",
     "text": [
      "3427961:INFO This is AeRes v0.2.7-(2020-07-30)\n",
      "3427961:INFO Using gaus_resid.fits and synthetic.vot to make modified_residual.fits\n",
      "3427961:INFO Reading file synthetic.vot\n",
      "3427961:INFO read 640 sources from synthetic.vot\n",
      "3427961:INFO modeled 640 sources\n",
      "3427961:INFO wrote residual to modified_residual.fits\n",
      "stty: 'standard input': Inappropriate ioctl for device\n",
      "stty: 'standard input': Inappropriate ioctl for device\n",
      "stty: 'standard input': Inappropriate ioctl for device\n",
      "stty: 'standard input': Inappropriate ioctl for device\n",
      "stty: 'standard input': Inappropriate ioctl for device\n"
     ]
    },
    {
     "name": "stdout",
     "output_type": "stream",
     "text": [
      "--> Wrote FITS file 'modified_residual.pybdsf.srl.fits'\n",
      "Iteration 30/100\n",
      "Generated 640 synthetic sources\n"
     ]
    },
    {
     "name": "stderr",
     "output_type": "stream",
     "text": [
      "3429111:INFO This is AeRes v0.2.7-(2020-07-30)\n",
      "3429111:INFO Using gaus_resid.fits and synthetic.vot to make modified_residual.fits\n",
      "3429111:INFO Reading file synthetic.vot\n",
      "3429111:INFO read 640 sources from synthetic.vot\n",
      "3429111:INFO modeled 640 sources\n",
      "3429111:INFO wrote residual to modified_residual.fits\n",
      "stty: 'standard input': Inappropriate ioctl for device\n",
      "stty: 'standard input': Inappropriate ioctl for device\n",
      "stty: 'standard input': Inappropriate ioctl for device\n",
      "stty: 'standard input': Inappropriate ioctl for device\n",
      "stty: 'standard input': Inappropriate ioctl for device\n"
     ]
    },
    {
     "name": "stdout",
     "output_type": "stream",
     "text": [
      "--> Wrote FITS file 'modified_residual.pybdsf.srl.fits'\n",
      "Iteration 31/100\n",
      "Generated 640 synthetic sources\n"
     ]
    },
    {
     "name": "stderr",
     "output_type": "stream",
     "text": [
      "3430293:INFO This is AeRes v0.2.7-(2020-07-30)\n",
      "3430293:INFO Using gaus_resid.fits and synthetic.vot to make modified_residual.fits\n",
      "3430293:INFO Reading file synthetic.vot\n",
      "3430293:INFO read 640 sources from synthetic.vot\n",
      "3430293:INFO modeled 640 sources\n",
      "3430293:INFO wrote residual to modified_residual.fits\n",
      "stty: 'standard input': Inappropriate ioctl for device\n",
      "stty: 'standard input': Inappropriate ioctl for device\n",
      "stty: 'standard input': Inappropriate ioctl for device\n",
      "stty: 'standard input': Inappropriate ioctl for device\n",
      "stty: 'standard input': Inappropriate ioctl for device\n"
     ]
    },
    {
     "name": "stdout",
     "output_type": "stream",
     "text": [
      "--> Wrote FITS file 'modified_residual.pybdsf.srl.fits'\n",
      "Iteration 32/100\n",
      "Generated 640 synthetic sources\n"
     ]
    },
    {
     "name": "stderr",
     "output_type": "stream",
     "text": [
      "3431464:INFO This is AeRes v0.2.7-(2020-07-30)\n",
      "3431464:INFO Using gaus_resid.fits and synthetic.vot to make modified_residual.fits\n",
      "3431464:INFO Reading file synthetic.vot\n",
      "3431464:INFO read 640 sources from synthetic.vot\n",
      "3431464:INFO modeled 640 sources\n",
      "3431464:INFO wrote residual to modified_residual.fits\n",
      "stty: 'standard input': Inappropriate ioctl for device\n",
      "stty: 'standard input': Inappropriate ioctl for device\n",
      "stty: 'standard input': Inappropriate ioctl for device\n",
      "stty: 'standard input': Inappropriate ioctl for device\n",
      "stty: 'standard input': Inappropriate ioctl for device\n"
     ]
    },
    {
     "name": "stdout",
     "output_type": "stream",
     "text": [
      "--> Wrote FITS file 'modified_residual.pybdsf.srl.fits'\n",
      "Iteration 33/100\n",
      "Generated 640 synthetic sources\n"
     ]
    },
    {
     "name": "stderr",
     "output_type": "stream",
     "text": [
      "3432618:INFO This is AeRes v0.2.7-(2020-07-30)\n",
      "3432618:INFO Using gaus_resid.fits and synthetic.vot to make modified_residual.fits\n",
      "3432618:INFO Reading file synthetic.vot\n",
      "3432618:INFO read 640 sources from synthetic.vot\n",
      "3432618:INFO modeled 640 sources\n",
      "3432618:INFO wrote residual to modified_residual.fits\n",
      "stty: 'standard input': Inappropriate ioctl for device\n",
      "stty: 'standard input': Inappropriate ioctl for device\n",
      "stty: 'standard input': Inappropriate ioctl for device\n",
      "stty: 'standard input': Inappropriate ioctl for device\n",
      "stty: 'standard input': Inappropriate ioctl for device\n"
     ]
    },
    {
     "name": "stdout",
     "output_type": "stream",
     "text": [
      "--> Wrote FITS file 'modified_residual.pybdsf.srl.fits'\n",
      "Iteration 34/100\n",
      "Generated 640 synthetic sources\n"
     ]
    },
    {
     "name": "stderr",
     "output_type": "stream",
     "text": [
      "3433843:INFO This is AeRes v0.2.7-(2020-07-30)\n",
      "3433843:INFO Using gaus_resid.fits and synthetic.vot to make modified_residual.fits\n",
      "3433843:INFO Reading file synthetic.vot\n",
      "3433843:INFO read 640 sources from synthetic.vot\n",
      "3433843:INFO modeled 640 sources\n",
      "3433843:INFO wrote residual to modified_residual.fits\n",
      "stty: 'standard input': Inappropriate ioctl for device\n",
      "stty: 'standard input': Inappropriate ioctl for device\n",
      "stty: 'standard input': Inappropriate ioctl for device\n",
      "stty: 'standard input': Inappropriate ioctl for device\n",
      "stty: 'standard input': Inappropriate ioctl for device\n"
     ]
    },
    {
     "name": "stdout",
     "output_type": "stream",
     "text": [
      "--> Wrote FITS file 'modified_residual.pybdsf.srl.fits'\n",
      "Iteration 35/100\n",
      "Generated 640 synthetic sources\n"
     ]
    },
    {
     "name": "stderr",
     "output_type": "stream",
     "text": [
      "3435003:INFO This is AeRes v0.2.7-(2020-07-30)\n",
      "3435003:INFO Using gaus_resid.fits and synthetic.vot to make modified_residual.fits\n",
      "3435003:INFO Reading file synthetic.vot\n",
      "3435003:INFO read 640 sources from synthetic.vot\n",
      "3435003:INFO modeled 640 sources\n",
      "3435003:INFO wrote residual to modified_residual.fits\n",
      "stty: 'standard input': Inappropriate ioctl for device\n",
      "stty: 'standard input': Inappropriate ioctl for device\n",
      "stty: 'standard input': Inappropriate ioctl for device\n",
      "stty: 'standard input': Inappropriate ioctl for device\n",
      "stty: 'standard input': Inappropriate ioctl for device\n"
     ]
    },
    {
     "name": "stdout",
     "output_type": "stream",
     "text": [
      "--> Wrote FITS file 'modified_residual.pybdsf.srl.fits'\n",
      "Iteration 36/100\n",
      "Generated 640 synthetic sources\n"
     ]
    },
    {
     "name": "stderr",
     "output_type": "stream",
     "text": [
      "3436153:INFO This is AeRes v0.2.7-(2020-07-30)\n",
      "3436153:INFO Using gaus_resid.fits and synthetic.vot to make modified_residual.fits\n",
      "3436153:INFO Reading file synthetic.vot\n",
      "3436153:INFO read 640 sources from synthetic.vot\n",
      "3436153:INFO modeled 640 sources\n",
      "3436153:INFO wrote residual to modified_residual.fits\n",
      "stty: 'standard input': Inappropriate ioctl for device\n",
      "stty: 'standard input': Inappropriate ioctl for device\n",
      "stty: 'standard input': Inappropriate ioctl for device\n",
      "stty: 'standard input': Inappropriate ioctl for device\n",
      "stty: 'standard input': Inappropriate ioctl for device\n"
     ]
    },
    {
     "name": "stdout",
     "output_type": "stream",
     "text": [
      "--> Wrote FITS file 'modified_residual.pybdsf.srl.fits'\n",
      "Iteration 37/100\n",
      "Generated 640 synthetic sources\n"
     ]
    },
    {
     "name": "stderr",
     "output_type": "stream",
     "text": [
      "3437300:INFO This is AeRes v0.2.7-(2020-07-30)\n",
      "3437300:INFO Using gaus_resid.fits and synthetic.vot to make modified_residual.fits\n",
      "3437300:INFO Reading file synthetic.vot\n",
      "3437300:INFO read 640 sources from synthetic.vot\n",
      "3437300:INFO modeled 640 sources\n",
      "3437300:INFO wrote residual to modified_residual.fits\n",
      "stty: 'standard input': Inappropriate ioctl for device\n",
      "stty: 'standard input': Inappropriate ioctl for device\n",
      "stty: 'standard input': Inappropriate ioctl for device\n",
      "stty: 'standard input': Inappropriate ioctl for device\n",
      "stty: 'standard input': Inappropriate ioctl for device\n"
     ]
    },
    {
     "name": "stdout",
     "output_type": "stream",
     "text": [
      "--> Wrote FITS file 'modified_residual.pybdsf.srl.fits'\n",
      "Iteration 38/100\n",
      "Generated 640 synthetic sources\n"
     ]
    },
    {
     "name": "stderr",
     "output_type": "stream",
     "text": [
      "3438460:INFO This is AeRes v0.2.7-(2020-07-30)\n",
      "3438460:INFO Using gaus_resid.fits and synthetic.vot to make modified_residual.fits\n",
      "3438460:INFO Reading file synthetic.vot\n",
      "3438460:INFO read 640 sources from synthetic.vot\n",
      "3438460:INFO modeled 640 sources\n",
      "3438460:INFO wrote residual to modified_residual.fits\n",
      "stty: 'standard input': Inappropriate ioctl for device\n",
      "stty: 'standard input': Inappropriate ioctl for device\n",
      "stty: 'standard input': Inappropriate ioctl for device\n",
      "stty: 'standard input': Inappropriate ioctl for device\n",
      "stty: 'standard input': Inappropriate ioctl for device\n"
     ]
    },
    {
     "name": "stdout",
     "output_type": "stream",
     "text": [
      "--> Wrote FITS file 'modified_residual.pybdsf.srl.fits'\n",
      "Iteration 39/100\n",
      "Generated 640 synthetic sources\n"
     ]
    },
    {
     "name": "stderr",
     "output_type": "stream",
     "text": [
      "3439654:INFO This is AeRes v0.2.7-(2020-07-30)\n",
      "3439654:INFO Using gaus_resid.fits and synthetic.vot to make modified_residual.fits\n",
      "3439654:INFO Reading file synthetic.vot\n",
      "3439654:INFO read 640 sources from synthetic.vot\n",
      "3439654:INFO modeled 640 sources\n",
      "3439654:INFO wrote residual to modified_residual.fits\n",
      "stty: 'standard input': Inappropriate ioctl for device\n",
      "stty: 'standard input': Inappropriate ioctl for device\n",
      "stty: 'standard input': Inappropriate ioctl for device\n",
      "stty: 'standard input': Inappropriate ioctl for device\n",
      "stty: 'standard input': Inappropriate ioctl for device\n"
     ]
    },
    {
     "name": "stdout",
     "output_type": "stream",
     "text": [
      "--> Wrote FITS file 'modified_residual.pybdsf.srl.fits'\n",
      "Iteration 40/100\n",
      "Generated 640 synthetic sources\n"
     ]
    },
    {
     "name": "stderr",
     "output_type": "stream",
     "text": [
      "3440833:INFO This is AeRes v0.2.7-(2020-07-30)\n",
      "3440833:INFO Using gaus_resid.fits and synthetic.vot to make modified_residual.fits\n",
      "3440833:INFO Reading file synthetic.vot\n",
      "3440833:INFO read 640 sources from synthetic.vot\n",
      "3440833:INFO modeled 640 sources\n",
      "3440833:INFO wrote residual to modified_residual.fits\n",
      "stty: 'standard input': Inappropriate ioctl for device\n",
      "stty: 'standard input': Inappropriate ioctl for device\n",
      "stty: 'standard input': Inappropriate ioctl for device\n",
      "stty: 'standard input': Inappropriate ioctl for device\n",
      "stty: 'standard input': Inappropriate ioctl for device\n"
     ]
    },
    {
     "name": "stdout",
     "output_type": "stream",
     "text": [
      "--> Wrote FITS file 'modified_residual.pybdsf.srl.fits'\n",
      "Iteration 41/100\n",
      "Generated 640 synthetic sources\n"
     ]
    },
    {
     "name": "stderr",
     "output_type": "stream",
     "text": [
      "3441981:INFO This is AeRes v0.2.7-(2020-07-30)\n",
      "3441981:INFO Using gaus_resid.fits and synthetic.vot to make modified_residual.fits\n",
      "3441981:INFO Reading file synthetic.vot\n",
      "3441981:INFO read 640 sources from synthetic.vot\n",
      "3441981:INFO modeled 640 sources\n",
      "3441981:INFO wrote residual to modified_residual.fits\n",
      "stty: 'standard input': Inappropriate ioctl for device\n",
      "stty: 'standard input': Inappropriate ioctl for device\n",
      "stty: 'standard input': Inappropriate ioctl for device\n",
      "stty: 'standard input': Inappropriate ioctl for device\n",
      "stty: 'standard input': Inappropriate ioctl for device\n"
     ]
    },
    {
     "name": "stdout",
     "output_type": "stream",
     "text": [
      "--> Wrote FITS file 'modified_residual.pybdsf.srl.fits'\n",
      "Iteration 42/100\n",
      "Generated 640 synthetic sources\n"
     ]
    },
    {
     "name": "stderr",
     "output_type": "stream",
     "text": [
      "3443148:INFO This is AeRes v0.2.7-(2020-07-30)\n",
      "3443148:INFO Using gaus_resid.fits and synthetic.vot to make modified_residual.fits\n",
      "3443148:INFO Reading file synthetic.vot\n",
      "3443148:INFO read 640 sources from synthetic.vot\n",
      "3443148:INFO modeled 640 sources\n",
      "3443148:INFO wrote residual to modified_residual.fits\n",
      "stty: 'standard input': Inappropriate ioctl for device\n",
      "stty: 'standard input': Inappropriate ioctl for device\n",
      "stty: 'standard input': Inappropriate ioctl for device\n",
      "stty: 'standard input': Inappropriate ioctl for device\n",
      "stty: 'standard input': Inappropriate ioctl for device\n"
     ]
    },
    {
     "name": "stdout",
     "output_type": "stream",
     "text": [
      "--> Wrote FITS file 'modified_residual.pybdsf.srl.fits'\n",
      "Iteration 43/100\n",
      "Generated 640 synthetic sources\n"
     ]
    },
    {
     "name": "stderr",
     "output_type": "stream",
     "text": [
      "3444313:INFO This is AeRes v0.2.7-(2020-07-30)\n",
      "3444313:INFO Using gaus_resid.fits and synthetic.vot to make modified_residual.fits\n",
      "3444313:INFO Reading file synthetic.vot\n",
      "3444313:INFO read 640 sources from synthetic.vot\n",
      "3444313:INFO modeled 640 sources\n",
      "3444313:INFO wrote residual to modified_residual.fits\n",
      "stty: 'standard input': Inappropriate ioctl for device\n",
      "stty: 'standard input': Inappropriate ioctl for device\n",
      "stty: 'standard input': Inappropriate ioctl for device\n",
      "stty: 'standard input': Inappropriate ioctl for device\n",
      "stty: 'standard input': Inappropriate ioctl for device\n"
     ]
    },
    {
     "name": "stdout",
     "output_type": "stream",
     "text": [
      "--> Wrote FITS file 'modified_residual.pybdsf.srl.fits'\n",
      "Iteration 44/100\n",
      "Generated 640 synthetic sources\n"
     ]
    },
    {
     "name": "stderr",
     "output_type": "stream",
     "text": [
      "3445549:INFO This is AeRes v0.2.7-(2020-07-30)\n",
      "3445549:INFO Using gaus_resid.fits and synthetic.vot to make modified_residual.fits\n",
      "3445549:INFO Reading file synthetic.vot\n",
      "3445549:INFO read 640 sources from synthetic.vot\n",
      "3445549:INFO modeled 640 sources\n",
      "3445549:INFO wrote residual to modified_residual.fits\n",
      "stty: 'standard input': Inappropriate ioctl for device\n",
      "stty: 'standard input': Inappropriate ioctl for device\n",
      "stty: 'standard input': Inappropriate ioctl for device\n",
      "stty: 'standard input': Inappropriate ioctl for device\n",
      "stty: 'standard input': Inappropriate ioctl for device\n"
     ]
    },
    {
     "name": "stdout",
     "output_type": "stream",
     "text": [
      "--> Wrote FITS file 'modified_residual.pybdsf.srl.fits'\n",
      "Iteration 45/100\n",
      "Generated 640 synthetic sources\n"
     ]
    },
    {
     "name": "stderr",
     "output_type": "stream",
     "text": [
      "3446709:INFO This is AeRes v0.2.7-(2020-07-30)\n",
      "3446709:INFO Using gaus_resid.fits and synthetic.vot to make modified_residual.fits\n",
      "3446709:INFO Reading file synthetic.vot\n",
      "3446709:INFO read 640 sources from synthetic.vot\n",
      "3446709:INFO modeled 640 sources\n",
      "3446709:INFO wrote residual to modified_residual.fits\n",
      "stty: 'standard input': Inappropriate ioctl for device\n",
      "stty: 'standard input': Inappropriate ioctl for device\n",
      "stty: 'standard input': Inappropriate ioctl for device\n",
      "stty: 'standard input': Inappropriate ioctl for device\n",
      "stty: 'standard input': Inappropriate ioctl for device\n"
     ]
    },
    {
     "name": "stdout",
     "output_type": "stream",
     "text": [
      "--> Wrote FITS file 'modified_residual.pybdsf.srl.fits'\n",
      "Iteration 46/100\n",
      "Generated 640 synthetic sources\n"
     ]
    },
    {
     "name": "stderr",
     "output_type": "stream",
     "text": [
      "3447860:INFO This is AeRes v0.2.7-(2020-07-30)\n",
      "3447860:INFO Using gaus_resid.fits and synthetic.vot to make modified_residual.fits\n",
      "3447860:INFO Reading file synthetic.vot\n",
      "3447860:INFO read 640 sources from synthetic.vot\n",
      "3447860:INFO modeled 640 sources\n",
      "3447860:INFO wrote residual to modified_residual.fits\n",
      "stty: 'standard input': Inappropriate ioctl for device\n",
      "stty: 'standard input': Inappropriate ioctl for device\n",
      "stty: 'standard input': Inappropriate ioctl for device\n",
      "stty: 'standard input': Inappropriate ioctl for device\n",
      "stty: 'standard input': Inappropriate ioctl for device\n"
     ]
    },
    {
     "name": "stdout",
     "output_type": "stream",
     "text": [
      "--> Wrote FITS file 'modified_residual.pybdsf.srl.fits'\n",
      "Iteration 47/100\n",
      "Generated 640 synthetic sources\n"
     ]
    },
    {
     "name": "stderr",
     "output_type": "stream",
     "text": [
      "3449022:INFO This is AeRes v0.2.7-(2020-07-30)\n",
      "3449022:INFO Using gaus_resid.fits and synthetic.vot to make modified_residual.fits\n",
      "3449022:INFO Reading file synthetic.vot\n",
      "3449022:INFO read 640 sources from synthetic.vot\n",
      "3449022:INFO modeled 640 sources\n",
      "3449022:INFO wrote residual to modified_residual.fits\n",
      "stty: 'standard input': Inappropriate ioctl for device\n",
      "stty: 'standard input': Inappropriate ioctl for device\n",
      "stty: 'standard input': Inappropriate ioctl for device\n",
      "stty: 'standard input': Inappropriate ioctl for device\n",
      "stty: 'standard input': Inappropriate ioctl for device\n"
     ]
    },
    {
     "name": "stdout",
     "output_type": "stream",
     "text": [
      "--> Wrote FITS file 'modified_residual.pybdsf.srl.fits'\n",
      "Iteration 48/100\n",
      "Generated 640 synthetic sources\n"
     ]
    },
    {
     "name": "stderr",
     "output_type": "stream",
     "text": [
      "3450200:INFO This is AeRes v0.2.7-(2020-07-30)\n",
      "3450200:INFO Using gaus_resid.fits and synthetic.vot to make modified_residual.fits\n",
      "3450200:INFO Reading file synthetic.vot\n",
      "3450200:INFO read 640 sources from synthetic.vot\n",
      "3450200:INFO modeled 640 sources\n",
      "3450200:INFO wrote residual to modified_residual.fits\n",
      "stty: 'standard input': Inappropriate ioctl for device\n",
      "stty: 'standard input': Inappropriate ioctl for device\n",
      "stty: 'standard input': Inappropriate ioctl for device\n",
      "stty: 'standard input': Inappropriate ioctl for device\n",
      "stty: 'standard input': Inappropriate ioctl for device\n"
     ]
    },
    {
     "name": "stdout",
     "output_type": "stream",
     "text": [
      "--> Wrote FITS file 'modified_residual.pybdsf.srl.fits'\n",
      "Iteration 49/100\n",
      "Generated 640 synthetic sources\n"
     ]
    },
    {
     "name": "stderr",
     "output_type": "stream",
     "text": [
      "3451416:INFO This is AeRes v0.2.7-(2020-07-30)\n",
      "3451416:INFO Using gaus_resid.fits and synthetic.vot to make modified_residual.fits\n",
      "3451416:INFO Reading file synthetic.vot\n",
      "3451416:INFO read 640 sources from synthetic.vot\n",
      "3451416:INFO modeled 640 sources\n",
      "3451416:INFO wrote residual to modified_residual.fits\n",
      "stty: 'standard input': Inappropriate ioctl for device\n",
      "stty: 'standard input': Inappropriate ioctl for device\n",
      "stty: 'standard input': Inappropriate ioctl for device\n",
      "stty: 'standard input': Inappropriate ioctl for device\n",
      "stty: 'standard input': Inappropriate ioctl for device\n"
     ]
    },
    {
     "name": "stdout",
     "output_type": "stream",
     "text": [
      "--> Wrote FITS file 'modified_residual.pybdsf.srl.fits'\n",
      "Iteration 50/100\n",
      "Generated 640 synthetic sources\n"
     ]
    },
    {
     "name": "stderr",
     "output_type": "stream",
     "text": [
      "3452731:INFO This is AeRes v0.2.7-(2020-07-30)\n",
      "3452731:INFO Using gaus_resid.fits and synthetic.vot to make modified_residual.fits\n",
      "3452731:INFO Reading file synthetic.vot\n",
      "3452731:INFO read 640 sources from synthetic.vot\n",
      "3452731:INFO modeled 640 sources\n",
      "3452731:INFO wrote residual to modified_residual.fits\n",
      "stty: 'standard input': Inappropriate ioctl for device\n",
      "stty: 'standard input': Inappropriate ioctl for device\n",
      "stty: 'standard input': Inappropriate ioctl for device\n",
      "stty: 'standard input': Inappropriate ioctl for device\n",
      "stty: 'standard input': Inappropriate ioctl for device\n"
     ]
    },
    {
     "name": "stdout",
     "output_type": "stream",
     "text": [
      "--> Wrote FITS file 'modified_residual.pybdsf.srl.fits'\n",
      "Iteration 51/100\n",
      "Generated 640 synthetic sources\n"
     ]
    },
    {
     "name": "stderr",
     "output_type": "stream",
     "text": [
      "3454008:INFO This is AeRes v0.2.7-(2020-07-30)\n",
      "3454008:INFO Using gaus_resid.fits and synthetic.vot to make modified_residual.fits\n",
      "3454008:INFO Reading file synthetic.vot\n",
      "3454008:INFO read 640 sources from synthetic.vot\n",
      "3454008:INFO modeled 640 sources\n",
      "3454008:INFO wrote residual to modified_residual.fits\n",
      "stty: 'standard input': Inappropriate ioctl for device\n",
      "stty: 'standard input': Inappropriate ioctl for device\n",
      "stty: 'standard input': Inappropriate ioctl for device\n",
      "stty: 'standard input': Inappropriate ioctl for device\n",
      "stty: 'standard input': Inappropriate ioctl for device\n"
     ]
    },
    {
     "name": "stdout",
     "output_type": "stream",
     "text": [
      "--> Wrote FITS file 'modified_residual.pybdsf.srl.fits'\n",
      "Iteration 52/100\n",
      "Generated 640 synthetic sources\n"
     ]
    },
    {
     "name": "stderr",
     "output_type": "stream",
     "text": [
      "3455157:INFO This is AeRes v0.2.7-(2020-07-30)\n",
      "3455157:INFO Using gaus_resid.fits and synthetic.vot to make modified_residual.fits\n",
      "3455157:INFO Reading file synthetic.vot\n",
      "3455157:INFO read 640 sources from synthetic.vot\n",
      "3455157:INFO modeled 640 sources\n",
      "3455157:INFO wrote residual to modified_residual.fits\n",
      "stty: 'standard input': Inappropriate ioctl for device\n",
      "stty: 'standard input': Inappropriate ioctl for device\n",
      "stty: 'standard input': Inappropriate ioctl for device\n",
      "stty: 'standard input': Inappropriate ioctl for device\n",
      "stty: 'standard input': Inappropriate ioctl for device\n"
     ]
    },
    {
     "name": "stdout",
     "output_type": "stream",
     "text": [
      "--> Wrote FITS file 'modified_residual.pybdsf.srl.fits'\n",
      "Iteration 53/100\n",
      "Generated 640 synthetic sources\n"
     ]
    },
    {
     "name": "stderr",
     "output_type": "stream",
     "text": [
      "3456334:INFO This is AeRes v0.2.7-(2020-07-30)\n",
      "3456334:INFO Using gaus_resid.fits and synthetic.vot to make modified_residual.fits\n",
      "3456334:INFO Reading file synthetic.vot\n",
      "3456334:INFO read 640 sources from synthetic.vot\n",
      "3456334:INFO modeled 640 sources\n",
      "3456334:INFO wrote residual to modified_residual.fits\n",
      "stty: 'standard input': Inappropriate ioctl for device\n",
      "stty: 'standard input': Inappropriate ioctl for device\n",
      "stty: 'standard input': Inappropriate ioctl for device\n",
      "stty: 'standard input': Inappropriate ioctl for device\n",
      "stty: 'standard input': Inappropriate ioctl for device\n"
     ]
    },
    {
     "name": "stdout",
     "output_type": "stream",
     "text": [
      "--> Wrote FITS file 'modified_residual.pybdsf.srl.fits'\n",
      "Iteration 54/100\n",
      "Generated 640 synthetic sources\n"
     ]
    },
    {
     "name": "stderr",
     "output_type": "stream",
     "text": [
      "3457487:INFO This is AeRes v0.2.7-(2020-07-30)\n",
      "3457487:INFO Using gaus_resid.fits and synthetic.vot to make modified_residual.fits\n",
      "3457487:INFO Reading file synthetic.vot\n",
      "3457487:INFO read 640 sources from synthetic.vot\n",
      "3457487:INFO modeled 640 sources\n",
      "3457487:INFO wrote residual to modified_residual.fits\n",
      "stty: 'standard input': Inappropriate ioctl for device\n",
      "stty: 'standard input': Inappropriate ioctl for device\n",
      "stty: 'standard input': Inappropriate ioctl for device\n",
      "stty: 'standard input': Inappropriate ioctl for device\n",
      "stty: 'standard input': Inappropriate ioctl for device\n"
     ]
    },
    {
     "name": "stdout",
     "output_type": "stream",
     "text": [
      "--> Wrote FITS file 'modified_residual.pybdsf.srl.fits'\n",
      "Iteration 55/100\n",
      "Generated 640 synthetic sources\n"
     ]
    },
    {
     "name": "stderr",
     "output_type": "stream",
     "text": [
      "3458648:INFO This is AeRes v0.2.7-(2020-07-30)\n",
      "3458648:INFO Using gaus_resid.fits and synthetic.vot to make modified_residual.fits\n",
      "3458648:INFO Reading file synthetic.vot\n",
      "3458648:INFO read 640 sources from synthetic.vot\n",
      "3458648:INFO modeled 640 sources\n",
      "3458648:INFO wrote residual to modified_residual.fits\n",
      "stty: 'standard input': Inappropriate ioctl for device\n",
      "stty: 'standard input': Inappropriate ioctl for device\n",
      "stty: 'standard input': Inappropriate ioctl for device\n",
      "stty: 'standard input': Inappropriate ioctl for device\n",
      "stty: 'standard input': Inappropriate ioctl for device\n"
     ]
    },
    {
     "name": "stdout",
     "output_type": "stream",
     "text": [
      "--> Wrote FITS file 'modified_residual.pybdsf.srl.fits'\n",
      "Iteration 56/100\n",
      "Generated 640 synthetic sources\n"
     ]
    },
    {
     "name": "stderr",
     "output_type": "stream",
     "text": [
      "3459835:INFO This is AeRes v0.2.7-(2020-07-30)\n",
      "3459835:INFO Using gaus_resid.fits and synthetic.vot to make modified_residual.fits\n",
      "3459835:INFO Reading file synthetic.vot\n",
      "3459835:INFO read 640 sources from synthetic.vot\n",
      "3459835:INFO modeled 640 sources\n",
      "3459835:INFO wrote residual to modified_residual.fits\n",
      "stty: 'standard input': Inappropriate ioctl for device\n",
      "stty: 'standard input': Inappropriate ioctl for device\n",
      "stty: 'standard input': Inappropriate ioctl for device\n",
      "stty: 'standard input': Inappropriate ioctl for device\n",
      "stty: 'standard input': Inappropriate ioctl for device\n"
     ]
    },
    {
     "name": "stdout",
     "output_type": "stream",
     "text": [
      "--> Wrote FITS file 'modified_residual.pybdsf.srl.fits'\n",
      "Iteration 57/100\n",
      "Generated 640 synthetic sources\n"
     ]
    },
    {
     "name": "stderr",
     "output_type": "stream",
     "text": [
      "3460989:INFO This is AeRes v0.2.7-(2020-07-30)\n",
      "3460989:INFO Using gaus_resid.fits and synthetic.vot to make modified_residual.fits\n",
      "3460989:INFO Reading file synthetic.vot\n",
      "3460989:INFO read 640 sources from synthetic.vot\n",
      "3460989:INFO modeled 640 sources\n",
      "3460989:INFO wrote residual to modified_residual.fits\n",
      "stty: 'standard input': Inappropriate ioctl for device\n",
      "stty: 'standard input': Inappropriate ioctl for device\n",
      "stty: 'standard input': Inappropriate ioctl for device\n",
      "stty: 'standard input': Inappropriate ioctl for device\n",
      "stty: 'standard input': Inappropriate ioctl for device\n"
     ]
    },
    {
     "name": "stdout",
     "output_type": "stream",
     "text": [
      "--> Wrote FITS file 'modified_residual.pybdsf.srl.fits'\n",
      "Iteration 58/100\n",
      "Generated 640 synthetic sources\n"
     ]
    },
    {
     "name": "stderr",
     "output_type": "stream",
     "text": [
      "3462136:INFO This is AeRes v0.2.7-(2020-07-30)\n",
      "3462136:INFO Using gaus_resid.fits and synthetic.vot to make modified_residual.fits\n",
      "3462136:INFO Reading file synthetic.vot\n",
      "3462136:INFO read 640 sources from synthetic.vot\n",
      "3462136:INFO modeled 640 sources\n",
      "3462136:INFO wrote residual to modified_residual.fits\n",
      "stty: 'standard input': Inappropriate ioctl for device\n",
      "stty: 'standard input': Inappropriate ioctl for device\n",
      "stty: 'standard input': Inappropriate ioctl for device\n",
      "stty: 'standard input': Inappropriate ioctl for device\n",
      "stty: 'standard input': Inappropriate ioctl for device\n"
     ]
    },
    {
     "name": "stdout",
     "output_type": "stream",
     "text": [
      "--> Wrote FITS file 'modified_residual.pybdsf.srl.fits'\n",
      "Iteration 59/100\n",
      "Generated 640 synthetic sources\n"
     ]
    },
    {
     "name": "stderr",
     "output_type": "stream",
     "text": [
      "3463288:INFO This is AeRes v0.2.7-(2020-07-30)\n",
      "3463288:INFO Using gaus_resid.fits and synthetic.vot to make modified_residual.fits\n",
      "3463288:INFO Reading file synthetic.vot\n",
      "3463288:INFO read 640 sources from synthetic.vot\n",
      "3463288:INFO modeled 640 sources\n",
      "3463288:INFO wrote residual to modified_residual.fits\n",
      "stty: 'standard input': Inappropriate ioctl for device\n",
      "stty: 'standard input': Inappropriate ioctl for device\n",
      "stty: 'standard input': Inappropriate ioctl for device\n",
      "stty: 'standard input': Inappropriate ioctl for device\n",
      "stty: 'standard input': Inappropriate ioctl for device\n"
     ]
    },
    {
     "name": "stdout",
     "output_type": "stream",
     "text": [
      "--> Wrote FITS file 'modified_residual.pybdsf.srl.fits'\n",
      "Iteration 60/100\n",
      "Generated 640 synthetic sources\n"
     ]
    },
    {
     "name": "stderr",
     "output_type": "stream",
     "text": [
      "3464443:INFO This is AeRes v0.2.7-(2020-07-30)\n",
      "3464443:INFO Using gaus_resid.fits and synthetic.vot to make modified_residual.fits\n",
      "3464443:INFO Reading file synthetic.vot\n",
      "3464443:INFO read 640 sources from synthetic.vot\n",
      "3464443:INFO modeled 640 sources\n",
      "3464443:INFO wrote residual to modified_residual.fits\n",
      "stty: 'standard input': Inappropriate ioctl for device\n",
      "stty: 'standard input': Inappropriate ioctl for device\n",
      "stty: 'standard input': Inappropriate ioctl for device\n",
      "stty: 'standard input': Inappropriate ioctl for device\n",
      "stty: 'standard input': Inappropriate ioctl for device\n"
     ]
    },
    {
     "name": "stdout",
     "output_type": "stream",
     "text": [
      "--> Wrote FITS file 'modified_residual.pybdsf.srl.fits'\n",
      "Iteration 61/100\n",
      "Generated 640 synthetic sources\n"
     ]
    },
    {
     "name": "stderr",
     "output_type": "stream",
     "text": [
      "3465598:INFO This is AeRes v0.2.7-(2020-07-30)\n",
      "3465598:INFO Using gaus_resid.fits and synthetic.vot to make modified_residual.fits\n",
      "3465598:INFO Reading file synthetic.vot\n",
      "3465598:INFO read 640 sources from synthetic.vot\n",
      "3465598:INFO modeled 640 sources\n",
      "3465598:INFO wrote residual to modified_residual.fits\n",
      "stty: 'standard input': Inappropriate ioctl for device\n",
      "stty: 'standard input': Inappropriate ioctl for device\n",
      "stty: 'standard input': Inappropriate ioctl for device\n",
      "stty: 'standard input': Inappropriate ioctl for device\n",
      "stty: 'standard input': Inappropriate ioctl for device\n"
     ]
    },
    {
     "name": "stdout",
     "output_type": "stream",
     "text": [
      "--> Wrote FITS file 'modified_residual.pybdsf.srl.fits'\n",
      "Iteration 62/100\n",
      "Generated 640 synthetic sources\n"
     ]
    },
    {
     "name": "stderr",
     "output_type": "stream",
     "text": [
      "3466744:INFO This is AeRes v0.2.7-(2020-07-30)\n",
      "3466744:INFO Using gaus_resid.fits and synthetic.vot to make modified_residual.fits\n",
      "3466744:INFO Reading file synthetic.vot\n",
      "3466744:INFO read 640 sources from synthetic.vot\n",
      "3466744:INFO modeled 640 sources\n",
      "3466744:INFO wrote residual to modified_residual.fits\n",
      "stty: 'standard input': Inappropriate ioctl for device\n",
      "stty: 'standard input': Inappropriate ioctl for device\n",
      "stty: 'standard input': Inappropriate ioctl for device\n",
      "stty: 'standard input': Inappropriate ioctl for device\n",
      "stty: 'standard input': Inappropriate ioctl for device\n"
     ]
    },
    {
     "name": "stdout",
     "output_type": "stream",
     "text": [
      "--> Wrote FITS file 'modified_residual.pybdsf.srl.fits'\n",
      "Iteration 63/100\n",
      "Generated 640 synthetic sources\n"
     ]
    },
    {
     "name": "stderr",
     "output_type": "stream",
     "text": [
      "3467969:INFO This is AeRes v0.2.7-(2020-07-30)\n",
      "3467969:INFO Using gaus_resid.fits and synthetic.vot to make modified_residual.fits\n",
      "3467969:INFO Reading file synthetic.vot\n",
      "3467969:INFO read 640 sources from synthetic.vot\n",
      "3467969:INFO modeled 640 sources\n",
      "3467969:INFO wrote residual to modified_residual.fits\n",
      "stty: 'standard input': Inappropriate ioctl for device\n",
      "stty: 'standard input': Inappropriate ioctl for device\n",
      "stty: 'standard input': Inappropriate ioctl for device\n",
      "stty: 'standard input': Inappropriate ioctl for device\n",
      "stty: 'standard input': Inappropriate ioctl for device\n"
     ]
    },
    {
     "name": "stdout",
     "output_type": "stream",
     "text": [
      "--> Wrote FITS file 'modified_residual.pybdsf.srl.fits'\n",
      "Iteration 64/100\n",
      "Generated 640 synthetic sources\n"
     ]
    },
    {
     "name": "stderr",
     "output_type": "stream",
     "text": [
      "3469149:INFO This is AeRes v0.2.7-(2020-07-30)\n",
      "3469149:INFO Using gaus_resid.fits and synthetic.vot to make modified_residual.fits\n",
      "3469149:INFO Reading file synthetic.vot\n",
      "3469149:INFO read 640 sources from synthetic.vot\n",
      "3469149:INFO modeled 640 sources\n",
      "3469149:INFO wrote residual to modified_residual.fits\n",
      "stty: 'standard input': Inappropriate ioctl for device\n",
      "stty: 'standard input': Inappropriate ioctl for device\n",
      "stty: 'standard input': Inappropriate ioctl for device\n",
      "stty: 'standard input': Inappropriate ioctl for device\n",
      "stty: 'standard input': Inappropriate ioctl for device\n"
     ]
    },
    {
     "name": "stdout",
     "output_type": "stream",
     "text": [
      "--> Wrote FITS file 'modified_residual.pybdsf.srl.fits'\n",
      "Iteration 65/100\n",
      "Generated 640 synthetic sources\n"
     ]
    },
    {
     "name": "stderr",
     "output_type": "stream",
     "text": [
      "3470432:INFO This is AeRes v0.2.7-(2020-07-30)\n",
      "3470432:INFO Using gaus_resid.fits and synthetic.vot to make modified_residual.fits\n",
      "3470432:INFO Reading file synthetic.vot\n",
      "3470432:INFO read 640 sources from synthetic.vot\n",
      "3470432:INFO modeled 640 sources\n",
      "3470432:INFO wrote residual to modified_residual.fits\n",
      "stty: 'standard input': Inappropriate ioctl for device\n",
      "stty: 'standard input': Inappropriate ioctl for device\n",
      "stty: 'standard input': Inappropriate ioctl for device\n",
      "stty: 'standard input': Inappropriate ioctl for device\n",
      "stty: 'standard input': Inappropriate ioctl for device\n"
     ]
    },
    {
     "name": "stdout",
     "output_type": "stream",
     "text": [
      "--> Wrote FITS file 'modified_residual.pybdsf.srl.fits'\n",
      "Iteration 66/100\n",
      "Generated 640 synthetic sources\n"
     ]
    },
    {
     "name": "stderr",
     "output_type": "stream",
     "text": [
      "3471595:INFO This is AeRes v0.2.7-(2020-07-30)\n",
      "3471595:INFO Using gaus_resid.fits and synthetic.vot to make modified_residual.fits\n",
      "3471595:INFO Reading file synthetic.vot\n",
      "3471595:INFO read 640 sources from synthetic.vot\n",
      "3471595:INFO modeled 640 sources\n",
      "3471595:INFO wrote residual to modified_residual.fits\n",
      "stty: 'standard input': Inappropriate ioctl for device\n",
      "stty: 'standard input': Inappropriate ioctl for device\n",
      "stty: 'standard input': Inappropriate ioctl for device\n",
      "stty: 'standard input': Inappropriate ioctl for device\n",
      "stty: 'standard input': Inappropriate ioctl for device\n"
     ]
    },
    {
     "name": "stdout",
     "output_type": "stream",
     "text": [
      "--> Wrote FITS file 'modified_residual.pybdsf.srl.fits'\n",
      "Iteration 67/100\n",
      "Generated 640 synthetic sources\n"
     ]
    },
    {
     "name": "stderr",
     "output_type": "stream",
     "text": [
      "3472747:INFO This is AeRes v0.2.7-(2020-07-30)\n",
      "3472747:INFO Using gaus_resid.fits and synthetic.vot to make modified_residual.fits\n",
      "3472747:INFO Reading file synthetic.vot\n",
      "3472747:INFO read 640 sources from synthetic.vot\n",
      "3472747:INFO modeled 640 sources\n",
      "3472747:INFO wrote residual to modified_residual.fits\n",
      "stty: 'standard input': Inappropriate ioctl for device\n",
      "stty: 'standard input': Inappropriate ioctl for device\n",
      "stty: 'standard input': Inappropriate ioctl for device\n",
      "stty: 'standard input': Inappropriate ioctl for device\n",
      "stty: 'standard input': Inappropriate ioctl for device\n"
     ]
    },
    {
     "name": "stdout",
     "output_type": "stream",
     "text": [
      "--> Wrote FITS file 'modified_residual.pybdsf.srl.fits'\n",
      "Iteration 68/100\n",
      "Generated 640 synthetic sources\n"
     ]
    },
    {
     "name": "stderr",
     "output_type": "stream",
     "text": [
      "3473902:INFO This is AeRes v0.2.7-(2020-07-30)\n",
      "3473902:INFO Using gaus_resid.fits and synthetic.vot to make modified_residual.fits\n",
      "3473902:INFO Reading file synthetic.vot\n",
      "3473902:INFO read 640 sources from synthetic.vot\n",
      "3473902:INFO modeled 640 sources\n",
      "3473902:INFO wrote residual to modified_residual.fits\n",
      "stty: 'standard input': Inappropriate ioctl for device\n",
      "stty: 'standard input': Inappropriate ioctl for device\n",
      "stty: 'standard input': Inappropriate ioctl for device\n",
      "stty: 'standard input': Inappropriate ioctl for device\n",
      "stty: 'standard input': Inappropriate ioctl for device\n"
     ]
    },
    {
     "name": "stdout",
     "output_type": "stream",
     "text": [
      "--> Wrote FITS file 'modified_residual.pybdsf.srl.fits'\n",
      "Iteration 69/100\n",
      "Generated 640 synthetic sources\n"
     ]
    },
    {
     "name": "stderr",
     "output_type": "stream",
     "text": [
      "3475047:INFO This is AeRes v0.2.7-(2020-07-30)\n",
      "3475047:INFO Using gaus_resid.fits and synthetic.vot to make modified_residual.fits\n",
      "3475047:INFO Reading file synthetic.vot\n",
      "3475047:INFO read 640 sources from synthetic.vot\n",
      "3475047:INFO modeled 640 sources\n",
      "3475047:INFO wrote residual to modified_residual.fits\n",
      "stty: 'standard input': Inappropriate ioctl for device\n",
      "stty: 'standard input': Inappropriate ioctl for device\n",
      "stty: 'standard input': Inappropriate ioctl for device\n",
      "stty: 'standard input': Inappropriate ioctl for device\n",
      "stty: 'standard input': Inappropriate ioctl for device\n"
     ]
    },
    {
     "name": "stdout",
     "output_type": "stream",
     "text": [
      "--> Wrote FITS file 'modified_residual.pybdsf.srl.fits'\n",
      "Iteration 70/100\n",
      "Generated 640 synthetic sources\n"
     ]
    },
    {
     "name": "stderr",
     "output_type": "stream",
     "text": [
      "3476216:INFO This is AeRes v0.2.7-(2020-07-30)\n",
      "3476216:INFO Using gaus_resid.fits and synthetic.vot to make modified_residual.fits\n",
      "3476216:INFO Reading file synthetic.vot\n",
      "3476216:INFO read 640 sources from synthetic.vot\n",
      "3476216:INFO modeled 640 sources\n",
      "3476216:INFO wrote residual to modified_residual.fits\n",
      "stty: 'standard input': Inappropriate ioctl for device\n",
      "stty: 'standard input': Inappropriate ioctl for device\n",
      "stty: 'standard input': Inappropriate ioctl for device\n",
      "stty: 'standard input': Inappropriate ioctl for device\n",
      "stty: 'standard input': Inappropriate ioctl for device\n"
     ]
    },
    {
     "name": "stdout",
     "output_type": "stream",
     "text": [
      "--> Wrote FITS file 'modified_residual.pybdsf.srl.fits'\n",
      "Iteration 71/100\n",
      "Generated 640 synthetic sources\n"
     ]
    },
    {
     "name": "stderr",
     "output_type": "stream",
     "text": [
      "3477376:INFO This is AeRes v0.2.7-(2020-07-30)\n",
      "3477376:INFO Using gaus_resid.fits and synthetic.vot to make modified_residual.fits\n",
      "3477376:INFO Reading file synthetic.vot\n",
      "3477376:INFO read 640 sources from synthetic.vot\n",
      "3477376:INFO modeled 640 sources\n",
      "3477376:INFO wrote residual to modified_residual.fits\n",
      "stty: 'standard input': Inappropriate ioctl for device\n",
      "stty: 'standard input': Inappropriate ioctl for device\n",
      "stty: 'standard input': Inappropriate ioctl for device\n",
      "stty: 'standard input': Inappropriate ioctl for device\n",
      "stty: 'standard input': Inappropriate ioctl for device\n"
     ]
    },
    {
     "name": "stdout",
     "output_type": "stream",
     "text": [
      "--> Wrote FITS file 'modified_residual.pybdsf.srl.fits'\n",
      "Iteration 72/100\n",
      "Generated 640 synthetic sources\n"
     ]
    },
    {
     "name": "stderr",
     "output_type": "stream",
     "text": [
      "3478538:INFO This is AeRes v0.2.7-(2020-07-30)\n",
      "3478538:INFO Using gaus_resid.fits and synthetic.vot to make modified_residual.fits\n",
      "3478538:INFO Reading file synthetic.vot\n",
      "3478538:INFO read 640 sources from synthetic.vot\n",
      "3478538:INFO modeled 640 sources\n",
      "3478538:INFO wrote residual to modified_residual.fits\n",
      "stty: 'standard input': Inappropriate ioctl for device\n",
      "stty: 'standard input': Inappropriate ioctl for device\n",
      "stty: 'standard input': Inappropriate ioctl for device\n",
      "stty: 'standard input': Inappropriate ioctl for device\n",
      "stty: 'standard input': Inappropriate ioctl for device\n"
     ]
    },
    {
     "name": "stdout",
     "output_type": "stream",
     "text": [
      "--> Wrote FITS file 'modified_residual.pybdsf.srl.fits'\n",
      "Iteration 73/100\n",
      "Generated 640 synthetic sources\n"
     ]
    },
    {
     "name": "stderr",
     "output_type": "stream",
     "text": [
      "3479720:INFO This is AeRes v0.2.7-(2020-07-30)\n",
      "3479720:INFO Using gaus_resid.fits and synthetic.vot to make modified_residual.fits\n",
      "3479720:INFO Reading file synthetic.vot\n",
      "3479720:INFO read 640 sources from synthetic.vot\n",
      "3479720:INFO modeled 640 sources\n",
      "3479720:INFO wrote residual to modified_residual.fits\n",
      "stty: 'standard input': Inappropriate ioctl for device\n",
      "stty: 'standard input': Inappropriate ioctl for device\n",
      "/home/asif/miniconda3/lib/python3.12/site-packages/bdsf/functions.py:624: RuntimeWarning: Number of calls to function has reached maxfev = 1400.\n",
      "  p, success = leastsq(errorfunction, p_ini)\n",
      "stty: 'standard input': Inappropriate ioctl for device\n",
      "stty: 'standard input': Inappropriate ioctl for device\n",
      "stty: 'standard input': Inappropriate ioctl for device\n"
     ]
    },
    {
     "name": "stdout",
     "output_type": "stream",
     "text": [
      "--> Wrote FITS file 'modified_residual.pybdsf.srl.fits'\n",
      "Iteration 74/100\n",
      "Generated 640 synthetic sources\n"
     ]
    },
    {
     "name": "stderr",
     "output_type": "stream",
     "text": [
      "3480872:INFO This is AeRes v0.2.7-(2020-07-30)\n",
      "3480872:INFO Using gaus_resid.fits and synthetic.vot to make modified_residual.fits\n",
      "3480872:INFO Reading file synthetic.vot\n",
      "3480872:INFO read 640 sources from synthetic.vot\n",
      "3480872:INFO modeled 640 sources\n",
      "3480872:INFO wrote residual to modified_residual.fits\n",
      "stty: 'standard input': Inappropriate ioctl for device\n",
      "stty: 'standard input': Inappropriate ioctl for device\n",
      "stty: 'standard input': Inappropriate ioctl for device\n",
      "stty: 'standard input': Inappropriate ioctl for device\n",
      "stty: 'standard input': Inappropriate ioctl for device\n"
     ]
    },
    {
     "name": "stdout",
     "output_type": "stream",
     "text": [
      "--> Wrote FITS file 'modified_residual.pybdsf.srl.fits'\n",
      "Iteration 75/100\n",
      "Generated 640 synthetic sources\n"
     ]
    },
    {
     "name": "stderr",
     "output_type": "stream",
     "text": [
      "3482034:INFO This is AeRes v0.2.7-(2020-07-30)\n",
      "3482034:INFO Using gaus_resid.fits and synthetic.vot to make modified_residual.fits\n",
      "3482034:INFO Reading file synthetic.vot\n",
      "3482034:INFO read 640 sources from synthetic.vot\n",
      "3482034:INFO modeled 640 sources\n",
      "3482034:INFO wrote residual to modified_residual.fits\n",
      "stty: 'standard input': Inappropriate ioctl for device\n",
      "stty: 'standard input': Inappropriate ioctl for device\n",
      "stty: 'standard input': Inappropriate ioctl for device\n",
      "stty: 'standard input': Inappropriate ioctl for device\n",
      "stty: 'standard input': Inappropriate ioctl for device\n"
     ]
    },
    {
     "name": "stdout",
     "output_type": "stream",
     "text": [
      "--> Wrote FITS file 'modified_residual.pybdsf.srl.fits'\n",
      "Iteration 76/100\n",
      "Generated 640 synthetic sources\n"
     ]
    },
    {
     "name": "stderr",
     "output_type": "stream",
     "text": [
      "3483232:INFO This is AeRes v0.2.7-(2020-07-30)\n",
      "3483232:INFO Using gaus_resid.fits and synthetic.vot to make modified_residual.fits\n",
      "3483232:INFO Reading file synthetic.vot\n",
      "3483232:INFO read 640 sources from synthetic.vot\n",
      "3483232:INFO modeled 640 sources\n",
      "3483232:INFO wrote residual to modified_residual.fits\n",
      "stty: 'standard input': Inappropriate ioctl for device\n",
      "stty: 'standard input': Inappropriate ioctl for device\n",
      "stty: 'standard input': Inappropriate ioctl for device\n",
      "stty: 'standard input': Inappropriate ioctl for device\n",
      "stty: 'standard input': Inappropriate ioctl for device\n"
     ]
    },
    {
     "name": "stdout",
     "output_type": "stream",
     "text": [
      "--> Wrote FITS file 'modified_residual.pybdsf.srl.fits'\n",
      "Iteration 77/100\n",
      "Generated 640 synthetic sources\n"
     ]
    },
    {
     "name": "stderr",
     "output_type": "stream",
     "text": [
      "3484374:INFO This is AeRes v0.2.7-(2020-07-30)\n",
      "3484374:INFO Using gaus_resid.fits and synthetic.vot to make modified_residual.fits\n",
      "3484374:INFO Reading file synthetic.vot\n",
      "3484374:INFO read 640 sources from synthetic.vot\n",
      "3484374:INFO modeled 640 sources\n",
      "3484374:INFO wrote residual to modified_residual.fits\n",
      "stty: 'standard input': Inappropriate ioctl for device\n",
      "stty: 'standard input': Inappropriate ioctl for device\n",
      "stty: 'standard input': Inappropriate ioctl for device\n",
      "stty: 'standard input': Inappropriate ioctl for device\n",
      "stty: 'standard input': Inappropriate ioctl for device\n"
     ]
    },
    {
     "name": "stdout",
     "output_type": "stream",
     "text": [
      "--> Wrote FITS file 'modified_residual.pybdsf.srl.fits'\n",
      "Iteration 78/100\n",
      "Generated 640 synthetic sources\n"
     ]
    },
    {
     "name": "stderr",
     "output_type": "stream",
     "text": [
      "3485522:INFO This is AeRes v0.2.7-(2020-07-30)\n",
      "3485522:INFO Using gaus_resid.fits and synthetic.vot to make modified_residual.fits\n",
      "3485522:INFO Reading file synthetic.vot\n",
      "3485522:INFO read 640 sources from synthetic.vot\n",
      "3485522:INFO modeled 640 sources\n",
      "3485522:INFO wrote residual to modified_residual.fits\n",
      "stty: 'standard input': Inappropriate ioctl for device\n",
      "stty: 'standard input': Inappropriate ioctl for device\n",
      "stty: 'standard input': Inappropriate ioctl for device\n",
      "stty: 'standard input': Inappropriate ioctl for device\n",
      "stty: 'standard input': Inappropriate ioctl for device\n"
     ]
    },
    {
     "name": "stdout",
     "output_type": "stream",
     "text": [
      "--> Wrote FITS file 'modified_residual.pybdsf.srl.fits'\n",
      "Iteration 79/100\n",
      "Generated 640 synthetic sources\n"
     ]
    },
    {
     "name": "stderr",
     "output_type": "stream",
     "text": [
      "3486668:INFO This is AeRes v0.2.7-(2020-07-30)\n",
      "3486668:INFO Using gaus_resid.fits and synthetic.vot to make modified_residual.fits\n",
      "3486668:INFO Reading file synthetic.vot\n",
      "3486668:INFO read 640 sources from synthetic.vot\n",
      "3486668:INFO modeled 640 sources\n",
      "3486668:INFO wrote residual to modified_residual.fits\n",
      "stty: 'standard input': Inappropriate ioctl for device\n",
      "stty: 'standard input': Inappropriate ioctl for device\n",
      "stty: 'standard input': Inappropriate ioctl for device\n",
      "stty: 'standard input': Inappropriate ioctl for device\n",
      "stty: 'standard input': Inappropriate ioctl for device\n"
     ]
    },
    {
     "name": "stdout",
     "output_type": "stream",
     "text": [
      "--> Wrote FITS file 'modified_residual.pybdsf.srl.fits'\n",
      "Iteration 80/100\n",
      "Generated 640 synthetic sources\n"
     ]
    },
    {
     "name": "stderr",
     "output_type": "stream",
     "text": [
      "3487825:INFO This is AeRes v0.2.7-(2020-07-30)\n",
      "3487825:INFO Using gaus_resid.fits and synthetic.vot to make modified_residual.fits\n",
      "3487825:INFO Reading file synthetic.vot\n",
      "3487825:INFO read 640 sources from synthetic.vot\n",
      "3487825:INFO modeled 640 sources\n",
      "3487825:INFO wrote residual to modified_residual.fits\n",
      "stty: 'standard input': Inappropriate ioctl for device\n",
      "stty: 'standard input': Inappropriate ioctl for device\n",
      "stty: 'standard input': Inappropriate ioctl for device\n",
      "stty: 'standard input': Inappropriate ioctl for device\n",
      "stty: 'standard input': Inappropriate ioctl for device\n"
     ]
    },
    {
     "name": "stdout",
     "output_type": "stream",
     "text": [
      "--> Wrote FITS file 'modified_residual.pybdsf.srl.fits'\n",
      "Iteration 81/100\n",
      "Generated 640 synthetic sources\n"
     ]
    },
    {
     "name": "stderr",
     "output_type": "stream",
     "text": [
      "3488989:INFO This is AeRes v0.2.7-(2020-07-30)\n",
      "3488989:INFO Using gaus_resid.fits and synthetic.vot to make modified_residual.fits\n",
      "3488989:INFO Reading file synthetic.vot\n",
      "3488989:INFO read 640 sources from synthetic.vot\n",
      "3488989:INFO modeled 640 sources\n",
      "3488989:INFO wrote residual to modified_residual.fits\n",
      "stty: 'standard input': Inappropriate ioctl for device\n",
      "stty: 'standard input': Inappropriate ioctl for device\n",
      "stty: 'standard input': Inappropriate ioctl for device\n",
      "stty: 'standard input': Inappropriate ioctl for device\n",
      "stty: 'standard input': Inappropriate ioctl for device\n"
     ]
    },
    {
     "name": "stdout",
     "output_type": "stream",
     "text": [
      "--> Wrote FITS file 'modified_residual.pybdsf.srl.fits'\n",
      "Iteration 82/100\n",
      "Generated 640 synthetic sources\n"
     ]
    },
    {
     "name": "stderr",
     "output_type": "stream",
     "text": [
      "3490168:INFO This is AeRes v0.2.7-(2020-07-30)\n",
      "3490168:INFO Using gaus_resid.fits and synthetic.vot to make modified_residual.fits\n",
      "3490168:INFO Reading file synthetic.vot\n",
      "3490168:INFO read 640 sources from synthetic.vot\n",
      "3490168:INFO modeled 640 sources\n",
      "3490168:INFO wrote residual to modified_residual.fits\n",
      "stty: 'standard input': Inappropriate ioctl for device\n",
      "stty: 'standard input': Inappropriate ioctl for device\n",
      "stty: 'standard input': Inappropriate ioctl for device\n",
      "stty: 'standard input': Inappropriate ioctl for device\n",
      "stty: 'standard input': Inappropriate ioctl for device\n"
     ]
    },
    {
     "name": "stdout",
     "output_type": "stream",
     "text": [
      "--> Wrote FITS file 'modified_residual.pybdsf.srl.fits'\n",
      "Iteration 83/100\n",
      "Generated 640 synthetic sources\n"
     ]
    },
    {
     "name": "stderr",
     "output_type": "stream",
     "text": [
      "3491331:INFO This is AeRes v0.2.7-(2020-07-30)\n",
      "3491331:INFO Using gaus_resid.fits and synthetic.vot to make modified_residual.fits\n",
      "3491331:INFO Reading file synthetic.vot\n",
      "3491331:INFO read 640 sources from synthetic.vot\n",
      "3491331:INFO modeled 640 sources\n",
      "3491331:INFO wrote residual to modified_residual.fits\n",
      "stty: 'standard input': Inappropriate ioctl for device\n",
      "stty: 'standard input': Inappropriate ioctl for device\n",
      "stty: 'standard input': Inappropriate ioctl for device\n",
      "stty: 'standard input': Inappropriate ioctl for device\n",
      "stty: 'standard input': Inappropriate ioctl for device\n"
     ]
    },
    {
     "name": "stdout",
     "output_type": "stream",
     "text": [
      "--> Wrote FITS file 'modified_residual.pybdsf.srl.fits'\n",
      "Iteration 84/100\n",
      "Generated 640 synthetic sources\n"
     ]
    },
    {
     "name": "stderr",
     "output_type": "stream",
     "text": [
      "3492472:INFO This is AeRes v0.2.7-(2020-07-30)\n",
      "3492472:INFO Using gaus_resid.fits and synthetic.vot to make modified_residual.fits\n",
      "3492472:INFO Reading file synthetic.vot\n",
      "3492472:INFO read 640 sources from synthetic.vot\n",
      "3492472:INFO modeled 640 sources\n",
      "3492472:INFO wrote residual to modified_residual.fits\n",
      "stty: 'standard input': Inappropriate ioctl for device\n",
      "stty: 'standard input': Inappropriate ioctl for device\n",
      "stty: 'standard input': Inappropriate ioctl for device\n",
      "stty: 'standard input': Inappropriate ioctl for device\n",
      "stty: 'standard input': Inappropriate ioctl for device\n"
     ]
    },
    {
     "name": "stdout",
     "output_type": "stream",
     "text": [
      "--> Wrote FITS file 'modified_residual.pybdsf.srl.fits'\n",
      "Iteration 85/100\n",
      "Generated 640 synthetic sources\n"
     ]
    },
    {
     "name": "stderr",
     "output_type": "stream",
     "text": [
      "3493629:INFO This is AeRes v0.2.7-(2020-07-30)\n",
      "3493629:INFO Using gaus_resid.fits and synthetic.vot to make modified_residual.fits\n",
      "3493629:INFO Reading file synthetic.vot\n",
      "3493629:INFO read 640 sources from synthetic.vot\n",
      "3493629:INFO modeled 640 sources\n",
      "3493629:INFO wrote residual to modified_residual.fits\n",
      "stty: 'standard input': Inappropriate ioctl for device\n",
      "stty: 'standard input': Inappropriate ioctl for device\n",
      "stty: 'standard input': Inappropriate ioctl for device\n",
      "stty: 'standard input': Inappropriate ioctl for device\n",
      "stty: 'standard input': Inappropriate ioctl for device\n"
     ]
    },
    {
     "name": "stdout",
     "output_type": "stream",
     "text": [
      "--> Wrote FITS file 'modified_residual.pybdsf.srl.fits'\n",
      "Iteration 86/100\n",
      "Generated 640 synthetic sources\n"
     ]
    },
    {
     "name": "stderr",
     "output_type": "stream",
     "text": [
      "3494787:INFO This is AeRes v0.2.7-(2020-07-30)\n",
      "3494787:INFO Using gaus_resid.fits and synthetic.vot to make modified_residual.fits\n",
      "3494787:INFO Reading file synthetic.vot\n",
      "3494787:INFO read 640 sources from synthetic.vot\n",
      "3494787:INFO modeled 640 sources\n",
      "3494787:INFO wrote residual to modified_residual.fits\n",
      "stty: 'standard input': Inappropriate ioctl for device\n",
      "stty: 'standard input': Inappropriate ioctl for device\n",
      "stty: 'standard input': Inappropriate ioctl for device\n",
      "stty: 'standard input': Inappropriate ioctl for device\n",
      "stty: 'standard input': Inappropriate ioctl for device\n"
     ]
    },
    {
     "name": "stdout",
     "output_type": "stream",
     "text": [
      "--> Wrote FITS file 'modified_residual.pybdsf.srl.fits'\n",
      "Iteration 87/100\n",
      "Generated 640 synthetic sources\n"
     ]
    },
    {
     "name": "stderr",
     "output_type": "stream",
     "text": [
      "3495945:INFO This is AeRes v0.2.7-(2020-07-30)\n",
      "3495945:INFO Using gaus_resid.fits and synthetic.vot to make modified_residual.fits\n",
      "3495945:INFO Reading file synthetic.vot\n",
      "3495945:INFO read 640 sources from synthetic.vot\n",
      "3495945:INFO modeled 640 sources\n",
      "3495945:INFO wrote residual to modified_residual.fits\n",
      "stty: 'standard input': Inappropriate ioctl for device\n",
      "stty: 'standard input': Inappropriate ioctl for device\n",
      "stty: 'standard input': Inappropriate ioctl for device\n",
      "stty: 'standard input': Inappropriate ioctl for device\n",
      "stty: 'standard input': Inappropriate ioctl for device\n"
     ]
    },
    {
     "name": "stdout",
     "output_type": "stream",
     "text": [
      "--> Wrote FITS file 'modified_residual.pybdsf.srl.fits'\n",
      "Iteration 88/100\n",
      "Generated 640 synthetic sources\n"
     ]
    },
    {
     "name": "stderr",
     "output_type": "stream",
     "text": [
      "3497093:INFO This is AeRes v0.2.7-(2020-07-30)\n",
      "3497093:INFO Using gaus_resid.fits and synthetic.vot to make modified_residual.fits\n",
      "3497093:INFO Reading file synthetic.vot\n",
      "3497093:INFO read 640 sources from synthetic.vot\n",
      "3497093:INFO modeled 640 sources\n",
      "3497093:INFO wrote residual to modified_residual.fits\n",
      "stty: 'standard input': Inappropriate ioctl for device\n",
      "stty: 'standard input': Inappropriate ioctl for device\n",
      "/home/asif/miniconda3/lib/python3.12/site-packages/bdsf/functions.py:624: RuntimeWarning: Number of calls to function has reached maxfev = 1400.\n",
      "  p, success = leastsq(errorfunction, p_ini)\n",
      "stty: 'standard input': Inappropriate ioctl for device\n",
      "stty: 'standard input': Inappropriate ioctl for device\n",
      "stty: 'standard input': Inappropriate ioctl for device\n"
     ]
    },
    {
     "name": "stdout",
     "output_type": "stream",
     "text": [
      "--> Wrote FITS file 'modified_residual.pybdsf.srl.fits'\n",
      "Iteration 89/100\n",
      "Generated 640 synthetic sources\n"
     ]
    },
    {
     "name": "stderr",
     "output_type": "stream",
     "text": [
      "3498252:INFO This is AeRes v0.2.7-(2020-07-30)\n",
      "3498252:INFO Using gaus_resid.fits and synthetic.vot to make modified_residual.fits\n",
      "3498252:INFO Reading file synthetic.vot\n",
      "3498252:INFO read 640 sources from synthetic.vot\n",
      "3498252:INFO modeled 640 sources\n",
      "3498252:INFO wrote residual to modified_residual.fits\n",
      "stty: 'standard input': Inappropriate ioctl for device\n",
      "stty: 'standard input': Inappropriate ioctl for device\n",
      "stty: 'standard input': Inappropriate ioctl for device\n",
      "stty: 'standard input': Inappropriate ioctl for device\n",
      "stty: 'standard input': Inappropriate ioctl for device\n"
     ]
    },
    {
     "name": "stdout",
     "output_type": "stream",
     "text": [
      "--> Wrote FITS file 'modified_residual.pybdsf.srl.fits'\n",
      "Iteration 90/100\n",
      "Generated 640 synthetic sources\n"
     ]
    },
    {
     "name": "stderr",
     "output_type": "stream",
     "text": [
      "3499476:INFO This is AeRes v0.2.7-(2020-07-30)\n",
      "3499476:INFO Using gaus_resid.fits and synthetic.vot to make modified_residual.fits\n",
      "3499476:INFO Reading file synthetic.vot\n",
      "3499476:INFO read 640 sources from synthetic.vot\n",
      "3499476:INFO modeled 640 sources\n",
      "3499476:INFO wrote residual to modified_residual.fits\n",
      "stty: 'standard input': Inappropriate ioctl for device\n",
      "stty: 'standard input': Inappropriate ioctl for device\n",
      "stty: 'standard input': Inappropriate ioctl for device\n",
      "stty: 'standard input': Inappropriate ioctl for device\n",
      "stty: 'standard input': Inappropriate ioctl for device\n"
     ]
    },
    {
     "name": "stdout",
     "output_type": "stream",
     "text": [
      "--> Wrote FITS file 'modified_residual.pybdsf.srl.fits'\n",
      "Iteration 91/100\n",
      "Generated 640 synthetic sources\n"
     ]
    },
    {
     "name": "stderr",
     "output_type": "stream",
     "text": [
      "3500625:INFO This is AeRes v0.2.7-(2020-07-30)\n",
      "3500625:INFO Using gaus_resid.fits and synthetic.vot to make modified_residual.fits\n",
      "3500625:INFO Reading file synthetic.vot\n",
      "3500625:INFO read 640 sources from synthetic.vot\n",
      "3500625:INFO modeled 640 sources\n",
      "3500625:INFO wrote residual to modified_residual.fits\n",
      "stty: 'standard input': Inappropriate ioctl for device\n",
      "stty: 'standard input': Inappropriate ioctl for device\n",
      "stty: 'standard input': Inappropriate ioctl for device\n",
      "stty: 'standard input': Inappropriate ioctl for device\n",
      "stty: 'standard input': Inappropriate ioctl for device\n"
     ]
    },
    {
     "name": "stdout",
     "output_type": "stream",
     "text": [
      "--> Wrote FITS file 'modified_residual.pybdsf.srl.fits'\n",
      "Iteration 92/100\n",
      "Generated 640 synthetic sources\n"
     ]
    },
    {
     "name": "stderr",
     "output_type": "stream",
     "text": [
      "3501791:INFO This is AeRes v0.2.7-(2020-07-30)\n",
      "3501791:INFO Using gaus_resid.fits and synthetic.vot to make modified_residual.fits\n",
      "3501791:INFO Reading file synthetic.vot\n",
      "3501791:INFO read 640 sources from synthetic.vot\n",
      "3501791:INFO modeled 640 sources\n",
      "3501791:INFO wrote residual to modified_residual.fits\n",
      "stty: 'standard input': Inappropriate ioctl for device\n",
      "stty: 'standard input': Inappropriate ioctl for device\n",
      "stty: 'standard input': Inappropriate ioctl for device\n",
      "stty: 'standard input': Inappropriate ioctl for device\n",
      "stty: 'standard input': Inappropriate ioctl for device\n"
     ]
    },
    {
     "name": "stdout",
     "output_type": "stream",
     "text": [
      "--> Wrote FITS file 'modified_residual.pybdsf.srl.fits'\n",
      "Iteration 93/100\n",
      "Generated 640 synthetic sources\n"
     ]
    },
    {
     "name": "stderr",
     "output_type": "stream",
     "text": [
      "3502945:INFO This is AeRes v0.2.7-(2020-07-30)\n",
      "3502945:INFO Using gaus_resid.fits and synthetic.vot to make modified_residual.fits\n",
      "3502945:INFO Reading file synthetic.vot\n",
      "3502945:INFO read 640 sources from synthetic.vot\n",
      "3502945:INFO modeled 640 sources\n",
      "3502945:INFO wrote residual to modified_residual.fits\n",
      "stty: 'standard input': Inappropriate ioctl for device\n",
      "stty: 'standard input': Inappropriate ioctl for device\n",
      "stty: 'standard input': Inappropriate ioctl for device\n",
      "stty: 'standard input': Inappropriate ioctl for device\n",
      "stty: 'standard input': Inappropriate ioctl for device\n"
     ]
    },
    {
     "name": "stdout",
     "output_type": "stream",
     "text": [
      "--> Wrote FITS file 'modified_residual.pybdsf.srl.fits'\n",
      "Iteration 94/100\n",
      "Generated 640 synthetic sources\n"
     ]
    },
    {
     "name": "stderr",
     "output_type": "stream",
     "text": [
      "3504125:INFO This is AeRes v0.2.7-(2020-07-30)\n",
      "3504125:INFO Using gaus_resid.fits and synthetic.vot to make modified_residual.fits\n",
      "3504125:INFO Reading file synthetic.vot\n",
      "3504125:INFO read 640 sources from synthetic.vot\n",
      "3504125:INFO modeled 640 sources\n",
      "3504125:INFO wrote residual to modified_residual.fits\n",
      "stty: 'standard input': Inappropriate ioctl for device\n",
      "stty: 'standard input': Inappropriate ioctl for device\n",
      "stty: 'standard input': Inappropriate ioctl for device\n",
      "stty: 'standard input': Inappropriate ioctl for device\n",
      "stty: 'standard input': Inappropriate ioctl for device\n"
     ]
    },
    {
     "name": "stdout",
     "output_type": "stream",
     "text": [
      "--> Wrote FITS file 'modified_residual.pybdsf.srl.fits'\n",
      "Iteration 95/100\n",
      "Generated 640 synthetic sources\n"
     ]
    },
    {
     "name": "stderr",
     "output_type": "stream",
     "text": [
      "3505411:INFO This is AeRes v0.2.7-(2020-07-30)\n",
      "3505411:INFO Using gaus_resid.fits and synthetic.vot to make modified_residual.fits\n",
      "3505411:INFO Reading file synthetic.vot\n",
      "3505411:INFO read 640 sources from synthetic.vot\n",
      "3505411:INFO modeled 640 sources\n",
      "3505411:INFO wrote residual to modified_residual.fits\n",
      "stty: 'standard input': Inappropriate ioctl for device\n",
      "stty: 'standard input': Inappropriate ioctl for device\n",
      "stty: 'standard input': Inappropriate ioctl for device\n",
      "stty: 'standard input': Inappropriate ioctl for device\n",
      "stty: 'standard input': Inappropriate ioctl for device\n"
     ]
    },
    {
     "name": "stdout",
     "output_type": "stream",
     "text": [
      "--> Wrote FITS file 'modified_residual.pybdsf.srl.fits'\n",
      "Iteration 96/100\n",
      "Generated 640 synthetic sources\n"
     ]
    },
    {
     "name": "stderr",
     "output_type": "stream",
     "text": [
      "3506753:INFO This is AeRes v0.2.7-(2020-07-30)\n",
      "3506753:INFO Using gaus_resid.fits and synthetic.vot to make modified_residual.fits\n",
      "3506753:INFO Reading file synthetic.vot\n",
      "3506753:INFO read 640 sources from synthetic.vot\n",
      "3506753:INFO modeled 640 sources\n",
      "3506753:INFO wrote residual to modified_residual.fits\n",
      "stty: 'standard input': Inappropriate ioctl for device\n",
      "stty: 'standard input': Inappropriate ioctl for device\n",
      "stty: 'standard input': Inappropriate ioctl for device\n",
      "stty: 'standard input': Inappropriate ioctl for device\n",
      "stty: 'standard input': Inappropriate ioctl for device\n"
     ]
    },
    {
     "name": "stdout",
     "output_type": "stream",
     "text": [
      "--> Wrote FITS file 'modified_residual.pybdsf.srl.fits'\n",
      "Iteration 97/100\n",
      "Generated 640 synthetic sources\n"
     ]
    },
    {
     "name": "stderr",
     "output_type": "stream",
     "text": [
      "3507968:INFO This is AeRes v0.2.7-(2020-07-30)\n",
      "3507968:INFO Using gaus_resid.fits and synthetic.vot to make modified_residual.fits\n",
      "3507968:INFO Reading file synthetic.vot\n",
      "3507968:INFO read 640 sources from synthetic.vot\n",
      "3507968:INFO modeled 640 sources\n",
      "3507968:INFO wrote residual to modified_residual.fits\n",
      "stty: 'standard input': Inappropriate ioctl for device\n",
      "stty: 'standard input': Inappropriate ioctl for device\n",
      "stty: 'standard input': Inappropriate ioctl for device\n",
      "stty: 'standard input': Inappropriate ioctl for device\n",
      "stty: 'standard input': Inappropriate ioctl for device\n"
     ]
    },
    {
     "name": "stdout",
     "output_type": "stream",
     "text": [
      "--> Wrote FITS file 'modified_residual.pybdsf.srl.fits'\n",
      "Iteration 98/100\n",
      "Generated 640 synthetic sources\n"
     ]
    },
    {
     "name": "stderr",
     "output_type": "stream",
     "text": [
      "3509273:INFO This is AeRes v0.2.7-(2020-07-30)\n",
      "3509273:INFO Using gaus_resid.fits and synthetic.vot to make modified_residual.fits\n",
      "3509273:INFO Reading file synthetic.vot\n",
      "3509273:INFO read 640 sources from synthetic.vot\n",
      "3509273:INFO modeled 640 sources\n",
      "3509273:INFO wrote residual to modified_residual.fits\n",
      "stty: 'standard input': Inappropriate ioctl for device\n",
      "stty: 'standard input': Inappropriate ioctl for device\n",
      "stty: 'standard input': Inappropriate ioctl for device\n",
      "stty: 'standard input': Inappropriate ioctl for device\n",
      "stty: 'standard input': Inappropriate ioctl for device\n"
     ]
    },
    {
     "name": "stdout",
     "output_type": "stream",
     "text": [
      "--> Wrote FITS file 'modified_residual.pybdsf.srl.fits'\n",
      "Iteration 99/100\n",
      "Generated 640 synthetic sources\n"
     ]
    },
    {
     "name": "stderr",
     "output_type": "stream",
     "text": [
      "3510424:INFO This is AeRes v0.2.7-(2020-07-30)\n",
      "3510424:INFO Using gaus_resid.fits and synthetic.vot to make modified_residual.fits\n",
      "3510424:INFO Reading file synthetic.vot\n",
      "3510424:INFO read 640 sources from synthetic.vot\n",
      "3510424:INFO modeled 640 sources\n",
      "3510424:INFO wrote residual to modified_residual.fits\n",
      "stty: 'standard input': Inappropriate ioctl for device\n",
      "stty: 'standard input': Inappropriate ioctl for device\n",
      "stty: 'standard input': Inappropriate ioctl for device\n",
      "stty: 'standard input': Inappropriate ioctl for device\n",
      "stty: 'standard input': Inappropriate ioctl for device\n"
     ]
    },
    {
     "name": "stdout",
     "output_type": "stream",
     "text": [
      "--> Wrote FITS file 'modified_residual.pybdsf.srl.fits'\n",
      "Iteration 100/100\n",
      "Generated 640 synthetic sources\n"
     ]
    },
    {
     "name": "stderr",
     "output_type": "stream",
     "text": [
      "3511583:INFO This is AeRes v0.2.7-(2020-07-30)\n",
      "3511583:INFO Using gaus_resid.fits and synthetic.vot to make modified_residual.fits\n",
      "3511583:INFO Reading file synthetic.vot\n",
      "3511583:INFO read 640 sources from synthetic.vot\n",
      "3511583:INFO modeled 640 sources\n",
      "3511583:INFO wrote residual to modified_residual.fits\n",
      "stty: 'standard input': Inappropriate ioctl for device\n",
      "stty: 'standard input': Inappropriate ioctl for device\n",
      "stty: 'standard input': Inappropriate ioctl for device\n",
      "stty: 'standard input': Inappropriate ioctl for device\n",
      "stty: 'standard input': Inappropriate ioctl for device\n"
     ]
    },
    {
     "name": "stdout",
     "output_type": "stream",
     "text": [
      "--> Wrote FITS file 'modified_residual.pybdsf.srl.fits'\n"
     ]
    }
   ],
   "source": [
    "num_sources = len(original_fluxes)\n",
    "\n",
    "for i in range(NN):\n",
    "    print(f\"Iteration {i+1}/{NN}\")\n",
    "    \n",
    "    # Either generate mock fluxes OR use real ones — pick one\n",
    "    flux_dens, is_ext = dnds.generate_mock_sources(num_sources, flux_min, flux_max, extended_fraction, seed=seeds[i])\n",
    "    # flux_dens = original_fluxes.copy()\n",
    "    is_ext = np.random.rand(len(flux_dens)) < extended_fraction\n",
    "\n",
    "    # Record injected counts\n",
    "    counts_injected[i], _ = np.histogram(flux_dens, bins=flux_bins)\n",
    "\n",
    "    # Create synthetic catalog\n",
    "    inj_flux, inj_ra, inj_dec = dnds.generate_synthetic_catalog(\n",
    "        catalog, 'synthetic.vot', flux_dens, is_ext, valid_ra, valid_dec, seed=seeds[i]\n",
    "    )\n",
    "\n",
    "    # Reset residual image\n",
    "    shutil.copy(residual_image, modified_image)\n",
    "\n",
    "    # Inject and recover\n",
    "    os.system(f\"AeRes --add -c synthetic.vot -f {residual_image} -r {modified_image}\")\n",
    "    dnds.run_pybdsf(modified_image)\n",
    "\n",
    "    # Read recovered catalog\n",
    "    with fits.open(modified_image.replace('.fits', '.pybdsf.srl.fits')) as hd:\n",
    "        rec = hd[1].data\n",
    "        rec_flux = np.array(rec['Total_flux'])\n",
    "        rec_ra = np.array(rec['RA'])\n",
    "        rec_dec = np.array(rec['DEC'])\n",
    "\n",
    "    # Match\n",
    "    inj_idx, rec_idx = dnds.match_recovered_sources(inj_ra, inj_dec, rec_ra, rec_dec)\n",
    "\n",
    "    # Histogram matched injected fluxes\n",
    "    matched_inj_flux = inj_flux[inj_idx]\n",
    "    counts_recovered[i], _ = np.histogram(matched_inj_flux, bins=flux_bins)\n"
   ]
  },
  {
   "cell_type": "code",
   "execution_count": 6,
   "id": "99eeb03e-d18b-4c9f-b8b0-e05e0e5dcaab",
   "metadata": {},
   "outputs": [
    {
     "data": {
      "text/plain": [
       "(array([[145., 105.,  67.,  40.,  32.,  18.,  17.,   5.,   2.,   1.],\n",
       "        [143.,  97.,  61.,  52.,  32.,  20.,   5.,   8.,   7.,   5.],\n",
       "        [151.,  97.,  58.,  38.,  25.,  18.,  10.,   9.,   2.,   5.],\n",
       "        [142.,  96.,  72.,  37.,  23.,  17.,   9.,   5.,   5.,   4.],\n",
       "        [157.,  97.,  59.,  34.,  32.,  21.,  11.,   9.,   8.,   3.],\n",
       "        [145.,  98.,  66.,  46.,  29.,  19.,  12.,   3.,   5.,   6.],\n",
       "        [153.,  96.,  64.,  42.,  25.,  21.,  17.,   7.,   4.,   2.],\n",
       "        [129.,  89.,  71.,  43.,  36.,  17.,  11.,  15.,   5.,   2.],\n",
       "        [173.,  96.,  65.,  45.,  16.,  20.,   6.,   8.,   3.,   3.],\n",
       "        [157.,  84.,  70.,  46.,  23.,  12.,   8.,   7.,   5.,   2.],\n",
       "        [141., 100.,  69.,  45.,  25.,  14.,   9.,  13.,   7.,   6.],\n",
       "        [141.,  95.,  74.,  49.,  31.,  19.,  14.,   6.,   6.,   1.],\n",
       "        [142., 100.,  70.,  35.,  25.,  22.,  14.,   8.,   3.,   4.],\n",
       "        [146.,  98.,  70.,  37.,  27.,  17.,  12.,   7.,   4.,   7.],\n",
       "        [140.,  97.,  61.,  43.,  28.,  25.,  15.,  11.,   4.,   5.],\n",
       "        [148., 104.,  62.,  37.,  29.,  16.,  12.,   6.,   5.,   2.],\n",
       "        [149.,  96.,  56.,  38.,  22.,  20.,  16.,  10.,   7.,   4.],\n",
       "        [137., 105.,  63.,  49.,  28.,  15.,  14.,   7.,   8.,   5.],\n",
       "        [130.,  85.,  61.,  55.,  25.,  23.,  15.,  15.,   6.,   3.],\n",
       "        [134.,  97.,  72.,  46.,  31.,  18.,  16.,   8.,   6.,   1.],\n",
       "        [145.,  91.,  60.,  43.,  33.,  21.,  16.,  11.,   4.,   4.],\n",
       "        [139.,  94.,  74.,  51.,  23.,  16.,  13.,  13.,  13.,   3.],\n",
       "        [148.,  96.,  58.,  39.,  23.,  24.,  14.,  10.,   9.,   2.],\n",
       "        [135.,  82.,  60.,  35.,  29.,  15.,  15.,   7.,   7.,   7.],\n",
       "        [144., 100.,  59.,  44.,  27.,  19.,  10.,   3.,   8.,   4.],\n",
       "        [152.,  84.,  57.,  44.,  29.,  16.,  19.,   7.,   9.,   1.],\n",
       "        [131.,  97.,  72.,  45.,  20.,  24.,  14.,   9.,   7.,   3.],\n",
       "        [161.,  94.,  60.,  36.,  25.,  19.,  15.,   5.,   7.,   3.],\n",
       "        [141.,  97.,  65.,  41.,  36.,  20.,  18.,   8.,   5.,   7.],\n",
       "        [160., 109.,  59.,  31.,  27.,  11.,   8.,   8.,   5.,   2.],\n",
       "        [130., 103.,  69.,  46.,  31.,  13.,  13.,   9.,   9.,   2.],\n",
       "        [149.,  97.,  52.,  42.,  31.,  17.,  12.,   6.,   7.,   5.],\n",
       "        [150., 109.,  55.,  34.,  32.,  25.,  17.,   4.,   4.,   2.],\n",
       "        [150.,  95.,  64.,  44.,  24.,  16.,  13.,   9.,   3.,   5.],\n",
       "        [159.,  99.,  65.,  39.,  30.,  10.,  11.,   8.,   3.,   6.],\n",
       "        [156.,  89.,  66.,  38.,  33.,  22.,  13.,   6.,   8.,   3.],\n",
       "        [148.,  99.,  68.,  43.,  38.,  18.,  14.,   8.,   5.,   6.],\n",
       "        [167., 104.,  53.,  38.,  33.,  19.,   8.,   5.,   6.,   3.],\n",
       "        [154., 106.,  58.,  37.,  24.,  21.,  16.,  11.,   7.,   6.],\n",
       "        [153.,  86.,  69.,  53.,  25.,  24.,   4.,  14.,   4.,   4.],\n",
       "        [148., 105.,  67.,  40.,  25.,  21.,  11.,   2.,   7.,   2.],\n",
       "        [136.,  95.,  60.,  51.,  24.,  15.,  12.,   7.,   6.,   2.],\n",
       "        [125.,  84.,  61.,  44.,  29.,  22.,  14.,   9.,   3.,   1.],\n",
       "        [114., 102.,  74.,  47.,  25.,  22.,  20.,   7.,   4.,   4.],\n",
       "        [133., 105.,  73.,  36.,  33.,  20.,  13.,   7.,   3.,   1.],\n",
       "        [141.,  87.,  57.,  50.,  26.,  18.,  14.,   4.,   8.,   7.],\n",
       "        [124., 107.,  60.,  36.,  33.,  23.,  12.,  12.,   6.,   8.],\n",
       "        [155., 102.,  55.,  49.,  30.,  13.,   9.,   9.,   5.,   3.],\n",
       "        [149.,  93.,  58.,  32.,  22.,  17.,  13.,  12.,   3.,   8.],\n",
       "        [158., 102.,  59.,  33.,  24.,  19.,  11.,   2.,   4.,   4.],\n",
       "        [149.,  93.,  58.,  32.,  22.,  17.,  13.,  12.,   3.,   8.],\n",
       "        [144.,  97.,  72.,  46.,  30.,  21.,  13.,   0.,  12.,   4.],\n",
       "        [140.,  96.,  61.,  39.,  24.,  23.,  12.,  10.,   2.,   3.],\n",
       "        [154.,  98.,  59.,  35.,  24.,  20.,  13.,   7.,   6.,   6.],\n",
       "        [161.,  96.,  50.,  44.,  25.,  14.,  12.,   3.,   5.,   2.],\n",
       "        [163., 103.,  58.,  45.,  27.,  12.,  12.,   6.,   6.,   2.],\n",
       "        [135., 100.,  71.,  49.,  22.,  16.,  18.,  14.,   7.,   4.],\n",
       "        [134.,  97.,  72.,  46.,  31.,  18.,  16.,   8.,   6.,   1.],\n",
       "        [127.,  86.,  73.,  43.,  26.,  25.,  18.,   7.,   4.,   7.],\n",
       "        [147.,  86.,  58.,  32.,  25.,  19.,   9.,  10.,   4.,   2.],\n",
       "        [145.,  81.,  67.,  43.,  25.,  18.,  12.,  10.,   6.,   3.],\n",
       "        [129.,  89.,  71.,  43.,  36.,  17.,  11.,  15.,   5.,   2.],\n",
       "        [147., 101.,  65.,  36.,  29.,  13.,  20.,   7.,   1.,   2.],\n",
       "        [154.,  90.,  72.,  44.,  24.,  22.,  15.,  12.,   2.,   3.],\n",
       "        [146.,  97.,  64.,  42.,  25.,  17.,  11.,   9.,   8.,   2.],\n",
       "        [141.,  92.,  70.,  35.,  32.,  19.,  13.,   8.,   7.,   4.],\n",
       "        [153.,  92.,  77.,  40.,  23.,  21.,   8.,   7.,   4.,   5.],\n",
       "        [133.,  84.,  55.,  46.,  25.,  19.,  11.,  12.,   5.,   3.],\n",
       "        [172.,  82.,  58.,  27.,  23.,  20.,  16.,   8.,   7.,   8.],\n",
       "        [132.,  88.,  63.,  55.,  34.,  20.,  15.,   6.,   2.,   5.],\n",
       "        [151.,  87.,  82.,  31.,  22.,  11.,   9.,   5.,   9.,   2.],\n",
       "        [143.,  99.,  63.,  46.,  28.,  19.,   8.,  10.,   4.,   3.],\n",
       "        [145.,  86.,  86.,  45.,  20.,  27.,  14.,   7.,   2.,   2.],\n",
       "        [138.,  91.,  72.,  45.,  29.,  15.,  12.,  10.,   7.,   4.],\n",
       "        [159.,  78.,  61.,  45.,  27.,  14.,  15.,  16.,   3.,   4.],\n",
       "        [144.,  87.,  66.,  48.,  31.,  29.,  13.,   9.,   4.,   2.],\n",
       "        [125.,  76.,  74.,  43.,  24.,  19.,  19.,  12.,   7.,   5.],\n",
       "        [160., 109.,  59.,  31.,  27.,  11.,   8.,   8.,   5.,   2.],\n",
       "        [138.,  80.,  61.,  54.,  37.,  21.,  11.,   4.,   6.,   3.],\n",
       "        [157.,  91.,  65.,  46.,  17.,  17.,  17.,   6.,   3.,   3.],\n",
       "        [146.,  99.,  69.,  39.,  28.,  16.,  15.,   9.,   4.,   4.],\n",
       "        [133., 103.,  62.,  44.,  29.,  16.,  12.,   5.,   5.,   3.],\n",
       "        [160.,  94.,  66.,  42.,  26.,  20.,  16.,  10.,   6.,   1.],\n",
       "        [156.,  89.,  65.,  45.,  21.,  16.,  23.,   7.,   8.,   2.],\n",
       "        [146., 103.,  58.,  45.,  22.,  18.,  14.,   7.,   2.,   5.],\n",
       "        [144., 101.,  57.,  44.,  23.,  17.,   9.,   7.,   3.,   5.],\n",
       "        [137.,  91.,  60.,  43.,  23.,  21.,   9.,   4.,   6.,   5.],\n",
       "        [152.,  92.,  60.,  46.,  25.,  16.,  10.,  13.,   1.,   4.],\n",
       "        [137., 105.,  63.,  49.,  28.,  15.,  14.,   7.,   8.,   5.],\n",
       "        [141.,  92.,  70.,  35.,  32.,  19.,  13.,   8.,   7.,   4.],\n",
       "        [158.,  96.,  50.,  44.,  19.,  21.,  12.,   6.,   7.,   3.],\n",
       "        [138., 104.,  66.,  37.,  33.,  15.,  20.,  12.,   2.,   2.],\n",
       "        [142., 100.,  64.,  46.,  18.,  25.,  14.,   4.,   4.,   5.],\n",
       "        [139.,  96.,  61.,  54.,  21.,  17.,  13.,  14.,   6.,   2.],\n",
       "        [113., 101.,  66.,  39.,  34.,  19.,  18.,   7.,   4.,   4.],\n",
       "        [148.,  92.,  64.,  52.,  17.,  19.,  11.,   5.,   7.,   3.],\n",
       "        [132.,  91.,  64.,  43.,  25.,  23.,  11.,  11.,   5.,   1.],\n",
       "        [130.,  91.,  75.,  36.,  34.,  20.,  15.,  10.,   6.,   0.],\n",
       "        [153.,  98.,  64.,  44.,  32.,  11.,  13.,   6.,   4.,   1.],\n",
       "        [143.,  96.,  72.,  38.,  39.,  13.,  10.,   5.,   4.,   2.]]),\n",
       " array([[71., 83., 59., 40., 32., 18., 17.,  5.,  2.,  1.],\n",
       "        [80., 73., 54., 49., 32., 20.,  5.,  8.,  7.,  5.],\n",
       "        [62., 75., 53., 36., 25., 18., 10.,  9.,  2.,  5.],\n",
       "        [59., 73., 59., 37., 23., 16.,  9.,  5.,  5.,  4.],\n",
       "        [80., 73., 51., 33., 31., 21., 11.,  9.,  8.,  3.],\n",
       "        [78., 71., 64., 45., 29., 19., 12.,  3.,  5.,  6.],\n",
       "        [71., 75., 59., 42., 25., 21., 17.,  7.,  4.,  2.],\n",
       "        [63., 72., 62., 43., 36., 17., 11., 15.,  5.,  2.],\n",
       "        [87., 73., 60., 42., 16., 20.,  6.,  8.,  3.,  3.],\n",
       "        [74., 68., 63., 46., 23., 12.,  8.,  7.,  5.,  2.],\n",
       "        [77., 75., 65., 43., 25., 14.,  9., 13.,  7.,  6.],\n",
       "        [70., 72., 66., 48., 31., 19., 14.,  6.,  6.,  1.],\n",
       "        [70., 85., 63., 34., 25., 22., 14.,  8.,  3.,  4.],\n",
       "        [72., 78., 62., 36., 27., 17., 12.,  7.,  4.,  7.],\n",
       "        [74., 75., 59., 42., 28., 25., 15., 11.,  4.,  5.],\n",
       "        [73., 69., 56., 37., 29., 16., 12.,  6.,  5.,  2.],\n",
       "        [71., 65., 50., 38., 22., 20., 16., 10.,  7.,  4.],\n",
       "        [65., 76., 53., 46., 28., 15., 14.,  7.,  8.,  5.],\n",
       "        [68., 72., 54., 55., 25., 23., 15., 15.,  6.,  3.],\n",
       "        [59., 73., 65., 46., 31., 18., 15.,  8.,  6.,  1.],\n",
       "        [74., 64., 57., 42., 32., 21., 15., 11.,  4.,  4.],\n",
       "        [71., 75., 68., 51., 23., 16., 13., 13., 12.,  3.],\n",
       "        [71., 67., 52., 37., 23., 24., 14., 10.,  9.,  2.],\n",
       "        [76., 64., 57., 35., 29., 15., 15.,  7.,  7.,  7.],\n",
       "        [71., 73., 55., 43., 27., 19., 10.,  3.,  8.,  4.],\n",
       "        [67., 63., 49., 43., 29., 16., 19.,  7.,  9.,  1.],\n",
       "        [75., 80., 68., 44., 20., 24., 14.,  9.,  7.,  3.],\n",
       "        [77., 70., 55., 33., 25., 19., 15.,  5.,  7.,  3.],\n",
       "        [56., 61., 62., 40., 35., 20., 18.,  8.,  5.,  7.],\n",
       "        [67., 89., 56., 30., 27., 11.,  8.,  8.,  5.,  2.],\n",
       "        [62., 77., 67., 46., 31., 13., 13.,  9.,  9.,  2.],\n",
       "        [79., 65., 47., 41., 31., 17., 12.,  6.,  7.,  5.],\n",
       "        [71., 82., 55., 34., 31., 25., 17.,  4.,  4.,  2.],\n",
       "        [69., 68., 56., 42., 24., 16., 13.,  9.,  3.,  5.],\n",
       "        [76., 67., 55., 38., 30., 10., 11.,  8.,  3.,  6.],\n",
       "        [71., 65., 59., 36., 33., 22., 13.,  6.,  8.,  3.],\n",
       "        [73., 80., 62., 43., 38., 18., 14.,  8.,  5.,  6.],\n",
       "        [77., 80., 49., 38., 33., 18.,  8.,  5.,  6.,  3.],\n",
       "        [78., 87., 50., 36., 24., 21., 16., 11.,  6.,  6.],\n",
       "        [76., 72., 67., 53., 25., 24.,  4., 14.,  4.,  4.],\n",
       "        [72., 79., 63., 40., 25., 21., 11.,  2.,  7.,  2.],\n",
       "        [76., 80., 53., 51., 24., 15., 12.,  7.,  6.,  2.],\n",
       "        [66., 64., 55., 44., 29., 22., 14.,  9.,  3.,  1.],\n",
       "        [52., 72., 67., 47., 25., 22., 20.,  7.,  4.,  4.],\n",
       "        [73., 71., 67., 36., 33., 20., 13.,  7.,  3.,  1.],\n",
       "        [59., 59., 50., 48., 26., 18., 14.,  4.,  8.,  7.],\n",
       "        [57., 87., 58., 35., 33., 23., 12., 12.,  6.,  8.],\n",
       "        [75., 85., 53., 47., 30., 13.,  9.,  9.,  5.,  3.],\n",
       "        [69., 73., 54., 31., 22., 17., 13., 11.,  3.,  8.],\n",
       "        [73., 80., 53., 31., 24., 19., 11.,  2.,  4.,  4.],\n",
       "        [69., 73., 54., 31., 22., 17., 13., 11.,  3.,  8.],\n",
       "        [68., 79., 69., 45., 30., 20., 13.,  0., 12.,  4.],\n",
       "        [79., 78., 54., 37., 24., 23., 12., 10.,  2.,  3.],\n",
       "        [86., 77., 53., 33., 24., 20., 12.,  7.,  6.,  6.],\n",
       "        [71., 67., 44., 42., 24., 14., 12.,  3.,  5.,  2.],\n",
       "        [75., 77., 51., 45., 27., 12., 12.,  6.,  6.,  2.],\n",
       "        [68., 77., 61., 49., 22., 16., 18., 14.,  7.,  4.],\n",
       "        [59., 73., 65., 46., 31., 18., 15.,  8.,  6.,  1.],\n",
       "        [60., 68., 67., 43., 26., 25., 18.,  7.,  4.,  7.],\n",
       "        [75., 69., 55., 31., 25., 19.,  9., 10.,  4.,  2.],\n",
       "        [68., 65., 61., 42., 25., 17., 12.,  9.,  6.,  3.],\n",
       "        [63., 72., 62., 43., 36., 17., 11., 15.,  5.,  2.],\n",
       "        [75., 80., 62., 35., 29., 13., 20.,  7.,  1.,  2.],\n",
       "        [78., 71., 63., 43., 24., 22., 15., 12.,  2.,  3.],\n",
       "        [76., 85., 54., 38., 25., 17., 11.,  9.,  7.,  2.],\n",
       "        [68., 69., 69., 35., 32., 19., 13.,  8.,  7.,  4.],\n",
       "        [80., 74., 68., 39., 22., 21.,  8.,  7.,  4.,  5.],\n",
       "        [73., 59., 48., 45., 25., 19., 11., 12.,  5.,  3.],\n",
       "        [93., 64., 52., 26., 23., 20., 16.,  8.,  7.,  8.],\n",
       "        [68., 67., 51., 54., 34., 20., 15.,  6.,  2.,  5.],\n",
       "        [78., 76., 74., 30., 22., 11.,  9.,  5.,  9.,  2.],\n",
       "        [74., 70., 61., 45., 28., 19.,  8., 10.,  3.,  3.],\n",
       "        [80., 67., 77., 45., 20., 27., 13.,  7.,  2.,  2.],\n",
       "        [69., 73., 63., 43., 29., 15., 12., 10.,  7.,  4.],\n",
       "        [69., 64., 56., 44., 27., 14., 15., 16.,  3.,  4.],\n",
       "        [70., 59., 59., 48., 31., 29., 13.,  9.,  4.,  2.],\n",
       "        [71., 58., 66., 41., 24., 19., 19., 12.,  7.,  5.],\n",
       "        [67., 89., 56., 30., 27., 11.,  8.,  8.,  5.,  2.],\n",
       "        [69., 61., 53., 54., 37., 21., 10.,  4.,  6.,  3.],\n",
       "        [73., 69., 55., 46., 17., 17., 17.,  6.,  3.,  3.],\n",
       "        [74., 77., 61., 38., 28., 16., 15.,  9.,  4.,  4.],\n",
       "        [58., 77., 57., 42., 29., 16., 12.,  5.,  5.,  3.],\n",
       "        [77., 74., 58., 42., 26., 20., 16., 10.,  6.,  1.],\n",
       "        [70., 70., 58., 44., 21., 16., 23.,  7.,  8.,  2.],\n",
       "        [67., 77., 53., 43., 22., 18., 14.,  7.,  2.,  5.],\n",
       "        [67., 76., 50., 43., 23., 17.,  9.,  7.,  3.,  5.],\n",
       "        [62., 62., 52., 43., 23., 21.,  9.,  4.,  6.,  5.],\n",
       "        [65., 67., 55., 45., 25., 16., 10., 13.,  1.,  4.],\n",
       "        [65., 76., 53., 46., 28., 15., 14.,  7.,  8.,  5.],\n",
       "        [68., 69., 69., 35., 32., 19., 13.,  8.,  7.,  4.],\n",
       "        [71., 71., 46., 44., 19., 21., 12.,  6.,  7.,  3.],\n",
       "        [63., 80., 59., 37., 32., 14., 20., 12.,  2.,  2.],\n",
       "        [80., 84., 63., 46., 18., 25., 14.,  4.,  4.,  5.],\n",
       "        [72., 75., 55., 52., 21., 17., 13., 14.,  6.,  2.],\n",
       "        [57., 78., 56., 39., 34., 19., 18.,  7.,  4.,  4.],\n",
       "        [80., 75., 60., 50., 17., 19., 11.,  5.,  7.,  3.],\n",
       "        [69., 64., 59., 41., 25., 23., 11., 11.,  5.,  1.],\n",
       "        [68., 70., 68., 36., 34., 20., 15., 10.,  6.,  0.],\n",
       "        [79., 72., 61., 43., 32., 11., 13.,  6.,  4.,  1.],\n",
       "        [66., 72., 63., 36., 39., 13., 10.,  5.,  4.,  2.]]))"
      ]
     },
     "execution_count": 6,
     "metadata": {},
     "output_type": "execute_result"
    }
   ],
   "source": [
    "counts_injected, counts_recovered\n",
    "\n",
    "# (array([[13., 32., 34., 38., 16.,  8.,  2.,  0.,  0.,  0.],\n",
    "#         [13., 32., 34., 38., 16.,  8.,  2.,  0.,  0.,  0.]]),\n",
    "#  array([[ 2., 12., 40., 35., 28., 12.,  6.,  0.,  0.,  0.],\n",
    "#         [ 1., 14., 36., 37., 29., 14.,  5.,  0.,  0.,  0.]]))"
   ]
  },
  {
   "cell_type": "code",
   "execution_count": null,
   "id": "2ccafc3f-e163-474d-8afc-3a61b34abff6",
   "metadata": {},
   "outputs": [],
   "source": []
  },
  {
   "cell_type": "code",
   "execution_count": 7,
   "id": "f8a478cc-9a78-42fe-a7ad-f07d9c522f4b",
   "metadata": {},
   "outputs": [],
   "source": [
    "correction_factor_rea = 0.*counts_recovered\n",
    "\n",
    "for ii in range(NN):\n",
    "    correction_factor_rea[ii] = np.where(counts_recovered[ii] > 0, counts_injected[ii] / counts_recovered[ii], 1.)\n"
   ]
  },
  {
   "cell_type": "code",
   "execution_count": 8,
   "id": "9f488134-9b56-45da-950f-5e5bf0476ae8",
   "metadata": {},
   "outputs": [
    {
     "data": {
      "text/plain": [
       "array([[2.04225352, 1.26506024, 1.13559322, 1.        , 1.        ,\n",
       "        1.        , 1.        , 1.        , 1.        , 1.        ],\n",
       "       [1.7875    , 1.32876712, 1.12962963, 1.06122449, 1.        ,\n",
       "        1.        , 1.        , 1.        , 1.        , 1.        ],\n",
       "       [2.43548387, 1.29333333, 1.09433962, 1.05555556, 1.        ,\n",
       "        1.        , 1.        , 1.        , 1.        , 1.        ],\n",
       "       [2.40677966, 1.31506849, 1.22033898, 1.        , 1.        ,\n",
       "        1.0625    , 1.        , 1.        , 1.        , 1.        ],\n",
       "       [1.9625    , 1.32876712, 1.15686275, 1.03030303, 1.03225806,\n",
       "        1.        , 1.        , 1.        , 1.        , 1.        ],\n",
       "       [1.85897436, 1.38028169, 1.03125   , 1.02222222, 1.        ,\n",
       "        1.        , 1.        , 1.        , 1.        , 1.        ],\n",
       "       [2.15492958, 1.28      , 1.08474576, 1.        , 1.        ,\n",
       "        1.        , 1.        , 1.        , 1.        , 1.        ],\n",
       "       [2.04761905, 1.23611111, 1.14516129, 1.        , 1.        ,\n",
       "        1.        , 1.        , 1.        , 1.        , 1.        ],\n",
       "       [1.98850575, 1.31506849, 1.08333333, 1.07142857, 1.        ,\n",
       "        1.        , 1.        , 1.        , 1.        , 1.        ],\n",
       "       [2.12162162, 1.23529412, 1.11111111, 1.        , 1.        ,\n",
       "        1.        , 1.        , 1.        , 1.        , 1.        ],\n",
       "       [1.83116883, 1.33333333, 1.06153846, 1.04651163, 1.        ,\n",
       "        1.        , 1.        , 1.        , 1.        , 1.        ],\n",
       "       [2.01428571, 1.31944444, 1.12121212, 1.02083333, 1.        ,\n",
       "        1.        , 1.        , 1.        , 1.        , 1.        ],\n",
       "       [2.02857143, 1.17647059, 1.11111111, 1.02941176, 1.        ,\n",
       "        1.        , 1.        , 1.        , 1.        , 1.        ],\n",
       "       [2.02777778, 1.25641026, 1.12903226, 1.02777778, 1.        ,\n",
       "        1.        , 1.        , 1.        , 1.        , 1.        ],\n",
       "       [1.89189189, 1.29333333, 1.03389831, 1.02380952, 1.        ,\n",
       "        1.        , 1.        , 1.        , 1.        , 1.        ],\n",
       "       [2.02739726, 1.50724638, 1.10714286, 1.        , 1.        ,\n",
       "        1.        , 1.        , 1.        , 1.        , 1.        ],\n",
       "       [2.09859155, 1.47692308, 1.12      , 1.        , 1.        ,\n",
       "        1.        , 1.        , 1.        , 1.        , 1.        ],\n",
       "       [2.10769231, 1.38157895, 1.18867925, 1.06521739, 1.        ,\n",
       "        1.        , 1.        , 1.        , 1.        , 1.        ],\n",
       "       [1.91176471, 1.18055556, 1.12962963, 1.        , 1.        ,\n",
       "        1.        , 1.        , 1.        , 1.        , 1.        ],\n",
       "       [2.27118644, 1.32876712, 1.10769231, 1.        , 1.        ,\n",
       "        1.        , 1.06666667, 1.        , 1.        , 1.        ],\n",
       "       [1.95945946, 1.421875  , 1.05263158, 1.02380952, 1.03125   ,\n",
       "        1.        , 1.06666667, 1.        , 1.        , 1.        ],\n",
       "       [1.95774648, 1.25333333, 1.08823529, 1.        , 1.        ,\n",
       "        1.        , 1.        , 1.        , 1.08333333, 1.        ],\n",
       "       [2.08450704, 1.43283582, 1.11538462, 1.05405405, 1.        ,\n",
       "        1.        , 1.        , 1.        , 1.        , 1.        ],\n",
       "       [1.77631579, 1.28125   , 1.05263158, 1.        , 1.        ,\n",
       "        1.        , 1.        , 1.        , 1.        , 1.        ],\n",
       "       [2.02816901, 1.36986301, 1.07272727, 1.02325581, 1.        ,\n",
       "        1.        , 1.        , 1.        , 1.        , 1.        ],\n",
       "       [2.26865672, 1.33333333, 1.16326531, 1.02325581, 1.        ,\n",
       "        1.        , 1.        , 1.        , 1.        , 1.        ],\n",
       "       [1.74666667, 1.2125    , 1.05882353, 1.02272727, 1.        ,\n",
       "        1.        , 1.        , 1.        , 1.        , 1.        ],\n",
       "       [2.09090909, 1.34285714, 1.09090909, 1.09090909, 1.        ,\n",
       "        1.        , 1.        , 1.        , 1.        , 1.        ],\n",
       "       [2.51785714, 1.59016393, 1.0483871 , 1.025     , 1.02857143,\n",
       "        1.        , 1.        , 1.        , 1.        , 1.        ],\n",
       "       [2.3880597 , 1.2247191 , 1.05357143, 1.03333333, 1.        ,\n",
       "        1.        , 1.        , 1.        , 1.        , 1.        ],\n",
       "       [2.09677419, 1.33766234, 1.02985075, 1.        , 1.        ,\n",
       "        1.        , 1.        , 1.        , 1.        , 1.        ],\n",
       "       [1.88607595, 1.49230769, 1.10638298, 1.02439024, 1.        ,\n",
       "        1.        , 1.        , 1.        , 1.        , 1.        ],\n",
       "       [2.11267606, 1.32926829, 1.        , 1.        , 1.03225806,\n",
       "        1.        , 1.        , 1.        , 1.        , 1.        ],\n",
       "       [2.17391304, 1.39705882, 1.14285714, 1.04761905, 1.        ,\n",
       "        1.        , 1.        , 1.        , 1.        , 1.        ],\n",
       "       [2.09210526, 1.47761194, 1.18181818, 1.02631579, 1.        ,\n",
       "        1.        , 1.        , 1.        , 1.        , 1.        ],\n",
       "       [2.1971831 , 1.36923077, 1.11864407, 1.05555556, 1.        ,\n",
       "        1.        , 1.        , 1.        , 1.        , 1.        ],\n",
       "       [2.02739726, 1.2375    , 1.09677419, 1.        , 1.        ,\n",
       "        1.        , 1.        , 1.        , 1.        , 1.        ],\n",
       "       [2.16883117, 1.3       , 1.08163265, 1.        , 1.        ,\n",
       "        1.05555556, 1.        , 1.        , 1.        , 1.        ],\n",
       "       [1.97435897, 1.2183908 , 1.16      , 1.02777778, 1.        ,\n",
       "        1.        , 1.        , 1.        , 1.16666667, 1.        ],\n",
       "       [2.01315789, 1.19444444, 1.02985075, 1.        , 1.        ,\n",
       "        1.        , 1.        , 1.        , 1.        , 1.        ],\n",
       "       [2.05555556, 1.32911392, 1.06349206, 1.        , 1.        ,\n",
       "        1.        , 1.        , 1.        , 1.        , 1.        ],\n",
       "       [1.78947368, 1.1875    , 1.13207547, 1.        , 1.        ,\n",
       "        1.        , 1.        , 1.        , 1.        , 1.        ],\n",
       "       [1.89393939, 1.3125    , 1.10909091, 1.        , 1.        ,\n",
       "        1.        , 1.        , 1.        , 1.        , 1.        ],\n",
       "       [2.19230769, 1.41666667, 1.10447761, 1.        , 1.        ,\n",
       "        1.        , 1.        , 1.        , 1.        , 1.        ],\n",
       "       [1.82191781, 1.47887324, 1.08955224, 1.        , 1.        ,\n",
       "        1.        , 1.        , 1.        , 1.        , 1.        ],\n",
       "       [2.38983051, 1.47457627, 1.14      , 1.04166667, 1.        ,\n",
       "        1.        , 1.        , 1.        , 1.        , 1.        ],\n",
       "       [2.1754386 , 1.22988506, 1.03448276, 1.02857143, 1.        ,\n",
       "        1.        , 1.        , 1.        , 1.        , 1.        ],\n",
       "       [2.06666667, 1.2       , 1.03773585, 1.04255319, 1.        ,\n",
       "        1.        , 1.        , 1.        , 1.        , 1.        ],\n",
       "       [2.15942029, 1.2739726 , 1.07407407, 1.03225806, 1.        ,\n",
       "        1.        , 1.        , 1.09090909, 1.        , 1.        ],\n",
       "       [2.16438356, 1.275     , 1.11320755, 1.06451613, 1.        ,\n",
       "        1.        , 1.        , 1.        , 1.        , 1.        ],\n",
       "       [2.15942029, 1.2739726 , 1.07407407, 1.03225806, 1.        ,\n",
       "        1.        , 1.        , 1.09090909, 1.        , 1.        ],\n",
       "       [2.11764706, 1.2278481 , 1.04347826, 1.02222222, 1.        ,\n",
       "        1.05      , 1.        , 1.        , 1.        , 1.        ],\n",
       "       [1.7721519 , 1.23076923, 1.12962963, 1.05405405, 1.        ,\n",
       "        1.        , 1.        , 1.        , 1.        , 1.        ],\n",
       "       [1.79069767, 1.27272727, 1.11320755, 1.06060606, 1.        ,\n",
       "        1.        , 1.08333333, 1.        , 1.        , 1.        ],\n",
       "       [2.26760563, 1.43283582, 1.13636364, 1.04761905, 1.04166667,\n",
       "        1.        , 1.        , 1.        , 1.        , 1.        ],\n",
       "       [2.17333333, 1.33766234, 1.1372549 , 1.        , 1.        ,\n",
       "        1.        , 1.        , 1.        , 1.        , 1.        ],\n",
       "       [1.98529412, 1.2987013 , 1.16393443, 1.        , 1.        ,\n",
       "        1.        , 1.        , 1.        , 1.        , 1.        ],\n",
       "       [2.27118644, 1.32876712, 1.10769231, 1.        , 1.        ,\n",
       "        1.        , 1.06666667, 1.        , 1.        , 1.        ],\n",
       "       [2.11666667, 1.26470588, 1.08955224, 1.        , 1.        ,\n",
       "        1.        , 1.        , 1.        , 1.        , 1.        ],\n",
       "       [1.96      , 1.24637681, 1.05454545, 1.03225806, 1.        ,\n",
       "        1.        , 1.        , 1.        , 1.        , 1.        ],\n",
       "       [2.13235294, 1.24615385, 1.09836066, 1.02380952, 1.        ,\n",
       "        1.05882353, 1.        , 1.11111111, 1.        , 1.        ],\n",
       "       [2.04761905, 1.23611111, 1.14516129, 1.        , 1.        ,\n",
       "        1.        , 1.        , 1.        , 1.        , 1.        ],\n",
       "       [1.96      , 1.2625    , 1.0483871 , 1.02857143, 1.        ,\n",
       "        1.        , 1.        , 1.        , 1.        , 1.        ],\n",
       "       [1.97435897, 1.26760563, 1.14285714, 1.02325581, 1.        ,\n",
       "        1.        , 1.        , 1.        , 1.        , 1.        ],\n",
       "       [1.92105263, 1.14117647, 1.18518519, 1.10526316, 1.        ,\n",
       "        1.        , 1.        , 1.        , 1.14285714, 1.        ],\n",
       "       [2.07352941, 1.33333333, 1.01449275, 1.        , 1.        ,\n",
       "        1.        , 1.        , 1.        , 1.        , 1.        ],\n",
       "       [1.9125    , 1.24324324, 1.13235294, 1.02564103, 1.04545455,\n",
       "        1.        , 1.        , 1.        , 1.        , 1.        ],\n",
       "       [1.82191781, 1.42372881, 1.14583333, 1.02222222, 1.        ,\n",
       "        1.        , 1.        , 1.        , 1.        , 1.        ],\n",
       "       [1.84946237, 1.28125   , 1.11538462, 1.03846154, 1.        ,\n",
       "        1.        , 1.        , 1.        , 1.        , 1.        ],\n",
       "       [1.94117647, 1.31343284, 1.23529412, 1.01851852, 1.        ,\n",
       "        1.        , 1.        , 1.        , 1.        , 1.        ],\n",
       "       [1.93589744, 1.14473684, 1.10810811, 1.03333333, 1.        ,\n",
       "        1.        , 1.        , 1.        , 1.        , 1.        ],\n",
       "       [1.93243243, 1.41428571, 1.03278689, 1.02222222, 1.        ,\n",
       "        1.        , 1.        , 1.        , 1.33333333, 1.        ],\n",
       "       [1.8125    , 1.28358209, 1.11688312, 1.        , 1.        ,\n",
       "        1.        , 1.07692308, 1.        , 1.        , 1.        ],\n",
       "       [2.        , 1.24657534, 1.14285714, 1.04651163, 1.        ,\n",
       "        1.        , 1.        , 1.        , 1.        , 1.        ],\n",
       "       [2.30434783, 1.21875   , 1.08928571, 1.02272727, 1.        ,\n",
       "        1.        , 1.        , 1.        , 1.        , 1.        ],\n",
       "       [2.05714286, 1.47457627, 1.11864407, 1.        , 1.        ,\n",
       "        1.        , 1.        , 1.        , 1.        , 1.        ],\n",
       "       [1.76056338, 1.31034483, 1.12121212, 1.04878049, 1.        ,\n",
       "        1.        , 1.        , 1.        , 1.        , 1.        ],\n",
       "       [2.3880597 , 1.2247191 , 1.05357143, 1.03333333, 1.        ,\n",
       "        1.        , 1.        , 1.        , 1.        , 1.        ],\n",
       "       [2.        , 1.31147541, 1.1509434 , 1.        , 1.        ,\n",
       "        1.        , 1.1       , 1.        , 1.        , 1.        ],\n",
       "       [2.15068493, 1.31884058, 1.18181818, 1.        , 1.        ,\n",
       "        1.        , 1.        , 1.        , 1.        , 1.        ],\n",
       "       [1.97297297, 1.28571429, 1.13114754, 1.02631579, 1.        ,\n",
       "        1.        , 1.        , 1.        , 1.        , 1.        ],\n",
       "       [2.29310345, 1.33766234, 1.0877193 , 1.04761905, 1.        ,\n",
       "        1.        , 1.        , 1.        , 1.        , 1.        ],\n",
       "       [2.07792208, 1.27027027, 1.13793103, 1.        , 1.        ,\n",
       "        1.        , 1.        , 1.        , 1.        , 1.        ],\n",
       "       [2.22857143, 1.27142857, 1.12068966, 1.02272727, 1.        ,\n",
       "        1.        , 1.        , 1.        , 1.        , 1.        ],\n",
       "       [2.17910448, 1.33766234, 1.09433962, 1.04651163, 1.        ,\n",
       "        1.        , 1.        , 1.        , 1.        , 1.        ],\n",
       "       [2.14925373, 1.32894737, 1.14      , 1.02325581, 1.        ,\n",
       "        1.        , 1.        , 1.        , 1.        , 1.        ],\n",
       "       [2.20967742, 1.46774194, 1.15384615, 1.        , 1.        ,\n",
       "        1.        , 1.        , 1.        , 1.        , 1.        ],\n",
       "       [2.33846154, 1.37313433, 1.09090909, 1.02222222, 1.        ,\n",
       "        1.        , 1.        , 1.        , 1.        , 1.        ],\n",
       "       [2.10769231, 1.38157895, 1.18867925, 1.06521739, 1.        ,\n",
       "        1.        , 1.        , 1.        , 1.        , 1.        ],\n",
       "       [2.07352941, 1.33333333, 1.01449275, 1.        , 1.        ,\n",
       "        1.        , 1.        , 1.        , 1.        , 1.        ],\n",
       "       [2.22535211, 1.35211268, 1.08695652, 1.        , 1.        ,\n",
       "        1.        , 1.        , 1.        , 1.        , 1.        ],\n",
       "       [2.19047619, 1.3       , 1.11864407, 1.        , 1.03125   ,\n",
       "        1.07142857, 1.        , 1.        , 1.        , 1.        ],\n",
       "       [1.775     , 1.19047619, 1.01587302, 1.        , 1.        ,\n",
       "        1.        , 1.        , 1.        , 1.        , 1.        ],\n",
       "       [1.93055556, 1.28      , 1.10909091, 1.03846154, 1.        ,\n",
       "        1.        , 1.        , 1.        , 1.        , 1.        ],\n",
       "       [1.98245614, 1.29487179, 1.17857143, 1.        , 1.        ,\n",
       "        1.        , 1.        , 1.        , 1.        , 1.        ],\n",
       "       [1.85      , 1.22666667, 1.06666667, 1.04      , 1.        ,\n",
       "        1.        , 1.        , 1.        , 1.        , 1.        ],\n",
       "       [1.91304348, 1.421875  , 1.08474576, 1.04878049, 1.        ,\n",
       "        1.        , 1.        , 1.        , 1.        , 1.        ],\n",
       "       [1.91176471, 1.3       , 1.10294118, 1.        , 1.        ,\n",
       "        1.        , 1.        , 1.        , 1.        , 1.        ],\n",
       "       [1.93670886, 1.36111111, 1.04918033, 1.02325581, 1.        ,\n",
       "        1.        , 1.        , 1.        , 1.        , 1.        ],\n",
       "       [2.16666667, 1.33333333, 1.14285714, 1.05555556, 1.        ,\n",
       "        1.        , 1.        , 1.        , 1.        , 1.        ]])"
      ]
     },
     "execution_count": 8,
     "metadata": {},
     "output_type": "execute_result"
    }
   ],
   "source": [
    "correction_factor_rea"
   ]
  },
  {
   "cell_type": "code",
   "execution_count": 9,
   "id": "5d19abfa-1d8f-4976-bcba-f861ab0567de",
   "metadata": {},
   "outputs": [],
   "source": [
    "# data = correction_factor_rea[:, 3]\n",
    "# median = np.percentile(data, 50)\n",
    "# median"
   ]
  },
  {
   "cell_type": "code",
   "execution_count": 10,
   "id": "bde45af5-4123-49dd-80db-4ea9a7dd6cbd",
   "metadata": {},
   "outputs": [],
   "source": [
    "correction_factor_rea = 0.*counts_recovered\n",
    "\n",
    "for ii in range(NN):\n",
    "    with np.errstate(divide='ignore', invalid='ignore'):\n",
    "        correction_factor_rea[ii] = np.where(counts_recovered[ii] > 0, counts_injected[ii] / counts_recovered[ii], 1.)\n",
    "\n",
    "correction_factor_med = np.zeros(bins-1)\n",
    "correction_factor_low = np.zeros(bins-1)\n",
    "correction_factor_upp = np.zeros(bins-1)\n",
    "\n",
    "for ii in range(bins-1):\n",
    "    data = correction_factor_rea[:, ii]\n",
    "    median = np.percentile(data, 50)   # 50th percentile (median)\n",
    "    # median = np.mean(data)   # 50th percentile (median)\n",
    "    p16 = np.percentile(data, 16)      # 16th percentile\n",
    "    p84 = np.percentile(data, 84)      # 84th percentile\n",
    "\n",
    "    correction_factor_med[ii] = median\n",
    "    correction_factor_low[ii] = median - p16\n",
    "    correction_factor_upp[ii] = p84 - median\n",
    "    \n",
    "    # print(f\"Median: {median}\")\n",
    "    # print(f\"16th Percentile: {p16}\")\n",
    "    # print(f\"84th Percentile: {p84}\")"
   ]
  },
  {
   "cell_type": "code",
   "execution_count": 11,
   "id": "e06960ce-56f7-4637-9290-36f845c7619e",
   "metadata": {},
   "outputs": [
    {
     "data": {
      "text/plain": [
       "(array([ 0.02985883,  0.05929612,  0.11775513,  0.23384787,  0.46439441,\n",
       "         0.92223277,  1.83144598,  3.63703665,  7.2227277 , 14.34348908]),\n",
       " array([2.04761905, 1.30517241, 1.10859951, 1.02325581, 1.        ,\n",
       "        1.        , 1.        , 1.        , 1.        , 1.        ]))"
      ]
     },
     "execution_count": 11,
     "metadata": {},
     "output_type": "execute_result"
    }
   ],
   "source": [
    "bin_centers, correction_factor_med\n",
    "# (array([ 0.0334566 ,  0.06401057,  0.12246771,  0.23431036,  0.44829243,\n",
    "#          0.85769191,  1.6409722 ,  3.13957696,  6.00677056, 11.49240583]),\n",
    "#  array([13.        ,  2.46153846,  0.89473684,  1.02702703,  0.58201058,\n",
    "#          0.59340659,  0.33333333,  1.        ,  1.        ,  1.        ]))\n"
   ]
  },
  {
   "cell_type": "code",
   "execution_count": null,
   "id": "54b62409-14fe-4871-be98-1f7aa1f522a2",
   "metadata": {},
   "outputs": [],
   "source": []
  },
  {
   "cell_type": "code",
   "execution_count": 12,
   "id": "2e8b5c15-45de-4398-8433-668fa950091d",
   "metadata": {},
   "outputs": [
    {
     "data": {
      "image/png": "[encoded data removed]",
      "text/plain": [
       "<Figure size 700x500 with 1 Axes>"
      ]
     },
     "metadata": {},
     "output_type": "display_data"
    }
   ],
   "source": [
    "import numpy as np\n",
    "import matplotlib.pyplot as plt\n",
    "a1 = 0\n",
    "\n",
    "# Plot with error bars\n",
    "plt.figure(figsize=(7, 5))\n",
    "plt.errorbar(bin_centers[a1:], correction_factor_med[a1:], \n",
    "             yerr=[correction_factor_low[a1:], correction_factor_upp[a1:]], \n",
    "             fmt='o', capsize=5, label=\"Median with Error Bars\")\n",
    "\n",
    "# Set log scale for x-axis\n",
    "plt.xscale(\"log\")\n",
    "plt.axhline(1.0, ls='--')\n",
    "# Labels and title\n",
    "plt.xlabel(\"Flux Density (Jy)\")\n",
    "plt.ylabel(\"Correction Factor\")\n",
    "plt.title(\"Median Correction Factor with 16th and 84th Percentiles\")\n",
    "\n",
    "# Show legend\n",
    "plt.legend()\n",
    "\n",
    "# Show plot\n",
    "plt.show()\n"
   ]
  },
  {
   "cell_type": "code",
   "execution_count": 13,
   "id": "f2caeb5a-40bd-44e8-9290-530bd35aa5cc",
   "metadata": {},
   "outputs": [],
   "source": [
    "# np.savez(output_npz, \n",
    "#          bin_centers = bin_centers,\n",
    "#          med=correction_factor_med, \n",
    "#          low=correction_factor_low, \n",
    "#          upp=correction_factor_upp)\n"
   ]
  },
  {
   "cell_type": "code",
   "execution_count": null,
   "id": "88f238da-e495-4aac-860e-488600b7c665",
   "metadata": {},
   "outputs": [],
   "source": []
  },
  {
   "cell_type": "code",
   "execution_count": null,
   "id": "701c2a40-050c-435a-adbb-06687356fba5",
   "metadata": {},
   "outputs": [],
   "source": []
  }
 ],
 "metadata": {
  "kernelspec": {
   "display_name": "Python 3 (ipykernel)",
   "language": "python",
   "name": "python3"
  },
  "language_info": {
   "codemirror_mode": {
    "name": "ipython",
    "version": 3
   },
   "file_extension": ".py",
   "mimetype": "text/x-python",
   "name": "python",
   "nbconvert_exporter": "python",
   "pygments_lexer": "ipython3",
   "version": "3.12.2"
  }
 },
 "nbformat": 4,
 "nbformat_minor": 5
}
