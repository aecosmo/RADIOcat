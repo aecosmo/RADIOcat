{
 "cells": [
  {
   "cell_type": "code",
   "execution_count": 1,
   "id": "a7501c56-a252-4ced-8535-3c3b4a3fe13d",
   "metadata": {},
   "outputs": [],
   "source": [
    "import numpy as np\n",
    "import pandas as pd\n",
    "import matplotlib.pyplot as plt\n",
    "from astropy.io import fits\n",
    "from astropy.wcs import WCS\n",
    "from astropy.table import Table\n",
    "from astropy.coordinates import SkyCoord, match_coordinates_sky\n",
    "from astropy import units as u\n",
    "import shutil\n",
    "import os\n",
    "import warnings\n",
    "import dnds_calculations as dnds\n",
    "\n",
    "# Suppress warnings\n",
    "warnings.filterwarnings(\"ignore\", category=UserWarning)\n"
   ]
  },
  {
   "cell_type": "code",
   "execution_count": 2,
   "id": "6d65f4cf-916b-4de7-b0f5-8e4eba7c4d0c",
   "metadata": {},
   "outputs": [],
   "source": [
    "# # --- Read original fluxes to define bins ---\n",
    "inputimage = \"mosaic_image.fits\"\n",
    "catalog = inputimage.replace('.fits', '.pybdsf.srl.fits')\n",
    "\n",
    "with fits.open(catalog) as hdul:\n",
    "    orig_data = hdul[1].data\n",
    "original_fluxes = np.array(orig_data['Total_flux'])\n",
    "\n",
    "bins = 11\n",
    "min_flux_cut = 0.02 # Jy\n",
    "flux_bins, bin_centers, counts, bin_edges, bin_widths = dnds.compute_histogram(original_fluxes, bins, min_flux_cut)\n",
    "flux_min, flux_max = flux_bins[0], flux_bins[-1]"
   ]
  },
  {
   "cell_type": "markdown",
   "id": "f9393aa2-8dbd-44c5-8fa9-dc0c2b951c96",
   "metadata": {},
   "source": [
    "# FDR "
   ]
  },
  {
   "cell_type": "code",
   "execution_count": 3,
   "id": "ced21adf-e699-47ef-9df1-3f14e74aab12",
   "metadata": {},
   "outputs": [
    {
     "name": "stdout",
     "output_type": "stream",
     "text": [
      "Inverted FITS image saved to negative_image.fits\n"
     ]
    },
    {
     "name": "stderr",
     "output_type": "stream",
     "text": [
      "stty: 'standard input': Inappropriate ioctl for device\n",
      "stty: 'standard input': Inappropriate ioctl for device\n"
     ]
    },
    {
     "name": "stdout",
     "output_type": "stream",
     "text": [
      "--> Wrote FITS file 'negative_image.pybdsf.srl.fits'\n",
      "[0.99193548 0.98648649 0.99212598 1.         1.         1.\n",
      " 1.         1.         1.         1.        ]\n"
     ]
    }
   ],
   "source": [
    "\n",
    "negative_fits = \"negative_image.fits\"\n",
    "negative_catalog = negative_fits.replace(\".fits\", \".pybdsf.srl.fits\")\n",
    "\n",
    "dnds.invert_fits_image(inputimage, negative_fits)\n",
    "dnds.run_pybdsf_neg(negative_fits)\n",
    "negative_fluxes = dnds.read_pybdsf_catalog(negative_catalog)\n",
    "\n",
    "cat_counts, _ = np.histogram(original_fluxes, bins=flux_bins)\n",
    "neg_counts, _ = np.histogram(negative_fluxes, bins=flux_bins)\n",
    "\n",
    "fdr = np.divide(neg_counts, cat_counts, out=np.zeros_like(neg_counts, dtype=float), where=(cat_counts) > 0)\n",
    "fdr_correction = np.maximum(1 - fdr, 0.01) # correction factor to be divided with in the code. \n",
    "np.save('fdr_correction.npy',fdr_correction)\n",
    "\n",
    "print(fdr_correction)"
   ]
  },
  {
   "cell_type": "code",
   "execution_count": null,
   "id": "32390e20-a80e-47bc-9e5a-709922cb3567",
   "metadata": {},
   "outputs": [],
   "source": []
  },
  {
   "cell_type": "markdown",
   "id": "e96f0d79-bee5-473f-8ed1-1a7a57e31f41",
   "metadata": {},
   "source": [
    "# completeness"
   ]
  },
  {
   "cell_type": "code",
   "execution_count": 4,
   "id": "8c129761-5865-479e-8cd0-4c327a230b1e",
   "metadata": {},
   "outputs": [],
   "source": [
    "residual_image = inputimage.replace('.fits', '.pybdsf_gaus_resid.fits') \n",
    "modified_image = \"modified_residual.fits\"\n",
    "output_npz = 'completeness_corrections.npz'"
   ]
  },
  {
   "cell_type": "code",
   "execution_count": 5,
   "id": "9f1f4249-7614-4324-b906-e5857946f6f6",
   "metadata": {},
   "outputs": [
    {
     "name": "stderr",
     "output_type": "stream",
     "text": [
      "WARNING: FITSFixedWarning: 'obsfix' made the change 'Set OBSGEO-L to    74.049972 from OBSGEO-[XYZ].\n",
      "Set OBSGEO-B to    19.090653 from OBSGEO-[XYZ].\n",
      "Set OBSGEO-H to      636.997 from OBSGEO-[XYZ]'. [astropy.wcs.wcs]\n"
     ]
    }
   ],
   "source": [
    "# --- Generate valid RA/Dec grid from input/residual image ---\n",
    "with fits.open(inputimage, mode='readonly') as hdu:\n",
    "    header = hdu[0].header\n",
    "    wcs = WCS(header, naxis=2)\n",
    "    data = hdu[0].data.astype(np.float64)\n",
    "\n",
    "if data.ndim == 4:\n",
    "    base_data = data[0, 0]\n",
    "elif data.ndim == 3:\n",
    "    base_data = data[0]\n",
    "elif data.ndim == 2:\n",
    "    base_data = data\n",
    "else:\n",
    "    raise ValueError(f\"Unexpected FITS dimensions: {data.shape}\")\n",
    "\n",
    "valid_pixels = np.argwhere(~np.isnan(base_data))\n",
    "valid_ra, valid_dec = wcs.all_pix2world(valid_pixels[:, 1], valid_pixels[:, 0], 0)\n"
   ]
  },
  {
   "cell_type": "code",
   "execution_count": 6,
   "id": "f1f7a26a-2aa1-4069-a6f3-73a0b6015838",
   "metadata": {
    "scrolled": true
   },
   "outputs": [
    {
     "name": "stdout",
     "output_type": "stream",
     "text": [
      "Iteration 1/100\n",
      "Generated 598 synthetic sources\n"
     ]
    },
    {
     "name": "stderr",
     "output_type": "stream",
     "text": [
      "502764:INFO This is AeRes v0.2.7-(2020-07-30)\n",
      "502764:INFO Using mosaic_image.pybdsf_gaus_resid.fits and synthetic.vot to make modified_residual.fits\n",
      "502764:INFO Reading file synthetic.vot\n",
      "502764:INFO read 598 sources from synthetic.vot\n",
      "502764:INFO modeled 598 sources\n",
      "502764:INFO wrote residual to modified_residual.fits\n",
      "stty: 'standard input': Inappropriate ioctl for device\n",
      "stty: 'standard input': Inappropriate ioctl for device\n",
      "stty: 'standard input': Inappropriate ioctl for device\n",
      "stty: 'standard input': Inappropriate ioctl for device\n",
      "stty: 'standard input': Inappropriate ioctl for device\n"
     ]
    },
    {
     "name": "stdout",
     "output_type": "stream",
     "text": [
      "--> Wrote FITS file 'modified_residual.pybdsf.srl.fits'\n",
      "Iteration 2/100\n",
      "Generated 598 synthetic sources\n"
     ]
    },
    {
     "name": "stderr",
     "output_type": "stream",
     "text": [
      "504037:INFO This is AeRes v0.2.7-(2020-07-30)\n",
      "504037:INFO Using mosaic_image.pybdsf_gaus_resid.fits and synthetic.vot to make modified_residual.fits\n",
      "504037:INFO Reading file synthetic.vot\n",
      "504037:INFO read 598 sources from synthetic.vot\n",
      "504037:INFO modeled 598 sources\n",
      "504037:INFO wrote residual to modified_residual.fits\n",
      "stty: 'standard input': Inappropriate ioctl for device\n",
      "stty: 'standard input': Inappropriate ioctl for device\n",
      "stty: 'standard input': Inappropriate ioctl for device\n",
      "stty: 'standard input': Inappropriate ioctl for device\n",
      "stty: 'standard input': Inappropriate ioctl for device\n"
     ]
    },
    {
     "name": "stdout",
     "output_type": "stream",
     "text": [
      "--> Wrote FITS file 'modified_residual.pybdsf.srl.fits'\n",
      "Iteration 3/100\n",
      "Generated 598 synthetic sources\n"
     ]
    },
    {
     "name": "stderr",
     "output_type": "stream",
     "text": [
      "505273:INFO This is AeRes v0.2.7-(2020-07-30)\n",
      "505273:INFO Using mosaic_image.pybdsf_gaus_resid.fits and synthetic.vot to make modified_residual.fits\n",
      "505273:INFO Reading file synthetic.vot\n",
      "505273:INFO read 598 sources from synthetic.vot\n",
      "505273:INFO modeled 598 sources\n",
      "505273:INFO wrote residual to modified_residual.fits\n",
      "stty: 'standard input': Inappropriate ioctl for device\n",
      "stty: 'standard input': Inappropriate ioctl for device\n",
      "stty: 'standard input': Inappropriate ioctl for device\n",
      "stty: 'standard input': Inappropriate ioctl for device\n",
      "stty: 'standard input': Inappropriate ioctl for device\n"
     ]
    },
    {
     "name": "stdout",
     "output_type": "stream",
     "text": [
      "--> Wrote FITS file 'modified_residual.pybdsf.srl.fits'\n",
      "Iteration 4/100\n",
      "Generated 598 synthetic sources\n"
     ]
    },
    {
     "name": "stderr",
     "output_type": "stream",
     "text": [
      "506509:INFO This is AeRes v0.2.7-(2020-07-30)\n",
      "506509:INFO Using mosaic_image.pybdsf_gaus_resid.fits and synthetic.vot to make modified_residual.fits\n",
      "506509:INFO Reading file synthetic.vot\n",
      "506509:INFO read 598 sources from synthetic.vot\n",
      "506509:INFO modeled 598 sources\n",
      "506509:INFO wrote residual to modified_residual.fits\n",
      "stty: 'standard input': Inappropriate ioctl for device\n",
      "stty: 'standard input': Inappropriate ioctl for device\n",
      "stty: 'standard input': Inappropriate ioctl for device\n",
      "stty: 'standard input': Inappropriate ioctl for device\n",
      "stty: 'standard input': Inappropriate ioctl for device\n"
     ]
    },
    {
     "name": "stdout",
     "output_type": "stream",
     "text": [
      "--> Wrote FITS file 'modified_residual.pybdsf.srl.fits'\n",
      "Iteration 5/100\n",
      "Generated 598 synthetic sources\n"
     ]
    },
    {
     "name": "stderr",
     "output_type": "stream",
     "text": [
      "507733:INFO This is AeRes v0.2.7-(2020-07-30)\n",
      "507733:INFO Using mosaic_image.pybdsf_gaus_resid.fits and synthetic.vot to make modified_residual.fits\n",
      "507733:INFO Reading file synthetic.vot\n",
      "507733:INFO read 598 sources from synthetic.vot\n",
      "507733:INFO modeled 598 sources\n",
      "507733:INFO wrote residual to modified_residual.fits\n",
      "stty: 'standard input': Inappropriate ioctl for device\n",
      "stty: 'standard input': Inappropriate ioctl for device\n",
      "stty: 'standard input': Inappropriate ioctl for device\n",
      "stty: 'standard input': Inappropriate ioctl for device\n",
      "stty: 'standard input': Inappropriate ioctl for device\n"
     ]
    },
    {
     "name": "stdout",
     "output_type": "stream",
     "text": [
      "--> Wrote FITS file 'modified_residual.pybdsf.srl.fits'\n",
      "Iteration 6/100\n",
      "Generated 598 synthetic sources\n"
     ]
    },
    {
     "name": "stderr",
     "output_type": "stream",
     "text": [
      "508961:INFO This is AeRes v0.2.7-(2020-07-30)\n",
      "508961:INFO Using mosaic_image.pybdsf_gaus_resid.fits and synthetic.vot to make modified_residual.fits\n",
      "508961:INFO Reading file synthetic.vot\n",
      "508961:INFO read 598 sources from synthetic.vot\n",
      "508961:INFO modeled 598 sources\n",
      "508961:INFO wrote residual to modified_residual.fits\n",
      "stty: 'standard input': Inappropriate ioctl for device\n",
      "stty: 'standard input': Inappropriate ioctl for device\n",
      "stty: 'standard input': Inappropriate ioctl for device\n",
      "stty: 'standard input': Inappropriate ioctl for device\n",
      "stty: 'standard input': Inappropriate ioctl for device\n"
     ]
    },
    {
     "name": "stdout",
     "output_type": "stream",
     "text": [
      "--> Wrote FITS file 'modified_residual.pybdsf.srl.fits'\n",
      "Iteration 7/100\n",
      "Generated 598 synthetic sources\n"
     ]
    },
    {
     "name": "stderr",
     "output_type": "stream",
     "text": [
      "510197:INFO This is AeRes v0.2.7-(2020-07-30)\n",
      "510197:INFO Using mosaic_image.pybdsf_gaus_resid.fits and synthetic.vot to make modified_residual.fits\n",
      "510197:INFO Reading file synthetic.vot\n",
      "510197:INFO read 598 sources from synthetic.vot\n",
      "510197:INFO modeled 598 sources\n",
      "510197:INFO wrote residual to modified_residual.fits\n",
      "stty: 'standard input': Inappropriate ioctl for device\n",
      "stty: 'standard input': Inappropriate ioctl for device\n",
      "stty: 'standard input': Inappropriate ioctl for device\n",
      "stty: 'standard input': Inappropriate ioctl for device\n",
      "stty: 'standard input': Inappropriate ioctl for device\n"
     ]
    },
    {
     "name": "stdout",
     "output_type": "stream",
     "text": [
      "--> Wrote FITS file 'modified_residual.pybdsf.srl.fits'\n",
      "Iteration 8/100\n",
      "Generated 598 synthetic sources\n"
     ]
    },
    {
     "name": "stderr",
     "output_type": "stream",
     "text": [
      "511413:INFO This is AeRes v0.2.7-(2020-07-30)\n",
      "511413:INFO Using mosaic_image.pybdsf_gaus_resid.fits and synthetic.vot to make modified_residual.fits\n",
      "511413:INFO Reading file synthetic.vot\n",
      "511413:INFO read 598 sources from synthetic.vot\n",
      "511413:INFO modeled 598 sources\n",
      "511413:INFO wrote residual to modified_residual.fits\n",
      "stty: 'standard input': Inappropriate ioctl for device\n",
      "stty: 'standard input': Inappropriate ioctl for device\n",
      "stty: 'standard input': Inappropriate ioctl for device\n",
      "stty: 'standard input': Inappropriate ioctl for device\n",
      "stty: 'standard input': Inappropriate ioctl for device\n"
     ]
    },
    {
     "name": "stdout",
     "output_type": "stream",
     "text": [
      "--> Wrote FITS file 'modified_residual.pybdsf.srl.fits'\n",
      "Iteration 9/100\n",
      "Generated 598 synthetic sources\n"
     ]
    },
    {
     "name": "stderr",
     "output_type": "stream",
     "text": [
      "512650:INFO This is AeRes v0.2.7-(2020-07-30)\n",
      "512650:INFO Using mosaic_image.pybdsf_gaus_resid.fits and synthetic.vot to make modified_residual.fits\n",
      "512650:INFO Reading file synthetic.vot\n",
      "512650:INFO read 598 sources from synthetic.vot\n",
      "512650:INFO modeled 598 sources\n",
      "512650:INFO wrote residual to modified_residual.fits\n",
      "stty: 'standard input': Inappropriate ioctl for device\n",
      "stty: 'standard input': Inappropriate ioctl for device\n",
      "stty: 'standard input': Inappropriate ioctl for device\n",
      "stty: 'standard input': Inappropriate ioctl for device\n",
      "stty: 'standard input': Inappropriate ioctl for device\n"
     ]
    },
    {
     "name": "stdout",
     "output_type": "stream",
     "text": [
      "--> Wrote FITS file 'modified_residual.pybdsf.srl.fits'\n",
      "Iteration 10/100\n",
      "Generated 598 synthetic sources\n"
     ]
    },
    {
     "name": "stderr",
     "output_type": "stream",
     "text": [
      "513900:INFO This is AeRes v0.2.7-(2020-07-30)\n",
      "513900:INFO Using mosaic_image.pybdsf_gaus_resid.fits and synthetic.vot to make modified_residual.fits\n",
      "513900:INFO Reading file synthetic.vot\n",
      "513900:INFO read 598 sources from synthetic.vot\n",
      "513900:INFO modeled 598 sources\n",
      "513900:INFO wrote residual to modified_residual.fits\n",
      "stty: 'standard input': Inappropriate ioctl for device\n",
      "stty: 'standard input': Inappropriate ioctl for device\n",
      "stty: 'standard input': Inappropriate ioctl for device\n",
      "stty: 'standard input': Inappropriate ioctl for device\n",
      "stty: 'standard input': Inappropriate ioctl for device\n"
     ]
    },
    {
     "name": "stdout",
     "output_type": "stream",
     "text": [
      "--> Wrote FITS file 'modified_residual.pybdsf.srl.fits'\n",
      "Iteration 11/100\n",
      "Generated 598 synthetic sources\n"
     ]
    },
    {
     "name": "stderr",
     "output_type": "stream",
     "text": [
      "515132:INFO This is AeRes v0.2.7-(2020-07-30)\n",
      "515132:INFO Using mosaic_image.pybdsf_gaus_resid.fits and synthetic.vot to make modified_residual.fits\n",
      "515132:INFO Reading file synthetic.vot\n",
      "515132:INFO read 598 sources from synthetic.vot\n",
      "515132:INFO modeled 598 sources\n",
      "515132:INFO wrote residual to modified_residual.fits\n",
      "stty: 'standard input': Inappropriate ioctl for device\n",
      "stty: 'standard input': Inappropriate ioctl for device\n",
      "stty: 'standard input': Inappropriate ioctl for device\n",
      "stty: 'standard input': Inappropriate ioctl for device\n",
      "stty: 'standard input': Inappropriate ioctl for device\n"
     ]
    },
    {
     "name": "stdout",
     "output_type": "stream",
     "text": [
      "--> Wrote FITS file 'modified_residual.pybdsf.srl.fits'\n",
      "Iteration 12/100\n",
      "Generated 598 synthetic sources\n"
     ]
    },
    {
     "name": "stderr",
     "output_type": "stream",
     "text": [
      "516360:INFO This is AeRes v0.2.7-(2020-07-30)\n",
      "516360:INFO Using mosaic_image.pybdsf_gaus_resid.fits and synthetic.vot to make modified_residual.fits\n",
      "516360:INFO Reading file synthetic.vot\n",
      "516360:INFO read 598 sources from synthetic.vot\n",
      "516360:INFO modeled 598 sources\n",
      "516360:INFO wrote residual to modified_residual.fits\n",
      "stty: 'standard input': Inappropriate ioctl for device\n",
      "stty: 'standard input': Inappropriate ioctl for device\n",
      "stty: 'standard input': Inappropriate ioctl for device\n",
      "stty: 'standard input': Inappropriate ioctl for device\n",
      "stty: 'standard input': Inappropriate ioctl for device\n"
     ]
    },
    {
     "name": "stdout",
     "output_type": "stream",
     "text": [
      "--> Wrote FITS file 'modified_residual.pybdsf.srl.fits'\n",
      "Iteration 13/100\n",
      "Generated 598 synthetic sources\n"
     ]
    },
    {
     "name": "stderr",
     "output_type": "stream",
     "text": [
      "517574:INFO This is AeRes v0.2.7-(2020-07-30)\n",
      "517574:INFO Using mosaic_image.pybdsf_gaus_resid.fits and synthetic.vot to make modified_residual.fits\n",
      "517574:INFO Reading file synthetic.vot\n",
      "517574:INFO read 598 sources from synthetic.vot\n",
      "517574:INFO modeled 598 sources\n",
      "517574:INFO wrote residual to modified_residual.fits\n",
      "stty: 'standard input': Inappropriate ioctl for device\n",
      "stty: 'standard input': Inappropriate ioctl for device\n",
      "stty: 'standard input': Inappropriate ioctl for device\n",
      "stty: 'standard input': Inappropriate ioctl for device\n",
      "stty: 'standard input': Inappropriate ioctl for device\n"
     ]
    },
    {
     "name": "stdout",
     "output_type": "stream",
     "text": [
      "--> Wrote FITS file 'modified_residual.pybdsf.srl.fits'\n",
      "Iteration 14/100\n",
      "Generated 598 synthetic sources\n"
     ]
    },
    {
     "name": "stderr",
     "output_type": "stream",
     "text": [
      "518805:INFO This is AeRes v0.2.7-(2020-07-30)\n",
      "518805:INFO Using mosaic_image.pybdsf_gaus_resid.fits and synthetic.vot to make modified_residual.fits\n",
      "518805:INFO Reading file synthetic.vot\n",
      "518805:INFO read 598 sources from synthetic.vot\n",
      "518805:INFO modeled 598 sources\n",
      "518805:INFO wrote residual to modified_residual.fits\n",
      "stty: 'standard input': Inappropriate ioctl for device\n",
      "stty: 'standard input': Inappropriate ioctl for device\n",
      "stty: 'standard input': Inappropriate ioctl for device\n",
      "stty: 'standard input': Inappropriate ioctl for device\n",
      "stty: 'standard input': Inappropriate ioctl for device\n"
     ]
    },
    {
     "name": "stdout",
     "output_type": "stream",
     "text": [
      "--> Wrote FITS file 'modified_residual.pybdsf.srl.fits'\n",
      "Iteration 15/100\n",
      "Generated 598 synthetic sources\n"
     ]
    },
    {
     "name": "stderr",
     "output_type": "stream",
     "text": [
      "520027:INFO This is AeRes v0.2.7-(2020-07-30)\n",
      "520027:INFO Using mosaic_image.pybdsf_gaus_resid.fits and synthetic.vot to make modified_residual.fits\n",
      "520027:INFO Reading file synthetic.vot\n",
      "520027:INFO read 598 sources from synthetic.vot\n",
      "520027:INFO modeled 598 sources\n",
      "520027:INFO wrote residual to modified_residual.fits\n",
      "stty: 'standard input': Inappropriate ioctl for device\n",
      "stty: 'standard input': Inappropriate ioctl for device\n",
      "stty: 'standard input': Inappropriate ioctl for device\n",
      "stty: 'standard input': Inappropriate ioctl for device\n",
      "stty: 'standard input': Inappropriate ioctl for device\n"
     ]
    },
    {
     "name": "stdout",
     "output_type": "stream",
     "text": [
      "--> Wrote FITS file 'modified_residual.pybdsf.srl.fits'\n",
      "Iteration 16/100\n",
      "Generated 598 synthetic sources\n"
     ]
    },
    {
     "name": "stderr",
     "output_type": "stream",
     "text": [
      "521246:INFO This is AeRes v0.2.7-(2020-07-30)\n",
      "521246:INFO Using mosaic_image.pybdsf_gaus_resid.fits and synthetic.vot to make modified_residual.fits\n",
      "521246:INFO Reading file synthetic.vot\n",
      "521246:INFO read 598 sources from synthetic.vot\n",
      "521246:INFO modeled 598 sources\n",
      "521246:INFO wrote residual to modified_residual.fits\n",
      "stty: 'standard input': Inappropriate ioctl for device\n",
      "stty: 'standard input': Inappropriate ioctl for device\n",
      "stty: 'standard input': Inappropriate ioctl for device\n",
      "stty: 'standard input': Inappropriate ioctl for device\n",
      "stty: 'standard input': Inappropriate ioctl for device\n"
     ]
    },
    {
     "name": "stdout",
     "output_type": "stream",
     "text": [
      "--> Wrote FITS file 'modified_residual.pybdsf.srl.fits'\n",
      "Iteration 17/100\n",
      "Generated 598 synthetic sources\n"
     ]
    },
    {
     "name": "stderr",
     "output_type": "stream",
     "text": [
      "522462:INFO This is AeRes v0.2.7-(2020-07-30)\n",
      "522462:INFO Using mosaic_image.pybdsf_gaus_resid.fits and synthetic.vot to make modified_residual.fits\n",
      "522462:INFO Reading file synthetic.vot\n",
      "522462:INFO read 598 sources from synthetic.vot\n",
      "522462:INFO modeled 598 sources\n",
      "522462:INFO wrote residual to modified_residual.fits\n",
      "stty: 'standard input': Inappropriate ioctl for device\n",
      "stty: 'standard input': Inappropriate ioctl for device\n",
      "stty: 'standard input': Inappropriate ioctl for device\n",
      "stty: 'standard input': Inappropriate ioctl for device\n",
      "stty: 'standard input': Inappropriate ioctl for device\n"
     ]
    },
    {
     "name": "stdout",
     "output_type": "stream",
     "text": [
      "--> Wrote FITS file 'modified_residual.pybdsf.srl.fits'\n",
      "Iteration 18/100\n",
      "Generated 598 synthetic sources\n"
     ]
    },
    {
     "name": "stderr",
     "output_type": "stream",
     "text": [
      "523688:INFO This is AeRes v0.2.7-(2020-07-30)\n",
      "523688:INFO Using mosaic_image.pybdsf_gaus_resid.fits and synthetic.vot to make modified_residual.fits\n",
      "523688:INFO Reading file synthetic.vot\n",
      "523688:INFO read 598 sources from synthetic.vot\n",
      "523688:INFO modeled 598 sources\n",
      "523688:INFO wrote residual to modified_residual.fits\n",
      "stty: 'standard input': Inappropriate ioctl for device\n",
      "stty: 'standard input': Inappropriate ioctl for device\n",
      "stty: 'standard input': Inappropriate ioctl for device\n",
      "stty: 'standard input': Inappropriate ioctl for device\n",
      "stty: 'standard input': Inappropriate ioctl for device\n"
     ]
    },
    {
     "name": "stdout",
     "output_type": "stream",
     "text": [
      "--> Wrote FITS file 'modified_residual.pybdsf.srl.fits'\n",
      "Iteration 19/100\n",
      "Generated 598 synthetic sources\n"
     ]
    },
    {
     "name": "stderr",
     "output_type": "stream",
     "text": [
      "524961:INFO This is AeRes v0.2.7-(2020-07-30)\n",
      "524961:INFO Using mosaic_image.pybdsf_gaus_resid.fits and synthetic.vot to make modified_residual.fits\n",
      "524961:INFO Reading file synthetic.vot\n",
      "524961:INFO read 598 sources from synthetic.vot\n",
      "524961:INFO modeled 598 sources\n",
      "524961:INFO wrote residual to modified_residual.fits\n",
      "stty: 'standard input': Inappropriate ioctl for device\n",
      "stty: 'standard input': Inappropriate ioctl for device\n",
      "stty: 'standard input': Inappropriate ioctl for device\n",
      "stty: 'standard input': Inappropriate ioctl for device\n",
      "stty: 'standard input': Inappropriate ioctl for device\n"
     ]
    },
    {
     "name": "stdout",
     "output_type": "stream",
     "text": [
      "--> Wrote FITS file 'modified_residual.pybdsf.srl.fits'\n",
      "Iteration 20/100\n",
      "Generated 598 synthetic sources\n"
     ]
    },
    {
     "name": "stderr",
     "output_type": "stream",
     "text": [
      "526211:INFO This is AeRes v0.2.7-(2020-07-30)\n",
      "526211:INFO Using mosaic_image.pybdsf_gaus_resid.fits and synthetic.vot to make modified_residual.fits\n",
      "526211:INFO Reading file synthetic.vot\n",
      "526211:INFO read 598 sources from synthetic.vot\n",
      "526211:INFO modeled 598 sources\n",
      "526211:INFO wrote residual to modified_residual.fits\n",
      "stty: 'standard input': Inappropriate ioctl for device\n",
      "stty: 'standard input': Inappropriate ioctl for device\n",
      "stty: 'standard input': Inappropriate ioctl for device\n",
      "stty: 'standard input': Inappropriate ioctl for device\n",
      "stty: 'standard input': Inappropriate ioctl for device\n"
     ]
    },
    {
     "name": "stdout",
     "output_type": "stream",
     "text": [
      "--> Wrote FITS file 'modified_residual.pybdsf.srl.fits'\n",
      "Iteration 21/100\n",
      "Generated 598 synthetic sources\n"
     ]
    },
    {
     "name": "stderr",
     "output_type": "stream",
     "text": [
      "527427:INFO This is AeRes v0.2.7-(2020-07-30)\n",
      "527427:INFO Using mosaic_image.pybdsf_gaus_resid.fits and synthetic.vot to make modified_residual.fits\n",
      "527427:INFO Reading file synthetic.vot\n",
      "527427:INFO read 598 sources from synthetic.vot\n",
      "527427:INFO modeled 598 sources\n",
      "527427:INFO wrote residual to modified_residual.fits\n",
      "stty: 'standard input': Inappropriate ioctl for device\n",
      "stty: 'standard input': Inappropriate ioctl for device\n",
      "stty: 'standard input': Inappropriate ioctl for device\n",
      "stty: 'standard input': Inappropriate ioctl for device\n",
      "stty: 'standard input': Inappropriate ioctl for device\n"
     ]
    },
    {
     "name": "stdout",
     "output_type": "stream",
     "text": [
      "--> Wrote FITS file 'modified_residual.pybdsf.srl.fits'\n",
      "Iteration 22/100\n",
      "Generated 598 synthetic sources\n"
     ]
    },
    {
     "name": "stderr",
     "output_type": "stream",
     "text": [
      "528652:INFO This is AeRes v0.2.7-(2020-07-30)\n",
      "528652:INFO Using mosaic_image.pybdsf_gaus_resid.fits and synthetic.vot to make modified_residual.fits\n",
      "528652:INFO Reading file synthetic.vot\n",
      "528652:INFO read 598 sources from synthetic.vot\n",
      "528652:INFO modeled 598 sources\n",
      "528652:INFO wrote residual to modified_residual.fits\n",
      "stty: 'standard input': Inappropriate ioctl for device\n",
      "stty: 'standard input': Inappropriate ioctl for device\n",
      "stty: 'standard input': Inappropriate ioctl for device\n",
      "stty: 'standard input': Inappropriate ioctl for device\n",
      "stty: 'standard input': Inappropriate ioctl for device\n"
     ]
    },
    {
     "name": "stdout",
     "output_type": "stream",
     "text": [
      "--> Wrote FITS file 'modified_residual.pybdsf.srl.fits'\n",
      "Iteration 23/100\n",
      "Generated 598 synthetic sources\n"
     ]
    },
    {
     "name": "stderr",
     "output_type": "stream",
     "text": [
      "529872:INFO This is AeRes v0.2.7-(2020-07-30)\n",
      "529872:INFO Using mosaic_image.pybdsf_gaus_resid.fits and synthetic.vot to make modified_residual.fits\n",
      "529872:INFO Reading file synthetic.vot\n",
      "529872:INFO read 598 sources from synthetic.vot\n",
      "529872:INFO modeled 598 sources\n",
      "529872:INFO wrote residual to modified_residual.fits\n",
      "stty: 'standard input': Inappropriate ioctl for device\n",
      "stty: 'standard input': Inappropriate ioctl for device\n",
      "stty: 'standard input': Inappropriate ioctl for device\n",
      "stty: 'standard input': Inappropriate ioctl for device\n",
      "stty: 'standard input': Inappropriate ioctl for device\n"
     ]
    },
    {
     "name": "stdout",
     "output_type": "stream",
     "text": [
      "--> Wrote FITS file 'modified_residual.pybdsf.srl.fits'\n",
      "Iteration 24/100\n",
      "Generated 598 synthetic sources\n"
     ]
    },
    {
     "name": "stderr",
     "output_type": "stream",
     "text": [
      "531100:INFO This is AeRes v0.2.7-(2020-07-30)\n",
      "531100:INFO Using mosaic_image.pybdsf_gaus_resid.fits and synthetic.vot to make modified_residual.fits\n",
      "531100:INFO Reading file synthetic.vot\n",
      "531100:INFO read 598 sources from synthetic.vot\n",
      "531100:INFO modeled 598 sources\n",
      "531100:INFO wrote residual to modified_residual.fits\n",
      "stty: 'standard input': Inappropriate ioctl for device\n",
      "stty: 'standard input': Inappropriate ioctl for device\n",
      "stty: 'standard input': Inappropriate ioctl for device\n",
      "stty: 'standard input': Inappropriate ioctl for device\n",
      "stty: 'standard input': Inappropriate ioctl for device\n"
     ]
    },
    {
     "name": "stdout",
     "output_type": "stream",
     "text": [
      "--> Wrote FITS file 'modified_residual.pybdsf.srl.fits'\n",
      "Iteration 25/100\n",
      "Generated 598 synthetic sources\n"
     ]
    },
    {
     "name": "stderr",
     "output_type": "stream",
     "text": [
      "532322:INFO This is AeRes v0.2.7-(2020-07-30)\n",
      "532322:INFO Using mosaic_image.pybdsf_gaus_resid.fits and synthetic.vot to make modified_residual.fits\n",
      "532322:INFO Reading file synthetic.vot\n",
      "532322:INFO read 598 sources from synthetic.vot\n",
      "532322:INFO modeled 598 sources\n",
      "532322:INFO wrote residual to modified_residual.fits\n",
      "stty: 'standard input': Inappropriate ioctl for device\n",
      "stty: 'standard input': Inappropriate ioctl for device\n",
      "stty: 'standard input': Inappropriate ioctl for device\n",
      "stty: 'standard input': Inappropriate ioctl for device\n",
      "stty: 'standard input': Inappropriate ioctl for device\n"
     ]
    },
    {
     "name": "stdout",
     "output_type": "stream",
     "text": [
      "--> Wrote FITS file 'modified_residual.pybdsf.srl.fits'\n",
      "Iteration 26/100\n",
      "Generated 598 synthetic sources\n"
     ]
    },
    {
     "name": "stderr",
     "output_type": "stream",
     "text": [
      "533544:INFO This is AeRes v0.2.7-(2020-07-30)\n",
      "533544:INFO Using mosaic_image.pybdsf_gaus_resid.fits and synthetic.vot to make modified_residual.fits\n",
      "533544:INFO Reading file synthetic.vot\n",
      "533544:INFO read 598 sources from synthetic.vot\n",
      "533544:INFO modeled 598 sources\n",
      "533544:INFO wrote residual to modified_residual.fits\n",
      "stty: 'standard input': Inappropriate ioctl for device\n",
      "stty: 'standard input': Inappropriate ioctl for device\n",
      "stty: 'standard input': Inappropriate ioctl for device\n",
      "stty: 'standard input': Inappropriate ioctl for device\n",
      "stty: 'standard input': Inappropriate ioctl for device\n"
     ]
    },
    {
     "name": "stdout",
     "output_type": "stream",
     "text": [
      "--> Wrote FITS file 'modified_residual.pybdsf.srl.fits'\n",
      "Iteration 27/100\n",
      "Generated 598 synthetic sources\n"
     ]
    },
    {
     "name": "stderr",
     "output_type": "stream",
     "text": [
      "534810:INFO This is AeRes v0.2.7-(2020-07-30)\n",
      "534810:INFO Using mosaic_image.pybdsf_gaus_resid.fits and synthetic.vot to make modified_residual.fits\n",
      "534810:INFO Reading file synthetic.vot\n",
      "534810:INFO read 598 sources from synthetic.vot\n",
      "534810:INFO modeled 598 sources\n",
      "534810:INFO wrote residual to modified_residual.fits\n",
      "stty: 'standard input': Inappropriate ioctl for device\n",
      "stty: 'standard input': Inappropriate ioctl for device\n",
      "stty: 'standard input': Inappropriate ioctl for device\n",
      "stty: 'standard input': Inappropriate ioctl for device\n",
      "stty: 'standard input': Inappropriate ioctl for device\n"
     ]
    },
    {
     "name": "stdout",
     "output_type": "stream",
     "text": [
      "--> Wrote FITS file 'modified_residual.pybdsf.srl.fits'\n",
      "Iteration 28/100\n",
      "Generated 598 synthetic sources\n"
     ]
    },
    {
     "name": "stderr",
     "output_type": "stream",
     "text": [
      "536040:INFO This is AeRes v0.2.7-(2020-07-30)\n",
      "536040:INFO Using mosaic_image.pybdsf_gaus_resid.fits and synthetic.vot to make modified_residual.fits\n",
      "536040:INFO Reading file synthetic.vot\n",
      "536040:INFO read 598 sources from synthetic.vot\n",
      "536040:INFO modeled 598 sources\n",
      "536040:INFO wrote residual to modified_residual.fits\n",
      "stty: 'standard input': Inappropriate ioctl for device\n",
      "stty: 'standard input': Inappropriate ioctl for device\n",
      "stty: 'standard input': Inappropriate ioctl for device\n",
      "stty: 'standard input': Inappropriate ioctl for device\n",
      "stty: 'standard input': Inappropriate ioctl for device\n"
     ]
    },
    {
     "name": "stdout",
     "output_type": "stream",
     "text": [
      "--> Wrote FITS file 'modified_residual.pybdsf.srl.fits'\n",
      "Iteration 29/100\n",
      "Generated 598 synthetic sources\n"
     ]
    },
    {
     "name": "stderr",
     "output_type": "stream",
     "text": [
      "537269:INFO This is AeRes v0.2.7-(2020-07-30)\n",
      "537269:INFO Using mosaic_image.pybdsf_gaus_resid.fits and synthetic.vot to make modified_residual.fits\n",
      "537269:INFO Reading file synthetic.vot\n",
      "537269:INFO read 598 sources from synthetic.vot\n",
      "537269:INFO modeled 598 sources\n",
      "537269:INFO wrote residual to modified_residual.fits\n",
      "stty: 'standard input': Inappropriate ioctl for device\n",
      "stty: 'standard input': Inappropriate ioctl for device\n",
      "stty: 'standard input': Inappropriate ioctl for device\n",
      "stty: 'standard input': Inappropriate ioctl for device\n",
      "stty: 'standard input': Inappropriate ioctl for device\n"
     ]
    },
    {
     "name": "stdout",
     "output_type": "stream",
     "text": [
      "--> Wrote FITS file 'modified_residual.pybdsf.srl.fits'\n",
      "Iteration 30/100\n",
      "Generated 598 synthetic sources\n"
     ]
    },
    {
     "name": "stderr",
     "output_type": "stream",
     "text": [
      "538496:INFO This is AeRes v0.2.7-(2020-07-30)\n",
      "538496:INFO Using mosaic_image.pybdsf_gaus_resid.fits and synthetic.vot to make modified_residual.fits\n",
      "538496:INFO Reading file synthetic.vot\n",
      "538496:INFO read 598 sources from synthetic.vot\n",
      "538496:INFO modeled 598 sources\n",
      "538496:INFO wrote residual to modified_residual.fits\n",
      "stty: 'standard input': Inappropriate ioctl for device\n",
      "stty: 'standard input': Inappropriate ioctl for device\n",
      "stty: 'standard input': Inappropriate ioctl for device\n",
      "stty: 'standard input': Inappropriate ioctl for device\n",
      "stty: 'standard input': Inappropriate ioctl for device\n"
     ]
    },
    {
     "name": "stdout",
     "output_type": "stream",
     "text": [
      "--> Wrote FITS file 'modified_residual.pybdsf.srl.fits'\n",
      "Iteration 31/100\n",
      "Generated 598 synthetic sources\n"
     ]
    },
    {
     "name": "stderr",
     "output_type": "stream",
     "text": [
      "539718:INFO This is AeRes v0.2.7-(2020-07-30)\n",
      "539718:INFO Using mosaic_image.pybdsf_gaus_resid.fits and synthetic.vot to make modified_residual.fits\n",
      "539718:INFO Reading file synthetic.vot\n",
      "539718:INFO read 598 sources from synthetic.vot\n",
      "539718:INFO modeled 598 sources\n",
      "539718:INFO wrote residual to modified_residual.fits\n",
      "stty: 'standard input': Inappropriate ioctl for device\n",
      "stty: 'standard input': Inappropriate ioctl for device\n",
      "stty: 'standard input': Inappropriate ioctl for device\n",
      "stty: 'standard input': Inappropriate ioctl for device\n",
      "stty: 'standard input': Inappropriate ioctl for device\n"
     ]
    },
    {
     "name": "stdout",
     "output_type": "stream",
     "text": [
      "--> Wrote FITS file 'modified_residual.pybdsf.srl.fits'\n",
      "Iteration 32/100\n",
      "Generated 598 synthetic sources\n"
     ]
    },
    {
     "name": "stderr",
     "output_type": "stream",
     "text": [
      "540942:INFO This is AeRes v0.2.7-(2020-07-30)\n",
      "540942:INFO Using mosaic_image.pybdsf_gaus_resid.fits and synthetic.vot to make modified_residual.fits\n",
      "540942:INFO Reading file synthetic.vot\n",
      "540942:INFO read 598 sources from synthetic.vot\n",
      "540942:INFO modeled 598 sources\n",
      "540942:INFO wrote residual to modified_residual.fits\n",
      "stty: 'standard input': Inappropriate ioctl for device\n",
      "stty: 'standard input': Inappropriate ioctl for device\n",
      "stty: 'standard input': Inappropriate ioctl for device\n",
      "stty: 'standard input': Inappropriate ioctl for device\n",
      "stty: 'standard input': Inappropriate ioctl for device\n"
     ]
    },
    {
     "name": "stdout",
     "output_type": "stream",
     "text": [
      "--> Wrote FITS file 'modified_residual.pybdsf.srl.fits'\n",
      "Iteration 33/100\n",
      "Generated 598 synthetic sources\n"
     ]
    },
    {
     "name": "stderr",
     "output_type": "stream",
     "text": [
      "542153:INFO This is AeRes v0.2.7-(2020-07-30)\n",
      "542153:INFO Using mosaic_image.pybdsf_gaus_resid.fits and synthetic.vot to make modified_residual.fits\n",
      "542153:INFO Reading file synthetic.vot\n",
      "542153:INFO read 598 sources from synthetic.vot\n",
      "542153:INFO modeled 598 sources\n",
      "542153:INFO wrote residual to modified_residual.fits\n",
      "stty: 'standard input': Inappropriate ioctl for device\n",
      "stty: 'standard input': Inappropriate ioctl for device\n",
      "stty: 'standard input': Inappropriate ioctl for device\n",
      "stty: 'standard input': Inappropriate ioctl for device\n",
      "stty: 'standard input': Inappropriate ioctl for device\n"
     ]
    },
    {
     "name": "stdout",
     "output_type": "stream",
     "text": [
      "--> Wrote FITS file 'modified_residual.pybdsf.srl.fits'\n",
      "Iteration 34/100\n",
      "Generated 598 synthetic sources\n"
     ]
    },
    {
     "name": "stderr",
     "output_type": "stream",
     "text": [
      "543381:INFO This is AeRes v0.2.7-(2020-07-30)\n",
      "543381:INFO Using mosaic_image.pybdsf_gaus_resid.fits and synthetic.vot to make modified_residual.fits\n",
      "543381:INFO Reading file synthetic.vot\n",
      "543381:INFO read 598 sources from synthetic.vot\n",
      "543381:INFO modeled 598 sources\n",
      "543381:INFO wrote residual to modified_residual.fits\n",
      "stty: 'standard input': Inappropriate ioctl for device\n",
      "stty: 'standard input': Inappropriate ioctl for device\n",
      "stty: 'standard input': Inappropriate ioctl for device\n",
      "stty: 'standard input': Inappropriate ioctl for device\n",
      "stty: 'standard input': Inappropriate ioctl for device\n"
     ]
    },
    {
     "name": "stdout",
     "output_type": "stream",
     "text": [
      "--> Wrote FITS file 'modified_residual.pybdsf.srl.fits'\n",
      "Iteration 35/100\n",
      "Generated 598 synthetic sources\n"
     ]
    },
    {
     "name": "stderr",
     "output_type": "stream",
     "text": [
      "544606:INFO This is AeRes v0.2.7-(2020-07-30)\n",
      "544606:INFO Using mosaic_image.pybdsf_gaus_resid.fits and synthetic.vot to make modified_residual.fits\n",
      "544606:INFO Reading file synthetic.vot\n",
      "544606:INFO read 598 sources from synthetic.vot\n",
      "544606:INFO modeled 598 sources\n",
      "544606:INFO wrote residual to modified_residual.fits\n",
      "stty: 'standard input': Inappropriate ioctl for device\n",
      "stty: 'standard input': Inappropriate ioctl for device\n",
      "stty: 'standard input': Inappropriate ioctl for device\n",
      "stty: 'standard input': Inappropriate ioctl for device\n",
      "stty: 'standard input': Inappropriate ioctl for device\n"
     ]
    },
    {
     "name": "stdout",
     "output_type": "stream",
     "text": [
      "--> Wrote FITS file 'modified_residual.pybdsf.srl.fits'\n",
      "Iteration 36/100\n",
      "Generated 598 synthetic sources\n"
     ]
    },
    {
     "name": "stderr",
     "output_type": "stream",
     "text": [
      "545886:INFO This is AeRes v0.2.7-(2020-07-30)\n",
      "545886:INFO Using mosaic_image.pybdsf_gaus_resid.fits and synthetic.vot to make modified_residual.fits\n",
      "545886:INFO Reading file synthetic.vot\n",
      "545886:INFO read 598 sources from synthetic.vot\n",
      "545886:INFO modeled 598 sources\n",
      "545886:INFO wrote residual to modified_residual.fits\n",
      "stty: 'standard input': Inappropriate ioctl for device\n",
      "stty: 'standard input': Inappropriate ioctl for device\n",
      "stty: 'standard input': Inappropriate ioctl for device\n",
      "stty: 'standard input': Inappropriate ioctl for device\n",
      "stty: 'standard input': Inappropriate ioctl for device\n"
     ]
    },
    {
     "name": "stdout",
     "output_type": "stream",
     "text": [
      "--> Wrote FITS file 'modified_residual.pybdsf.srl.fits'\n",
      "Iteration 37/100\n",
      "Generated 598 synthetic sources\n"
     ]
    },
    {
     "name": "stderr",
     "output_type": "stream",
     "text": [
      "547101:INFO This is AeRes v0.2.7-(2020-07-30)\n",
      "547101:INFO Using mosaic_image.pybdsf_gaus_resid.fits and synthetic.vot to make modified_residual.fits\n",
      "547101:INFO Reading file synthetic.vot\n",
      "547101:INFO read 598 sources from synthetic.vot\n",
      "547101:INFO modeled 598 sources\n",
      "547101:INFO wrote residual to modified_residual.fits\n",
      "stty: 'standard input': Inappropriate ioctl for device\n",
      "stty: 'standard input': Inappropriate ioctl for device\n",
      "stty: 'standard input': Inappropriate ioctl for device\n",
      "stty: 'standard input': Inappropriate ioctl for device\n",
      "stty: 'standard input': Inappropriate ioctl for device\n"
     ]
    },
    {
     "name": "stdout",
     "output_type": "stream",
     "text": [
      "--> Wrote FITS file 'modified_residual.pybdsf.srl.fits'\n",
      "Iteration 38/100\n",
      "Generated 598 synthetic sources\n"
     ]
    },
    {
     "name": "stderr",
     "output_type": "stream",
     "text": [
      "548319:INFO This is AeRes v0.2.7-(2020-07-30)\n",
      "548319:INFO Using mosaic_image.pybdsf_gaus_resid.fits and synthetic.vot to make modified_residual.fits\n",
      "548319:INFO Reading file synthetic.vot\n",
      "548319:INFO read 598 sources from synthetic.vot\n",
      "548319:INFO modeled 598 sources\n",
      "548319:INFO wrote residual to modified_residual.fits\n",
      "stty: 'standard input': Inappropriate ioctl for device\n",
      "stty: 'standard input': Inappropriate ioctl for device\n",
      "stty: 'standard input': Inappropriate ioctl for device\n",
      "stty: 'standard input': Inappropriate ioctl for device\n",
      "stty: 'standard input': Inappropriate ioctl for device\n"
     ]
    },
    {
     "name": "stdout",
     "output_type": "stream",
     "text": [
      "--> Wrote FITS file 'modified_residual.pybdsf.srl.fits'\n",
      "Iteration 39/100\n",
      "Generated 598 synthetic sources\n"
     ]
    },
    {
     "name": "stderr",
     "output_type": "stream",
     "text": [
      "549553:INFO This is AeRes v0.2.7-(2020-07-30)\n",
      "549553:INFO Using mosaic_image.pybdsf_gaus_resid.fits and synthetic.vot to make modified_residual.fits\n",
      "549553:INFO Reading file synthetic.vot\n",
      "549553:INFO read 598 sources from synthetic.vot\n",
      "549553:INFO modeled 598 sources\n",
      "549553:INFO wrote residual to modified_residual.fits\n",
      "stty: 'standard input': Inappropriate ioctl for device\n",
      "stty: 'standard input': Inappropriate ioctl for device\n",
      "stty: 'standard input': Inappropriate ioctl for device\n",
      "stty: 'standard input': Inappropriate ioctl for device\n",
      "stty: 'standard input': Inappropriate ioctl for device\n"
     ]
    },
    {
     "name": "stdout",
     "output_type": "stream",
     "text": [
      "--> Wrote FITS file 'modified_residual.pybdsf.srl.fits'\n",
      "Iteration 40/100\n",
      "Generated 598 synthetic sources\n"
     ]
    },
    {
     "name": "stderr",
     "output_type": "stream",
     "text": [
      "550773:INFO This is AeRes v0.2.7-(2020-07-30)\n",
      "550773:INFO Using mosaic_image.pybdsf_gaus_resid.fits and synthetic.vot to make modified_residual.fits\n",
      "550773:INFO Reading file synthetic.vot\n",
      "550773:INFO read 598 sources from synthetic.vot\n",
      "550773:INFO modeled 598 sources\n",
      "550773:INFO wrote residual to modified_residual.fits\n",
      "stty: 'standard input': Inappropriate ioctl for device\n",
      "stty: 'standard input': Inappropriate ioctl for device\n",
      "stty: 'standard input': Inappropriate ioctl for device\n",
      "stty: 'standard input': Inappropriate ioctl for device\n",
      "stty: 'standard input': Inappropriate ioctl for device\n"
     ]
    },
    {
     "name": "stdout",
     "output_type": "stream",
     "text": [
      "--> Wrote FITS file 'modified_residual.pybdsf.srl.fits'\n",
      "Iteration 41/100\n",
      "Generated 598 synthetic sources\n"
     ]
    },
    {
     "name": "stderr",
     "output_type": "stream",
     "text": [
      "551989:INFO This is AeRes v0.2.7-(2020-07-30)\n",
      "551989:INFO Using mosaic_image.pybdsf_gaus_resid.fits and synthetic.vot to make modified_residual.fits\n",
      "551989:INFO Reading file synthetic.vot\n",
      "551989:INFO read 598 sources from synthetic.vot\n",
      "551989:INFO modeled 598 sources\n",
      "551989:INFO wrote residual to modified_residual.fits\n",
      "stty: 'standard input': Inappropriate ioctl for device\n",
      "stty: 'standard input': Inappropriate ioctl for device\n",
      "stty: 'standard input': Inappropriate ioctl for device\n",
      "stty: 'standard input': Inappropriate ioctl for device\n",
      "stty: 'standard input': Inappropriate ioctl for device\n"
     ]
    },
    {
     "name": "stdout",
     "output_type": "stream",
     "text": [
      "--> Wrote FITS file 'modified_residual.pybdsf.srl.fits'\n",
      "Iteration 42/100\n",
      "Generated 598 synthetic sources\n"
     ]
    },
    {
     "name": "stderr",
     "output_type": "stream",
     "text": [
      "553209:INFO This is AeRes v0.2.7-(2020-07-30)\n",
      "553209:INFO Using mosaic_image.pybdsf_gaus_resid.fits and synthetic.vot to make modified_residual.fits\n",
      "553209:INFO Reading file synthetic.vot\n",
      "553209:INFO read 598 sources from synthetic.vot\n",
      "553209:INFO modeled 598 sources\n",
      "553209:INFO wrote residual to modified_residual.fits\n",
      "stty: 'standard input': Inappropriate ioctl for device\n",
      "stty: 'standard input': Inappropriate ioctl for device\n",
      "stty: 'standard input': Inappropriate ioctl for device\n",
      "stty: 'standard input': Inappropriate ioctl for device\n",
      "stty: 'standard input': Inappropriate ioctl for device\n"
     ]
    },
    {
     "name": "stdout",
     "output_type": "stream",
     "text": [
      "--> Wrote FITS file 'modified_residual.pybdsf.srl.fits'\n",
      "Iteration 43/100\n",
      "Generated 598 synthetic sources\n"
     ]
    },
    {
     "name": "stderr",
     "output_type": "stream",
     "text": [
      "554430:INFO This is AeRes v0.2.7-(2020-07-30)\n",
      "554430:INFO Using mosaic_image.pybdsf_gaus_resid.fits and synthetic.vot to make modified_residual.fits\n",
      "554430:INFO Reading file synthetic.vot\n",
      "554430:INFO read 598 sources from synthetic.vot\n",
      "554430:INFO modeled 598 sources\n",
      "554430:INFO wrote residual to modified_residual.fits\n",
      "stty: 'standard input': Inappropriate ioctl for device\n",
      "stty: 'standard input': Inappropriate ioctl for device\n",
      "stty: 'standard input': Inappropriate ioctl for device\n",
      "stty: 'standard input': Inappropriate ioctl for device\n",
      "stty: 'standard input': Inappropriate ioctl for device\n"
     ]
    },
    {
     "name": "stdout",
     "output_type": "stream",
     "text": [
      "--> Wrote FITS file 'modified_residual.pybdsf.srl.fits'\n",
      "Iteration 44/100\n",
      "Generated 598 synthetic sources\n"
     ]
    },
    {
     "name": "stderr",
     "output_type": "stream",
     "text": [
      "555690:INFO This is AeRes v0.2.7-(2020-07-30)\n",
      "555690:INFO Using mosaic_image.pybdsf_gaus_resid.fits and synthetic.vot to make modified_residual.fits\n",
      "555690:INFO Reading file synthetic.vot\n",
      "555690:INFO read 598 sources from synthetic.vot\n",
      "555690:INFO modeled 598 sources\n",
      "555690:INFO wrote residual to modified_residual.fits\n",
      "stty: 'standard input': Inappropriate ioctl for device\n",
      "stty: 'standard input': Inappropriate ioctl for device\n",
      "stty: 'standard input': Inappropriate ioctl for device\n",
      "stty: 'standard input': Inappropriate ioctl for device\n",
      "stty: 'standard input': Inappropriate ioctl for device\n"
     ]
    },
    {
     "name": "stdout",
     "output_type": "stream",
     "text": [
      "--> Wrote FITS file 'modified_residual.pybdsf.srl.fits'\n",
      "Iteration 45/100\n",
      "Generated 598 synthetic sources\n"
     ]
    },
    {
     "name": "stderr",
     "output_type": "stream",
     "text": [
      "556925:INFO This is AeRes v0.2.7-(2020-07-30)\n",
      "556925:INFO Using mosaic_image.pybdsf_gaus_resid.fits and synthetic.vot to make modified_residual.fits\n",
      "556925:INFO Reading file synthetic.vot\n",
      "556925:INFO read 598 sources from synthetic.vot\n",
      "556925:INFO modeled 598 sources\n",
      "556925:INFO wrote residual to modified_residual.fits\n",
      "stty: 'standard input': Inappropriate ioctl for device\n",
      "stty: 'standard input': Inappropriate ioctl for device\n",
      "stty: 'standard input': Inappropriate ioctl for device\n",
      "stty: 'standard input': Inappropriate ioctl for device\n",
      "stty: 'standard input': Inappropriate ioctl for device\n"
     ]
    },
    {
     "name": "stdout",
     "output_type": "stream",
     "text": [
      "--> Wrote FITS file 'modified_residual.pybdsf.srl.fits'\n",
      "Iteration 46/100\n",
      "Generated 598 synthetic sources\n"
     ]
    },
    {
     "name": "stderr",
     "output_type": "stream",
     "text": [
      "558145:INFO This is AeRes v0.2.7-(2020-07-30)\n",
      "558145:INFO Using mosaic_image.pybdsf_gaus_resid.fits and synthetic.vot to make modified_residual.fits\n",
      "558145:INFO Reading file synthetic.vot\n",
      "558145:INFO read 598 sources from synthetic.vot\n",
      "558145:INFO modeled 598 sources\n",
      "558145:INFO wrote residual to modified_residual.fits\n",
      "stty: 'standard input': Inappropriate ioctl for device\n",
      "stty: 'standard input': Inappropriate ioctl for device\n",
      "stty: 'standard input': Inappropriate ioctl for device\n",
      "stty: 'standard input': Inappropriate ioctl for device\n",
      "stty: 'standard input': Inappropriate ioctl for device\n"
     ]
    },
    {
     "name": "stdout",
     "output_type": "stream",
     "text": [
      "--> Wrote FITS file 'modified_residual.pybdsf.srl.fits'\n",
      "Iteration 47/100\n",
      "Generated 598 synthetic sources\n"
     ]
    },
    {
     "name": "stderr",
     "output_type": "stream",
     "text": [
      "559363:INFO This is AeRes v0.2.7-(2020-07-30)\n",
      "559363:INFO Using mosaic_image.pybdsf_gaus_resid.fits and synthetic.vot to make modified_residual.fits\n",
      "559363:INFO Reading file synthetic.vot\n",
      "559363:INFO read 598 sources from synthetic.vot\n",
      "559363:INFO modeled 598 sources\n",
      "559363:INFO wrote residual to modified_residual.fits\n",
      "stty: 'standard input': Inappropriate ioctl for device\n",
      "stty: 'standard input': Inappropriate ioctl for device\n",
      "stty: 'standard input': Inappropriate ioctl for device\n",
      "stty: 'standard input': Inappropriate ioctl for device\n",
      "stty: 'standard input': Inappropriate ioctl for device\n"
     ]
    },
    {
     "name": "stdout",
     "output_type": "stream",
     "text": [
      "--> Wrote FITS file 'modified_residual.pybdsf.srl.fits'\n",
      "Iteration 48/100\n",
      "Generated 598 synthetic sources\n"
     ]
    },
    {
     "name": "stderr",
     "output_type": "stream",
     "text": [
      "560579:INFO This is AeRes v0.2.7-(2020-07-30)\n",
      "560579:INFO Using mosaic_image.pybdsf_gaus_resid.fits and synthetic.vot to make modified_residual.fits\n",
      "560579:INFO Reading file synthetic.vot\n",
      "560579:INFO read 598 sources from synthetic.vot\n",
      "560579:INFO modeled 598 sources\n",
      "560579:INFO wrote residual to modified_residual.fits\n",
      "stty: 'standard input': Inappropriate ioctl for device\n",
      "stty: 'standard input': Inappropriate ioctl for device\n",
      "stty: 'standard input': Inappropriate ioctl for device\n",
      "stty: 'standard input': Inappropriate ioctl for device\n",
      "stty: 'standard input': Inappropriate ioctl for device\n"
     ]
    },
    {
     "name": "stdout",
     "output_type": "stream",
     "text": [
      "--> Wrote FITS file 'modified_residual.pybdsf.srl.fits'\n",
      "Iteration 49/100\n",
      "Generated 598 synthetic sources\n"
     ]
    },
    {
     "name": "stderr",
     "output_type": "stream",
     "text": [
      "561816:INFO This is AeRes v0.2.7-(2020-07-30)\n",
      "561816:INFO Using mosaic_image.pybdsf_gaus_resid.fits and synthetic.vot to make modified_residual.fits\n",
      "561816:INFO Reading file synthetic.vot\n",
      "561816:INFO read 598 sources from synthetic.vot\n",
      "561816:INFO modeled 598 sources\n",
      "561816:INFO wrote residual to modified_residual.fits\n",
      "stty: 'standard input': Inappropriate ioctl for device\n",
      "stty: 'standard input': Inappropriate ioctl for device\n",
      "stty: 'standard input': Inappropriate ioctl for device\n",
      "stty: 'standard input': Inappropriate ioctl for device\n",
      "stty: 'standard input': Inappropriate ioctl for device\n"
     ]
    },
    {
     "name": "stdout",
     "output_type": "stream",
     "text": [
      "--> Wrote FITS file 'modified_residual.pybdsf.srl.fits'\n",
      "Iteration 50/100\n",
      "Generated 598 synthetic sources\n"
     ]
    },
    {
     "name": "stderr",
     "output_type": "stream",
     "text": [
      "563040:INFO This is AeRes v0.2.7-(2020-07-30)\n",
      "563040:INFO Using mosaic_image.pybdsf_gaus_resid.fits and synthetic.vot to make modified_residual.fits\n",
      "563040:INFO Reading file synthetic.vot\n",
      "563040:INFO read 598 sources from synthetic.vot\n",
      "563040:INFO modeled 598 sources\n",
      "563040:INFO wrote residual to modified_residual.fits\n",
      "stty: 'standard input': Inappropriate ioctl for device\n",
      "stty: 'standard input': Inappropriate ioctl for device\n",
      "stty: 'standard input': Inappropriate ioctl for device\n",
      "stty: 'standard input': Inappropriate ioctl for device\n",
      "stty: 'standard input': Inappropriate ioctl for device\n"
     ]
    },
    {
     "name": "stdout",
     "output_type": "stream",
     "text": [
      "--> Wrote FITS file 'modified_residual.pybdsf.srl.fits'\n",
      "Iteration 51/100\n",
      "Generated 598 synthetic sources\n"
     ]
    },
    {
     "name": "stderr",
     "output_type": "stream",
     "text": [
      "564266:INFO This is AeRes v0.2.7-(2020-07-30)\n",
      "564266:INFO Using mosaic_image.pybdsf_gaus_resid.fits and synthetic.vot to make modified_residual.fits\n",
      "564266:INFO Reading file synthetic.vot\n",
      "564266:INFO read 598 sources from synthetic.vot\n",
      "564266:INFO modeled 598 sources\n",
      "564266:INFO wrote residual to modified_residual.fits\n",
      "stty: 'standard input': Inappropriate ioctl for device\n",
      "stty: 'standard input': Inappropriate ioctl for device\n",
      "stty: 'standard input': Inappropriate ioctl for device\n",
      "stty: 'standard input': Inappropriate ioctl for device\n",
      "stty: 'standard input': Inappropriate ioctl for device\n"
     ]
    },
    {
     "name": "stdout",
     "output_type": "stream",
     "text": [
      "--> Wrote FITS file 'modified_residual.pybdsf.srl.fits'\n",
      "Iteration 52/100\n",
      "Generated 598 synthetic sources\n"
     ]
    },
    {
     "name": "stderr",
     "output_type": "stream",
     "text": [
      "565526:INFO This is AeRes v0.2.7-(2020-07-30)\n",
      "565526:INFO Using mosaic_image.pybdsf_gaus_resid.fits and synthetic.vot to make modified_residual.fits\n",
      "565526:INFO Reading file synthetic.vot\n",
      "565526:INFO read 598 sources from synthetic.vot\n",
      "565526:INFO modeled 598 sources\n",
      "565526:INFO wrote residual to modified_residual.fits\n",
      "stty: 'standard input': Inappropriate ioctl for device\n",
      "stty: 'standard input': Inappropriate ioctl for device\n",
      "stty: 'standard input': Inappropriate ioctl for device\n",
      "stty: 'standard input': Inappropriate ioctl for device\n",
      "stty: 'standard input': Inappropriate ioctl for device\n"
     ]
    },
    {
     "name": "stdout",
     "output_type": "stream",
     "text": [
      "--> Wrote FITS file 'modified_residual.pybdsf.srl.fits'\n",
      "Iteration 53/100\n",
      "Generated 598 synthetic sources\n"
     ]
    },
    {
     "name": "stderr",
     "output_type": "stream",
     "text": [
      "566764:INFO This is AeRes v0.2.7-(2020-07-30)\n",
      "566764:INFO Using mosaic_image.pybdsf_gaus_resid.fits and synthetic.vot to make modified_residual.fits\n",
      "566764:INFO Reading file synthetic.vot\n",
      "566764:INFO read 598 sources from synthetic.vot\n",
      "566764:INFO modeled 598 sources\n",
      "566764:INFO wrote residual to modified_residual.fits\n",
      "stty: 'standard input': Inappropriate ioctl for device\n",
      "stty: 'standard input': Inappropriate ioctl for device\n",
      "stty: 'standard input': Inappropriate ioctl for device\n",
      "stty: 'standard input': Inappropriate ioctl for device\n",
      "stty: 'standard input': Inappropriate ioctl for device\n"
     ]
    },
    {
     "name": "stdout",
     "output_type": "stream",
     "text": [
      "--> Wrote FITS file 'modified_residual.pybdsf.srl.fits'\n",
      "Iteration 54/100\n",
      "Generated 598 synthetic sources\n"
     ]
    },
    {
     "name": "stderr",
     "output_type": "stream",
     "text": [
      "568007:INFO This is AeRes v0.2.7-(2020-07-30)\n",
      "568007:INFO Using mosaic_image.pybdsf_gaus_resid.fits and synthetic.vot to make modified_residual.fits\n",
      "568007:INFO Reading file synthetic.vot\n",
      "568007:INFO read 598 sources from synthetic.vot\n",
      "568007:INFO modeled 598 sources\n",
      "568007:INFO wrote residual to modified_residual.fits\n",
      "stty: 'standard input': Inappropriate ioctl for device\n",
      "stty: 'standard input': Inappropriate ioctl for device\n",
      "stty: 'standard input': Inappropriate ioctl for device\n",
      "stty: 'standard input': Inappropriate ioctl for device\n",
      "stty: 'standard input': Inappropriate ioctl for device\n"
     ]
    },
    {
     "name": "stdout",
     "output_type": "stream",
     "text": [
      "--> Wrote FITS file 'modified_residual.pybdsf.srl.fits'\n",
      "Iteration 55/100\n",
      "Generated 598 synthetic sources\n"
     ]
    },
    {
     "name": "stderr",
     "output_type": "stream",
     "text": [
      "569401:INFO This is AeRes v0.2.7-(2020-07-30)\n",
      "569401:INFO Using mosaic_image.pybdsf_gaus_resid.fits and synthetic.vot to make modified_residual.fits\n",
      "569401:INFO Reading file synthetic.vot\n",
      "569401:INFO read 598 sources from synthetic.vot\n",
      "569401:INFO modeled 598 sources\n",
      "569401:INFO wrote residual to modified_residual.fits\n",
      "stty: 'standard input': Inappropriate ioctl for device\n",
      "stty: 'standard input': Inappropriate ioctl for device\n",
      "stty: 'standard input': Inappropriate ioctl for device\n",
      "stty: 'standard input': Inappropriate ioctl for device\n",
      "stty: 'standard input': Inappropriate ioctl for device\n"
     ]
    },
    {
     "name": "stdout",
     "output_type": "stream",
     "text": [
      "--> Wrote FITS file 'modified_residual.pybdsf.srl.fits'\n",
      "Iteration 56/100\n",
      "Generated 598 synthetic sources\n"
     ]
    },
    {
     "name": "stderr",
     "output_type": "stream",
     "text": [
      "570628:INFO This is AeRes v0.2.7-(2020-07-30)\n",
      "570628:INFO Using mosaic_image.pybdsf_gaus_resid.fits and synthetic.vot to make modified_residual.fits\n",
      "570628:INFO Reading file synthetic.vot\n",
      "570628:INFO read 598 sources from synthetic.vot\n",
      "570628:INFO modeled 598 sources\n",
      "570628:INFO wrote residual to modified_residual.fits\n",
      "stty: 'standard input': Inappropriate ioctl for device\n",
      "stty: 'standard input': Inappropriate ioctl for device\n",
      "stty: 'standard input': Inappropriate ioctl for device\n",
      "stty: 'standard input': Inappropriate ioctl for device\n",
      "stty: 'standard input': Inappropriate ioctl for device\n"
     ]
    },
    {
     "name": "stdout",
     "output_type": "stream",
     "text": [
      "--> Wrote FITS file 'modified_residual.pybdsf.srl.fits'\n",
      "Iteration 57/100\n",
      "Generated 598 synthetic sources\n"
     ]
    },
    {
     "name": "stderr",
     "output_type": "stream",
     "text": [
      "572026:INFO This is AeRes v0.2.7-(2020-07-30)\n",
      "572026:INFO Using mosaic_image.pybdsf_gaus_resid.fits and synthetic.vot to make modified_residual.fits\n",
      "572026:INFO Reading file synthetic.vot\n",
      "572026:INFO read 598 sources from synthetic.vot\n",
      "572026:INFO modeled 598 sources\n",
      "572026:INFO wrote residual to modified_residual.fits\n",
      "stty: 'standard input': Inappropriate ioctl for device\n",
      "stty: 'standard input': Inappropriate ioctl for device\n",
      "stty: 'standard input': Inappropriate ioctl for device\n",
      "stty: 'standard input': Inappropriate ioctl for device\n",
      "stty: 'standard input': Inappropriate ioctl for device\n"
     ]
    },
    {
     "name": "stdout",
     "output_type": "stream",
     "text": [
      "--> Wrote FITS file 'modified_residual.pybdsf.srl.fits'\n",
      "Iteration 58/100\n",
      "Generated 598 synthetic sources\n"
     ]
    },
    {
     "name": "stderr",
     "output_type": "stream",
     "text": [
      "573252:INFO This is AeRes v0.2.7-(2020-07-30)\n",
      "573252:INFO Using mosaic_image.pybdsf_gaus_resid.fits and synthetic.vot to make modified_residual.fits\n",
      "573252:INFO Reading file synthetic.vot\n",
      "573252:INFO read 598 sources from synthetic.vot\n",
      "573252:INFO modeled 598 sources\n",
      "573252:INFO wrote residual to modified_residual.fits\n",
      "stty: 'standard input': Inappropriate ioctl for device\n",
      "stty: 'standard input': Inappropriate ioctl for device\n",
      "stty: 'standard input': Inappropriate ioctl for device\n",
      "stty: 'standard input': Inappropriate ioctl for device\n",
      "stty: 'standard input': Inappropriate ioctl for device\n"
     ]
    },
    {
     "name": "stdout",
     "output_type": "stream",
     "text": [
      "--> Wrote FITS file 'modified_residual.pybdsf.srl.fits'\n",
      "Iteration 59/100\n",
      "Generated 598 synthetic sources\n"
     ]
    },
    {
     "name": "stderr",
     "output_type": "stream",
     "text": [
      "574484:INFO This is AeRes v0.2.7-(2020-07-30)\n",
      "574484:INFO Using mosaic_image.pybdsf_gaus_resid.fits and synthetic.vot to make modified_residual.fits\n",
      "574484:INFO Reading file synthetic.vot\n",
      "574484:INFO read 598 sources from synthetic.vot\n",
      "574484:INFO modeled 598 sources\n",
      "574484:INFO wrote residual to modified_residual.fits\n",
      "stty: 'standard input': Inappropriate ioctl for device\n",
      "stty: 'standard input': Inappropriate ioctl for device\n",
      "stty: 'standard input': Inappropriate ioctl for device\n",
      "stty: 'standard input': Inappropriate ioctl for device\n",
      "stty: 'standard input': Inappropriate ioctl for device\n"
     ]
    },
    {
     "name": "stdout",
     "output_type": "stream",
     "text": [
      "--> Wrote FITS file 'modified_residual.pybdsf.srl.fits'\n",
      "Iteration 60/100\n",
      "Generated 598 synthetic sources\n"
     ]
    },
    {
     "name": "stderr",
     "output_type": "stream",
     "text": [
      "575740:INFO This is AeRes v0.2.7-(2020-07-30)\n",
      "575740:INFO Using mosaic_image.pybdsf_gaus_resid.fits and synthetic.vot to make modified_residual.fits\n",
      "575740:INFO Reading file synthetic.vot\n",
      "575740:INFO read 598 sources from synthetic.vot\n",
      "575740:INFO modeled 598 sources\n",
      "575740:INFO wrote residual to modified_residual.fits\n",
      "stty: 'standard input': Inappropriate ioctl for device\n",
      "stty: 'standard input': Inappropriate ioctl for device\n",
      "stty: 'standard input': Inappropriate ioctl for device\n",
      "stty: 'standard input': Inappropriate ioctl for device\n",
      "stty: 'standard input': Inappropriate ioctl for device\n"
     ]
    },
    {
     "name": "stdout",
     "output_type": "stream",
     "text": [
      "--> Wrote FITS file 'modified_residual.pybdsf.srl.fits'\n",
      "Iteration 61/100\n",
      "Generated 598 synthetic sources\n"
     ]
    },
    {
     "name": "stderr",
     "output_type": "stream",
     "text": [
      "577001:INFO This is AeRes v0.2.7-(2020-07-30)\n",
      "577001:INFO Using mosaic_image.pybdsf_gaus_resid.fits and synthetic.vot to make modified_residual.fits\n",
      "577001:INFO Reading file synthetic.vot\n",
      "577001:INFO read 598 sources from synthetic.vot\n",
      "577001:INFO modeled 598 sources\n",
      "577001:INFO wrote residual to modified_residual.fits\n",
      "stty: 'standard input': Inappropriate ioctl for device\n",
      "stty: 'standard input': Inappropriate ioctl for device\n",
      "stty: 'standard input': Inappropriate ioctl for device\n",
      "stty: 'standard input': Inappropriate ioctl for device\n",
      "stty: 'standard input': Inappropriate ioctl for device\n"
     ]
    },
    {
     "name": "stdout",
     "output_type": "stream",
     "text": [
      "--> Wrote FITS file 'modified_residual.pybdsf.srl.fits'\n",
      "Iteration 62/100\n",
      "Generated 598 synthetic sources\n"
     ]
    },
    {
     "name": "stderr",
     "output_type": "stream",
     "text": [
      "578265:INFO This is AeRes v0.2.7-(2020-07-30)\n",
      "578265:INFO Using mosaic_image.pybdsf_gaus_resid.fits and synthetic.vot to make modified_residual.fits\n",
      "578265:INFO Reading file synthetic.vot\n",
      "578265:INFO read 598 sources from synthetic.vot\n",
      "578265:INFO modeled 598 sources\n",
      "578265:INFO wrote residual to modified_residual.fits\n",
      "stty: 'standard input': Inappropriate ioctl for device\n",
      "stty: 'standard input': Inappropriate ioctl for device\n",
      "stty: 'standard input': Inappropriate ioctl for device\n",
      "stty: 'standard input': Inappropriate ioctl for device\n",
      "stty: 'standard input': Inappropriate ioctl for device\n"
     ]
    },
    {
     "name": "stdout",
     "output_type": "stream",
     "text": [
      "--> Wrote FITS file 'modified_residual.pybdsf.srl.fits'\n",
      "Iteration 63/100\n",
      "Generated 598 synthetic sources\n"
     ]
    },
    {
     "name": "stderr",
     "output_type": "stream",
     "text": [
      "579506:INFO This is AeRes v0.2.7-(2020-07-30)\n",
      "579506:INFO Using mosaic_image.pybdsf_gaus_resid.fits and synthetic.vot to make modified_residual.fits\n",
      "579506:INFO Reading file synthetic.vot\n",
      "579506:INFO read 598 sources from synthetic.vot\n",
      "579506:INFO modeled 598 sources\n",
      "579506:INFO wrote residual to modified_residual.fits\n",
      "stty: 'standard input': Inappropriate ioctl for device\n",
      "stty: 'standard input': Inappropriate ioctl for device\n",
      "stty: 'standard input': Inappropriate ioctl for device\n",
      "stty: 'standard input': Inappropriate ioctl for device\n",
      "stty: 'standard input': Inappropriate ioctl for device\n"
     ]
    },
    {
     "name": "stdout",
     "output_type": "stream",
     "text": [
      "--> Wrote FITS file 'modified_residual.pybdsf.srl.fits'\n",
      "Iteration 64/100\n",
      "Generated 598 synthetic sources\n"
     ]
    },
    {
     "name": "stderr",
     "output_type": "stream",
     "text": [
      "580721:INFO This is AeRes v0.2.7-(2020-07-30)\n",
      "580721:INFO Using mosaic_image.pybdsf_gaus_resid.fits and synthetic.vot to make modified_residual.fits\n",
      "580721:INFO Reading file synthetic.vot\n",
      "580721:INFO read 598 sources from synthetic.vot\n",
      "580721:INFO modeled 598 sources\n",
      "580721:INFO wrote residual to modified_residual.fits\n",
      "stty: 'standard input': Inappropriate ioctl for device\n",
      "stty: 'standard input': Inappropriate ioctl for device\n",
      "stty: 'standard input': Inappropriate ioctl for device\n",
      "stty: 'standard input': Inappropriate ioctl for device\n",
      "stty: 'standard input': Inappropriate ioctl for device\n"
     ]
    },
    {
     "name": "stdout",
     "output_type": "stream",
     "text": [
      "--> Wrote FITS file 'modified_residual.pybdsf.srl.fits'\n",
      "Iteration 65/100\n",
      "Generated 598 synthetic sources\n"
     ]
    },
    {
     "name": "stderr",
     "output_type": "stream",
     "text": [
      "581939:INFO This is AeRes v0.2.7-(2020-07-30)\n",
      "581939:INFO Using mosaic_image.pybdsf_gaus_resid.fits and synthetic.vot to make modified_residual.fits\n",
      "581939:INFO Reading file synthetic.vot\n",
      "581939:INFO read 598 sources from synthetic.vot\n",
      "581939:INFO modeled 598 sources\n",
      "581939:INFO wrote residual to modified_residual.fits\n",
      "\u001b[31;1mWARNING\u001b[0m: Negative values found in rms map interpolated with spline_rank = 3\n",
      "\u001b[31;1mWARNING\u001b[0m: Using spline_rank = 1 (bilinear interpolation) instead\n",
      "stty: 'standard input': Inappropriate ioctl for device\n",
      "stty: 'standard input': Inappropriate ioctl for device\n",
      "stty: 'standard input': Inappropriate ioctl for device\n",
      "stty: 'standard input': Inappropriate ioctl for device\n",
      "stty: 'standard input': Inappropriate ioctl for device\n"
     ]
    },
    {
     "name": "stdout",
     "output_type": "stream",
     "text": [
      "--> Wrote FITS file 'modified_residual.pybdsf.srl.fits'\n",
      "Iteration 66/100\n",
      "Generated 598 synthetic sources\n"
     ]
    },
    {
     "name": "stderr",
     "output_type": "stream",
     "text": [
      "583848:INFO This is AeRes v0.2.7-(2020-07-30)\n",
      "583848:INFO Using mosaic_image.pybdsf_gaus_resid.fits and synthetic.vot to make modified_residual.fits\n",
      "583848:INFO Reading file synthetic.vot\n",
      "583848:INFO read 598 sources from synthetic.vot\n",
      "583848:INFO modeled 598 sources\n",
      "583848:INFO wrote residual to modified_residual.fits\n",
      "stty: 'standard input': Inappropriate ioctl for device\n",
      "stty: 'standard input': Inappropriate ioctl for device\n",
      "stty: 'standard input': Inappropriate ioctl for device\n",
      "stty: 'standard input': Inappropriate ioctl for device\n",
      "stty: 'standard input': Inappropriate ioctl for device\n"
     ]
    },
    {
     "name": "stdout",
     "output_type": "stream",
     "text": [
      "--> Wrote FITS file 'modified_residual.pybdsf.srl.fits'\n",
      "Iteration 67/100\n",
      "Generated 598 synthetic sources\n"
     ]
    },
    {
     "name": "stderr",
     "output_type": "stream",
     "text": [
      "585062:INFO This is AeRes v0.2.7-(2020-07-30)\n",
      "585062:INFO Using mosaic_image.pybdsf_gaus_resid.fits and synthetic.vot to make modified_residual.fits\n",
      "585062:INFO Reading file synthetic.vot\n",
      "585062:INFO read 598 sources from synthetic.vot\n",
      "585062:INFO modeled 598 sources\n",
      "585062:INFO wrote residual to modified_residual.fits\n",
      "stty: 'standard input': Inappropriate ioctl for device\n",
      "stty: 'standard input': Inappropriate ioctl for device\n",
      "stty: 'standard input': Inappropriate ioctl for device\n",
      "stty: 'standard input': Inappropriate ioctl for device\n",
      "stty: 'standard input': Inappropriate ioctl for device\n"
     ]
    },
    {
     "name": "stdout",
     "output_type": "stream",
     "text": [
      "--> Wrote FITS file 'modified_residual.pybdsf.srl.fits'\n",
      "Iteration 68/100\n",
      "Generated 598 synthetic sources\n"
     ]
    },
    {
     "name": "stderr",
     "output_type": "stream",
     "text": [
      "586326:INFO This is AeRes v0.2.7-(2020-07-30)\n",
      "586326:INFO Using mosaic_image.pybdsf_gaus_resid.fits and synthetic.vot to make modified_residual.fits\n",
      "586326:INFO Reading file synthetic.vot\n",
      "586326:INFO read 598 sources from synthetic.vot\n",
      "586326:INFO modeled 598 sources\n",
      "586326:INFO wrote residual to modified_residual.fits\n",
      "stty: 'standard input': Inappropriate ioctl for device\n",
      "stty: 'standard input': Inappropriate ioctl for device\n",
      "stty: 'standard input': Inappropriate ioctl for device\n",
      "stty: 'standard input': Inappropriate ioctl for device\n",
      "stty: 'standard input': Inappropriate ioctl for device\n"
     ]
    },
    {
     "name": "stdout",
     "output_type": "stream",
     "text": [
      "--> Wrote FITS file 'modified_residual.pybdsf.srl.fits'\n",
      "Iteration 69/100\n",
      "Generated 598 synthetic sources\n"
     ]
    },
    {
     "name": "stderr",
     "output_type": "stream",
     "text": [
      "587556:INFO This is AeRes v0.2.7-(2020-07-30)\n",
      "587556:INFO Using mosaic_image.pybdsf_gaus_resid.fits and synthetic.vot to make modified_residual.fits\n",
      "587556:INFO Reading file synthetic.vot\n",
      "587556:INFO read 598 sources from synthetic.vot\n",
      "587556:INFO modeled 598 sources\n",
      "587556:INFO wrote residual to modified_residual.fits\n",
      "stty: 'standard input': Inappropriate ioctl for device\n",
      "stty: 'standard input': Inappropriate ioctl for device\n",
      "stty: 'standard input': Inappropriate ioctl for device\n",
      "stty: 'standard input': Inappropriate ioctl for device\n",
      "stty: 'standard input': Inappropriate ioctl for device\n"
     ]
    },
    {
     "name": "stdout",
     "output_type": "stream",
     "text": [
      "--> Wrote FITS file 'modified_residual.pybdsf.srl.fits'\n",
      "Iteration 70/100\n",
      "Generated 598 synthetic sources\n"
     ]
    },
    {
     "name": "stderr",
     "output_type": "stream",
     "text": [
      "588772:INFO This is AeRes v0.2.7-(2020-07-30)\n",
      "588772:INFO Using mosaic_image.pybdsf_gaus_resid.fits and synthetic.vot to make modified_residual.fits\n",
      "588772:INFO Reading file synthetic.vot\n",
      "588772:INFO read 598 sources from synthetic.vot\n",
      "588772:INFO modeled 598 sources\n",
      "588772:INFO wrote residual to modified_residual.fits\n",
      "stty: 'standard input': Inappropriate ioctl for device\n",
      "stty: 'standard input': Inappropriate ioctl for device\n",
      "stty: 'standard input': Inappropriate ioctl for device\n",
      "stty: 'standard input': Inappropriate ioctl for device\n",
      "stty: 'standard input': Inappropriate ioctl for device\n"
     ]
    },
    {
     "name": "stdout",
     "output_type": "stream",
     "text": [
      "--> Wrote FITS file 'modified_residual.pybdsf.srl.fits'\n",
      "Iteration 71/100\n",
      "Generated 598 synthetic sources\n"
     ]
    },
    {
     "name": "stderr",
     "output_type": "stream",
     "text": [
      "590079:INFO This is AeRes v0.2.7-(2020-07-30)\n",
      "590079:INFO Using mosaic_image.pybdsf_gaus_resid.fits and synthetic.vot to make modified_residual.fits\n",
      "590079:INFO Reading file synthetic.vot\n",
      "590079:INFO read 598 sources from synthetic.vot\n",
      "590079:INFO modeled 598 sources\n",
      "590079:INFO wrote residual to modified_residual.fits\n",
      "stty: 'standard input': Inappropriate ioctl for device\n",
      "stty: 'standard input': Inappropriate ioctl for device\n",
      "stty: 'standard input': Inappropriate ioctl for device\n",
      "stty: 'standard input': Inappropriate ioctl for device\n",
      "stty: 'standard input': Inappropriate ioctl for device\n"
     ]
    },
    {
     "name": "stdout",
     "output_type": "stream",
     "text": [
      "--> Wrote FITS file 'modified_residual.pybdsf.srl.fits'\n",
      "Iteration 72/100\n",
      "Generated 598 synthetic sources\n"
     ]
    },
    {
     "name": "stderr",
     "output_type": "stream",
     "text": [
      "591309:INFO This is AeRes v0.2.7-(2020-07-30)\n",
      "591309:INFO Using mosaic_image.pybdsf_gaus_resid.fits and synthetic.vot to make modified_residual.fits\n",
      "591309:INFO Reading file synthetic.vot\n",
      "591309:INFO read 598 sources from synthetic.vot\n",
      "591309:INFO modeled 598 sources\n",
      "591309:INFO wrote residual to modified_residual.fits\n",
      "stty: 'standard input': Inappropriate ioctl for device\n",
      "stty: 'standard input': Inappropriate ioctl for device\n",
      "stty: 'standard input': Inappropriate ioctl for device\n",
      "stty: 'standard input': Inappropriate ioctl for device\n",
      "stty: 'standard input': Inappropriate ioctl for device\n"
     ]
    },
    {
     "name": "stdout",
     "output_type": "stream",
     "text": [
      "--> Wrote FITS file 'modified_residual.pybdsf.srl.fits'\n",
      "Iteration 73/100\n",
      "Generated 598 synthetic sources\n"
     ]
    },
    {
     "name": "stderr",
     "output_type": "stream",
     "text": [
      "592578:INFO This is AeRes v0.2.7-(2020-07-30)\n",
      "592578:INFO Using mosaic_image.pybdsf_gaus_resid.fits and synthetic.vot to make modified_residual.fits\n",
      "592578:INFO Reading file synthetic.vot\n",
      "592578:INFO read 598 sources from synthetic.vot\n",
      "592578:INFO modeled 598 sources\n",
      "592578:INFO wrote residual to modified_residual.fits\n",
      "stty: 'standard input': Inappropriate ioctl for device\n",
      "stty: 'standard input': Inappropriate ioctl for device\n",
      "stty: 'standard input': Inappropriate ioctl for device\n",
      "stty: 'standard input': Inappropriate ioctl for device\n",
      "stty: 'standard input': Inappropriate ioctl for device\n"
     ]
    },
    {
     "name": "stdout",
     "output_type": "stream",
     "text": [
      "--> Wrote FITS file 'modified_residual.pybdsf.srl.fits'\n",
      "Iteration 74/100\n",
      "Generated 598 synthetic sources\n"
     ]
    },
    {
     "name": "stderr",
     "output_type": "stream",
     "text": [
      "593812:INFO This is AeRes v0.2.7-(2020-07-30)\n",
      "593812:INFO Using mosaic_image.pybdsf_gaus_resid.fits and synthetic.vot to make modified_residual.fits\n",
      "593812:INFO Reading file synthetic.vot\n",
      "593812:INFO read 598 sources from synthetic.vot\n",
      "593812:INFO modeled 598 sources\n",
      "593812:INFO wrote residual to modified_residual.fits\n",
      "stty: 'standard input': Inappropriate ioctl for device\n",
      "stty: 'standard input': Inappropriate ioctl for device\n",
      "stty: 'standard input': Inappropriate ioctl for device\n",
      "stty: 'standard input': Inappropriate ioctl for device\n",
      "stty: 'standard input': Inappropriate ioctl for device\n"
     ]
    },
    {
     "name": "stdout",
     "output_type": "stream",
     "text": [
      "--> Wrote FITS file 'modified_residual.pybdsf.srl.fits'\n",
      "Iteration 75/100\n",
      "Generated 598 synthetic sources\n"
     ]
    },
    {
     "name": "stderr",
     "output_type": "stream",
     "text": [
      "595178:INFO This is AeRes v0.2.7-(2020-07-30)\n",
      "595178:INFO Using mosaic_image.pybdsf_gaus_resid.fits and synthetic.vot to make modified_residual.fits\n",
      "595178:INFO Reading file synthetic.vot\n",
      "595178:INFO read 598 sources from synthetic.vot\n",
      "595178:INFO modeled 598 sources\n",
      "595178:INFO wrote residual to modified_residual.fits\n",
      "stty: 'standard input': Inappropriate ioctl for device\n",
      "stty: 'standard input': Inappropriate ioctl for device\n",
      "stty: 'standard input': Inappropriate ioctl for device\n",
      "stty: 'standard input': Inappropriate ioctl for device\n",
      "stty: 'standard input': Inappropriate ioctl for device\n"
     ]
    },
    {
     "name": "stdout",
     "output_type": "stream",
     "text": [
      "--> Wrote FITS file 'modified_residual.pybdsf.srl.fits'\n",
      "Iteration 76/100\n",
      "Generated 598 synthetic sources\n"
     ]
    },
    {
     "name": "stderr",
     "output_type": "stream",
     "text": [
      "596471:INFO This is AeRes v0.2.7-(2020-07-30)\n",
      "596471:INFO Using mosaic_image.pybdsf_gaus_resid.fits and synthetic.vot to make modified_residual.fits\n",
      "596471:INFO Reading file synthetic.vot\n",
      "596471:INFO read 598 sources from synthetic.vot\n",
      "596471:INFO modeled 598 sources\n",
      "596471:INFO wrote residual to modified_residual.fits\n",
      "stty: 'standard input': Inappropriate ioctl for device\n",
      "stty: 'standard input': Inappropriate ioctl for device\n",
      "stty: 'standard input': Inappropriate ioctl for device\n",
      "stty: 'standard input': Inappropriate ioctl for device\n",
      "stty: 'standard input': Inappropriate ioctl for device\n"
     ]
    },
    {
     "name": "stdout",
     "output_type": "stream",
     "text": [
      "--> Wrote FITS file 'modified_residual.pybdsf.srl.fits'\n",
      "Iteration 77/100\n",
      "Generated 598 synthetic sources\n"
     ]
    },
    {
     "name": "stderr",
     "output_type": "stream",
     "text": [
      "597690:INFO This is AeRes v0.2.7-(2020-07-30)\n",
      "597690:INFO Using mosaic_image.pybdsf_gaus_resid.fits and synthetic.vot to make modified_residual.fits\n",
      "597690:INFO Reading file synthetic.vot\n",
      "597690:INFO read 598 sources from synthetic.vot\n",
      "597690:INFO modeled 598 sources\n",
      "597690:INFO wrote residual to modified_residual.fits\n",
      "stty: 'standard input': Inappropriate ioctl for device\n",
      "stty: 'standard input': Inappropriate ioctl for device\n",
      "stty: 'standard input': Inappropriate ioctl for device\n",
      "stty: 'standard input': Inappropriate ioctl for device\n",
      "stty: 'standard input': Inappropriate ioctl for device\n"
     ]
    },
    {
     "name": "stdout",
     "output_type": "stream",
     "text": [
      "--> Wrote FITS file 'modified_residual.pybdsf.srl.fits'\n",
      "Iteration 78/100\n",
      "Generated 598 synthetic sources\n"
     ]
    },
    {
     "name": "stderr",
     "output_type": "stream",
     "text": [
      "598924:INFO This is AeRes v0.2.7-(2020-07-30)\n",
      "598924:INFO Using mosaic_image.pybdsf_gaus_resid.fits and synthetic.vot to make modified_residual.fits\n",
      "598924:INFO Reading file synthetic.vot\n",
      "598924:INFO read 598 sources from synthetic.vot\n",
      "598924:INFO modeled 598 sources\n",
      "598924:INFO wrote residual to modified_residual.fits\n",
      "stty: 'standard input': Inappropriate ioctl for device\n",
      "stty: 'standard input': Inappropriate ioctl for device\n",
      "stty: 'standard input': Inappropriate ioctl for device\n",
      "stty: 'standard input': Inappropriate ioctl for device\n",
      "stty: 'standard input': Inappropriate ioctl for device\n"
     ]
    },
    {
     "name": "stdout",
     "output_type": "stream",
     "text": [
      "--> Wrote FITS file 'modified_residual.pybdsf.srl.fits'\n",
      "Iteration 79/100\n",
      "Generated 598 synthetic sources\n"
     ]
    },
    {
     "name": "stderr",
     "output_type": "stream",
     "text": [
      "600153:INFO This is AeRes v0.2.7-(2020-07-30)\n",
      "600153:INFO Using mosaic_image.pybdsf_gaus_resid.fits and synthetic.vot to make modified_residual.fits\n",
      "600153:INFO Reading file synthetic.vot\n",
      "600153:INFO read 598 sources from synthetic.vot\n",
      "600153:INFO modeled 598 sources\n",
      "600153:INFO wrote residual to modified_residual.fits\n",
      "stty: 'standard input': Inappropriate ioctl for device\n",
      "stty: 'standard input': Inappropriate ioctl for device\n",
      "stty: 'standard input': Inappropriate ioctl for device\n",
      "stty: 'standard input': Inappropriate ioctl for device\n",
      "stty: 'standard input': Inappropriate ioctl for device\n"
     ]
    },
    {
     "name": "stdout",
     "output_type": "stream",
     "text": [
      "--> Wrote FITS file 'modified_residual.pybdsf.srl.fits'\n",
      "Iteration 80/100\n",
      "Generated 598 synthetic sources\n"
     ]
    },
    {
     "name": "stderr",
     "output_type": "stream",
     "text": [
      "601373:INFO This is AeRes v0.2.7-(2020-07-30)\n",
      "601373:INFO Using mosaic_image.pybdsf_gaus_resid.fits and synthetic.vot to make modified_residual.fits\n",
      "601373:INFO Reading file synthetic.vot\n",
      "601373:INFO read 598 sources from synthetic.vot\n",
      "601373:INFO modeled 598 sources\n",
      "601373:INFO wrote residual to modified_residual.fits\n",
      "stty: 'standard input': Inappropriate ioctl for device\n",
      "stty: 'standard input': Inappropriate ioctl for device\n",
      "stty: 'standard input': Inappropriate ioctl for device\n",
      "stty: 'standard input': Inappropriate ioctl for device\n",
      "stty: 'standard input': Inappropriate ioctl for device\n"
     ]
    },
    {
     "name": "stdout",
     "output_type": "stream",
     "text": [
      "--> Wrote FITS file 'modified_residual.pybdsf.srl.fits'\n",
      "Iteration 81/100\n",
      "Generated 598 synthetic sources\n"
     ]
    },
    {
     "name": "stderr",
     "output_type": "stream",
     "text": [
      "602595:INFO This is AeRes v0.2.7-(2020-07-30)\n",
      "602595:INFO Using mosaic_image.pybdsf_gaus_resid.fits and synthetic.vot to make modified_residual.fits\n",
      "602595:INFO Reading file synthetic.vot\n",
      "602595:INFO read 598 sources from synthetic.vot\n",
      "602595:INFO modeled 598 sources\n",
      "602595:INFO wrote residual to modified_residual.fits\n",
      "stty: 'standard input': Inappropriate ioctl for device\n",
      "stty: 'standard input': Inappropriate ioctl for device\n",
      "stty: 'standard input': Inappropriate ioctl for device\n",
      "stty: 'standard input': Inappropriate ioctl for device\n",
      "stty: 'standard input': Inappropriate ioctl for device\n"
     ]
    },
    {
     "name": "stdout",
     "output_type": "stream",
     "text": [
      "--> Wrote FITS file 'modified_residual.pybdsf.srl.fits'\n",
      "Iteration 82/100\n",
      "Generated 598 synthetic sources\n"
     ]
    },
    {
     "name": "stderr",
     "output_type": "stream",
     "text": [
      "603838:INFO This is AeRes v0.2.7-(2020-07-30)\n",
      "603838:INFO Using mosaic_image.pybdsf_gaus_resid.fits and synthetic.vot to make modified_residual.fits\n",
      "603838:INFO Reading file synthetic.vot\n",
      "603838:INFO read 598 sources from synthetic.vot\n",
      "603838:INFO modeled 598 sources\n",
      "603838:INFO wrote residual to modified_residual.fits\n",
      "stty: 'standard input': Inappropriate ioctl for device\n",
      "stty: 'standard input': Inappropriate ioctl for device\n",
      "stty: 'standard input': Inappropriate ioctl for device\n",
      "stty: 'standard input': Inappropriate ioctl for device\n",
      "stty: 'standard input': Inappropriate ioctl for device\n"
     ]
    },
    {
     "name": "stdout",
     "output_type": "stream",
     "text": [
      "--> Wrote FITS file 'modified_residual.pybdsf.srl.fits'\n",
      "Iteration 83/100\n",
      "Generated 598 synthetic sources\n"
     ]
    },
    {
     "name": "stderr",
     "output_type": "stream",
     "text": [
      "605186:INFO This is AeRes v0.2.7-(2020-07-30)\n",
      "605186:INFO Using mosaic_image.pybdsf_gaus_resid.fits and synthetic.vot to make modified_residual.fits\n",
      "605186:INFO Reading file synthetic.vot\n",
      "605186:INFO read 598 sources from synthetic.vot\n",
      "605186:INFO modeled 598 sources\n",
      "605186:INFO wrote residual to modified_residual.fits\n",
      "stty: 'standard input': Inappropriate ioctl for device\n",
      "stty: 'standard input': Inappropriate ioctl for device\n",
      "stty: 'standard input': Inappropriate ioctl for device\n",
      "stty: 'standard input': Inappropriate ioctl for device\n",
      "stty: 'standard input': Inappropriate ioctl for device\n"
     ]
    },
    {
     "name": "stdout",
     "output_type": "stream",
     "text": [
      "--> Wrote FITS file 'modified_residual.pybdsf.srl.fits'\n",
      "Iteration 84/100\n",
      "Generated 598 synthetic sources\n"
     ]
    },
    {
     "name": "stderr",
     "output_type": "stream",
     "text": [
      "606456:INFO This is AeRes v0.2.7-(2020-07-30)\n",
      "606456:INFO Using mosaic_image.pybdsf_gaus_resid.fits and synthetic.vot to make modified_residual.fits\n",
      "606456:INFO Reading file synthetic.vot\n",
      "606456:INFO read 598 sources from synthetic.vot\n",
      "606456:INFO modeled 598 sources\n",
      "606456:INFO wrote residual to modified_residual.fits\n",
      "stty: 'standard input': Inappropriate ioctl for device\n",
      "stty: 'standard input': Inappropriate ioctl for device\n",
      "stty: 'standard input': Inappropriate ioctl for device\n",
      "stty: 'standard input': Inappropriate ioctl for device\n",
      "stty: 'standard input': Inappropriate ioctl for device\n"
     ]
    },
    {
     "name": "stdout",
     "output_type": "stream",
     "text": [
      "--> Wrote FITS file 'modified_residual.pybdsf.srl.fits'\n",
      "Iteration 85/100\n",
      "Generated 598 synthetic sources\n"
     ]
    },
    {
     "name": "stderr",
     "output_type": "stream",
     "text": [
      "607783:INFO This is AeRes v0.2.7-(2020-07-30)\n",
      "607783:INFO Using mosaic_image.pybdsf_gaus_resid.fits and synthetic.vot to make modified_residual.fits\n",
      "607783:INFO Reading file synthetic.vot\n",
      "607783:INFO read 598 sources from synthetic.vot\n",
      "607783:INFO modeled 598 sources\n",
      "607783:INFO wrote residual to modified_residual.fits\n",
      "\u001b[31;1mWARNING\u001b[0m: Negative values found in rms map interpolated with spline_rank = 3\n",
      "\u001b[31;1mWARNING\u001b[0m: Using spline_rank = 1 (bilinear interpolation) instead\n",
      "stty: 'standard input': Inappropriate ioctl for device\n",
      "stty: 'standard input': Inappropriate ioctl for device\n",
      "stty: 'standard input': Inappropriate ioctl for device\n",
      "stty: 'standard input': Inappropriate ioctl for device\n",
      "stty: 'standard input': Inappropriate ioctl for device\n"
     ]
    },
    {
     "name": "stdout",
     "output_type": "stream",
     "text": [
      "--> Wrote FITS file 'modified_residual.pybdsf.srl.fits'\n",
      "Iteration 86/100\n",
      "Generated 598 synthetic sources\n"
     ]
    },
    {
     "name": "stderr",
     "output_type": "stream",
     "text": [
      "609750:INFO This is AeRes v0.2.7-(2020-07-30)\n",
      "609750:INFO Using mosaic_image.pybdsf_gaus_resid.fits and synthetic.vot to make modified_residual.fits\n",
      "609750:INFO Reading file synthetic.vot\n",
      "609750:INFO read 598 sources from synthetic.vot\n",
      "609750:INFO modeled 598 sources\n",
      "609750:INFO wrote residual to modified_residual.fits\n",
      "stty: 'standard input': Inappropriate ioctl for device\n",
      "stty: 'standard input': Inappropriate ioctl for device\n",
      "stty: 'standard input': Inappropriate ioctl for device\n",
      "stty: 'standard input': Inappropriate ioctl for device\n",
      "stty: 'standard input': Inappropriate ioctl for device\n"
     ]
    },
    {
     "name": "stdout",
     "output_type": "stream",
     "text": [
      "--> Wrote FITS file 'modified_residual.pybdsf.srl.fits'\n",
      "Iteration 87/100\n",
      "Generated 598 synthetic sources\n"
     ]
    },
    {
     "name": "stderr",
     "output_type": "stream",
     "text": [
      "610962:INFO This is AeRes v0.2.7-(2020-07-30)\n",
      "610962:INFO Using mosaic_image.pybdsf_gaus_resid.fits and synthetic.vot to make modified_residual.fits\n",
      "610962:INFO Reading file synthetic.vot\n",
      "610962:INFO read 598 sources from synthetic.vot\n",
      "610962:INFO modeled 598 sources\n",
      "610962:INFO wrote residual to modified_residual.fits\n",
      "stty: 'standard input': Inappropriate ioctl for device\n",
      "stty: 'standard input': Inappropriate ioctl for device\n",
      "stty: 'standard input': Inappropriate ioctl for device\n",
      "stty: 'standard input': Inappropriate ioctl for device\n",
      "stty: 'standard input': Inappropriate ioctl for device\n"
     ]
    },
    {
     "name": "stdout",
     "output_type": "stream",
     "text": [
      "--> Wrote FITS file 'modified_residual.pybdsf.srl.fits'\n",
      "Iteration 88/100\n",
      "Generated 598 synthetic sources\n"
     ]
    },
    {
     "name": "stderr",
     "output_type": "stream",
     "text": [
      "612184:INFO This is AeRes v0.2.7-(2020-07-30)\n",
      "612184:INFO Using mosaic_image.pybdsf_gaus_resid.fits and synthetic.vot to make modified_residual.fits\n",
      "612184:INFO Reading file synthetic.vot\n",
      "612184:INFO read 598 sources from synthetic.vot\n",
      "612184:INFO modeled 598 sources\n",
      "612184:INFO wrote residual to modified_residual.fits\n",
      "stty: 'standard input': Inappropriate ioctl for device\n",
      "stty: 'standard input': Inappropriate ioctl for device\n",
      "stty: 'standard input': Inappropriate ioctl for device\n",
      "stty: 'standard input': Inappropriate ioctl for device\n",
      "stty: 'standard input': Inappropriate ioctl for device\n"
     ]
    },
    {
     "name": "stdout",
     "output_type": "stream",
     "text": [
      "--> Wrote FITS file 'modified_residual.pybdsf.srl.fits'\n",
      "Iteration 89/100\n",
      "Generated 598 synthetic sources\n"
     ]
    },
    {
     "name": "stderr",
     "output_type": "stream",
     "text": [
      "613400:INFO This is AeRes v0.2.7-(2020-07-30)\n",
      "613400:INFO Using mosaic_image.pybdsf_gaus_resid.fits and synthetic.vot to make modified_residual.fits\n",
      "613400:INFO Reading file synthetic.vot\n",
      "613400:INFO read 598 sources from synthetic.vot\n",
      "613400:INFO modeled 598 sources\n",
      "613400:INFO wrote residual to modified_residual.fits\n",
      "stty: 'standard input': Inappropriate ioctl for device\n",
      "stty: 'standard input': Inappropriate ioctl for device\n",
      "stty: 'standard input': Inappropriate ioctl for device\n",
      "stty: 'standard input': Inappropriate ioctl for device\n",
      "stty: 'standard input': Inappropriate ioctl for device\n"
     ]
    },
    {
     "name": "stdout",
     "output_type": "stream",
     "text": [
      "--> Wrote FITS file 'modified_residual.pybdsf.srl.fits'\n",
      "Iteration 90/100\n",
      "Generated 598 synthetic sources\n"
     ]
    },
    {
     "name": "stderr",
     "output_type": "stream",
     "text": [
      "614631:INFO This is AeRes v0.2.7-(2020-07-30)\n",
      "614631:INFO Using mosaic_image.pybdsf_gaus_resid.fits and synthetic.vot to make modified_residual.fits\n",
      "614631:INFO Reading file synthetic.vot\n",
      "614631:INFO read 598 sources from synthetic.vot\n",
      "614631:INFO modeled 598 sources\n",
      "614631:INFO wrote residual to modified_residual.fits\n",
      "stty: 'standard input': Inappropriate ioctl for device\n",
      "stty: 'standard input': Inappropriate ioctl for device\n",
      "stty: 'standard input': Inappropriate ioctl for device\n",
      "stty: 'standard input': Inappropriate ioctl for device\n",
      "stty: 'standard input': Inappropriate ioctl for device\n"
     ]
    },
    {
     "name": "stdout",
     "output_type": "stream",
     "text": [
      "--> Wrote FITS file 'modified_residual.pybdsf.srl.fits'\n",
      "Iteration 91/100\n",
      "Generated 598 synthetic sources\n"
     ]
    },
    {
     "name": "stderr",
     "output_type": "stream",
     "text": [
      "615950:INFO This is AeRes v0.2.7-(2020-07-30)\n",
      "615950:INFO Using mosaic_image.pybdsf_gaus_resid.fits and synthetic.vot to make modified_residual.fits\n",
      "615950:INFO Reading file synthetic.vot\n",
      "615950:INFO read 598 sources from synthetic.vot\n",
      "615950:INFO modeled 598 sources\n",
      "615950:INFO wrote residual to modified_residual.fits\n",
      "stty: 'standard input': Inappropriate ioctl for device\n",
      "stty: 'standard input': Inappropriate ioctl for device\n",
      "stty: 'standard input': Inappropriate ioctl for device\n",
      "stty: 'standard input': Inappropriate ioctl for device\n",
      "stty: 'standard input': Inappropriate ioctl for device\n"
     ]
    },
    {
     "name": "stdout",
     "output_type": "stream",
     "text": [
      "--> Wrote FITS file 'modified_residual.pybdsf.srl.fits'\n",
      "Iteration 92/100\n",
      "Generated 598 synthetic sources\n"
     ]
    },
    {
     "name": "stderr",
     "output_type": "stream",
     "text": [
      "617209:INFO This is AeRes v0.2.7-(2020-07-30)\n",
      "617209:INFO Using mosaic_image.pybdsf_gaus_resid.fits and synthetic.vot to make modified_residual.fits\n",
      "617209:INFO Reading file synthetic.vot\n",
      "617209:INFO read 598 sources from synthetic.vot\n",
      "617209:INFO modeled 598 sources\n",
      "617209:INFO wrote residual to modified_residual.fits\n",
      "stty: 'standard input': Inappropriate ioctl for device\n",
      "stty: 'standard input': Inappropriate ioctl for device\n",
      "stty: 'standard input': Inappropriate ioctl for device\n",
      "stty: 'standard input': Inappropriate ioctl for device\n",
      "stty: 'standard input': Inappropriate ioctl for device\n"
     ]
    },
    {
     "name": "stdout",
     "output_type": "stream",
     "text": [
      "--> Wrote FITS file 'modified_residual.pybdsf.srl.fits'\n",
      "Iteration 93/100\n",
      "Generated 598 synthetic sources\n"
     ]
    },
    {
     "name": "stderr",
     "output_type": "stream",
     "text": [
      "618442:INFO This is AeRes v0.2.7-(2020-07-30)\n",
      "618442:INFO Using mosaic_image.pybdsf_gaus_resid.fits and synthetic.vot to make modified_residual.fits\n",
      "618442:INFO Reading file synthetic.vot\n",
      "618442:INFO read 598 sources from synthetic.vot\n",
      "618442:INFO modeled 598 sources\n",
      "618442:INFO wrote residual to modified_residual.fits\n",
      "stty: 'standard input': Inappropriate ioctl for device\n",
      "stty: 'standard input': Inappropriate ioctl for device\n",
      "stty: 'standard input': Inappropriate ioctl for device\n",
      "stty: 'standard input': Inappropriate ioctl for device\n",
      "stty: 'standard input': Inappropriate ioctl for device\n"
     ]
    },
    {
     "name": "stdout",
     "output_type": "stream",
     "text": [
      "--> Wrote FITS file 'modified_residual.pybdsf.srl.fits'\n",
      "Iteration 94/100\n",
      "Generated 598 synthetic sources\n"
     ]
    },
    {
     "name": "stderr",
     "output_type": "stream",
     "text": [
      "619657:INFO This is AeRes v0.2.7-(2020-07-30)\n",
      "619657:INFO Using mosaic_image.pybdsf_gaus_resid.fits and synthetic.vot to make modified_residual.fits\n",
      "619657:INFO Reading file synthetic.vot\n",
      "619657:INFO read 598 sources from synthetic.vot\n",
      "619657:INFO modeled 598 sources\n",
      "619657:INFO wrote residual to modified_residual.fits\n",
      "stty: 'standard input': Inappropriate ioctl for device\n",
      "stty: 'standard input': Inappropriate ioctl for device\n",
      "stty: 'standard input': Inappropriate ioctl for device\n",
      "stty: 'standard input': Inappropriate ioctl for device\n",
      "stty: 'standard input': Inappropriate ioctl for device\n"
     ]
    },
    {
     "name": "stdout",
     "output_type": "stream",
     "text": [
      "--> Wrote FITS file 'modified_residual.pybdsf.srl.fits'\n",
      "Iteration 95/100\n",
      "Generated 598 synthetic sources\n"
     ]
    },
    {
     "name": "stderr",
     "output_type": "stream",
     "text": [
      "620877:INFO This is AeRes v0.2.7-(2020-07-30)\n",
      "620877:INFO Using mosaic_image.pybdsf_gaus_resid.fits and synthetic.vot to make modified_residual.fits\n",
      "620877:INFO Reading file synthetic.vot\n",
      "620877:INFO read 598 sources from synthetic.vot\n",
      "620877:INFO modeled 598 sources\n",
      "620877:INFO wrote residual to modified_residual.fits\n",
      "stty: 'standard input': Inappropriate ioctl for device\n",
      "stty: 'standard input': Inappropriate ioctl for device\n",
      "stty: 'standard input': Inappropriate ioctl for device\n",
      "stty: 'standard input': Inappropriate ioctl for device\n",
      "stty: 'standard input': Inappropriate ioctl for device\n"
     ]
    },
    {
     "name": "stdout",
     "output_type": "stream",
     "text": [
      "--> Wrote FITS file 'modified_residual.pybdsf.srl.fits'\n",
      "Iteration 96/100\n",
      "Generated 598 synthetic sources\n"
     ]
    },
    {
     "name": "stderr",
     "output_type": "stream",
     "text": [
      "622109:INFO This is AeRes v0.2.7-(2020-07-30)\n",
      "622109:INFO Using mosaic_image.pybdsf_gaus_resid.fits and synthetic.vot to make modified_residual.fits\n",
      "622109:INFO Reading file synthetic.vot\n",
      "622109:INFO read 598 sources from synthetic.vot\n",
      "622109:INFO modeled 598 sources\n",
      "622109:INFO wrote residual to modified_residual.fits\n",
      "stty: 'standard input': Inappropriate ioctl for device\n",
      "stty: 'standard input': Inappropriate ioctl for device\n",
      "stty: 'standard input': Inappropriate ioctl for device\n",
      "stty: 'standard input': Inappropriate ioctl for device\n",
      "stty: 'standard input': Inappropriate ioctl for device\n"
     ]
    },
    {
     "name": "stdout",
     "output_type": "stream",
     "text": [
      "--> Wrote FITS file 'modified_residual.pybdsf.srl.fits'\n",
      "Iteration 97/100\n",
      "Generated 598 synthetic sources\n"
     ]
    },
    {
     "name": "stderr",
     "output_type": "stream",
     "text": [
      "623336:INFO This is AeRes v0.2.7-(2020-07-30)\n",
      "623336:INFO Using mosaic_image.pybdsf_gaus_resid.fits and synthetic.vot to make modified_residual.fits\n",
      "623336:INFO Reading file synthetic.vot\n",
      "623336:INFO read 598 sources from synthetic.vot\n",
      "623336:INFO modeled 598 sources\n",
      "623336:INFO wrote residual to modified_residual.fits\n",
      "stty: 'standard input': Inappropriate ioctl for device\n",
      "stty: 'standard input': Inappropriate ioctl for device\n",
      "stty: 'standard input': Inappropriate ioctl for device\n",
      "stty: 'standard input': Inappropriate ioctl for device\n",
      "stty: 'standard input': Inappropriate ioctl for device\n"
     ]
    },
    {
     "name": "stdout",
     "output_type": "stream",
     "text": [
      "--> Wrote FITS file 'modified_residual.pybdsf.srl.fits'\n",
      "Iteration 98/100\n",
      "Generated 598 synthetic sources\n"
     ]
    },
    {
     "name": "stderr",
     "output_type": "stream",
     "text": [
      "624573:INFO This is AeRes v0.2.7-(2020-07-30)\n",
      "624573:INFO Using mosaic_image.pybdsf_gaus_resid.fits and synthetic.vot to make modified_residual.fits\n",
      "624573:INFO Reading file synthetic.vot\n",
      "624573:INFO read 598 sources from synthetic.vot\n",
      "624573:INFO modeled 598 sources\n",
      "624573:INFO wrote residual to modified_residual.fits\n",
      "stty: 'standard input': Inappropriate ioctl for device\n",
      "stty: 'standard input': Inappropriate ioctl for device\n",
      "stty: 'standard input': Inappropriate ioctl for device\n",
      "stty: 'standard input': Inappropriate ioctl for device\n",
      "stty: 'standard input': Inappropriate ioctl for device\n"
     ]
    },
    {
     "name": "stdout",
     "output_type": "stream",
     "text": [
      "--> Wrote FITS file 'modified_residual.pybdsf.srl.fits'\n",
      "Iteration 99/100\n",
      "Generated 598 synthetic sources\n"
     ]
    },
    {
     "name": "stderr",
     "output_type": "stream",
     "text": [
      "625795:INFO This is AeRes v0.2.7-(2020-07-30)\n",
      "625795:INFO Using mosaic_image.pybdsf_gaus_resid.fits and synthetic.vot to make modified_residual.fits\n",
      "625795:INFO Reading file synthetic.vot\n",
      "625795:INFO read 598 sources from synthetic.vot\n",
      "625795:INFO modeled 598 sources\n",
      "625795:INFO wrote residual to modified_residual.fits\n",
      "stty: 'standard input': Inappropriate ioctl for device\n",
      "stty: 'standard input': Inappropriate ioctl for device\n",
      "stty: 'standard input': Inappropriate ioctl for device\n",
      "stty: 'standard input': Inappropriate ioctl for device\n",
      "stty: 'standard input': Inappropriate ioctl for device\n"
     ]
    },
    {
     "name": "stdout",
     "output_type": "stream",
     "text": [
      "--> Wrote FITS file 'modified_residual.pybdsf.srl.fits'\n",
      "Iteration 100/100\n",
      "Generated 598 synthetic sources\n"
     ]
    },
    {
     "name": "stderr",
     "output_type": "stream",
     "text": [
      "627090:INFO This is AeRes v0.2.7-(2020-07-30)\n",
      "627090:INFO Using mosaic_image.pybdsf_gaus_resid.fits and synthetic.vot to make modified_residual.fits\n",
      "627090:INFO Reading file synthetic.vot\n",
      "627090:INFO read 598 sources from synthetic.vot\n",
      "627090:INFO modeled 598 sources\n",
      "627090:INFO wrote residual to modified_residual.fits\n",
      "stty: 'standard input': Inappropriate ioctl for device\n",
      "stty: 'standard input': Inappropriate ioctl for device\n",
      "stty: 'standard input': Inappropriate ioctl for device\n",
      "stty: 'standard input': Inappropriate ioctl for device\n",
      "stty: 'standard input': Inappropriate ioctl for device\n"
     ]
    },
    {
     "name": "stdout",
     "output_type": "stream",
     "text": [
      "--> Wrote FITS file 'modified_residual.pybdsf.srl.fits'\n"
     ]
    }
   ],
   "source": [
    "# --- Simulation parameters ---\n",
    "NN = 100  # number of realizations\n",
    "seeds = np.random.RandomState(42).randint(1, 1000, size=NN)\n",
    "extended_fraction = 0.26\n",
    "\n",
    "# array declarations\n",
    "counts_recovered = np.zeros((NN, bins-1))\n",
    "counts_injected = np.zeros((NN, bins-1))\n",
    "\n",
    "\n",
    "num_sources = np.sum(counts)\n",
    "\n",
    "for i in range(NN):\n",
    "    print(f\"Iteration {i+1}/{NN}\")\n",
    "    \n",
    "    # generate mock fluxes\n",
    "    flux_dens, is_ext = dnds.generate_mock_sources(num_sources, flux_min, flux_max, extended_fraction, seed=seeds[i])\n",
    "    is_ext = np.random.rand(len(flux_dens)) < extended_fraction\n",
    "\n",
    "    # Record injected counts\n",
    "    counts_injected[i], _ = np.histogram(flux_dens, bins=flux_bins)\n",
    "\n",
    "    # Create synthetic catalog\n",
    "    inj_flux, inj_ra, inj_dec = dnds.generate_synthetic_catalog(\n",
    "        catalog, 'synthetic.vot', flux_dens, is_ext, valid_ra, valid_dec, seed=seeds[i]\n",
    "    )\n",
    "\n",
    "    # Reset residual image\n",
    "    shutil.copy(residual_image, modified_image)\n",
    "\n",
    "    # Inject and recover\n",
    "    os.system(f\"AeRes --add -c synthetic.vot -f {residual_image} -r {modified_image}\")\n",
    "    dnds.run_pybdsf(modified_image)\n",
    "\n",
    "    # Read recovered catalog\n",
    "    with fits.open(modified_image.replace('.fits', '.pybdsf.srl.fits')) as hd:\n",
    "        rec = hd[1].data\n",
    "        # rec_flux = np.array(rec['Total_flux'])\n",
    "        rec_ra = np.array(rec['RA'])\n",
    "        rec_dec = np.array(rec['DEC'])\n",
    "\n",
    "    # Match\n",
    "    inj_idx, rec_idx = dnds.match_recovered_sources(inj_ra, inj_dec, rec_ra, rec_dec)\n",
    "\n",
    "    # Histogram matched injected fluxes\n",
    "    matched_inj_flux = inj_flux[inj_idx]\n",
    "    counts_recovered[i], _ = np.histogram(matched_inj_flux, bins=flux_bins)\n"
   ]
  },
  {
   "cell_type": "code",
   "execution_count": 7,
   "id": "1ceff265-f8c0-4bfd-ad48-883226b3f0f0",
   "metadata": {},
   "outputs": [
    {
     "name": "stdout",
     "output_type": "stream",
     "text": [
      "[202. 134.  97.  59.  40.  35.  13.  13.   4.   1.] [ 96. 114.  86.  58.  40.  35.  13.  13.   4.   1.]\n",
      "[203. 138.  89.  56.  47.  31.  12.   8.   6.   8.] [ 90. 104.  85.  54.  47.  31.  12.   8.   6.   8.]\n"
     ]
    }
   ],
   "source": [
    "print(counts_injected[0], counts_recovered[0]) # checking the first realization\n",
    "print(counts_injected[1], counts_recovered[1]) # checking the second realization"
   ]
  },
  {
   "cell_type": "code",
   "execution_count": 8,
   "id": "bde45af5-4123-49dd-80db-4ea9a7dd6cbd",
   "metadata": {},
   "outputs": [],
   "source": [
    "correction_factor_rea = 0.*counts_recovered\n",
    "\n",
    "for ii in range(NN):\n",
    "    with np.errstate(divide='ignore', invalid='ignore'):\n",
    "        correction_factor_rea[ii] = np.where(counts_recovered[ii] > 0, counts_injected[ii] / counts_recovered[ii], 1.)\n",
    "\n",
    "correction_factor_med = np.zeros(bins-1)\n",
    "correction_factor_low = np.zeros(bins-1)\n",
    "correction_factor_upp = np.zeros(bins-1)\n",
    "\n",
    "for ii in range(bins-1):\n",
    "    data = correction_factor_rea[:, ii]\n",
    "    median = np.percentile(data, 50)   # 50th percentile (median)\n",
    "    # median = np.mean(data)   # 50th percentile (median)\n",
    "    p16 = np.percentile(data, 16)      # 16th percentile\n",
    "    p84 = np.percentile(data, 84)      # 84th percentile\n",
    "\n",
    "    correction_factor_med[ii] = median\n",
    "    correction_factor_low[ii] = median - p16\n",
    "    correction_factor_upp[ii] = p84 - median\n",
    "    "
   ]
  },
  {
   "cell_type": "code",
   "execution_count": 9,
   "id": "e06960ce-56f7-4637-9290-36f845c7619e",
   "metadata": {},
   "outputs": [
    {
     "name": "stdout",
     "output_type": "stream",
     "text": [
      "[ 0.02985883  0.05929612  0.11775513  0.23384787  0.46439441  0.92223277\n",
      "  1.83144598  3.63703665  7.2227277  14.34348908] [2.05412434 1.31725417 1.11766334 1.02921109 1.         1.\n",
      " 1.         1.         1.         1.        ]\n"
     ]
    }
   ],
   "source": [
    "print(bin_centers, correction_factor_med)\n",
    "# (array([ 0.0334566 ,  0.06401057,  0.12246771,  0.23431036,  0.44829243,\n",
    "#          0.85769191,  1.6409722 ,  3.13957696,  6.00677056, 11.49240583]),\n",
    "#  array([13.        ,  2.46153846,  0.89473684,  1.02702703,  0.58201058,\n",
    "#          0.59340659,  0.33333333,  1.        ,  1.        ,  1.        ]))\n"
   ]
  },
  {
   "cell_type": "code",
   "execution_count": null,
   "id": "54b62409-14fe-4871-be98-1f7aa1f522a2",
   "metadata": {},
   "outputs": [],
   "source": []
  },
  {
   "cell_type": "code",
   "execution_count": 10,
   "id": "2e8b5c15-45de-4398-8433-668fa950091d",
   "metadata": {},
   "outputs": [
    {
     "data": {
      "image/png": "[encoded data removed]",
      "text/plain": [
       "<Figure size 700x500 with 1 Axes>"
      ]
     },
     "metadata": {},
     "output_type": "display_data"
    }
   ],
   "source": [
    "import numpy as np\n",
    "import matplotlib.pyplot as plt\n",
    "a1 = 0\n",
    "\n",
    "# Plot with error bars\n",
    "plt.figure(figsize=(7, 5))\n",
    "plt.errorbar(bin_centers[a1:], correction_factor_med[a1:], \n",
    "             yerr=[correction_factor_low[a1:], correction_factor_upp[a1:]], \n",
    "             fmt='o', capsize=5, label=\"Median with Error Bars\")\n",
    "\n",
    "# Set log scale for x-axis\n",
    "plt.xscale(\"log\")\n",
    "plt.axhline(1.0, ls='--')\n",
    "# Labels and title\n",
    "plt.xlabel(\"Flux Density (Jy)\")\n",
    "plt.ylabel(\"Correction Factor\")\n",
    "plt.title(\"Median Correction Factor with 16th and 84th Percentiles\")\n",
    "\n",
    "# Show legend\n",
    "plt.legend()\n",
    "\n",
    "# Show plot\n",
    "plt.show()\n"
   ]
  },
  {
   "cell_type": "code",
   "execution_count": null,
   "id": "9fbf3bf9-c032-499d-ada4-467ff5c39b59",
   "metadata": {},
   "outputs": [],
   "source": []
  },
  {
   "cell_type": "code",
   "execution_count": 11,
   "id": "f2caeb5a-40bd-44e8-9290-530bd35aa5cc",
   "metadata": {},
   "outputs": [],
   "source": [
    "np.savez(output_npz, \n",
    "         bin_centers = bin_centers,\n",
    "         med=correction_factor_med, \n",
    "         low=correction_factor_low, \n",
    "         upp=correction_factor_upp)\n"
   ]
  },
  {
   "cell_type": "code",
   "execution_count": null,
   "id": "88f238da-e495-4aac-860e-488600b7c665",
   "metadata": {},
   "outputs": [],
   "source": []
  },
  {
   "cell_type": "markdown",
   "id": "a9c9bd42-a0d3-4d45-9a97-1503c66dc8ba",
   "metadata": {},
   "source": [
    "# visibility area correction"
   ]
  },
  {
   "cell_type": "code",
   "execution_count": 12,
   "id": "4851ac5e-1a70-4215-86e6-e3c916ca7f01",
   "metadata": {},
   "outputs": [
    {
     "name": "stdout",
     "output_type": "stream",
     "text": [
      "[0.00739694 0.00994466 0.01061838 0.01062549 0.01062556 0.01062556\n",
      " 0.01062556 0.01062556 0.01062556 0.01062556]\n"
     ]
    }
   ],
   "source": [
    "rms_fits_file = inputimage.replace(\".fits\", \".pybdsf_rms.fits\") \n",
    "total_valid_area, effective_image_area = dnds.visibility_function(flux_bins, 5, rms_fits_file)\n",
    "print(effective_image_area)\n",
    "\n",
    "np.savez('visibility_area_correction.npz', total=total_valid_area, effective=effective_image_area)\n"
   ]
  },
  {
   "cell_type": "code",
   "execution_count": 13,
   "id": "701c2a40-050c-435a-adbb-06687356fba5",
   "metadata": {},
   "outputs": [],
   "source": [
    "# data = np.load('visibility_area_correction.npz')\n",
    "# total_valid_area = data['total']\n",
    "# effective_image_area = data['effective']\n",
    "# print(effective_image_area)"
   ]
  },
  {
   "cell_type": "code",
   "execution_count": null,
   "id": "c6dc7dfb-7726-4509-a3ba-7714d3680a4f",
   "metadata": {},
   "outputs": [],
   "source": []
  }
 ],
 "metadata": {
  "kernelspec": {
   "display_name": "Python 3 (ipykernel)",
   "language": "python",
   "name": "python3"
  },
  "language_info": {
   "codemirror_mode": {
    "name": "ipython",
    "version": 3
   },
   "file_extension": ".py",
   "mimetype": "text/x-python",
   "name": "python",
   "nbconvert_exporter": "python",
   "pygments_lexer": "ipython3",
   "version": "3.12.2"
  }
 },
 "nbformat": 4,
 "nbformat_minor": 5
}
