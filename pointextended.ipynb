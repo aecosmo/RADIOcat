{
 "cells": [
  {
   "cell_type": "code",
   "execution_count": 1,
   "id": "8ef41d72-e455-48c5-8afb-c95d8b29dd3d",
   "metadata": {},
   "outputs": [],
   "source": [
    "import numpy as np\n",
    "from astropy.io import fits\n",
    "from astropy.coordinates import SkyCoord\n",
    "import astropy.units as u\n",
    "import matplotlib.pyplot as plt\n",
    "import findsources as find\n",
    "plt.style.use('mplstyle')\n"
   ]
  },
  {
   "cell_type": "code",
   "execution_count": 2,
   "id": "1328b861-1a7f-432f-bab6-3d8b02a0f8bd",
   "metadata": {},
   "outputs": [],
   "source": [
    "# with fits.open('final_mosaic.pybdsf.srl.fits') as hdul:\n",
    "#     data = hdul[1].data\n",
    "# original_fluxes = np.array(data['Total_flux'])"
   ]
  },
  {
   "cell_type": "code",
   "execution_count": 3,
   "id": "3e55d19a-c302-4e4b-9442-c4ecbfc7137a",
   "metadata": {},
   "outputs": [],
   "source": [
    "# Load GLEAM catalog\n",
    "gleam_catalog = \"GLEAM_EGC_v2.fits.gz\"\n",
    "# gleamx1_catalog = \"VIII_110_catalog.dat.gz.fits\"\n",
    "gleamx1_catalog = \"VIII_113_catalog2.dat.gz.fits\"\n",
    "tgss_catalog = \"TGSSADR1_7sigma_catalog.fits\"\n",
    "pybdsf_catalog= \"final_mosaic.pybdsf.srl.fits\"\n",
    "# pybdsf_catalog= \"final_mosaicadaptive.pybdsf.srl.fits\"\n",
    "nvss_catalog= \"nvss_catalog.fits\""
   ]
  },
  {
   "cell_type": "code",
   "execution_count": 4,
   "id": "d4524c86-6077-4193-9c42-44dc6a680d38",
   "metadata": {},
   "outputs": [],
   "source": [
    "target_ra_hms = '02h00m12s'\n",
    "target_dec_dms = '-30d53m24s'\n",
    "search_radius = 100 * 3600 * u.arcsec\n",
    "\n",
    "# --- Read original fluxes to define bins ---\n",
    "with fits.open(pybdsf_catalog) as hdul:\n",
    "    orig_data = hdul[1].data\n",
    "original_fluxes = np.array(orig_data['Total_flux'])\n",
    "\n",
    "# Define flux range and bins\n",
    "# flux_min, flux_max = 0.01, 20  # Jy; adjust as needed\n",
    "flux_min, flux_max = original_fluxes.min(), original_fluxes.max()\n",
    "\n",
    "flux_thresh = flux_min/1.1 # Jy\n",
    "# Set matching radius (e.g., 45 arcseconds for GLEAM-X resolution)\n",
    "# match_radius = beam_size * u.arcsec\n",
    "match_radius = 25 * u.arcsec\n",
    "# si = -0.8"
   ]
  },
  {
   "cell_type": "code",
   "execution_count": 5,
   "id": "4863bbe9-d437-4688-8d55-82d2eef09dd8",
   "metadata": {},
   "outputs": [
    {
     "data": {
      "text/plain": [
       "640"
      ]
     },
     "execution_count": 5,
     "metadata": {},
     "output_type": "execute_result"
    }
   ],
   "source": [
    "len(original_fluxes)"
   ]
  },
  {
   "cell_type": "code",
   "execution_count": 6,
   "id": "9cdac595-841c-43f7-92a1-869ddab9aa57",
   "metadata": {},
   "outputs": [],
   "source": [
    "# target_ra_hms = '02h00m12s'\n",
    "# target_dec_dms = '-30d53m24s'\n",
    "# search_radius = 6 * 3600 * u.arcsec\n",
    "# flux_thresh = 0.01 # Jy\n",
    "# # Set matching radius (e.g., 45 arcseconds for GLEAM-X resolution)\n",
    "# match_radius = 24 * u.arcsec\n",
    "# si = -0.8\n",
    "\n",
    "# # Load GLEAM catalog\n",
    "# gleam_catalog = \"GLEAM_EGC_v2.fits.gz\"\n",
    "# tgss_catalog = \"TGSSADR1_7sigma_catalog.fits\"\n",
    "# pybdsf_catalog= \"final_mosaic.pybdsf.srl.fits\""
   ]
  },
  {
   "cell_type": "code",
   "execution_count": 7,
   "id": "d20ba415-30d6-4962-a6fc-602ee7079a0a",
   "metadata": {},
   "outputs": [],
   "source": [
    "# with fits.open(pybdsf_catalog) as hdul:\n",
    "#    print(hdul[1].columns)   # RA in degrees"
   ]
  },
  {
   "cell_type": "code",
   "execution_count": 8,
   "id": "a00670f9-33e7-43bb-851d-6583e2bde7f2",
   "metadata": {},
   "outputs": [],
   "source": [
    "# with fits.open(pybdsf_catalog) as hdul:\n",
    "#     ra = hdul[1].data[\"RA\"]   # RA in degrees\n",
    "#     dec = hdul[1].data[\"DEC\"]  # DEC in degrees\n",
    "#     peak_flux = hdul[1].data[\"Peak_flux\"]  # Total flux density\n",
    "#     peak_flux_err = hdul[1].data[\"E_Peak_flux\"]  # Flux error (check column name)\n",
    "#     int_flux = hdul[1].data[\"Total_flux\"]  # Total flux density\n",
    "#     int_flux_err = hdul[1].data[\"E_Total_flux\"]  # Total flux density\n",
    "#     local_rms = hdul[1].data[\"Isl_rms\"]  # Flux error (check column name)"
   ]
  },
  {
   "cell_type": "code",
   "execution_count": 9,
   "id": "729c6209-05b4-47de-9f3d-03f5d09e0455",
   "metadata": {},
   "outputs": [],
   "source": [
    "# with fits.open(tgss_catalog) as hdul:\n",
    "#     ra = hdul[1].data[\"RA\"]   # RA in degrees\n",
    "#     dec = hdul[1].data[\"DEC\"]  # DEC in degrees\n",
    "#     peak_flux = hdul[1].data[\"Peak_flux\"]  # Total flux density\n",
    "#     peak_flux_err = hdul[1].data[\"E_Peak_flux\"]  # Flux error (check column name)\n",
    "#     int_flux = hdul[1].data[\"Total_flux\"]  # Total flux density\n",
    "#     int_flux_err = hdul[1].data[\"E_Total_flux\"]  # Total flux density\n",
    "#     local_rms = hdul[1].data[\"RMS_noise\"]  # Flux error (check column name)"
   ]
  },
  {
   "cell_type": "code",
   "execution_count": 10,
   "id": "7e639f53-27df-4e05-ad18-dfbf1abe38d8",
   "metadata": {},
   "outputs": [],
   "source": [
    "ra, dec, peak_flux, peak_flux_err, int_flux, int_flux_err, local_rms = find.find_sources_peak_int(flux_thresh, target_ra_hms, \n",
    "                                                                                                  target_dec_dms, search_radius, \n",
    "                                                                                                  name='pybdsf')\n",
    "\n",
    "# Compute SNR and flux ratio\n",
    "snr = peak_flux / local_rms  \n",
    "flux_ratio = int_flux / peak_flux  \n",
    "log_flux_ratio = np.log10(flux_ratio)  \n",
    "\n",
    "# Compute flux ratio uncertainty following Chakraborty et al. (2019, Eq. 3)\n",
    "flux_ratio_uncertainty = 2 * np.sqrt((int_flux_err / int_flux) ** 2 + (peak_flux_err / peak_flux) ** 2)\n",
    "\n",
    "# Classify sources: Extended vs. Point-like\n",
    "extended = log_flux_ratio > flux_ratio_uncertainty\n",
    "point_like = ~extended"
   ]
  },
  {
   "cell_type": "code",
   "execution_count": 11,
   "id": "820abaa3-45eb-421e-b1a4-4caaacc588b7",
   "metadata": {},
   "outputs": [
    {
     "data": {
      "text/plain": [
       "(476, 164, 640)"
      ]
     },
     "execution_count": 11,
     "metadata": {},
     "output_type": "execute_result"
    }
   ],
   "source": [
    "np.sum(point_like), np.sum(extended), np.sum(point_like)+ np.sum(extended)"
   ]
  },
  {
   "cell_type": "code",
   "execution_count": 12,
   "id": "613f1b50-bc76-4a47-9b90-1cc1a12f83ee",
   "metadata": {},
   "outputs": [
    {
     "data": {
      "text/plain": [
       "0.25625"
      ]
     },
     "execution_count": 12,
     "metadata": {},
     "output_type": "execute_result"
    }
   ],
   "source": [
    "np.sum(extended)/(np.sum(point_like)+ np.sum(extended))"
   ]
  },
  {
   "cell_type": "code",
   "execution_count": 13,
   "id": "ea78d483-645e-4da6-8c62-a62747dfffa9",
   "metadata": {},
   "outputs": [
    {
     "data": {
      "image/png": "[encoded data removed]",
      "text/plain": [
       "<Figure size 600x400 with 1 Axes>"
      ]
     },
     "metadata": {},
     "output_type": "display_data"
    }
   ],
   "source": [
    "# # Sort SNR before plotting anything\n",
    "# sorted_indices = np.argsort(snr)\n",
    "# snr_sorted = snr[sorted_indices]\n",
    "# flux_ratio_sorted = flux_ratio[sorted_indices]\n",
    "# log_flux_ratio_sorted = log_flux_ratio[sorted_indices]\n",
    "# flux_ratio_uncertainty_sorted = flux_ratio_uncertainty[sorted_indices]\n",
    "\n",
    "# Create figure\n",
    "fig, ax = plt.subplots(figsize=(6, 4))\n",
    "\n",
    "ax.scatter(snr[point_like], flux_ratio[point_like], \n",
    "           color='b', s=5, marker='o', alpha=0.8, label=r'$\\rm Point-like$')\n",
    "ax.scatter(snr[extended], flux_ratio[extended], \n",
    "           color='red', s=8, marker='s', alpha=0.8, label=r'$\\rm Extended$')\n",
    "\n",
    "# # 2-sigma noise line\n",
    "# sigma_threshold_sorted = 1 + 2 * flux_ratio_uncertainty_sorted\n",
    "\n",
    "# # Plot the 2-sigma noise line correctly\n",
    "# ax.plot(snr_sorted, sigma_threshold_sorted, color='blue', linestyle='--', linewidth=1.5, label=r'$\\rm 2\\sigma~Boundary$')\n",
    "\n",
    "# Axes formatting\n",
    "ax.set_xscale('log')\n",
    "ax.set_xlabel(r'$\\rm S_{\\rm peak} / \\sigma_L $')\n",
    "ax.set_ylabel(r'$\\rm S_{\\rm int} / S_{\\rm peak} $')\n",
    "\n",
    "# Reference line at S_int / S_peak = 1\n",
    "ax.axhline(y=1.0, color='black', linestyle='--', linewidth=1, label=r'$\\rm S_{int} = S_{peak}$')\n",
    "# ax.axhline(y=1.06, color='black', linestyle='--', linewidth=1, label=r'$\\rm S_{int} = S_{peak}$')\n",
    "\n",
    "# Grid and legend\n",
    "ax.legend(fontsize=12, loc='upper right')\n",
    "\n",
    "# Save high-resolution figure\n",
    "plt.savefig(\"flux_ratio_vs_snr.pdf\", bbox_inches='tight')"
   ]
  },
  {
   "cell_type": "code",
   "execution_count": 14,
   "id": "51fee461-3b50-4e01-96ed-63c640d444c9",
   "metadata": {},
   "outputs": [
    {
     "name": "stderr",
     "output_type": "stream",
     "text": [
      "UsageError: Line magic function `%` not found.\n"
     ]
    }
   ],
   "source": [
    "%"
   ]
  },
  {
   "cell_type": "code",
   "execution_count": null,
   "id": "b15f6be4-20f4-47dc-8e8d-51d8aa70cea0",
   "metadata": {},
   "outputs": [],
   "source": []
  }
 ],
 "metadata": {
  "kernelspec": {
   "display_name": "Python 3 (ipykernel)",
   "language": "python",
   "name": "python3"
  },
  "language_info": {
   "codemirror_mode": {
    "name": "ipython",
    "version": 3
   },
   "file_extension": ".py",
   "mimetype": "text/x-python",
   "name": "python",
   "nbconvert_exporter": "python",
   "pygments_lexer": "ipython3",
   "version": "3.12.2"
  }
 },
 "nbformat": 4,
 "nbformat_minor": 5
}
