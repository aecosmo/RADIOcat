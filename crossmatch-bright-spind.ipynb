{
 "cells": [
  {
   "cell_type": "code",
   "execution_count": 1,
   "id": "8ef41d72-e455-48c5-8afb-c95d8b29dd3d",
   "metadata": {},
   "outputs": [],
   "source": [
    "import numpy as np\n",
    "from astropy.io import fits\n",
    "from astropy.coordinates import SkyCoord\n",
    "import astropy.units as u\n",
    "import matplotlib.pyplot as plt\n",
    "import findsources as find\n",
    "plt.style.use('mplstyle')"
   ]
  },
  {
   "cell_type": "code",
   "execution_count": 2,
   "id": "3c3a06b2-4acd-4785-beb8-1dc3126680dd",
   "metadata": {},
   "outputs": [
    {
     "name": "stdout",
     "output_type": "stream",
     "text": [
      "40.00000003092\n"
     ]
    }
   ],
   "source": [
    "from astropy.io import fits\n",
    "image = 'final_mosaic.fits'  # Change to your file\n",
    "# image = 'final_mosaicadaptive.fits'  # Change to your file\n",
    "with fits.open(image) as hdul:\n",
    "    beam_size = hdul[0].header['BMAJ']* 3600\n",
    "    print(beam_size)  # Look for BMAJ, BMIN, BPA\n"
   ]
  },
  {
   "cell_type": "code",
   "execution_count": 3,
   "id": "9cdac595-841c-43f7-92a1-869ddab9aa57",
   "metadata": {},
   "outputs": [],
   "source": [
    "target_ra_hms = '02h00m12s'\n",
    "target_dec_dms = '-30d53m24s'\n",
    "search_radius = 20 * 3600 * u.arcsec\n",
    "flux_thresh = 1. # Jy\n",
    "# Set matching radius (e.g., 45 arcseconds for GLEAM-X resolution)\n",
    "match_radius = beam_size * u.arcsec \n",
    "match_radius = 40 * u.arcsec # sqrt(40*22)\n",
    "si = -0.8\n",
    "\n",
    "# Load GLEAM catalog\n",
    "gleam_catalog = \"GLEAM_EGC_v2.fits.gz\"\n",
    "# gleamx1_catalog = \"VIII_110_catalog.dat.gz.fits\"\n",
    "# gleamx1_catalog = \"VIII_113_catalog2.dat.gz.fits\"\n",
    "gleamx1_catalog = \"VIII_113_catalog2glx.dat.gz.fits\" # a modified version that gives alpha values\n",
    "tgss_catalog = \"TGSSADR1_7sigma_catalog.fits\"\n",
    "tgss_catalog = \"J_A+A_598_A78_table3.dat.gz.fits.gz\"\n",
    "pybdsf_catalog= \"final_mosaic.pybdsf.srl.fits\"\n",
    "# pybdsf_catalog= \"final_mosaicadaptive.pybdsf.srl.fits\"\n",
    "# nvss_catalog= \"nvss_catalog.fits\"\n",
    "nvss_catalog= \"VIII_65_nvss.dat.gz.fits.gz\"\n"
   ]
  },
  {
   "cell_type": "code",
   "execution_count": 4,
   "id": "3e044b41-d567-4201-a229-9bcc847c4c39",
   "metadata": {},
   "outputs": [],
   "source": [
    "# with fits.open(gleamx1_catalog, mode=\"update\") as hdul:\n",
    "#     for i, col in enumerate(hdul[1].columns, start=1):\n",
    "#         if col.name == 'alpha-SP':\n",
    "#             print(f\"Column index is {i}\")\n"
   ]
  },
  {
   "cell_type": "code",
   "execution_count": 5,
   "id": "35698f16-107b-48cb-835c-37343767b4c1",
   "metadata": {},
   "outputs": [],
   "source": [
    "# with fits.open(gleamx2_catalog, mode=\"update\") as hdul:\n",
    "#     hdr = hdul[1].header\n",
    "#     hdr['TNULL384'] = '---'\n",
    "#     hdul.flush()  # Save changes\n"
   ]
  },
  {
   "cell_type": "code",
   "execution_count": 6,
   "id": "4495a1df-de30-4528-b1f4-b12219297b6e",
   "metadata": {},
   "outputs": [],
   "source": [
    "# with fits.open(gleamx1_catalog) as hdul:\n",
    "#     print(hdul[1].columns)   # RA in degrees"
   ]
  },
  {
   "cell_type": "code",
   "execution_count": 7,
   "id": "bef67952-b568-4ba9-b9a0-457c30456a7f",
   "metadata": {},
   "outputs": [
    {
     "name": "stdout",
     "output_type": "stream",
     "text": [
      "1.019491410356563\n",
      "1.019491410356563\n",
      "6.054864682394719\n"
     ]
    }
   ],
   "source": [
    "nu_reference = 147.4\n",
    "nu_gleam = 151 \n",
    "nu_gleam_x1 = 151 \n",
    "# nu_gleam_x1 = 151 \n",
    "nu_nvss = 1400 \n",
    "\n",
    "fac_gleam = (nu_reference/nu_gleam)**si\n",
    "print(fac_gleam)\n",
    "\n",
    "fac_gleam_x1 = (nu_reference/nu_gleam_x1)**si\n",
    "print(fac_gleam_x1)\n",
    "\n",
    "fac_nvss = (nu_reference/nu_nvss)**si\n",
    "print(fac_nvss)"
   ]
  },
  {
   "cell_type": "code",
   "execution_count": 8,
   "id": "03ee3d67-83a7-47f8-abc7-593f30b75195",
   "metadata": {},
   "outputs": [],
   "source": [
    "def matched_sources(gleam_catalog, pybdsf_catalog, flux_thresh, target_ra_hms, target_dec_dms, search_radius, match_radius, names):\n",
    "    \n",
    "    gleam_ra, gleam_dec, gleam_flux, gleam_flux_err, gleam_flux_151, gleam_flux_151_err, alpha, alpha_err, name = find.find_sources_spind(gleam_catalog, flux_thresh, target_ra_hms, target_dec_dms, search_radius, names[0])\n",
    "    pybdsf_ra, pybdsf_dec, pybdsf_flux, pybdsf_flux_err = find.find_sources(pybdsf_catalog, flux_thresh, target_ra_hms, target_dec_dms, search_radius, names[1])\n",
    "    \n",
    "    # argsort = np.argsort(-gleam_flux_151)\n",
    "    # print(gleam_flux_151[argsort][:10])\n",
    "    \n",
    "    # Convert to SkyCoord objects\n",
    "    pybdsf_coords = SkyCoord(ra=pybdsf_ra * u.deg, dec=pybdsf_dec * u.deg)\n",
    "    gleam_coords = SkyCoord(ra=gleam_ra * u.deg, dec=gleam_dec * u.deg)\n",
    "    \n",
    "    # Find nearest neighbor in GLEAM catalog for each PyBDSF source\n",
    "    idx_gleam, d2d, _ = pybdsf_coords.match_to_catalog_sky(gleam_coords)\n",
    "    \n",
    "    # Set matching radius (e.g., 45 arcseconds for GLEAM-X resolution)\n",
    "    matched_mask = d2d < match_radius*2\n",
    "    \n",
    "    # Apply mask to get matched indices\n",
    "    matched_pybdsf = np.where(matched_mask)[0]  # Indices in PyBDSF catalog\n",
    "    matched_gleam = idx_gleam[matched_mask]      # Nearest neighbor indices in GLEAM catalog\n",
    "    matched_sep = d2d[matched_mask].to(u.arcsec) # Separation in arcsec\n",
    "    return pybdsf_ra[matched_pybdsf], pybdsf_dec[matched_pybdsf], gleam_ra[matched_gleam], \\\n",
    "    gleam_dec[matched_gleam], pybdsf_flux[matched_pybdsf], gleam_flux[matched_gleam], \\\n",
    "    pybdsf_flux_err[matched_pybdsf], gleam_flux_err[matched_gleam], gleam_flux_151[matched_gleam], gleam_flux_151_err[matched_gleam],\\\n",
    "    alpha[matched_gleam], alpha_err[matched_gleam], name[matched_gleam]"
   ]
  },
  {
   "cell_type": "code",
   "execution_count": 9,
   "id": "508210f8-048e-4011-883c-3b69c1792a20",
   "metadata": {},
   "outputs": [],
   "source": [
    "names = ['gleam', 'pybdsf']\n",
    "\n",
    "pybdsf_ra, pybdsf_dec, gleam_ra, gleam_dec, pybdsf_flux, gleam_flux, pybdsf_flux_err, gleam_flux_err, gleam_flux_151, gleam_flux_151_err, alpha, alpha_err, name = matched_sources(gleam_catalog, pybdsf_catalog, flux_thresh,\n",
    "                                                                                                                       target_ra_hms, target_dec_dms,\n",
    "                                                                                                                       search_radius, match_radius, \n",
    "                                                                                                                       names)\n",
    "gleam_flux *= (fac_gleam)\n",
    "gleam_flux_err *= (fac_gleam)"
   ]
  },
  {
   "cell_type": "code",
   "execution_count": null,
   "id": "9d694b89-6e81-4ae2-8cbd-a4446331acd2",
   "metadata": {},
   "outputs": [],
   "source": []
  },
  {
   "cell_type": "code",
   "execution_count": 10,
   "id": "3cadcd89-c2b7-442e-86e5-90c107d65784",
   "metadata": {},
   "outputs": [
    {
     "name": "stdout",
     "output_type": "stream",
     "text": [
      "[19.07944087 10.08407524  6.2040596   4.66649829  4.07043437  2.63676615\n",
      "  2.59285157  2.32029264  2.01481443  2.00971007] [0.03169417 0.1228052  0.07585994 0.01961611 0.04961429 0.05010357\n",
      " 0.01047804 0.02858712 0.01883139 0.04687232]\n",
      "\n",
      "[17.949156  16.595154  16.595154   4.6637244  3.94791    2.476469\n",
      "  2.6904912  2.1443262  1.8060807  1.8912518] [0.02400285 0.02889125 0.02889125 0.02368167 0.01800959 0.02056924\n",
      " 0.01968022 0.01649848 0.01746771 0.02104062]\n",
      "[-0.862534   -0.80219555 -0.80219555 -0.7282266  -0.59387106 -0.89094305\n",
      " -1.1502343  -0.75958085 -0.58621854 -0.6760057 ]\n",
      "[0.0136427  0.01366115 0.01366115 0.01435938 0.01448209 0.01516625\n",
      " 0.01472999 0.01566539 0.0171046  0.01651383]\n",
      "['GLEAM J020012-305324' 'GLEAM J015035-293158' 'GLEAM J015035-293158'\n",
      " 'GLEAM J015200-294056' 'GLEAM J021527-312144' 'GLEAM J014930-283819'\n",
      " 'GLEAM J020820-303928' 'GLEAM J020620-332547' 'GLEAM J020311-334722'\n",
      " 'GLEAM J015853-273607']\n"
     ]
    }
   ],
   "source": [
    "argsort = np.argsort(-pybdsf_flux)\n",
    "\n",
    "print(pybdsf_flux[argsort][:10], pybdsf_flux_err[argsort][:10],)\n",
    "print()\n",
    "# print(gleam_flux[argsort][:10], gleam_flux_err[argsort][:10],)\n",
    "print(gleam_flux_151[argsort][:10], gleam_flux_151_err[argsort][:10])\n",
    "\n",
    "print(alpha[argsort][:10],)\n",
    "print(alpha_err[argsort][:10],)\n",
    "print(name[argsort][:10])\n",
    "\n"
   ]
  },
  {
   "cell_type": "code",
   "execution_count": 11,
   "id": "1f8380e0-e76c-4912-9899-bd84b840ced6",
   "metadata": {},
   "outputs": [
    {
     "name": "stdout",
     "output_type": "stream",
     "text": [
      "['GLEAM J020012-305324' 'GLEAM J015035-293158' 'GLEAM J015035-293158'\n",
      " 'GLEAM J015200-294056' 'GLEAM J021527-312144' 'GLEAM J014930-283819'\n",
      " 'GLEAM J020820-303928' 'GLEAM J020620-332547' 'GLEAM J020311-334722'\n",
      " 'GLEAM J015853-273607']\n",
      "[30.05078099 27.64298912 27.65874067 28.00432669 33.86338507 27.37599285\n",
      " 32.08494319 31.58750571 30.80088555 29.72171712]\n",
      "[-30.89120325 -29.54349408 -29.51968    -29.68403569 -31.36275502\n",
      " -28.64091047 -30.65952121 -33.4306934  -33.79015013 -27.60315898]\n"
     ]
    }
   ],
   "source": [
    "print(name[argsort][:10])\n",
    "print(pybdsf_ra[argsort][:10])\n",
    "print(pybdsf_dec[argsort][:10])\n"
   ]
  },
  {
   "cell_type": "code",
   "execution_count": null,
   "id": "4dd85121-6151-429c-a817-5de78439412c",
   "metadata": {},
   "outputs": [],
   "source": []
  },
  {
   "cell_type": "code",
   "execution_count": null,
   "id": "ec9ef75a-f23b-4f8f-b741-b8c088dfdaa0",
   "metadata": {},
   "outputs": [],
   "source": []
  },
  {
   "cell_type": "code",
   "execution_count": 12,
   "id": "092b8a36-9ff1-48b9-85a4-c71ce16d562c",
   "metadata": {},
   "outputs": [],
   "source": [
    "names = ['gleamx1', 'pybdsf']\n",
    "\n",
    "pybdsf_ra_x1, pybdsf_dec_x1, gleamx1_ra, gleamx1_dec, pybdsf_flux_x1, gleamx1_flux, pybdsf_flux_x1_err, gleamx1_flux_err, gleamx1_flux_151, gleamx1_flux_151_err, alphax1, alphax1_err, name = matched_sources(gleamx1_catalog, pybdsf_catalog, flux_thresh,\n",
    "                                                                                                                       target_ra_hms, target_dec_dms,\n",
    "                                                                                                                       search_radius, match_radius, \n",
    "                                                                                                                       names)\n",
    "\n",
    "gleamx1_flux *= (fac_gleam_x1)\n",
    "gleamx1_flux_err *= (fac_gleam_x1)"
   ]
  },
  {
   "cell_type": "code",
   "execution_count": null,
   "id": "146de9c0-f462-4dfb-a84e-618299011d0d",
   "metadata": {},
   "outputs": [],
   "source": []
  },
  {
   "cell_type": "code",
   "execution_count": 13,
   "id": "61049923-f206-42f4-8838-2f497ec19d20",
   "metadata": {},
   "outputs": [
    {
     "name": "stdout",
     "output_type": "stream",
     "text": [
      "[19.07944087 10.08407524  6.2040596   4.66649829  4.07043437  2.63676615\n",
      "  2.59285157  2.32029264  2.01481443  2.00971007] [0.03169417 0.1228052  0.07585994 0.01961611 0.04961429 0.05010357\n",
      " 0.01047804 0.02858712 0.01883139 0.04687232]\n",
      "\n",
      "[18.8636    9.360348  7.394917  4.915171  3.96779   2.58331   2.944448\n",
      "  2.400819  1.877183  1.923148] [ 0.003432  0.003294  0.003461  0.002851 -1.        0.002428  0.002628\n",
      "  0.002273  0.002385  0.002359]\n",
      "sp index\n",
      "[-0.7756978   0.          0.         -0.69244562 -0.60566428 -0.81505837\n",
      " -1.07143745 -0.72961838 -0.60930943 -0.68338672]\n",
      "[0.01354298 0.         0.         0.01358501 0.01352334 0.01354934\n",
      " 0.01359471 0.01357561 0.01356063 0.01358604]\n",
      "\n",
      "['GLEAM-X J020012.1-305326' 'GLEAM-X J015034.3-293239'\n",
      " 'GLEAM-X J015038.1-293109' 'GLEAM-X J015201.0-294100'\n",
      " 'GLEAM-X J021527.3-312147' 'GLEAM-X J014930.3-283825'\n",
      " 'GLEAM-X J020820.4-303934' 'GLEAM-X J020620.9-332549'\n",
      " 'GLEAM-X J020312.1-334724' 'GLEAM-X J015853.1-273609']\n"
     ]
    }
   ],
   "source": [
    "argsortx1 = np.argsort(-pybdsf_flux_x1)\n",
    "\n",
    "print(pybdsf_flux_x1[argsortx1][:10], pybdsf_flux_x1_err[argsortx1][:10],)\n",
    "print()\n",
    "# print(gleamx1_flux[argsortx1][:10], gleamx1_flux_err[argsortx1][:10],)\n",
    "print(gleamx1_flux_151[argsortx1][:10], gleamx1_flux_151_err[argsortx1][:10],)\n",
    "\n",
    "print('sp index')\n",
    "print(alphax1[argsort][:10],)\n",
    "print(alphax1_err[argsort][:10],)\n",
    "print()\n",
    "\n",
    "print(name[argsort][:10])\n"
   ]
  },
  {
   "cell_type": "code",
   "execution_count": 14,
   "id": "833dd8be-5494-4fc3-a77f-72b6a53f85b8",
   "metadata": {},
   "outputs": [
    {
     "data": {
      "text/plain": [
       "array([33.86338507, 33.00824725, 32.08494319, 31.58750571, 30.80088555,\n",
       "       30.11608792, 30.05078099, 29.72171712, 28.4286545 , 28.34344057,\n",
       "       28.16570967, 28.00432669, 27.64298912, 27.65874067, 27.37599285,\n",
       "       26.92796656], dtype='>f8')"
      ]
     },
     "execution_count": 14,
     "metadata": {},
     "output_type": "execute_result"
    }
   ],
   "source": [
    "pybdsf_ra_x1"
   ]
  },
  {
   "cell_type": "code",
   "execution_count": 15,
   "id": "f009ddf3-ff92-4517-a9c5-1b8fd19cdb68",
   "metadata": {},
   "outputs": [
    {
     "data": {
      "text/plain": [
       "['GLEAM J020012-305324GLEAM J015200-294056GLEAM J021527-312144GLEAM J014930-283819GLEAM J020820-303928GLEAM J020620-332547GLEAM J020311-334722GLEAM J015853-273607GLEAM J021201-314946GLEAM J015322-311145']"
      ]
     },
     "execution_count": 15,
     "metadata": {},
     "output_type": "execute_result"
    }
   ],
   "source": [
    "['GLEAM-X J020012.1-305326' 'GLEAM-X J015201.0-294100' 'GLEAM-X J021527.3-312147' 'GLEAM-X J015034.3-293239' 'GLEAM-X J020820.4-303934' 'GLEAM-X J020620.9-332549'\n",
    " 'GLEAM-X J020312.1-334724' 'GLEAM-X J015853.1-273609' 'GLEAM-X J021202.0-314950' 'GLEAM-X J015322.5-311146']\n",
    "['GLEAM J020012-305324' 'GLEAM J015200-294056' 'GLEAM J021527-312144' 'GLEAM J014930-283819' 'GLEAM J020820-303928' 'GLEAM J020620-332547' \n",
    " 'GLEAM J020311-334722' 'GLEAM J015853-273607' 'GLEAM J021201-314946' 'GLEAM J015322-311145']"
   ]
  },
  {
   "cell_type": "code",
   "execution_count": null,
   "id": "138e5e30-2ed4-403b-bf2d-3a2c1b33ba84",
   "metadata": {},
   "outputs": [],
   "source": []
  },
  {
   "cell_type": "code",
   "execution_count": 16,
   "id": "ea6f944e-f36e-455e-bf84-f928af1916a5",
   "metadata": {},
   "outputs": [],
   "source": [
    "def matched_sources_tgss(gleam_catalog, pybdsf_catalog, flux_thresh, target_ra_hms, target_dec_dms, search_radius, match_radius, names):\n",
    "    \n",
    "    gleam_ra, gleam_dec, gleam_flux, gleam_flux_err = find.find_sources(gleam_catalog, flux_thresh, target_ra_hms, target_dec_dms, search_radius, names[0])\n",
    "    pybdsf_ra, pybdsf_dec, pybdsf_flux, pybdsf_flux_err = find.find_sources(pybdsf_catalog, flux_thresh, target_ra_hms, target_dec_dms, search_radius, names[1])\n",
    "    \n",
    "    \n",
    "    # Convert to SkyCoord objects\n",
    "    pybdsf_coords = SkyCoord(ra=pybdsf_ra * u.deg, dec=pybdsf_dec * u.deg)\n",
    "    gleam_coords = SkyCoord(ra=gleam_ra * u.deg, dec=gleam_dec * u.deg)\n",
    "    \n",
    "    # Find nearest neighbor in GLEAM catalog for each PyBDSF source\n",
    "    idx_gleam, d2d, _ = pybdsf_coords.match_to_catalog_sky(gleam_coords)\n",
    "    \n",
    "    # Set matching radius (e.g., 45 arcseconds for GLEAM-X resolution)\n",
    "    matched_mask = d2d < match_radius\n",
    "    \n",
    "    # Apply mask to get matched indices\n",
    "    matched_pybdsf = np.where(matched_mask)[0]  # Indices in PyBDSF catalog\n",
    "    matched_gleam = idx_gleam[matched_mask]      # Nearest neighbor indices in GLEAM catalog\n",
    "    matched_sep = d2d[matched_mask].to(u.arcsec) # Separation in arcsec\n",
    "    return pybdsf_ra[matched_pybdsf], pybdsf_dec[matched_pybdsf], gleam_ra[matched_gleam], gleam_dec[matched_gleam], pybdsf_flux[matched_pybdsf], gleam_flux[matched_gleam], pybdsf_flux_err[matched_pybdsf], gleam_flux_err[matched_gleam]"
   ]
  },
  {
   "cell_type": "code",
   "execution_count": 17,
   "id": "e6b2b153-48c1-441e-a614-8e48ff87ed5f",
   "metadata": {},
   "outputs": [],
   "source": [
    "names = ['tgss', 'pybdsf']\n",
    "\n",
    "pybdsf_ra1, pybdsf_dec1, tgss_ra, tgss_dec, pybdsf_flux1, tgss_flux, pybdsf_flux1_err, tgss_flux_err = matched_sources_tgss(tgss_catalog, pybdsf_catalog, flux_thresh,\n",
    "                                                                                                                       target_ra_hms, target_dec_dms,\n",
    "                                                                                                                       search_radius, match_radius*1.5, \n",
    "                                                                                                                       names)\n",
    "\n",
    "tgss_flux *= 1e-3 # converted to Jy\n",
    "tgss_flux_err *= 1e-3 # converted to Jy"
   ]
  },
  {
   "cell_type": "code",
   "execution_count": 18,
   "id": "4bf6999f-57c7-4329-b48c-2362ef941fff",
   "metadata": {},
   "outputs": [
    {
     "name": "stdout",
     "output_type": "stream",
     "text": [
      "[19.07944087 10.08407524  6.2040596   4.66649829  4.07043437  2.63676615\n",
      "  2.59285157  2.32029264  2.01481443  2.00971007] [0.03169417 0.1228052  0.07585994 0.01961611 0.04961429 0.05010357\n",
      " 0.01047804 0.02858712 0.01883139 0.04687232]\n",
      "\n",
      "[22.3092 11.8522 11.8522  4.4188  3.8508  2.4844  3.0099  2.0635  1.9306\n",
      "  1.6984] [2.2311 1.1857 1.1857 0.4423 0.3851 0.249  0.3012 0.2064 0.1931 0.17  ]\n"
     ]
    }
   ],
   "source": [
    "argsort1 = np.argsort(-pybdsf_flux1)\n",
    "print(pybdsf_flux1[argsort1][:10], pybdsf_flux1_err[argsort1][:10],)\n",
    "print()\n",
    "print(tgss_flux[argsort1][:10], tgss_flux_err[argsort1][:10],)"
   ]
  },
  {
   "cell_type": "code",
   "execution_count": 19,
   "id": "fdf374ac-27d7-48ad-ad9b-4881493db968",
   "metadata": {},
   "outputs": [
    {
     "name": "stdout",
     "output_type": "stream",
     "text": [
      "[19.07944087 10.08407524  6.2040596   4.66649829  4.07043437  2.63676615\n",
      "  2.59285157  2.32029264  2.01481443  2.00971007] [0.03169417 0.1228052  0.07585994 0.01961611 0.04961429 0.05010357\n",
      " 0.01047804 0.02858712 0.01883139 0.04687232]\n",
      "\n",
      "[22.3092 11.8522 11.8522  4.4188  3.8508  2.4844  3.0099  2.0635  1.9306\n",
      "  1.6984] [2.2311 1.1857 1.1857 0.4423 0.3851 0.249  0.3012 0.2064 0.1931 0.17  ]\n"
     ]
    }
   ],
   "source": [
    "argsort1 = np.argsort(-pybdsf_flux1)\n",
    "print(pybdsf_flux1[argsort1][:10], pybdsf_flux1_err[argsort1][:10],)\n",
    "print()\n",
    "print(tgss_flux[argsort1][:10], tgss_flux_err[argsort1][:10],)"
   ]
  },
  {
   "cell_type": "code",
   "execution_count": null,
   "id": "fc5ce9fc-af53-45a0-96c8-d2a778e51947",
   "metadata": {},
   "outputs": [],
   "source": []
  },
  {
   "cell_type": "code",
   "execution_count": 20,
   "id": "51e76bfc-4207-4201-800a-ea7a7b9da800",
   "metadata": {},
   "outputs": [],
   "source": [
    "# names = ['nvss', 'pybdsf']\n",
    "# # names = ['tgss', 'pybdsf']\n",
    "\n",
    "# pybdsf_ra2, pybdsf_dec2, nvss_ra, nvss_dec, pybdsf_flux2, nvss_flux, pybdsf_flux2_err, nvss_flux_err = matched_sources(nvss_catalog, pybdsf_catalog, flux_thresh/1000,\n",
    "#                                                                                                                        target_ra_hms, target_dec_dms,\n",
    "#                                                                                                                        search_radius, match_radius, \n",
    "#                                                                                                                        names)\n",
    "# # nvss_flux *= (fac_nvss*1e-3)\n",
    "# # nvss_flux_err *= (fac_nvss*1e-3)\n",
    "# fac_nvss = 1\n",
    "# print(fac_nvss)\n",
    "# nvss_flux *= (fac_nvss)\n",
    "# nvss_flux_err *= (fac_nvss)\n"
   ]
  },
  {
   "cell_type": "code",
   "execution_count": 21,
   "id": "0014ad2a-8a68-4ff1-809f-ab9f62747ca6",
   "metadata": {},
   "outputs": [],
   "source": [
    "# argsort2 = np.argsort(-pybdsf_flux2)\n",
    "# print(pybdsf_flux2[argsort2][:10], pybdsf_flux2_err[argsort2][:10],)\n",
    "# print()\n",
    "# print(nvss_flux[argsort2][:10], nvss_flux_err[argsort2][:10],)"
   ]
  },
  {
   "cell_type": "code",
   "execution_count": 22,
   "id": "0b44cf33-d09d-483a-864b-d49be25a2073",
   "metadata": {},
   "outputs": [],
   "source": [
    "# nu_nvss = 1.4e3 # MHz\n",
    "# nu_pybdsf = 147.4 # MHz\n",
    "\n",
    "# alpha = ( np.log(nvss_flux[argsort2][:10]) - np.log(pybdsf_flux2_err[argsort2][:10]) ) / ( np.log(nu_nvss) - np.log(nu_pybdsf) ) "
   ]
  },
  {
   "cell_type": "code",
   "execution_count": 23,
   "id": "7223edd9-b85f-4a4e-be0c-70bec1d2e011",
   "metadata": {},
   "outputs": [],
   "source": [
    "# alpha"
   ]
  },
  {
   "cell_type": "code",
   "execution_count": null,
   "id": "99ba25d1-aad1-440e-b7de-67dbbc22cdd3",
   "metadata": {},
   "outputs": [],
   "source": []
  },
  {
   "cell_type": "markdown",
   "id": "f4be77d7-370c-4e1a-aa83-0e297369696d",
   "metadata": {},
   "source": [
    "# Spectral Index"
   ]
  },
  {
   "cell_type": "code",
   "execution_count": 24,
   "id": "26a42aaf-2971-4c1c-8011-d65b2a0b0b8e",
   "metadata": {},
   "outputs": [],
   "source": [
    "def matched_sources_nvss(gleam_catalog, pybdsf_catalog, flux_thresh, target_ra_hms, target_dec_dms, search_radius, match_radius, names):\n",
    "    \n",
    "    gleam_ra, gleam_dec, gleam_flux, gleam_flux_err = find.find_sources(gleam_catalog, flux_thresh, target_ra_hms, target_dec_dms, search_radius, names[0])\n",
    "    pybdsf_ra, pybdsf_dec, pybdsf_flux, pybdsf_flux_err = find.find_sources(pybdsf_catalog, flux_thresh, target_ra_hms, target_dec_dms, search_radius, names[1])\n",
    "    \n",
    "    # argsort = np.argsort(-gleam_flux_151)\n",
    "    # print(gleam_flux_151[argsort][:10])\n",
    "    \n",
    "    # Convert to SkyCoord objects\n",
    "    pybdsf_coords = SkyCoord(ra=pybdsf_ra * u.deg, dec=pybdsf_dec * u.deg)\n",
    "    gleam_coords = SkyCoord(ra=gleam_ra * u.deg, dec=gleam_dec * u.deg)\n",
    "    \n",
    "    # Find nearest neighbor in GLEAM catalog for each PyBDSF source\n",
    "    idx_gleam, d2d, _ = pybdsf_coords.match_to_catalog_sky(gleam_coords)\n",
    "    \n",
    "    # Set matching radius (e.g., 45 arcseconds for GLEAM-X resolution)\n",
    "    matched_mask = d2d < match_radius*2\n",
    "    \n",
    "    # Apply mask to get matched indices\n",
    "    matched_pybdsf = np.where(matched_mask)[0]  # Indices in PyBDSF catalog\n",
    "    matched_gleam = idx_gleam[matched_mask]      # Nearest neighbor indices in GLEAM catalog\n",
    "    matched_sep = d2d[matched_mask].to(u.arcsec) # Separation in arcsec\n",
    "    return pybdsf_ra[matched_pybdsf], pybdsf_dec[matched_pybdsf], gleam_ra[matched_gleam], \\\n",
    "    gleam_dec[matched_gleam], pybdsf_flux[matched_pybdsf], gleam_flux[matched_gleam], \\\n",
    "    pybdsf_flux_err[matched_pybdsf], gleam_flux_err[matched_gleam]"
   ]
  },
  {
   "cell_type": "code",
   "execution_count": 25,
   "id": "a558e81d-f2af-4dab-959a-2d5fac4b6eea",
   "metadata": {},
   "outputs": [
    {
     "name": "stderr",
     "output_type": "stream",
     "text": [
      "WARNING: IllegalSecondWarning: 'second' was found  to be '60.0', which is not in range [0,60). Treating as 0 sec, +1 min [astropy.coordinates.angles.formats]\n"
     ]
    }
   ],
   "source": [
    "names = ['nvss', 'pybdsf']\n",
    "search_radius = 20 * 3600 * u.arcsec\n",
    "# flux_thresh = 2 # Jy\n",
    "# # Set matching radius (e.g., 45 arcseconds for GLEAM-X resolution)\n",
    "# match_radius = beam_size * u.arcsec \n",
    "# match_radius = 30 * u.arcsec # sqrt(40*22)\n",
    "\n",
    "pybdsf_ra2, pybdsf_dec2, nvss_ra, nvss_dec, pybdsf_flux2, nvss_flux, pybdsf_flux2_err, nvss_flux_err = matched_sources_nvss(nvss_catalog, pybdsf_catalog, flux_thresh*1e-5,\n",
    "                                                                                                                       target_ra_hms, target_dec_dms,\n",
    "                                                                                                                       search_radius, match_radius, \n",
    "                                                                                                                       names)\n",
    "fac_nvss = 1. \n",
    "nvss_flux *= (fac_nvss)\n",
    "nvss_flux_err *= (fac_nvss)\n"
   ]
  },
  {
   "cell_type": "code",
   "execution_count": 26,
   "id": "4cb2deee-3e52-4d7d-a979-c657b6e2e5ff",
   "metadata": {},
   "outputs": [],
   "source": [
    "nu_nvss = 1.4e3 # MHz\n",
    "nu_pybdsf = 147.4 # MHz"
   ]
  },
  {
   "cell_type": "code",
   "execution_count": 27,
   "id": "d3e6916f-e191-4b77-a0ab-4b725d6dfc20",
   "metadata": {},
   "outputs": [
    {
     "data": {
      "text/plain": [
       "((620,), (620,))"
      ]
     },
     "execution_count": 27,
     "metadata": {},
     "output_type": "execute_result"
    }
   ],
   "source": [
    "pybdsf_ra2.shape, nvss_ra.shape"
   ]
  },
  {
   "cell_type": "code",
   "execution_count": 28,
   "id": "a4636628-37c1-4426-b578-89303691da49",
   "metadata": {},
   "outputs": [
    {
     "name": "stdout",
     "output_type": "stream",
     "text": [
      "[19.07944087 10.08407524  6.2040596   4.66649829  4.07043437  2.63676615\n",
      "  2.59285157  2.32029264  2.01481443  2.00971007] [0.03169417 0.1228052  0.07585994 0.01961611 0.04961429 0.05010357\n",
      " 0.01047804 0.02858712 0.01883139 0.04687232]\n",
      "\n",
      "[3.7516 1.6939 1.2806 1.0166 0.9762 0.4396 0.3455 0.4168 0.5374 0.4374] [0.13   0.0558 0.0469 0.0356 0.0293 0.0155 0.012  0.0125 0.0189 0.0131]\n"
     ]
    }
   ],
   "source": [
    "argsort2 = np.argsort(-pybdsf_flux2)\n",
    "print(pybdsf_flux2[argsort2][:10], pybdsf_flux2_err[argsort2][:10],)\n",
    "print()\n",
    "print(nvss_flux[argsort2][:10], nvss_flux_err[argsort2][:10],)"
   ]
  },
  {
   "cell_type": "code",
   "execution_count": 29,
   "id": "4600d7c3-2bb9-454f-9fdc-0bdac72a6d71",
   "metadata": {},
   "outputs": [],
   "source": [
    "alpha = ( np.log(nvss_flux) - np.log(pybdsf_flux2) ) / ( np.log(nu_nvss) - np.log(nu_pybdsf) ) "
   ]
  },
  {
   "cell_type": "code",
   "execution_count": 30,
   "id": "31e7ded3-3f5c-4611-bdb4-51779bb1be8e",
   "metadata": {},
   "outputs": [
    {
     "data": {
      "text/plain": [
       "array([-0.7225113 , -0.79247555, -0.70094215, -0.67698478, -0.63429069,\n",
       "       -0.79581589, -0.89535827, -0.76267569, -0.58706982, -0.67740787])"
      ]
     },
     "execution_count": 30,
     "metadata": {},
     "output_type": "execute_result"
    }
   ],
   "source": [
    "alpha[argsort2][:10]"
   ]
  },
  {
   "cell_type": "code",
   "execution_count": null,
   "id": "9c78b343-70c9-4ed2-be1a-1fa4be42e8c7",
   "metadata": {},
   "outputs": [],
   "source": []
  },
  {
   "cell_type": "code",
   "execution_count": null,
   "id": "d78ea665-93b6-44d9-9955-40b164248859",
   "metadata": {},
   "outputs": [],
   "source": []
  },
  {
   "cell_type": "code",
   "execution_count": 31,
   "id": "f0a3064f-5215-4e9f-ac37-d012c703c3cc",
   "metadata": {},
   "outputs": [
    {
     "name": "stdout",
     "output_type": "stream",
     "text": [
      "GMRT - GLEAM 154 MHz [flux][error]\n",
      "[ 1.06167681 19.07944087  2.00971007  1.34869239  4.07043437  1.01728599\n",
      "  1.20893383  1.08517233  2.59285157  1.02766182] [0.01287127 0.03169417 0.04687232 0.01061742 0.04961429 0.01185612\n",
      " 0.03034815 0.02174727 0.01047804 0.01118643]\n",
      "\n",
      "[15.118112  13.500846  13.500846   3.9354248  3.5222824  2.0855205\n",
      "  2.0953486  1.8133367  1.6092044  1.647975 ] [0.01140577 0.01558354 0.01558354 0.01113222 0.00823695 0.00672381\n",
      " 0.00940179 0.00725005 0.00805688 0.00737733]\n",
      "\n",
      "GMRT - GLEAM-X 200 MHz [flux][error]\n",
      "[19.07944087 10.08407524  6.2040596   4.66649829  4.07043437  2.63676615\n",
      "  2.59285157  2.32029264  2.01481443  2.00971007] [0.03169417 0.1228052  0.07585994 0.01961611 0.04961429 0.05010357\n",
      " 0.01047804 0.02858712 0.01883139 0.04687232]\n",
      "\n",
      "[15.87564462  7.9299814   6.10610719  4.10427056  3.46922018  2.10127171\n",
      "  2.15403243  1.99186499  1.64988271  1.64203568] [0.00172906 0.00150069 0.00150885 0.00109595 0.00090633 0.00094915\n",
      " 0.00098381 0.00094099 0.00095424 0.00088798]\n",
      "\n",
      "GMRT - TGSS [flux][error]\n",
      "[19.07944087 10.08407524  6.2040596   4.66649829  4.07043437  2.63676615\n",
      "  2.59285157  2.32029264  2.01481443  2.00971007] [0.03169417 0.1228052  0.07585994 0.01961611 0.04961429 0.05010357\n",
      " 0.01047804 0.02858712 0.01883139 0.04687232]\n",
      "\n",
      "[22.3092 11.8522 11.8522  4.4188  3.8508  2.4844  3.0099  2.0635  1.9306\n",
      "  1.6984] [2.2311 1.1857 1.1857 0.4423 0.3851 0.249  0.3012 0.2064 0.1931 0.17  ]\n",
      "\n",
      "GMRT - NVSS [flux][error] and sp ind. \n",
      "[19.07944087 10.08407524  6.2040596   4.66649829  4.07043437  2.63676615\n",
      "  2.59285157  2.32029264  2.01481443  2.00971007] [0.03169417 0.1228052  0.07585994 0.01961611 0.04961429 0.05010357\n",
      " 0.01047804 0.02858712 0.01883139 0.04687232]\n",
      "\n",
      "[3.7516 1.6939 1.2806 1.0166 0.9762 0.4396 0.3455 0.4168 0.5374 0.4374] [0.13   0.0558 0.0469 0.0356 0.0293 0.0155 0.012  0.0125 0.0189 0.0131]\n",
      "\n",
      "[-0.7225113  -0.79247555 -0.70094215 -0.67698478 -0.63429069 -0.79581589\n",
      " -0.89535827 -0.76267569 -0.58706982 -0.67740787]\n"
     ]
    }
   ],
   "source": [
    "\n",
    "print('GMRT - GLEAM 154 MHz [flux][error]')\n",
    "\n",
    "print(pybdsf_flux1[argsort][:10], pybdsf_flux1_err[argsort][:10],)\n",
    "print()\n",
    "print(gleam_flux[argsort][:10], gleam_flux_err[argsort][:10],)\n",
    "\n",
    "print()\n",
    "\n",
    "print('GMRT - GLEAM-X 200 MHz [flux][error]')\n",
    "print(pybdsf_flux_x1[argsortx1][:10], pybdsf_flux_x1_err[argsortx1][:10],)\n",
    "print()\n",
    "print(gleamx1_flux[argsortx1][:10], gleamx1_flux_err[argsortx1][:10],)\n",
    "\n",
    "print()\n",
    "\n",
    "print('GMRT - TGSS [flux][error]')\n",
    "print(pybdsf_flux1[argsort1][:10], pybdsf_flux1_err[argsort1][:10],)\n",
    "print()\n",
    "print(tgss_flux[argsort1][:10], tgss_flux_err[argsort1][:10],)\n",
    "\n",
    "\n",
    "print()\n",
    "\n",
    "\n",
    "print('GMRT - NVSS [flux][error] and sp ind. ')\n",
    "print(pybdsf_flux2[argsort2][:10], pybdsf_flux2_err[argsort2][:10],)\n",
    "print()\n",
    "print(nvss_flux[argsort2][:10], nvss_flux_err[argsort2][:10],)\n",
    "print()\n",
    "print(alpha[argsort2][:10])"
   ]
  },
  {
   "cell_type": "code",
   "execution_count": null,
   "id": "2c427136-17b3-4ac9-a301-27a80d6a3920",
   "metadata": {},
   "outputs": [],
   "source": []
  }
 ],
 "metadata": {
  "kernelspec": {
   "display_name": "Python 3 (ipykernel)",
   "language": "python",
   "name": "python3"
  },
  "language_info": {
   "codemirror_mode": {
    "name": "ipython",
    "version": 3
   },
   "file_extension": ".py",
   "mimetype": "text/x-python",
   "name": "python",
   "nbconvert_exporter": "python",
   "pygments_lexer": "ipython3",
   "version": "3.12.2"
  }
 },
 "nbformat": 4,
 "nbformat_minor": 5
}
