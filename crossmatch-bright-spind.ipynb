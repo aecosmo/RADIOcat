{
 "cells": [
  {
   "cell_type": "code",
   "execution_count": 1,
   "id": "8ef41d72-e455-48c5-8afb-c95d8b29dd3d",
   "metadata": {},
   "outputs": [],
   "source": [
    "import numpy as np\n",
    "from astropy.io import fits\n",
    "from astropy.coordinates import SkyCoord\n",
    "import astropy.units as u\n",
    "import matplotlib.pyplot as plt\n",
    "import findsources as find\n",
    "plt.style.use('mplstyle')"
   ]
  },
  {
   "cell_type": "code",
   "execution_count": 2,
   "id": "3c3a06b2-4acd-4785-beb8-1dc3126680dd",
   "metadata": {},
   "outputs": [
    {
     "name": "stdout",
     "output_type": "stream",
     "text": [
      "40.00000003092\n"
     ]
    }
   ],
   "source": [
    "from astropy.io import fits\n",
    "image = 'mosaic_image.fits'  # Change to your file\n",
    "# image = 'final_mosaicadaptive.fits'  # Change to your file\n",
    "with fits.open(image) as hdul:\n",
    "    beam_size = hdul[0].header['BMAJ']* 3600\n",
    "    print(beam_size)  # Look for BMAJ, BMIN, BPA\n"
   ]
  },
  {
   "cell_type": "code",
   "execution_count": 3,
   "id": "9cdac595-841c-43f7-92a1-869ddab9aa57",
   "metadata": {},
   "outputs": [],
   "source": [
    "target_ra_hms = '02h00m12s'\n",
    "target_dec_dms = '-30d53m24s'\n",
    "search_radius = 20 * 3600 * u.arcsec\n",
    "flux_thresh = 0.02 # Jy\n",
    "# Set matching radius (e.g., 45 arcseconds for GLEAM-X resolution)\n",
    "match_radius = beam_size * u.arcsec \n",
    "match_radius = 40 * u.arcsec  # sqrt(40*22)\n",
    "si = -0.8\n",
    "\n",
    "# Load GLEAM catalog\n",
    "gleam_catalog = \"GLEAM_EGC_v2.fits.gz\"\n",
    "# gleamx1_catalog = \"VIII_110_catalog.dat.gz.fits\"\n",
    "gleamx1_catalog = \"VIII_113_catalog2.dat.gz.fits\"\n",
    "gleamx1_catalog = \"VIII_113_catalog2glx.dat.gz.fits\" # a modified version that gives alpha values\n",
    "tgss_catalog = \"J_A+A_598_A78_table3.dat.gz.fits.gz\"\n",
    "pybdsf_catalog= \"mosaic_image.pybdsf.srl.fits\"\n",
    "nvss_catalog= \"VIII_65_nvss.dat.gz.fits.gz\"\n",
    "\n"
   ]
  },
  {
   "cell_type": "code",
   "execution_count": 4,
   "id": "3e044b41-d567-4201-a229-9bcc847c4c39",
   "metadata": {},
   "outputs": [],
   "source": [
    "# a modified version that gives alpha values\n",
    "\n",
    "# with fits.open(gleamx1_catalog, mode=\"update\") as hdul:\n",
    "#     for i, col in enumerate(hdul[1].columns, start=1):\n",
    "#         if col.name == 'alpha-SP':\n",
    "#             print(f\"Column index is {i}\")\n",
    "\n",
    "# with fits.open(gleamx2_catalog, mode=\"update\") as hdul:\n",
    "#     hdr = hdul[1].header\n",
    "#     hdr['TNULL384'] = '---'\n",
    "#     hdul.flush()  # Save changes\n",
    "\n",
    "# with fits.open(gleamx1_catalog) as hdul:\n",
    "#     print(hdul[1].columns)   # RA in degrees"
   ]
  },
  {
   "cell_type": "code",
   "execution_count": 5,
   "id": "bef67952-b568-4ba9-b9a0-457c30456a7f",
   "metadata": {},
   "outputs": [
    {
     "name": "stdout",
     "output_type": "stream",
     "text": [
      "1.019491410356563\n",
      "1.019491410356563\n",
      "6.054864682394719\n"
     ]
    }
   ],
   "source": [
    "nu_reference = 147.4\n",
    "nu_gleam = 151 \n",
    "nu_gleam_x1 = 151 \n",
    "# nu_gleam_x1 = 151 \n",
    "nu_nvss = 1400 \n",
    "\n",
    "fac_gleam = (nu_reference/nu_gleam)**si\n",
    "print(fac_gleam)\n",
    "\n",
    "fac_gleam_x1 = (nu_reference/nu_gleam_x1)**si\n",
    "print(fac_gleam_x1)\n",
    "\n",
    "fac_nvss = (nu_reference/nu_nvss)**si\n",
    "print(fac_nvss)"
   ]
  },
  {
   "cell_type": "markdown",
   "id": "f7e2a91d-f285-4686-806a-424fc96db08a",
   "metadata": {},
   "source": [
    "# GLEAM"
   ]
  },
  {
   "cell_type": "code",
   "execution_count": 6,
   "id": "508210f8-048e-4011-883c-3b69c1792a20",
   "metadata": {},
   "outputs": [],
   "source": [
    "names = ['gleam', 'pybdsf']\n",
    "\n",
    "(pybdsf_ra, pybdsf_dec, gleam_ra, gleam_dec, pybdsf_flux, \n",
    " gleam_flux, pybdsf_flux_err, gleam_flux_err, gleam_flux_151, \n",
    " gleam_flux_151_err, alpha, alpha_err, name) = find.matched_sources_with_alpha(gleam_catalog, pybdsf_catalog, flux_thresh,\n",
    "                                                                               target_ra_hms, target_dec_dms,\n",
    "                                                                               search_radius, match_radius, names)\n",
    "gleam_flux *= (fac_gleam)\n",
    "gleam_flux_err *= (fac_gleam)"
   ]
  },
  {
   "cell_type": "code",
   "execution_count": null,
   "id": "9d694b89-6e81-4ae2-8cbd-a4446331acd2",
   "metadata": {},
   "outputs": [],
   "source": []
  },
  {
   "cell_type": "code",
   "execution_count": 7,
   "id": "3cadcd89-c2b7-442e-86e5-90c107d65784",
   "metadata": {},
   "outputs": [
    {
     "name": "stdout",
     "output_type": "stream",
     "text": [
      "[19.07944087 10.08407524  6.2040596   4.66649829  4.07043437  2.63676615\n",
      "  2.59285157  2.32029264  2.01481443  2.00971007] [0.03169417 0.1228052  0.07585994 0.01961611 0.04961429 0.05010357\n",
      " 0.01047804 0.02858712 0.01883139 0.04687232]\n",
      "\n",
      "[17.949156  16.595154  16.595154   4.6637244  3.94791    2.476469\n",
      "  2.6904912  2.1443262  1.8060807  1.8912518] [0.02400285 0.02889125 0.02889125 0.02368167 0.01800959 0.02056924\n",
      " 0.01968022 0.01649848 0.01746771 0.02104062]\n",
      "[-0.862534   -0.80219555 -0.80219555 -0.7282266  -0.59387106 -0.89094305\n",
      " -1.1502343  -0.75958085 -0.58621854 -0.6760057 ]\n",
      "[0.0136427  0.01366115 0.01366115 0.01435938 0.01448209 0.01516625\n",
      " 0.01472999 0.01566539 0.0171046  0.01651383]\n",
      "['GLEAM J020012-305324' 'GLEAM J015035-293158' 'GLEAM J015035-293158'\n",
      " 'GLEAM J015200-294056' 'GLEAM J021527-312144' 'GLEAM J014930-283819'\n",
      " 'GLEAM J020820-303928' 'GLEAM J020620-332547' 'GLEAM J020311-334722'\n",
      " 'GLEAM J015853-273607']\n"
     ]
    }
   ],
   "source": [
    "argsort = np.argsort(-pybdsf_flux)\n",
    "argsort_gleam = np.argsort(-pybdsf_flux)\n",
    "\n",
    "print(pybdsf_flux[argsort][:10], pybdsf_flux_err[argsort][:10],)\n",
    "print()\n",
    "# print(gleam_flux[argsort][:10], gleam_flux_err[argsort][:10],)\n",
    "print(gleam_flux_151[argsort][:10], gleam_flux_151_err[argsort][:10])\n",
    "\n",
    "print(alpha[argsort][:10],)\n",
    "print(alpha_err[argsort][:10],)\n",
    "print(name[argsort][:10])\n",
    "\n"
   ]
  },
  {
   "cell_type": "code",
   "execution_count": 8,
   "id": "1f8380e0-e76c-4912-9899-bd84b840ced6",
   "metadata": {},
   "outputs": [
    {
     "name": "stdout",
     "output_type": "stream",
     "text": [
      "['GLEAM J020012-305324' 'GLEAM J015035-293158' 'GLEAM J015035-293158'\n",
      " 'GLEAM J015200-294056' 'GLEAM J021527-312144' 'GLEAM J014930-283819'\n",
      " 'GLEAM J020820-303928' 'GLEAM J020620-332547' 'GLEAM J020311-334722'\n",
      " 'GLEAM J015853-273607']\n",
      "[30.05078099 27.64298912 27.65874067 28.00432669 33.86338507 27.37599285\n",
      " 32.08494319 31.58750571 30.80088555 29.72171712]\n",
      "[-30.89120325 -29.54349408 -29.51968    -29.68403569 -31.36275502\n",
      " -28.64091047 -30.65952121 -33.4306934  -33.79015013 -27.60315898]\n"
     ]
    }
   ],
   "source": [
    "print(name[argsort][:10])\n",
    "print(pybdsf_ra[argsort][:10])\n",
    "print(pybdsf_dec[argsort][:10])\n"
   ]
  },
  {
   "cell_type": "code",
   "execution_count": null,
   "id": "ec9ef75a-f23b-4f8f-b741-b8c088dfdaa0",
   "metadata": {},
   "outputs": [],
   "source": []
  },
  {
   "cell_type": "code",
   "execution_count": 9,
   "id": "092b8a36-9ff1-48b9-85a4-c71ce16d562c",
   "metadata": {},
   "outputs": [],
   "source": [
    "names = ['gleamx1', 'pybdsf']\n",
    "\n",
    "(\n",
    "    pybdsf_ra_x1, pybdsf_dec_x1, gleamx1_ra, gleamx1_dec, pybdsf_flux_x1,\n",
    "    gleamx1_flux, pybdsf_flux_x1_err, gleamx1_flux_err,\n",
    "    gleamx1_flux_151, gleamx1_flux_151_err, alphax1, alphax1_err, name\n",
    ") = find.matched_sources_with_alpha(\n",
    "    gleamx1_catalog, pybdsf_catalog, flux_thresh,\n",
    "    target_ra_hms, target_dec_dms,\n",
    "    search_radius, match_radius,\n",
    "    names\n",
    ")\n",
    "\n",
    "gleamx1_flux *= fac_gleam_x1\n",
    "gleamx1_flux_err *= fac_gleam_x1\n"
   ]
  },
  {
   "cell_type": "markdown",
   "id": "ec14a8db-bdf9-41c9-ab31-ebbfb247c7c1",
   "metadata": {},
   "source": [
    "# GLEAM-X"
   ]
  },
  {
   "cell_type": "code",
   "execution_count": 10,
   "id": "61049923-f206-42f4-8838-2f497ec19d20",
   "metadata": {},
   "outputs": [
    {
     "name": "stdout",
     "output_type": "stream",
     "text": [
      "[19.07944087 10.08407524  6.2040596   4.66649829  4.07043437  2.63676615\n",
      "  2.59285157  2.32029264  2.01481443  2.00971007] [0.03169417 0.1228052  0.07585994 0.01961611 0.04961429 0.05010357\n",
      " 0.01047804 0.02858712 0.01883139 0.04687232]\n",
      "\n",
      "[18.8636    9.360348  7.394917  4.915171  3.96779   2.58331   2.944448\n",
      "  2.400819  1.877183  1.923148] [ 0.003432  0.003294  0.003461  0.002851 -1.        0.002428  0.002628\n",
      "  0.002273  0.002385  0.002359]\n",
      "sp index\n",
      "[-0.7756978   0.          0.         -0.69244562 -0.60566428 -0.81505837\n",
      " -1.07143745 -0.72961838 -0.60930943 -0.68338672]\n",
      "[0.01354298 0.         0.         0.01358501 0.01352334 0.01354934\n",
      " 0.01359471 0.01357561 0.01356063 0.01358604]\n",
      "\n",
      "['GLEAM-X J020012.1-305326' 'GLEAM-X J015034.3-293239'\n",
      " 'GLEAM-X J015038.1-293109' 'GLEAM-X J015201.0-294100'\n",
      " 'GLEAM-X J021527.3-312147' 'GLEAM-X J014930.3-283825'\n",
      " 'GLEAM-X J020820.4-303934' 'GLEAM-X J020620.9-332549'\n",
      " 'GLEAM-X J020312.1-334724' 'GLEAM-X J015853.1-273609']\n"
     ]
    }
   ],
   "source": [
    "argsortx1 = np.argsort(-pybdsf_flux_x1)\n",
    "\n",
    "print(pybdsf_flux_x1[argsortx1][:10], pybdsf_flux_x1_err[argsortx1][:10],)\n",
    "print()\n",
    "# print(gleamx1_flux[argsortx1][:10], gleamx1_flux_err[argsortx1][:10],)\n",
    "print(gleamx1_flux_151[argsortx1][:10], gleamx1_flux_151_err[argsortx1][:10],)\n",
    "\n",
    "print('sp index')\n",
    "print(alphax1[argsortx1][:10],)\n",
    "print(alphax1_err[argsortx1][:10],)\n",
    "print()\n",
    "\n",
    "print(name[argsortx1][:10])\n"
   ]
  },
  {
   "cell_type": "code",
   "execution_count": null,
   "id": "833dd8be-5494-4fc3-a77f-72b6a53f85b8",
   "metadata": {},
   "outputs": [],
   "source": []
  },
  {
   "cell_type": "markdown",
   "id": "ef1274b4-ae48-45e4-aecc-83c24fb49213",
   "metadata": {},
   "source": [
    "# TGSS"
   ]
  },
  {
   "cell_type": "code",
   "execution_count": 11,
   "id": "e6b2b153-48c1-441e-a614-8e48ff87ed5f",
   "metadata": {},
   "outputs": [],
   "source": [
    "names = ['tgss', 'pybdsf']\n",
    "\n",
    "(pybdsf_ra1, pybdsf_dec1, tgss_ra, tgss_dec, pybdsf_flux1, tgss_flux, \n",
    "pybdsf_flux1_err, tgss_flux_err) = find.matched_sources_tgss(tgss_catalog, pybdsf_catalog, flux_thresh,\n",
    "                                                             target_ra_hms, target_dec_dms,\n",
    "                                                             search_radius, match_radius*1.5, names)\n",
    "\n",
    "tgss_flux *= 1e-3 # converted to Jy\n",
    "tgss_flux_err *= 1e-3 # converted to Jy"
   ]
  },
  {
   "cell_type": "code",
   "execution_count": 12,
   "id": "4bf6999f-57c7-4329-b48c-2362ef941fff",
   "metadata": {},
   "outputs": [
    {
     "name": "stdout",
     "output_type": "stream",
     "text": [
      "[19.07944087 10.08407524  6.2040596   4.66649829  4.07043437  2.63676615\n",
      "  2.59285157  2.32029264  2.01481443  2.00971007] [0.03169417 0.1228052  0.07585994 0.01961611 0.04961429 0.05010357\n",
      " 0.01047804 0.02858712 0.01883139 0.04687232]\n",
      "\n",
      "[22.3092 11.8522 11.8522  4.4188  3.8508  2.4844  3.0099  2.0635  1.9306\n",
      "  1.6984] [2.2311 1.1857 1.1857 0.4423 0.3851 0.249  0.3012 0.2064 0.1931 0.17  ]\n"
     ]
    }
   ],
   "source": [
    "argsort1 = np.argsort(-pybdsf_flux1)\n",
    "print(pybdsf_flux1[argsort1][:10], pybdsf_flux1_err[argsort1][:10],)\n",
    "print()\n",
    "print(tgss_flux[argsort1][:10], tgss_flux_err[argsort1][:10],)"
   ]
  },
  {
   "cell_type": "code",
   "execution_count": 13,
   "id": "fdf374ac-27d7-48ad-ad9b-4881493db968",
   "metadata": {},
   "outputs": [
    {
     "name": "stdout",
     "output_type": "stream",
     "text": [
      "[19.07944087 10.08407524  6.2040596   4.66649829  4.07043437  2.63676615\n",
      "  2.59285157  2.32029264  2.01481443  2.00971007] [0.03169417 0.1228052  0.07585994 0.01961611 0.04961429 0.05010357\n",
      " 0.01047804 0.02858712 0.01883139 0.04687232]\n",
      "\n",
      "[22.3092 11.8522 11.8522  4.4188  3.8508  2.4844  3.0099  2.0635  1.9306\n",
      "  1.6984] [2.2311 1.1857 1.1857 0.4423 0.3851 0.249  0.3012 0.2064 0.1931 0.17  ]\n"
     ]
    }
   ],
   "source": [
    "argsort1 = np.argsort(-pybdsf_flux1)\n",
    "print(pybdsf_flux1[argsort1][:10], pybdsf_flux1_err[argsort1][:10],)\n",
    "print()\n",
    "print(tgss_flux[argsort1][:10], tgss_flux_err[argsort1][:10],)"
   ]
  },
  {
   "cell_type": "code",
   "execution_count": null,
   "id": "fc5ce9fc-af53-45a0-96c8-d2a778e51947",
   "metadata": {},
   "outputs": [],
   "source": []
  },
  {
   "cell_type": "markdown",
   "id": "f4be77d7-370c-4e1a-aa83-0e297369696d",
   "metadata": {},
   "source": [
    "# Spectral Index"
   ]
  },
  {
   "cell_type": "markdown",
   "id": "e98051f9-f73e-493a-b9a4-07f5956bf4ef",
   "metadata": {},
   "source": [
    "## NVSS"
   ]
  },
  {
   "cell_type": "code",
   "execution_count": 14,
   "id": "a558e81d-f2af-4dab-959a-2d5fac4b6eea",
   "metadata": {},
   "outputs": [
    {
     "name": "stderr",
     "output_type": "stream",
     "text": [
      "WARNING: IllegalSecondWarning: 'second' was found  to be '60.0', which is not in range [0,60). Treating as 0 sec, +1 min [astropy.coordinates.angles.formats]\n"
     ]
    }
   ],
   "source": [
    "names = ['nvss', 'pybdsf']\n",
    "search_radius = 20 * 3600 * u.arcsec\n",
    "# flux_thresh = 2 # Jy\n",
    "# # Set matching radius (e.g., 45 arcseconds for GLEAM-X resolution)\n",
    "# match_radius = beam_size * u.arcsec \n",
    "# match_radius = 30 * u.arcsec # sqrt(40*22)\n",
    "\n",
    "(pybdsf_ra2, pybdsf_dec2, nvss_ra, nvss_dec, pybdsf_flux2, \n",
    " nvss_flux, pybdsf_flux2_err, nvss_flux_err) = find.matched_sources_nvss(nvss_catalog, pybdsf_catalog, flux_thresh*1e-5,\n",
    "                                                                         target_ra_hms, target_dec_dms,search_radius, match_radius, names)\n",
    "fac_nvss = 1. \n",
    "nvss_flux *= (fac_nvss)\n",
    "nvss_flux_err *= (fac_nvss)\n"
   ]
  },
  {
   "cell_type": "code",
   "execution_count": 15,
   "id": "4cb2deee-3e52-4d7d-a979-c657b6e2e5ff",
   "metadata": {},
   "outputs": [],
   "source": [
    "nu_nvss = 1.4e3 # MHz\n",
    "nu_pybdsf = 147.4 # MHz"
   ]
  },
  {
   "cell_type": "code",
   "execution_count": 16,
   "id": "d3e6916f-e191-4b77-a0ab-4b725d6dfc20",
   "metadata": {},
   "outputs": [
    {
     "data": {
      "text/plain": [
       "((620,), (620,))"
      ]
     },
     "execution_count": 16,
     "metadata": {},
     "output_type": "execute_result"
    }
   ],
   "source": [
    "pybdsf_ra2.shape, nvss_ra.shape"
   ]
  },
  {
   "cell_type": "code",
   "execution_count": 17,
   "id": "a4636628-37c1-4426-b578-89303691da49",
   "metadata": {},
   "outputs": [
    {
     "name": "stdout",
     "output_type": "stream",
     "text": [
      "[19.07944087 10.08407524  6.2040596   4.66649829  4.07043437  2.63676615\n",
      "  2.59285157  2.32029264  2.01481443  2.00971007] [0.03169417 0.1228052  0.07585994 0.01961611 0.04961429 0.05010357\n",
      " 0.01047804 0.02858712 0.01883139 0.04687232]\n",
      "\n",
      "[3.7516 1.6939 1.2806 1.0166 0.9762 0.4396 0.3455 0.4168 0.5374 0.4374] [0.13   0.0558 0.0469 0.0356 0.0293 0.0155 0.012  0.0125 0.0189 0.0131]\n"
     ]
    }
   ],
   "source": [
    "argsort2 = np.argsort(-pybdsf_flux2)\n",
    "print(pybdsf_flux2[argsort2][:10], pybdsf_flux2_err[argsort2][:10],)\n",
    "print()\n",
    "print(nvss_flux[argsort2][:10], nvss_flux_err[argsort2][:10],)"
   ]
  },
  {
   "cell_type": "code",
   "execution_count": 18,
   "id": "4600d7c3-2bb9-454f-9fdc-0bdac72a6d71",
   "metadata": {},
   "outputs": [],
   "source": [
    "alpha_nvss = ( np.log(nvss_flux) - np.log(pybdsf_flux2) ) / ( np.log(nu_nvss) - np.log(nu_pybdsf) ) "
   ]
  },
  {
   "cell_type": "code",
   "execution_count": 19,
   "id": "31e7ded3-3f5c-4611-bdb4-51779bb1be8e",
   "metadata": {},
   "outputs": [
    {
     "data": {
      "text/plain": [
       "array([-0.7225113 , -0.79247555, -0.70094215, -0.67698478, -0.63429069,\n",
       "       -0.79581589, -0.89535827, -0.76267569, -0.58706982, -0.67740787])"
      ]
     },
     "execution_count": 19,
     "metadata": {},
     "output_type": "execute_result"
    }
   ],
   "source": [
    "alpha_nvss[argsort2][:10]"
   ]
  },
  {
   "cell_type": "markdown",
   "id": "f6dbd403-1086-4eff-a8f9-56ca096d9553",
   "metadata": {},
   "source": [
    "# Generate the Table"
   ]
  },
  {
   "cell_type": "code",
   "execution_count": 20,
   "id": "5a660b74-9188-437a-8efb-3e84aa628c3e",
   "metadata": {},
   "outputs": [
    {
     "name": "stdout",
     "output_type": "stream",
     "text": [
      "\\begin{table*}\n",
      "    \\centering\n",
      "    \\renewcommand{\\arraystretch}{1.2} % Adjust row height\n",
      "    \\setlength{\\tabcolsep}{4pt}\n",
      "    \\caption{The top 10 brightest sources from the uGMRT catalogue, sorted in descending order by total flux density, with the cross-matched sources from other catalogues. The columns show source IDs from our catalogue and GLEAM, the RA, Dec values in sexagesimal, and total flux densities with uncertainties at $\\sim150$~MHz from uGMRT, GLEAM, GLEAM--X, and TGSS. The last three columns show the spectral indices quoted in the GLEAM, GLEAM--X, and those derived using our catalogue by comparing with the 1.4~GHz NVSS catalogue (Section~\\ref{sec:spindex}).}\n",
      "    \\label{tab:gmrt_gleam_nvss_alpha}\n",
      "    \\begin{tabular}{cccccccccccc}\n",
      "    \\hline\n",
      "    ID & GLEAM ID & RA & Dec & $S_{\\rm int}$ & $S_{\\rm int, GLEAM}$  & $S_{\\rm int, GLEAM-X}$& $S_{\\rm int, TGSS}$ & $\\alpha_{\\rm GLEAM}$ & $\\alpha_{\\rm GLEAM-X}$ & $\\alpha_{\\rm NVSS}$ \\\\\n",
      "     &  & (hh:mm:ss) & (dd:mm:ss) & Jy & Jy & Jy & Jy &  &  &  \\\\\n",
      "    \\hline\n",
      "    329  & GLEAM--X J020110.3--292112 & 02:00:12 & --30:53:28 & $19.08 \\pm 0.03$ & $17.95 \\pm 0.02$ & $18.86 \\pm 0.00$ & $22.31 \\pm 2.23$ & $-0.86 \\pm 0.01$ & $-0.78 \\pm 0.01$ & $-0.72$ \\\\[3pt]\n",
      "    584  & GLEAM--X J015318.1--281714 & 01:50:34 & --29:32:37 & $10.08 \\pm 0.12$ & $16.60 \\pm 0.03$ & $9.36 \\pm 0.00$ & $11.85 \\pm 1.19$ & $-0.80 \\pm 0.01$ & $0.00 \\pm 0.00$ & $-0.79$ \\\\[3pt]\n",
      "    585  & GLEAM--X J015311.0--292939 & 01:50:38 & --29:31:11 & $6.20 \\pm 0.08$ & $16.60 \\pm 0.03$ & $7.39 \\pm 0.00$ & $11.85 \\pm 1.19$ & $-0.80 \\pm 0.01$ & $0.00 \\pm 0.00$ & $-0.70$ \\\\[3pt]\n",
      "    558  & GLEAM--X J015355.2--293443 & 01:52:01 & --29:41:03 & $4.67 \\pm 0.02$ & $4.66 \\pm 0.02$ & $4.92 \\pm 0.00$ & $4.42 \\pm 0.44$ & $-0.73 \\pm 0.01$ & $-0.69 \\pm 0.01$ & $-0.68$ \\\\[3pt]\n",
      "    1  & GLEAM--X J021527.3--312147 & 02:15:27 & --31:21:46 & $4.07 \\pm 0.05$ & $3.95 \\pm 0.02$ & $3.97 \\pm -$ & $3.85 \\pm 0.39$ & $-0.59 \\pm 0.01$ & $-0.61 \\pm 0.01$ & $-0.63$ \\\\[3pt]\n",
      "    604  & GLEAM--X J015211.2--324034 & 01:49:30 & --28:38:27 & $2.64 \\pm 0.05$ & $2.48 \\pm 0.02$ & $2.58 \\pm 0.00$ & $2.48 \\pm 0.25$ & $-0.89 \\pm 0.02$ & $-0.82 \\pm 0.01$ & $-0.80$ \\\\[3pt]\n",
      "    89  & GLEAM--X J020836.9--303114 & 02:08:20 & --30:39:34 & $2.59 \\pm 0.01$ & $2.69 \\pm 0.02$ & $2.94 \\pm 0.00$ & $3.01 \\pm 0.30$ & $-1.15 \\pm 0.01$ & $-1.07 \\pm 0.01$ & $-0.90$ \\\\[3pt]\n",
      "    145  & GLEAM--X J020625.6--303716 & 02:06:21 & --33:25:50 & $2.32 \\pm 0.03$ & $2.14 \\pm 0.02$ & $2.40 \\pm 0.00$ & $2.06 \\pm 0.21$ & $-0.76 \\pm 0.02$ & $-0.73 \\pm 0.01$ & $-0.76$ \\\\[3pt]\n",
      "    238  & GLEAM--X J020345.2--294336 & 02:03:12 & --33:47:25 & $2.01 \\pm 0.02$ & $1.81 \\pm 0.02$ & $1.88 \\pm 0.00$ & $1.93 \\pm 0.19$ & $-0.59 \\pm 0.02$ & $-0.61 \\pm 0.01$ & $-0.59$ \\\\[3pt]\n",
      "    376  & GLEAM--X J015943.3--322624 & 01:58:53 & --27:36:11 & $2.01 \\pm 0.05$ & $1.89 \\pm 0.02$ & $1.92 \\pm 0.00$ & $1.70 \\pm 0.17$ & $-0.68 \\pm 0.02$ & $-0.68 \\pm 0.01$ & $-0.68$ \\\\[3pt]\n",
      "    \\hline\n",
      "    \\end{tabular}\n",
      "\\end{table*}\n"
     ]
    }
   ],
   "source": [
    "import numpy as np\n",
    "from astropy.coordinates import SkyCoord\n",
    "import astropy.units as u\n",
    "\n",
    "# === Example arrays (replace with your real ones) ===\n",
    "ids = np.array([329, 584, 585, 558, 1, 604, 89, 145, 238, 376])\n",
    "gleam_ids_full = name[argsort_gleam][:10]\n",
    "\n",
    "\n",
    "gmrt_flux = pybdsf_flux[argsort_gleam][:10]\n",
    "gmrt_flux_err = pybdsf_flux_err[argsort_gleam][:10]\n",
    "\n",
    "gleam_flux = gleam_flux_151[argsort][:10]\n",
    "gleam_flux_err = gleam_flux_151_err[argsort][:10]\n",
    "\n",
    "gleamx_flux = gleamx1_flux_151[argsortx1][:10]\n",
    "gleamx_flux_err = gleamx1_flux_151_err[argsortx1][:10]\n",
    "tgss_flux1 = tgss_flux[argsort1][:10]\n",
    "tgss_flux_err1 = tgss_flux_err[argsort1][:10]\n",
    "\n",
    "# spectral indices\n",
    "alpha_gleam = alpha[argsort_gleam][:10]\n",
    "alpha_gleam_err = alpha_err[argsort_gleam][:10]\n",
    "alpha_gleamx = alphax1[argsortx1][:10]\n",
    "alpha_gleamx_err = alphax1_err[argsortx1][:10]\n",
    "alpha_nvss1 = alpha_nvss[argsort2][:10]\n",
    "\n",
    "# RA/Dec in sexagesimal with \":\" separator\n",
    "coords = SkyCoord(ra=pybdsf_ra[argsort_gleam][:10]*u.deg,\n",
    "                  dec=pybdsf_dec[argsort_gleam][:10]*u.deg)\n",
    "ra_sex = coords.ra.to_string(unit=u.hour, sep=\":\", precision=2, pad=True)\n",
    "dec_sex = coords.dec.to_string(unit=u.deg, sep=\":\", precision=2, pad=True, alwayssign=True)\n",
    "\n",
    "# === Generate LaTeX table ===\n",
    "print(r\"\\begin{table*}\")\n",
    "print(r\"    \\centering\")\n",
    "print(r\"    \\renewcommand{\\arraystretch}{1.2} % Adjust row height\")\n",
    "print(r\"    \\setlength{\\tabcolsep}{4pt}\")\n",
    "print(r\"    \\caption{The top 10 brightest sources from the uGMRT catalogue, sorted in descending order by total flux density, with the cross-matched sources from other catalogues. The columns show source IDs from our catalogue and GLEAM, the RA, Dec values in sexagesimal, and total flux densities with uncertainties at $\\sim150$~MHz from uGMRT, GLEAM, GLEAM--X, and TGSS. The last three columns show the spectral indices quoted in the GLEAM, GLEAM--X, and those derived using our catalogue by comparing with the 1.4~GHz NVSS catalogue (Section~\\ref{sec:spindex}).}\")\n",
    "print(r\"    \\label{tab:gmrt_gleam_nvss_alpha}\")\n",
    "print(r\"    \\begin{tabular}{cccccccccccc}\")\n",
    "print(r\"    \\hline\")\n",
    "print(r\"    ID & GLEAM ID & RA & Dec & $S_{\\rm int}$ & $S_{\\rm int, GLEAM}$  & $S_{\\rm int, GLEAM-X}$& $S_{\\rm int, TGSS}$ & $\\alpha_{\\rm GLEAM}$ & $\\alpha_{\\rm GLEAM-X}$ & $\\alpha_{\\rm NVSS}$ \\\\\")\n",
    "print(r\"     &  & (hh:mm:ss) & (dd:mm:ss) & Jy & Jy & Jy & Jy &  &  &  \\\\\")\n",
    "print(r\"    \\hline\")\n",
    "\n",
    "# RA/Dec in sexagesimal without fractional seconds\n",
    "ra_sex = coords.ra.to_string(unit=u.hour, sep=\":\", precision=0, pad=True)\n",
    "dec_sex = coords.dec.to_string(unit=u.deg, sep=\":\", precision=0, pad=True, alwayssign=True)\n",
    "\n",
    "for i in range(10):\n",
    "    # Clean GLEAM ID and replace '-' with '--'\n",
    "    gleam_id = str(gleam_ids_full[i]).replace(\"GLEAM \", \"\").replace(\"-\", \"--\")\n",
    "    \n",
    "    # flux with error (double backslash for LaTeX)\n",
    "    s_gmrt = f\"${gmrt_flux[i]:.2f} \\\\pm {gmrt_flux_err[i]:.2f}$\"\n",
    "    s_gleam = f\"${gleam_flux[i]:.2f} \\\\pm {gleam_flux_err[i]:.2f}$\"\n",
    "    s_gleamx = f\"${gleamx_flux[i]:.2f} \\\\pm {'-' if gleamx_flux_err[i] < 0 else f'{gleamx_flux_err[i]:.2f}'}$\"\n",
    "    s_tgss = f\"${tgss_flux1[i]:.2f} \\\\pm {tgss_flux_err1[i]:.2f}$\"\n",
    "\n",
    "    # spectral indices\n",
    "    a_gleam = f\"${alpha_gleam[i]:.2f} \\\\pm {alpha_gleam_err[i]:.2f}$\"\n",
    "    a_gleamx = \"--\" if np.isnan(alpha_gleamx[i]) else f\"${alpha_gleamx[i]:.2f} \\\\pm {alpha_gleamx_err[i]:.2f}$\"\n",
    "    a_nvss = f\"${alpha_nvss1[i]:.2f}$\"\n",
    "\n",
    "    # replace any '-' in dec with '--' for LaTeX\n",
    "    ra_print = ra_sex[i].replace(\"-\", \"--\")\n",
    "    dec_print = dec_sex[i].replace(\"-\", \"--\")\n",
    "\n",
    "    print(f\"    {ids[i]}  & {gleam_id} & {ra_print} & {dec_print} & {s_gmrt} & {s_gleam} & {s_gleamx} & {s_tgss} & {a_gleam} & {a_gleamx} & {a_nvss} \\\\\\\\[3pt]\")\n",
    "\n",
    "print(r\"    \\hline\")\n",
    "print(r\"    \\end{tabular}\")\n",
    "print(r\"\\end{table*}\")\n"
   ]
  },
  {
   "cell_type": "code",
   "execution_count": null,
   "id": "513859b0-8061-4eaa-8fb1-6f71f5dd95a3",
   "metadata": {},
   "outputs": [],
   "source": []
  },
  {
   "cell_type": "code",
   "execution_count": null,
   "id": "b43bfcbd-1588-4448-b20c-67700acd0b36",
   "metadata": {},
   "outputs": [],
   "source": []
  }
 ],
 "metadata": {
  "kernelspec": {
   "display_name": "Python 3 (ipykernel)",
   "language": "python",
   "name": "python3"
  },
  "language_info": {
   "codemirror_mode": {
    "name": "ipython",
    "version": 3
   },
   "file_extension": ".py",
   "mimetype": "text/x-python",
   "name": "python",
   "nbconvert_exporter": "python",
   "pygments_lexer": "ipython3",
   "version": "3.12.2"
  }
 },
 "nbformat": 4,
 "nbformat_minor": 5
}
