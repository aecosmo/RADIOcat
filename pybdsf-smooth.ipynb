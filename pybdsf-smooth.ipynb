{
 "cells": [
  {
   "cell_type": "code",
   "execution_count": null,
   "id": "3522c25e-c51c-45a6-87c0-b75693fafe4c",
   "metadata": {},
   "outputs": [],
   "source": [
    "from astropy.io import fits\n",
    "import numpy as np\n",
    "import matplotlib.pyplot as plt\n",
    "import bdsf\n",
    "import mosaic as mosaic # a python function that reads images and weights, and gives optimally weighted mosaic."
   ]
  },
  {
   "cell_type": "code",
   "execution_count": null,
   "id": "251c80ad-3c3b-4562-8b94-3e16a53a39e6",
   "metadata": {},
   "outputs": [],
   "source": [
    "input_images = [\"AAAA.SP2B.PBCOR.SMOOTH.FITS\", \"BBBB.SP2B.PBCOR.SMOOTH.FITS\", \"CCCC.SP2B.PBCOR.SMOOTH.FITS\", \"DDDD.SP2B.PBCOR.SMOOTH.FITS\", \n",
    "                \"EEEE.SP2B.PBCOR.SMOOTH.FITS\", \"FFFF.SP2B.PBCOR.SMOOTH.FITS\", \"GGGG.SP2B.PBCOR.SMOOTH.FITS\"]\n",
    "# input_images = [\"AAAA.SP2B.PBCOR.FITS\", \"BBBB.SP2B.PBCOR.FITS\", \"CCCC.SP2B.PBCOR.FITS\", \"DDDD.SP2B.PBCOR.FITS\", \n",
    "#                 \"EEEE.SP2B.PBCOR.FITS\", \"FFFF.SP2B.PBCOR.FITS\", \"GGGG.SP2B.PBCOR.FITS\"]\n",
    "\n",
    "weights = [\"AAAA.SP2B.PBCOR.SMOOTH.pybdsf_rms.fits\", \"BBBB.SP2B.PBCOR.SMOOTH.pybdsf_rms.fits\", \"CCCC.SP2B.PBCOR.SMOOTH.pybdsf_rms.fits\", \"DDDD.SP2B.PBCOR.SMOOTH.pybdsf_rms.fits\", \n",
    "           \"EEEE.SP2B.PBCOR.SMOOTH.pybdsf_rms.fits\", \"FFFF.SP2B.PBCOR.SMOOTH.pybdsf_rms.fits\", \"GGGG.SP2B.PBCOR.SMOOTH.pybdsf_rms.fits\"]\n",
    "# weights = [\"AAAA.SP2B.PBCOR.pybdsf_rms.fits\", \"BBBB.SP2B.PBCOR.pybdsf_rms.fits\", \"CCCC.SP2B.PBCOR.pybdsf_rms.fits\", \"DDDD.SP2B.PBCOR.pybdsf_rms.fits\", \n",
    "#            \"EEEE.SP2B.PBCOR.pybdsf_rms.fits\", \"FFFF.SP2B.PBCOR.pybdsf_rms.fits\", \"GGGG.SP2B.PBCOR.pybdsf_rms.fits\"]\n"
   ]
  },
  {
   "cell_type": "code",
   "execution_count": null,
   "id": "b5c28e9c-e603-4cba-b16f-10101fe0dab4",
   "metadata": {},
   "outputs": [],
   "source": [
    "    # img = bdsf.process_image(input_images[ii], rms_box=(200, 20), adaptive_rms_box=True, \n",
    "    #                          adaptive_thresh=100, rms_box_bright=(80, 20), clobber=True, quiet=True)"
   ]
  },
  {
   "cell_type": "code",
   "execution_count": null,
   "id": "84ba4c99-44ee-49d3-bd65-fb161e0c4005",
   "metadata": {},
   "outputs": [],
   "source": [
    "for ii in range(len(input_images)): # \n",
    "    img = bdsf.process_image(input_images[ii], psf_vary_do = True, adaptive_rms_box = True, \n",
    "                             rms_box=(150, 30), rms_box_bright=(50, 10), clobber=True, quiet=True)\n",
    "    img.export_image(img_type='rms', clobber=True)\n",
    "\n"
   ]
  },
  {
   "cell_type": "code",
   "execution_count": null,
   "id": "211510b5-3f66-4eb6-9dd6-e95e2f179ef3",
   "metadata": {},
   "outputs": [],
   "source": [
    "# call the mosaic function\n",
    "mosaic.mosaic_fits(input_images, weights)"
   ]
  },
  {
   "cell_type": "code",
   "execution_count": null,
   "id": "e03e2969-3832-4adb-b680-48505f33dcf9",
   "metadata": {},
   "outputs": [],
   "source": [
    "img = bdsf.process_image('final_mosaic.fits', psf_vary_do = True, adaptive_rms_box = True, \n",
    "                         rms_box=(150, 30), rms_box_bright=(50, 10), clobber=True, quiet=True)\n",
    "\n",
    "img.write_catalog(format='fits', catalog_type='srl', clobber=True)\n",
    "img.write_catalog(format='ascii', catalog_type='gaul', clobber=True)\n",
    "\n",
    "img.export_image(img_type='rms', outfile='rms_map.fits', clobber=True)\n",
    "img.export_image(img_type='gaus_resid', outfile='gaus_resid.fits', clobber=True)\n",
    "img.export_image(img_type='gaus_model', outfile='gaus_model.fits', clobber=True)\n",
    "\n"
   ]
  },
  {
   "cell_type": "code",
   "execution_count": null,
   "id": "ea8daedf-59aa-4627-b0c6-a350f30269f0",
   "metadata": {},
   "outputs": [],
   "source": [
    "# Read back the RMS image\n",
    "from astropy.io import fits\n",
    "with fits.open(\"final_mosaic.pybdsf_rms.fits\") as hdul:\n",
    "    rms_map = hdul[0].data  # 2D array of RMS values\n",
    "\n",
    "global_rms = np.nanmedian(rms_map)  # Compute mean RMS over the image\n",
    "\n",
    "print(f\"Off-source RMS (PyBDSF): {global_rms:.6f} Jy/beam\")"
   ]
  },
  {
   "cell_type": "code",
   "execution_count": null,
   "id": "d2b24227-5218-4420-8ddb-ab584a55cfd9",
   "metadata": {},
   "outputs": [],
   "source": [
    "# Read back the RMS image\n",
    "from astropy.io import fits\n",
    "\n",
    "for fields in weights:\n",
    "    with fits.open(fields) as hdul:\n",
    "        rms_map = hdul[0].data  # 2D array of RMS values\n",
    "    \n",
    "    global_rms = np.nanmedian(rms_map)  # Compute mean RMS over the image\n",
    "    \n",
    "    print(f\"Off-source RMS (PyBDSF): {global_rms:.6f} Jy/beam\")"
   ]
  },
  {
   "cell_type": "code",
   "execution_count": null,
   "id": "89d28fba-7f72-4dce-ba08-43e1b11339cc",
   "metadata": {},
   "outputs": [],
   "source": [
    "# img_type ....... 'gaus_resid': Type of image to export: 'gaus_resid',\n",
    "#                                'shap_resid', 'rms', 'mean', 'gaus_model',\n",
    "#                                'shap_model', 'ch0', 'pi', 'psf_major', 'psf_minor',\n",
    "#                                'psf_pa', 'psf_ratio', 'psf_ratio_aper', 'island_mask'"
   ]
  },
  {
   "cell_type": "code",
   "execution_count": null,
   "id": "4be01869-9954-47b4-9af7-b5cd0e85e879",
   "metadata": {},
   "outputs": [],
   "source": [
    "import numpy as np\n",
    "from astropy.io import fits\n",
    "\n",
    "# Read the RMS image\n",
    "with fits.open(\"final_mosaic.pybdsf_rms.fits\") as hdul:\n",
    "    rms_map = hdul[0].data  # 2D array of RMS values\n",
    "\n",
    "# Compute percentiles and median\n",
    "median_rms = np.nanmedian(rms_map)\n",
    "p16 = np.nanpercentile(rms_map, 16)\n",
    "p84 = np.nanpercentile(rms_map, 84)\n",
    "\n",
    "# Compute symmetric error bounds\n",
    "lower_bound = median_rms - p16\n",
    "upper_bound = p84 - median_rms\n",
    "\n",
    "# Print results\n",
    "print(f\"Off-source RMS (median, PyBDSF): {median_rms:.6f} Jy/beam\")\n",
    "print(f\"Error bounds: -{lower_bound:.6f} / +{upper_bound:.6f} Jy/beam\")\n"
   ]
  },
  {
   "cell_type": "code",
   "execution_count": null,
   "id": "0038a16c-02ff-4ce5-912a-3527f21b16cd",
   "metadata": {},
   "outputs": [],
   "source": []
  }
 ],
 "metadata": {
  "kernelspec": {
   "display_name": "Python 3 (ipykernel)",
   "language": "python",
   "name": "python3"
  },
  "language_info": {
   "codemirror_mode": {
    "name": "ipython",
    "version": 3
   },
   "file_extension": ".py",
   "mimetype": "text/x-python",
   "name": "python",
   "nbconvert_exporter": "python",
   "pygments_lexer": "ipython3",
   "version": "3.12.2"
  }
 },
 "nbformat": 4,
 "nbformat_minor": 5
}
