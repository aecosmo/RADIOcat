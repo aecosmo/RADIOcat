{
 "cells": [
  {
   "cell_type": "markdown",
   "id": "b89565c2-f240-428f-8eb7-1fc0eed5bed4",
   "metadata": {},
   "source": [
    "# MOSAICING"
   ]
  },
  {
   "cell_type": "markdown",
   "id": "55b5a59c-c741-4208-b2a1-3517b9e3f5ce",
   "metadata": {},
   "source": [
    "### Reads PSF matched images, runs pybdsf on these to generate the rms maps (which are used as weights in the next step)\n",
    "### Makes the mosaic using PSF-matched images and their weights, runs pybdsf on the mosaic to generate the rms map of the mosaic\n",
    "### Calculates the median rms of the image. The number goes to the abstract of the paper. "
   ]
  },
  {
   "cell_type": "code",
   "execution_count": 2,
   "id": "3522c25e-c51c-45a6-87c0-b75693fafe4c",
   "metadata": {},
   "outputs": [],
   "source": [
    "from astropy.io import fits\n",
    "import numpy as np\n",
    "import matplotlib.pyplot as plt\n",
    "import bdsf\n",
    "import mosaic as mosaic # a python function that reads images and weights, and gives optimally weighted mosaic."
   ]
  },
  {
   "cell_type": "code",
   "execution_count": 3,
   "id": "251c80ad-3c3b-4562-8b94-3e16a53a39e6",
   "metadata": {},
   "outputs": [],
   "source": [
    "input_images = [\n",
    "    \"AAAA.SP2B.PBCOR.SMOOTH.FITS\",\n",
    "    \"BBBB.SP2B.PBCOR.SMOOTH.FITS\",\n",
    "    \"CCCC.SP2B.PBCOR.SMOOTH.FITS\",\n",
    "    \"DDDD.SP2B.PBCOR.SMOOTH.FITS\",\n",
    "    \"EEEE.SP2B.PBCOR.SMOOTH.FITS\",\n",
    "    \"FFFF.SP2B.PBCOR.SMOOTH.FITS\",\n",
    "    \"GGGG.SP2B.PBCOR.SMOOTH.FITS\"\n",
    "]\n",
    "\n",
    "# Generate weights from input_images\n",
    "weights = [img.replace(\".FITS\", \".pybdsf_rms.fits\") for img in input_images]\n"
   ]
  },
  {
   "cell_type": "code",
   "execution_count": 4,
   "id": "84ba4c99-44ee-49d3-bd65-fb161e0c4005",
   "metadata": {},
   "outputs": [
    {
     "name": "stderr",
     "output_type": "stream",
     "text": [
      "stty: 'standard input': Inappropriate ioctl for device\n",
      "stty: 'standard input': Inappropriate ioctl for device\n",
      "stty: 'standard input': Inappropriate ioctl for device\n",
      "stty: 'standard input': Inappropriate ioctl for device\n",
      "stty: 'standard input': Inappropriate ioctl for device\n"
     ]
    },
    {
     "name": "stdout",
     "output_type": "stream",
     "text": [
      "--> Wrote file 'AAAA.SP2B.PBCOR.SMOOTH.pybdsf_rms.fits'\n"
     ]
    },
    {
     "name": "stderr",
     "output_type": "stream",
     "text": [
      "stty: 'standard input': Inappropriate ioctl for device\n",
      "stty: 'standard input': Inappropriate ioctl for device\n",
      "stty: 'standard input': Inappropriate ioctl for device\n",
      "stty: 'standard input': Inappropriate ioctl for device\n",
      "stty: 'standard input': Inappropriate ioctl for device\n"
     ]
    },
    {
     "name": "stdout",
     "output_type": "stream",
     "text": [
      "--> Wrote file 'BBBB.SP2B.PBCOR.SMOOTH.pybdsf_rms.fits'\n"
     ]
    },
    {
     "name": "stderr",
     "output_type": "stream",
     "text": [
      "stty: 'standard input': Inappropriate ioctl for device\n",
      "stty: 'standard input': Inappropriate ioctl for device\n",
      "stty: 'standard input': Inappropriate ioctl for device\n",
      "stty: 'standard input': Inappropriate ioctl for device\n",
      "stty: 'standard input': Inappropriate ioctl for device\n"
     ]
    },
    {
     "name": "stdout",
     "output_type": "stream",
     "text": [
      "--> Wrote file 'CCCC.SP2B.PBCOR.SMOOTH.pybdsf_rms.fits'\n"
     ]
    },
    {
     "name": "stderr",
     "output_type": "stream",
     "text": [
      "stty: 'standard input': Inappropriate ioctl for device\n",
      "stty: 'standard input': Inappropriate ioctl for device\n",
      "stty: 'standard input': Inappropriate ioctl for device\n",
      "stty: 'standard input': Inappropriate ioctl for device\n",
      "stty: 'standard input': Inappropriate ioctl for device\n"
     ]
    },
    {
     "name": "stdout",
     "output_type": "stream",
     "text": [
      "--> Wrote file 'DDDD.SP2B.PBCOR.SMOOTH.pybdsf_rms.fits'\n"
     ]
    },
    {
     "name": "stderr",
     "output_type": "stream",
     "text": [
      "stty: 'standard input': Inappropriate ioctl for device\n",
      "stty: 'standard input': Inappropriate ioctl for device\n",
      "stty: 'standard input': Inappropriate ioctl for device\n",
      "stty: 'standard input': Inappropriate ioctl for device\n",
      "stty: 'standard input': Inappropriate ioctl for device\n"
     ]
    },
    {
     "name": "stdout",
     "output_type": "stream",
     "text": [
      "--> Wrote file 'EEEE.SP2B.PBCOR.SMOOTH.pybdsf_rms.fits'\n"
     ]
    },
    {
     "name": "stderr",
     "output_type": "stream",
     "text": [
      "stty: 'standard input': Inappropriate ioctl for device\n",
      "stty: 'standard input': Inappropriate ioctl for device\n",
      "stty: 'standard input': Inappropriate ioctl for device\n",
      "stty: 'standard input': Inappropriate ioctl for device\n",
      "stty: 'standard input': Inappropriate ioctl for device\n"
     ]
    },
    {
     "name": "stdout",
     "output_type": "stream",
     "text": [
      "--> Wrote file 'FFFF.SP2B.PBCOR.SMOOTH.pybdsf_rms.fits'\n"
     ]
    },
    {
     "name": "stderr",
     "output_type": "stream",
     "text": [
      "stty: 'standard input': Inappropriate ioctl for device\n",
      "stty: 'standard input': Inappropriate ioctl for device\n",
      "stty: 'standard input': Inappropriate ioctl for device\n",
      "stty: 'standard input': Inappropriate ioctl for device\n",
      "stty: 'standard input': Inappropriate ioctl for device\n"
     ]
    },
    {
     "name": "stdout",
     "output_type": "stream",
     "text": [
      "--> Wrote file 'GGGG.SP2B.PBCOR.SMOOTH.pybdsf_rms.fits'\n"
     ]
    }
   ],
   "source": [
    "for ii in range(len(input_images)): # \n",
    "    img = bdsf.process_image(input_images[ii], psf_vary_do = True, adaptive_rms_box = True, \n",
    "                             rms_box=(150, 30), rms_box_bright=(50, 10), clobber=True, quiet=True)\n",
    "    img.export_image(img_type='rms', clobber=True)\n"
   ]
  },
  {
   "cell_type": "code",
   "execution_count": 5,
   "id": "211510b5-3f66-4eb6-9dd6-e95e2f179ef3",
   "metadata": {},
   "outputs": [
    {
     "name": "stderr",
     "output_type": "stream",
     "text": [
      "WARNING: FITSFixedWarning: 'obsfix' made the change 'Set OBSGEO-L to    74.049972 from OBSGEO-[XYZ].\n",
      "Set OBSGEO-B to    19.090653 from OBSGEO-[XYZ].\n",
      "Set OBSGEO-H to      636.997 from OBSGEO-[XYZ]'. [astropy.wcs.wcs]\n"
     ]
    },
    {
     "name": "stdout",
     "output_type": "stream",
     "text": [
      "Reprojecting AAAA.SP2B.PBCOR.SMOOTH.FITS...\n",
      "Reprojecting BBBB.SP2B.PBCOR.SMOOTH.FITS...\n",
      "Reprojecting CCCC.SP2B.PBCOR.SMOOTH.FITS...\n",
      "Reprojecting DDDD.SP2B.PBCOR.SMOOTH.FITS...\n",
      "Reprojecting EEEE.SP2B.PBCOR.SMOOTH.FITS...\n",
      "Reprojecting FFFF.SP2B.PBCOR.SMOOTH.FITS...\n",
      "Reprojecting GGGG.SP2B.PBCOR.SMOOTH.FITS...\n",
      "Mosaic saved as mosaic_image.fits with full metadata (weights=given).\n"
     ]
    }
   ],
   "source": [
    "# call the mosaic function\n",
    "mosaic_name = 'mosaic_image.fits'\n",
    "mosaic.mosaic_fits(input_images, weights, output_file=mosaic_name)"
   ]
  },
  {
   "cell_type": "code",
   "execution_count": 6,
   "id": "e03e2969-3832-4adb-b680-48505f33dcf9",
   "metadata": {},
   "outputs": [
    {
     "name": "stderr",
     "output_type": "stream",
     "text": [
      "stty: 'standard input': Inappropriate ioctl for device\n",
      "stty: 'standard input': Inappropriate ioctl for device\n",
      "stty: 'standard input': Inappropriate ioctl for device\n",
      "stty: 'standard input': Inappropriate ioctl for device\n",
      "stty: 'standard input': Inappropriate ioctl for device\n"
     ]
    },
    {
     "name": "stdout",
     "output_type": "stream",
     "text": [
      "--> Wrote FITS file 'mosaic_image.pybdsf.srl.fits'\n",
      "--> Wrote ASCII file 'mosaic_image.pybdsf.gaul'\n",
      "--> Wrote file 'mosaic_image.pybdsf_rms.fits'\n",
      "--> Wrote file 'mosaic_image.pybdsf_gaus_resid.fits'\n",
      "--> Wrote file 'mosaic_image.pybdsf_gaus_model.fits'\n"
     ]
    },
    {
     "data": {
      "text/plain": [
       "True"
      ]
     },
     "execution_count": 6,
     "metadata": {},
     "output_type": "execute_result"
    }
   ],
   "source": [
    "img = bdsf.process_image(mosaic_name, psf_vary_do = True, adaptive_rms_box = True, \n",
    "                         rms_box=(150, 30), rms_box_bright=(50, 10), clobber=True, quiet=True)\n",
    "\n",
    "img.write_catalog(format='fits', catalog_type='srl', clobber=True)\n",
    "img.write_catalog(format='ascii', catalog_type='gaul', clobber=True)\n",
    "\n",
    "img.export_image(img_type='rms', clobber=True)\n",
    "img.export_image(img_type='gaus_resid', clobber=True)\n",
    "img.export_image(img_type='gaus_model', clobber=True)\n",
    "\n"
   ]
  },
  {
   "cell_type": "code",
   "execution_count": 14,
   "id": "5d5cf7e3-7e3f-469c-9b2e-6e5c1247bfe9",
   "metadata": {},
   "outputs": [
    {
     "name": "stdout",
     "output_type": "stream",
     "text": [
      "Off-source RMS (median, PyBDSF): 3.874850 Jy/beam\n",
      "Error bounds: -1.379229 / +3.700979 Jy/beam\n"
     ]
    }
   ],
   "source": [
    "# RMS of the individual PSF-matched images \n",
    "\n",
    "rms_map_fits = mosaic_name.replace('.fits', '.pybdsf_rms.fits') \n",
    "\n",
    "# Read the RMS image\n",
    "with fits.open(rms_map_fits) as hdul:\n",
    "    rms_map = hdul[0].data * 1e3 \n",
    "\n",
    "# Compute percentiles and median\n",
    "median_rms = np.nanmedian(rms_map)\n",
    "p16 = np.nanpercentile(rms_map, 16)\n",
    "p84 = np.nanpercentile(rms_map, 84)\n",
    "\n",
    "# Compute symmetric error bounds\n",
    "lower_bound = median_rms - p16\n",
    "upper_bound = p84 - median_rms\n",
    "\n",
    "# Print results\n",
    "print(f\"Off-source RMS (median, PyBDSF): {median_rms:.6f} Jy/beam\")\n",
    "print(f\"Error bounds: -{lower_bound:.6f} / +{upper_bound:.6f} Jy/beam\")\n"
   ]
  },
  {
   "cell_type": "code",
   "execution_count": 15,
   "id": "d2b24227-5218-4420-8ddb-ab584a55cfd9",
   "metadata": {},
   "outputs": [
    {
     "name": "stdout",
     "output_type": "stream",
     "text": [
      "Off-source RMS (PyBDSF): 5.916049 Jy/beam\n",
      "AAAA.SP2B.PBCOR.pybdsf_rms.fits: RMS = 5.916 mJy/beam, BMAJ = 29.71\" BMIN = 14.79\" PA = 23.7°\n",
      "Off-source RMS (PyBDSF): 5.174232 Jy/beam\n",
      "BBBB.SP2B.PBCOR.pybdsf_rms.fits: RMS = 5.174 mJy/beam, BMAJ = 39.26\" BMIN = 14.57\" PA = 23.2°\n",
      "Off-source RMS (PyBDSF): 4.494349 Jy/beam\n",
      "CCCC.SP2B.PBCOR.pybdsf_rms.fits: RMS = 4.494 mJy/beam, BMAJ = 32.68\" BMIN = 14.89\" PA = 12.5°\n",
      "Off-source RMS (PyBDSF): 5.212322 Jy/beam\n",
      "DDDD.SP2B.PBCOR.pybdsf_rms.fits: RMS = 5.212 mJy/beam, BMAJ = 29.97\" BMIN = 15.17\" PA = 13.5°\n",
      "Off-source RMS (PyBDSF): 5.009735 Jy/beam\n",
      "EEEE.SP2B.PBCOR.pybdsf_rms.fits: RMS = 5.010 mJy/beam, BMAJ = 31.92\" BMIN = 14.84\" PA = 22.9°\n",
      "Off-source RMS (PyBDSF): 5.910370 Jy/beam\n",
      "FFFF.SP2B.PBCOR.pybdsf_rms.fits: RMS = 5.910 mJy/beam, BMAJ = 32.39\" BMIN = 16.71\" PA = 25.8°\n",
      "Off-source RMS (PyBDSF): 5.085993 Jy/beam\n",
      "GGGG.SP2B.PBCOR.pybdsf_rms.fits: RMS = 5.086 mJy/beam, BMAJ = 34.95\" BMIN = 15.46\" PA = 15.6°\n"
     ]
    }
   ],
   "source": [
    "# RMS of the individual PSF-matched images \n",
    "from astropy.io import fits\n",
    "\n",
    "for fields in weights:\n",
    "    with fits.open(fields) as hdul:\n",
    "        rms_map = hdul[0].data * 1e3 # 2D array of RMS values\n",
    "        header = hdul[0].header\n",
    "    \n",
    "    global_rms = np.nanmedian(rms_map)  # Compute mean RMS over the image\n",
    "    # Extract beam parameters from header\n",
    "    bmaj = 3600 * header.get('BMAJ', np.nan)  # degrees -> arcsec\n",
    "    bmin = 3600 * header.get('BMIN', np.nan)\n",
    "    bpa  = header.get('BPA', np.nan)  # position angle in degrees\n",
    "\n",
    "\n",
    "    print(f\"Off-source RMS (PyBDSF): {global_rms:.6f} Jy/beam\")\n",
    "    print(f\"{fields}: RMS = {global_rms:.3f} mJy/beam, BMAJ = {bmaj:.2f}\\\" BMIN = {bmin:.2f}\\\" PA = {bpa:.1f}°\")\n"
   ]
  },
  {
   "cell_type": "markdown",
   "id": "7447899e-c4aa-4ec7-b3fb-72191eb22a61",
   "metadata": {},
   "source": [
    "# End"
   ]
  },
  {
   "cell_type": "code",
   "execution_count": 16,
   "id": "f046a0b9-0922-43b4-8ddb-dfc7d8fcc549",
   "metadata": {},
   "outputs": [],
   "source": [
    "# SPAM wrote this\n",
    "\n",
    "# AAAA 4.906 mJy/beam noise for a 29.7\" x 14.8\" (PA 23 deg) beam\n",
    "# BBBB 2.853 mJy/beam noise for a 39.3\" x 14.6\" (PA 23 deg) beam\n",
    "# CCCC 2.577 mJy/beam noise for a 32.7\" x 14.9\" (PA 12 deg) beam\n",
    "# DDDD 2.549 mJy/beam noise for a 30.0\" x 15.2\" (PA 13 deg) beam\n",
    "# EEEE 2.862 mJy/beam noise for a 31.9\" x 14.8\" (PA 22 deg) beam\n",
    "# FFFF 3.379 mJy/beam noise for a 32.4\" x 16.7\" (PA 25 deg) beam\n",
    "# GGGG 2.694 mJy/beam noise for a 34.9\" x 15.5\" (PA 15 deg) beam\n"
   ]
  },
  {
   "cell_type": "code",
   "execution_count": 18,
   "id": "4693967d-b7ce-435d-bd6d-326a99096e87",
   "metadata": {},
   "outputs": [
    {
     "name": "stdout",
     "output_type": "stream",
     "text": [
      "Off-source RMS (PyBDSF): 5.916049 Jy/beam\n",
      "AAAA.SP2B.PBCOR.pybdsf_rms.fits: RMS = 5.916 mJy/beam, BMAJ = 29.71\" BMIN = 14.79\" PA = 23.7°\n",
      "Off-source RMS (PyBDSF): 5.174232 Jy/beam\n",
      "BBBB.SP2B.PBCOR.pybdsf_rms.fits: RMS = 5.174 mJy/beam, BMAJ = 39.26\" BMIN = 14.57\" PA = 23.2°\n",
      "Off-source RMS (PyBDSF): 4.494349 Jy/beam\n",
      "CCCC.SP2B.PBCOR.pybdsf_rms.fits: RMS = 4.494 mJy/beam, BMAJ = 32.68\" BMIN = 14.89\" PA = 12.5°\n",
      "Off-source RMS (PyBDSF): 5.212322 Jy/beam\n",
      "DDDD.SP2B.PBCOR.pybdsf_rms.fits: RMS = 5.212 mJy/beam, BMAJ = 29.97\" BMIN = 15.17\" PA = 13.5°\n",
      "Off-source RMS (PyBDSF): 5.009735 Jy/beam\n",
      "EEEE.SP2B.PBCOR.pybdsf_rms.fits: RMS = 5.010 mJy/beam, BMAJ = 31.92\" BMIN = 14.84\" PA = 22.9°\n",
      "Off-source RMS (PyBDSF): 5.910370 Jy/beam\n",
      "FFFF.SP2B.PBCOR.pybdsf_rms.fits: RMS = 5.910 mJy/beam, BMAJ = 32.39\" BMIN = 16.71\" PA = 25.8°\n",
      "Off-source RMS (PyBDSF): 5.085993 Jy/beam\n",
      "GGGG.SP2B.PBCOR.pybdsf_rms.fits: RMS = 5.086 mJy/beam, BMAJ = 34.95\" BMIN = 15.46\" PA = 15.6°\n"
     ]
    }
   ],
   "source": [
    "input_unsmooth_images = [\n",
    "    \"AAAA.SP2B.PBCOR.FITS\",\n",
    "    \"BBBB.SP2B.PBCOR.FITS\",\n",
    "    \"CCCC.SP2B.PBCOR.FITS\",\n",
    "    \"DDDD.SP2B.PBCOR.FITS\",\n",
    "    \"EEEE.SP2B.PBCOR.FITS\",\n",
    "    \"FFFF.SP2B.PBCOR.FITS\",\n",
    "    \"GGGG.SP2B.PBCOR.FITS\"\n",
    "]\n",
    "\n",
    "# for ii in range(len(input_unsmooth_images)): # \n",
    "#     img = bdsf.process_image(input_unsmooth_images[ii], psf_vary_do = True, adaptive_rms_box = True, \n",
    "#                              rms_box=(150, 30), rms_box_bright=(50, 10), clobber=True, quiet=True)\n",
    "#     img.export_image(img_type='rms', clobber=True)\n",
    "\n",
    "# RMS before PSF-matching \n",
    "weights = [img.replace(\".FITS\", \".pybdsf_rms.fits\") for img in input_unsmooth_images]\n",
    "\n",
    "for fields in weights:\n",
    "    with fits.open(fields) as hdul:\n",
    "        rms_map = hdul[0].data * 1e3  # 2D array of RMS values\n",
    "        header = hdul[0].header\n",
    "    \n",
    "    global_rms = np.nanmedian(rms_map)  # Compute mean RMS over the image\n",
    "    # Extract beam parameters from header\n",
    "    bmaj = 3600 * header.get('BMAJ', np.nan)  # degrees -> arcsec\n",
    "    bmin = 3600 * header.get('BMIN', np.nan)\n",
    "    bpa  = header.get('BPA', np.nan)  # position angle in degrees\n",
    "\n",
    "\n",
    "    print(f\"Off-source RMS (PyBDSF): {global_rms:.6f} Jy/beam\")\n",
    "    print(f\"{fields}: RMS = {global_rms:.3f} mJy/beam, BMAJ = {bmaj:.2f}\\\" BMIN = {bmin:.2f}\\\" PA = {bpa:.1f}°\")\n"
   ]
  },
  {
   "cell_type": "code",
   "execution_count": null,
   "id": "54fd949c-03df-4174-8482-097e109090b0",
   "metadata": {},
   "outputs": [],
   "source": []
  }
 ],
 "metadata": {
  "kernelspec": {
   "display_name": "Python 3 (ipykernel)",
   "language": "python",
   "name": "python3"
  },
  "language_info": {
   "codemirror_mode": {
    "name": "ipython",
    "version": 3
   },
   "file_extension": ".py",
   "mimetype": "text/x-python",
   "name": "python",
   "nbconvert_exporter": "python",
   "pygments_lexer": "ipython3",
   "version": "3.12.2"
  }
 },
 "nbformat": 4,
 "nbformat_minor": 5
}
